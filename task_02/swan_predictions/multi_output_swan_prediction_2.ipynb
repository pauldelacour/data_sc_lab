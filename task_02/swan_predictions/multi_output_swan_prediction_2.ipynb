{
 "cells": [
  {
   "cell_type": "code",
   "execution_count": 2,
   "metadata": {},
   "outputs": [
    {
     "name": "stdout",
     "output_type": "stream",
     "text": [
      "/Users/mathieuchevalley/Documents/Study/ETHZ/Fall Semester 2020/Data Science lab/data_sc_lab/task_01/pipelines\n"
     ]
    }
   ],
   "source": [
    "cd ../../task_01/pipelines"
   ]
  },
  {
   "cell_type": "code",
   "execution_count": 3,
   "metadata": {},
   "outputs": [],
   "source": [
    "import numpy as np\n",
    "import pandas as pd\n",
    "import matplotlib.pyplot as plt\n",
    "from ipynb.fs.full.tool_functions import *\n",
    "from yellowbrick.regressor import AlphaSelection"
   ]
  },
  {
   "cell_type": "code",
   "execution_count": 4,
   "metadata": {},
   "outputs": [
    {
     "name": "stderr",
     "output_type": "stream",
     "text": [
      "/usr/local/lib/python3.7/site-packages/IPython/core/interactiveshell.py:3063: DtypeWarning: Columns (66,68,80,81,82,83,84,95,96,97,98,99,110,111,112,113,114,125,126,127,128,129,140,141,142,144,155,156,157,159,932,933,934,935,936,937,938,939,940,941,942,943,944,945,946,947,948,949,950,951,952,953,954,955,956,957,958,959,960,961,962,963,964,965,966,967,968,969,970,971,972,973,974,975,976,977,978,979,980,981,982,983,984,985,986,987,988,989,990,991,992,993,994,995,996,997,998,999,1000,1001,1002,1003,1004,1005,1006,1007,1008,1009,1010,1011,1012,1013,1014,1015,1016,1017,1018,1019,1020,1021,1022,1023,1024,1025,1026,1027,1028,1029,1030,1031,1032,1033,1034,1035,1036,1037,1038,1039,1040,1041,1042,1043,1044,1045,1046,1047,1048,1049,1050,1051,1052,1053,1054,1055,1056,1057,1058,1059,1060,1061,1062,1063,1064,1065,1066,1067,1068,1069,1070,1071,1072,1073,1074,1075,1076,1077,1078,1079,1080,1081,1082,1083,1084,1085,1086,1087,1088,1089,1090,1091,1092,1093,1094,1095,1096,1097,1098,1099,1100,1101,1102,1103,1104,1105,1106,1107,1108,1109,1110,1111,1112,1113,1114,1115,1116,1117,1118,1119,1120,1121,1122,1123,1124,1125,1126,1127,1128,1129,1130,1131,1132,1133,1134,1135,1136,1137,1138,1139,1140,1141,1142,1143,1144,1145,1146,1147,1148,1149,1150,1151,1152,1153,1154,1155,1156,1157,1158,1159,1160,1161,1162,1163,1164,1165,1166,1167,1168,1169,1170,1171,1172,1173,1174,1175,1176,1177,1178,1179,1180,1181,1182,1183,1184,1185,1186,1187,1188,1189,1190,1191,1192,1193,1194,1195,1196,1197,1198,1199,1200,1201,1202,1203,1204,1205,1206,1207,1208,1209,1210,1211,1212,1213,1214,1215,1216,1217,1218,1219,1220,1221,1222,1223,1224,1225,1226,1227,1228,1229,1230,1231,1232,1233,1234,1235,1236,1237,1238,1239,1240,1241,1242,1243,1244,1245,1246,1247,1248,1249,1250,1251,1252,1253,1254,1255,1256,1257,1258,1259,1260,1261,1262,1263,1264,1265,1266,1267,1268,1269,1270,1271,1272,1273,1274,1275,1276,1277,1278,1279,1280,1281,1282,1283,1284,1285,1286,1287,1288,1289,1290,1291,1292,1293,1294,1295,1296,1297,1298,1299,1300,1301,1302,1303,1304,1305,1306,1307,1308,1309,1310,1311,1312,1313,1314,1315,1316,1317,1318,1319,1320,1321,1322,1323,1324,1325,1326,1327,1328,1329,1330,1331,1332,1333,1334,1335,1336,1337,1338,1339,1340,1341,1342,1343,1344,1345,1346,1347,1348,1349,1350,1351,1352,1353,1354,1355,1356,1357,1358,1359,1360,1361,1362,1363,1364,1365,1366,1367,1368,1369,1370,1371,1372,1373,1374,1375,1376,1377,1378,1379,1380,1381,1384,1385,1387,1390,1391,1393,1396,1397,1399,1402,1403,1405,1408,1409,1411,1414,1415,1417,1420,1421,1423,1426,1427,1429,1432,1433,1435,1438,1439,1441,1444,1445,1447,1450,1451,1453,1456,1457,1459,1462,1463,1465,1468,1469,1471,1474,1475,1477,1480,1481,1483,1486,1487,1489,1492,1493,1495,1498,1499,1501,1504,1505,1507,1510,1511,1513,1516,1517,1519,1522,1523,1525,1528,1529,1531,1534,1535,1537,1540,1541,1543,1546,1547,1549,1552,1553,1555,1558,1559,1561,1564,1565,1567,1570,1571,1573,1576,1577,1579,1582,1583,1585,1588,1589,1591,1594,1595,1597,1600,1601,1603,1606,1607,1609,1612,1613,1615,1618,1619,1621,1624,1625,1627,1630,1631,1633,1636,1637,1639,1642,1643,1645,1648,1649,1651,1654,1655,1657,1660,1661,1663,1666,1667,1669,1672,1673,1675,1678,1679,1681,1684,1685,1687,1690,1691,1693,1696,1697,1699,1702,1703,1705,1708,1709,1711,1714,1715,1717,1720,1721,1723,1726,1727,1729,1732,1733,1735,1738,1739,1741,1744,1745,1747,1750,1751,1753,1756,1757,1759,1762,1763,1765,1768,1769,1771,1774,1775,1777,1780,1781,1783,1786,1787,1789,1792,1793,1795,1798,1799,1801,1804,1805,1807,1810,1811,1813,1816,1817,1819,1822,1823,1825,1828,1829,1831,1834,1835,1837,1840,1841,1843,1846,1847,1849,1852,1853,1855,1858,1859,1861,1882,1883,1884,1917,1918,1919,1952,1953,1954,1955,1987,1988,1989,1990,2022,2023,2024,2025,2026,2057,2058,2059,2060,2061,2092,2093,2094,2095,2096,2097,2127,2128,2129,2130,2131,2132,2162,2163,2164,2165,2166,2167,2168,2197,2198,2199,2200,2201,2202,2203,2232,2233,2234,2235,2236,2237,2238,2239,2267,2268,2269,2270,2271,2272,2273,2274,2302,2303,2304,2305,2306,2307,2308,2309,2337,2338,2339,2340,2341,2342,2343,2344,2477,2478,2479,2512,2513,2514,2547,2548,2549,2550,2582,2583,2584,2585,2617,2618,2619,2620,2621,2652,2653,2654,2655,2656,2687,2688,2689,2690,2691,2692,2722,2723,2724,2725,2726,2727,2757,2758,2759,2760,2761,2762,2763,2792,2793,2794,2795,2796,2797,2798,2827,2828,2829,2830,2831,2832,2833,2834,2862,2863,2864,2865,2866,2867,2868,2869,2897,2898,2899,2900,2901,2902,2903,2904,2932,2933,2934,2935,2936,2937,2938,2939,3819,3826,3866,3933,4037,4055,4059,4063,4067,4071,4075,4079,4084,4085,4086,4087,4088,4091,4092,4094,4095,4096,4608,4616,4648,4649,4664,4665,4667,4683,4690,4691,4692,4693,4739,4800,5002,5010,5018,5026,5042,5240,5282,5386,5433,5443,5463,5466,5467,5468,5470,5478,5479,5481,5482,5483,5484,5485,5486,5487,5488,5489,5490,5491,5492,5495,5499,5503,5507,5511,5515,5517,5518,5519,5520,5521,5522,5523,5524,5532,5535,5536,5537,5539,5540,5548,5549,5551,5552,5553,5554,5555,5556,5557,5558,5559,5560,5561,5562,5565,5569,5573,5577,5581,5586,5587,5588,5589,5590,5591,5592,5593,5594,5601,5604,5605,5606,5608,5616,5617,5619,5620,5621,5622,5623,5624,5625,5626,5627,5628,5629,5630,5633,5636,5637,5638,5640,5648,5649,5651,5652,5653,5654,5655,5656,5657,5658,5659,5660,5661,5662,5665,5668,5669,5670,5672,5680,5681,5683,5684,5685,5686,5687,5688,5689,5690,5691,5692,5693,5694,5697,5700,5701,5702,5704,5712,5713,5715,5716,5717,5718,5719,5720,5721,5722,5723,5724,5725,5726,5729,5732,5733,5734,5736,5744,5745,5747,5748,5749,5750,5751,5752,5753,5754,5755,5756,5757,5758,5759,5760,5761,5762,5763,5764,5768,5772,5776,5780,5784,5788,5792,5796,5800,5804,5808,5812,5816,5820,5869,5877,5881,5885,5889,5893,5897,6538,6539,6540,6541,6542,6555,6556,6557,6558,6559,6572,6573,6574,6575,6576,6589,6590,6591,6592,6593,6606,6607,6608,6609,6610,6623,6624,6625,6626,6627,6636,6644,6650,6653,6682,6701,6738,6768) have mixed types. Specify dtype option on import or set low_memory=False.\n",
      "  interactivity=interactivity, compiler=compiler, result=result)\n"
     ]
    }
   ],
   "source": [
    "df_beha = pd.read_csv('../../../data/Behavioral/AllData.csv')#, nrows=1000)\n",
    "\n",
    "df_spectro_cluster = pd.read_csv(\"../../../data/EEG/RestingEEG_Spectro_Cluster.csv\") #, nrows=1000)"
   ]
  },
  {
   "cell_type": "code",
   "execution_count": 6,
   "metadata": {},
   "outputs": [],
   "source": [
    "y_labels = df_beha[[\"Patient_ID\", \"Age\", \"DX_01\"]]\n",
    "healt_ind = (y_labels[\"DX_01\"].str.contains(\"No Diagnosis Given\") == True)\n",
    "ADHD_ind = (y_labels[\"DX_01\"].str.contains('ADHD') == True)\n",
    "keep = healt_ind | ADHD_ind"
   ]
  },
  {
   "cell_type": "code",
   "execution_count": 10,
   "metadata": {},
   "outputs": [
    {
     "name": "stderr",
     "output_type": "stream",
     "text": [
      "/usr/local/lib/python3.7/site-packages/ipykernel_launcher.py:2: UserWarning: Boolean Series key will be reindexed to match DataFrame index.\n",
      "  \n"
     ]
    }
   ],
   "source": [
    "df_beha = df_beha[keep]\n",
    "df_spectro_cluster = df_spectro_cluster[keep]"
   ]
  },
  {
   "cell_type": "code",
   "execution_count": 11,
   "metadata": {},
   "outputs": [],
   "source": [
    "s_in = df_beha[['SWAN_IN_Avg' , 'Age', 'Patient_ID']]\n",
    "s_HY = df_beha[['SWAN_HY_Avg' , 'Age', 'Patient_ID']]"
   ]
  },
  {
   "cell_type": "code",
   "execution_count": 12,
   "metadata": {},
   "outputs": [
    {
     "data": {
      "text/html": [
       "<div>\n",
       "<style scoped>\n",
       "    .dataframe tbody tr th:only-of-type {\n",
       "        vertical-align: middle;\n",
       "    }\n",
       "\n",
       "    .dataframe tbody tr th {\n",
       "        vertical-align: top;\n",
       "    }\n",
       "\n",
       "    .dataframe thead th {\n",
       "        text-align: right;\n",
       "    }\n",
       "</style>\n",
       "<table border=\"1\" class=\"dataframe\">\n",
       "  <thead>\n",
       "    <tr style=\"text-align: right;\">\n",
       "      <th></th>\n",
       "      <th>SWAN_IN_Avg</th>\n",
       "      <th>Age</th>\n",
       "      <th>Patient_ID</th>\n",
       "    </tr>\n",
       "  </thead>\n",
       "  <tbody>\n",
       "    <tr>\n",
       "      <td>2</td>\n",
       "      <td>1.444444</td>\n",
       "      <td>10.052589</td>\n",
       "      <td>NDARRM363BXZ</td>\n",
       "    </tr>\n",
       "    <tr>\n",
       "      <td>8</td>\n",
       "      <td>1.111111</td>\n",
       "      <td>17.203855</td>\n",
       "      <td>NDARED632KNG</td>\n",
       "    </tr>\n",
       "    <tr>\n",
       "      <td>9</td>\n",
       "      <td>2.222222</td>\n",
       "      <td>14.216632</td>\n",
       "      <td>NDARCF462HNM</td>\n",
       "    </tr>\n",
       "    <tr>\n",
       "      <td>11</td>\n",
       "      <td>0.777777</td>\n",
       "      <td>9.153661</td>\n",
       "      <td>NDARFC233RND</td>\n",
       "    </tr>\n",
       "    <tr>\n",
       "      <td>22</td>\n",
       "      <td>1.222222</td>\n",
       "      <td>17.510381</td>\n",
       "      <td>NDARDT800YVF</td>\n",
       "    </tr>\n",
       "    <tr>\n",
       "      <td>...</td>\n",
       "      <td>...</td>\n",
       "      <td>...</td>\n",
       "      <td>...</td>\n",
       "    </tr>\n",
       "    <tr>\n",
       "      <td>2089</td>\n",
       "      <td>0.000000</td>\n",
       "      <td>17.419917</td>\n",
       "      <td>NDARZC497BFU</td>\n",
       "    </tr>\n",
       "    <tr>\n",
       "      <td>2090</td>\n",
       "      <td>NaN</td>\n",
       "      <td>13.031143</td>\n",
       "      <td>NDARDZ737LG9</td>\n",
       "    </tr>\n",
       "    <tr>\n",
       "      <td>2091</td>\n",
       "      <td>-0.666666</td>\n",
       "      <td>7.563084</td>\n",
       "      <td>NDARYZ986HEW</td>\n",
       "    </tr>\n",
       "    <tr>\n",
       "      <td>2094</td>\n",
       "      <td>NaN</td>\n",
       "      <td>10.712069</td>\n",
       "      <td>NDARRT283RHB</td>\n",
       "    </tr>\n",
       "    <tr>\n",
       "      <td>2095</td>\n",
       "      <td>NaN</td>\n",
       "      <td>13.701346</td>\n",
       "      <td>NDARYG879ZM4</td>\n",
       "    </tr>\n",
       "  </tbody>\n",
       "</table>\n",
       "<p>1244 rows × 3 columns</p>\n",
       "</div>"
      ],
      "text/plain": [
       "      SWAN_IN_Avg        Age    Patient_ID\n",
       "2        1.444444  10.052589  NDARRM363BXZ\n",
       "8        1.111111  17.203855  NDARED632KNG\n",
       "9        2.222222  14.216632  NDARCF462HNM\n",
       "11       0.777777   9.153661  NDARFC233RND\n",
       "22       1.222222  17.510381  NDARDT800YVF\n",
       "...           ...        ...           ...\n",
       "2089     0.000000  17.419917  NDARZC497BFU\n",
       "2090          NaN  13.031143  NDARDZ737LG9\n",
       "2091    -0.666666   7.563084  NDARYZ986HEW\n",
       "2094          NaN  10.712069  NDARRT283RHB\n",
       "2095          NaN  13.701346  NDARYG879ZM4\n",
       "\n",
       "[1244 rows x 3 columns]"
      ]
     },
     "execution_count": 12,
     "metadata": {},
     "output_type": "execute_result"
    }
   ],
   "source": [
    "s_in"
   ]
  },
  {
   "cell_type": "code",
   "execution_count": 13,
   "metadata": {},
   "outputs": [
    {
     "data": {
      "text/plain": [
       "265"
      ]
     },
     "execution_count": 13,
     "metadata": {},
     "output_type": "execute_result"
    }
   ],
   "source": [
    "s_in['SWAN_IN_Avg'].isnull().sum()"
   ]
  },
  {
   "cell_type": "code",
   "execution_count": 14,
   "metadata": {},
   "outputs": [
    {
     "data": {
      "text/plain": [
       "265"
      ]
     },
     "execution_count": 14,
     "metadata": {},
     "output_type": "execute_result"
    }
   ],
   "source": [
    "s_HY['SWAN_HY_Avg'].isnull().sum()"
   ]
  },
  {
   "cell_type": "code",
   "execution_count": 15,
   "metadata": {},
   "outputs": [],
   "source": [
    "s = df_beha[['SWAN_IN_Avg' , 'SWAN_HY_Avg', 'Age', 'Patient_ID']]"
   ]
  },
  {
   "cell_type": "code",
   "execution_count": 16,
   "metadata": {},
   "outputs": [],
   "source": [
    "s = s[~s_in['SWAN_IN_Avg'].isnull()]"
   ]
  },
  {
   "cell_type": "code",
   "execution_count": 17,
   "metadata": {},
   "outputs": [
    {
     "name": "stderr",
     "output_type": "stream",
     "text": [
      "/usr/local/lib/python3.7/site-packages/pandas/core/frame.py:4223: SettingWithCopyWarning: \n",
      "A value is trying to be set on a copy of a slice from a DataFrame\n",
      "\n",
      "See the caveats in the documentation: http://pandas.pydata.org/pandas-docs/stable/user_guide/indexing.html#returning-a-view-versus-a-copy\n",
      "  return super().rename(**kwargs)\n"
     ]
    }
   ],
   "source": [
    "df_spectro_cluster.rename(columns={'id': 'Patient_ID'}, inplace=True)\n",
    "df_label_spectro_cluster = pd.merge(s, df_spectro_cluster, on='Patient_ID')\n",
    "\n",
    "df_label_spectro_cluster = fill_with_median(df_label_spectro_cluster)"
   ]
  },
  {
   "cell_type": "code",
   "execution_count": 18,
   "metadata": {},
   "outputs": [],
   "source": [
    "less_18 = df_label_spectro_cluster['Age'] <= 18.0\n",
    "df_label_spectro_cluster = df_label_spectro_cluster[less_18]"
   ]
  },
  {
   "cell_type": "code",
   "execution_count": 19,
   "metadata": {},
   "outputs": [
    {
     "data": {
      "text/html": [
       "<div>\n",
       "<style scoped>\n",
       "    .dataframe tbody tr th:only-of-type {\n",
       "        vertical-align: middle;\n",
       "    }\n",
       "\n",
       "    .dataframe tbody tr th {\n",
       "        vertical-align: top;\n",
       "    }\n",
       "\n",
       "    .dataframe thead th {\n",
       "        text-align: right;\n",
       "    }\n",
       "</style>\n",
       "<table border=\"1\" class=\"dataframe\">\n",
       "  <thead>\n",
       "    <tr style=\"text-align: right;\">\n",
       "      <th></th>\n",
       "      <th>SWAN_IN_Avg</th>\n",
       "      <th>SWAN_HY_Avg</th>\n",
       "      <th>Age</th>\n",
       "      <th>Patient_ID</th>\n",
       "      <th>eyesclosed_fband_delta_absmean_lfront</th>\n",
       "      <th>eyesclosed_fband_delta_absmean_mfront</th>\n",
       "      <th>eyesclosed_fband_delta_absmean_rfront</th>\n",
       "      <th>eyesclosed_fband_delta_absmean_lpari</th>\n",
       "      <th>eyesclosed_fband_delta_absmean_mpari</th>\n",
       "      <th>eyesclosed_fband_delta_absmean_rpari</th>\n",
       "      <th>...</th>\n",
       "      <th>eyesopen_fooof_peak_freq_rfront</th>\n",
       "      <th>eyesopen_fooof_peak_freq_lpari</th>\n",
       "      <th>eyesopen_fooof_peak_freq_mpari</th>\n",
       "      <th>eyesopen_fooof_peak_freq_rpari</th>\n",
       "      <th>eyesopen_fooof_peak_amplitude_lfront</th>\n",
       "      <th>eyesopen_fooof_peak_amplitude_mfront</th>\n",
       "      <th>eyesopen_fooof_peak_amplitude_rfront</th>\n",
       "      <th>eyesopen_fooof_peak_amplitude_lpari</th>\n",
       "      <th>eyesopen_fooof_peak_amplitude_mpari</th>\n",
       "      <th>eyesopen_fooof_peak_amplitude_rpari</th>\n",
       "    </tr>\n",
       "  </thead>\n",
       "  <tbody>\n",
       "    <tr>\n",
       "      <td>0</td>\n",
       "      <td>1.111111</td>\n",
       "      <td>0.555555</td>\n",
       "      <td>10.758156</td>\n",
       "      <td>NDARYP516VUU</td>\n",
       "      <td>3.736577</td>\n",
       "      <td>5.970049</td>\n",
       "      <td>3.462826</td>\n",
       "      <td>4.225793</td>\n",
       "      <td>6.973617</td>\n",
       "      <td>6.719936</td>\n",
       "      <td>...</td>\n",
       "      <td>10.750797</td>\n",
       "      <td>10.401234</td>\n",
       "      <td>10.783732</td>\n",
       "      <td>11.046665</td>\n",
       "      <td>0.821805</td>\n",
       "      <td>0.784304</td>\n",
       "      <td>0.770845</td>\n",
       "      <td>0.914380</td>\n",
       "      <td>0.671399</td>\n",
       "      <td>1.004923</td>\n",
       "    </tr>\n",
       "    <tr>\n",
       "      <td>1</td>\n",
       "      <td>0.888888</td>\n",
       "      <td>-2.111111</td>\n",
       "      <td>12.357403</td>\n",
       "      <td>NDARLE953JYU</td>\n",
       "      <td>3.519179</td>\n",
       "      <td>5.179898</td>\n",
       "      <td>3.495491</td>\n",
       "      <td>3.629303</td>\n",
       "      <td>4.704654</td>\n",
       "      <td>2.793679</td>\n",
       "      <td>...</td>\n",
       "      <td>11.078667</td>\n",
       "      <td>10.814422</td>\n",
       "      <td>10.176920</td>\n",
       "      <td>11.290443</td>\n",
       "      <td>0.718186</td>\n",
       "      <td>0.358765</td>\n",
       "      <td>0.504265</td>\n",
       "      <td>0.691663</td>\n",
       "      <td>0.568579</td>\n",
       "      <td>0.563663</td>\n",
       "    </tr>\n",
       "    <tr>\n",
       "      <td>2</td>\n",
       "      <td>-0.555555</td>\n",
       "      <td>0.222222</td>\n",
       "      <td>16.039356</td>\n",
       "      <td>NDARVN469KP6</td>\n",
       "      <td>1.551702</td>\n",
       "      <td>2.188666</td>\n",
       "      <td>1.582556</td>\n",
       "      <td>2.293936</td>\n",
       "      <td>4.226975</td>\n",
       "      <td>1.248253</td>\n",
       "      <td>...</td>\n",
       "      <td>8.568319</td>\n",
       "      <td>8.717960</td>\n",
       "      <td>8.949643</td>\n",
       "      <td>8.751536</td>\n",
       "      <td>0.419412</td>\n",
       "      <td>0.384375</td>\n",
       "      <td>0.345518</td>\n",
       "      <td>0.335640</td>\n",
       "      <td>0.226452</td>\n",
       "      <td>0.496402</td>\n",
       "    </tr>\n",
       "    <tr>\n",
       "      <td>3</td>\n",
       "      <td>1.333333</td>\n",
       "      <td>1.666666</td>\n",
       "      <td>8.784280</td>\n",
       "      <td>NDARZY019GNZ</td>\n",
       "      <td>6.233496</td>\n",
       "      <td>6.755708</td>\n",
       "      <td>9.088227</td>\n",
       "      <td>9.852386</td>\n",
       "      <td>14.023665</td>\n",
       "      <td>14.113028</td>\n",
       "      <td>...</td>\n",
       "      <td>7.349352</td>\n",
       "      <td>7.500019</td>\n",
       "      <td>7.532849</td>\n",
       "      <td>7.426925</td>\n",
       "      <td>0.829479</td>\n",
       "      <td>0.856743</td>\n",
       "      <td>0.881540</td>\n",
       "      <td>0.848050</td>\n",
       "      <td>1.112069</td>\n",
       "      <td>0.823531</td>\n",
       "    </tr>\n",
       "    <tr>\n",
       "      <td>4</td>\n",
       "      <td>1.111111</td>\n",
       "      <td>0.777777</td>\n",
       "      <td>7.218571</td>\n",
       "      <td>NDARHZ439EBY</td>\n",
       "      <td>5.593511</td>\n",
       "      <td>7.239707</td>\n",
       "      <td>5.585892</td>\n",
       "      <td>14.176308</td>\n",
       "      <td>17.896530</td>\n",
       "      <td>5.948757</td>\n",
       "      <td>...</td>\n",
       "      <td>8.689175</td>\n",
       "      <td>8.533435</td>\n",
       "      <td>8.744619</td>\n",
       "      <td>8.605137</td>\n",
       "      <td>0.862066</td>\n",
       "      <td>0.304196</td>\n",
       "      <td>0.846766</td>\n",
       "      <td>1.123680</td>\n",
       "      <td>1.078171</td>\n",
       "      <td>1.022903</td>\n",
       "    </tr>\n",
       "    <tr>\n",
       "      <td>...</td>\n",
       "      <td>...</td>\n",
       "      <td>...</td>\n",
       "      <td>...</td>\n",
       "      <td>...</td>\n",
       "      <td>...</td>\n",
       "      <td>...</td>\n",
       "      <td>...</td>\n",
       "      <td>...</td>\n",
       "      <td>...</td>\n",
       "      <td>...</td>\n",
       "      <td>...</td>\n",
       "      <td>...</td>\n",
       "      <td>...</td>\n",
       "      <td>...</td>\n",
       "      <td>...</td>\n",
       "      <td>...</td>\n",
       "      <td>...</td>\n",
       "      <td>...</td>\n",
       "      <td>...</td>\n",
       "      <td>...</td>\n",
       "      <td>...</td>\n",
       "    </tr>\n",
       "    <tr>\n",
       "      <td>364</td>\n",
       "      <td>2.777777</td>\n",
       "      <td>3.000000</td>\n",
       "      <td>10.454825</td>\n",
       "      <td>NDARAV187GJ5</td>\n",
       "      <td>13.432350</td>\n",
       "      <td>30.785647</td>\n",
       "      <td>11.838032</td>\n",
       "      <td>10.256610</td>\n",
       "      <td>10.570761</td>\n",
       "      <td>8.799888</td>\n",
       "      <td>...</td>\n",
       "      <td>6.129422</td>\n",
       "      <td>9.855379</td>\n",
       "      <td>5.871590</td>\n",
       "      <td>5.866629</td>\n",
       "      <td>0.120608</td>\n",
       "      <td>0.141840</td>\n",
       "      <td>0.088540</td>\n",
       "      <td>0.436530</td>\n",
       "      <td>0.126118</td>\n",
       "      <td>0.126822</td>\n",
       "    </tr>\n",
       "    <tr>\n",
       "      <td>365</td>\n",
       "      <td>1.222222</td>\n",
       "      <td>-1.000000</td>\n",
       "      <td>14.610312</td>\n",
       "      <td>NDARGH592NZ2</td>\n",
       "      <td>2.854754</td>\n",
       "      <td>3.859619</td>\n",
       "      <td>4.131474</td>\n",
       "      <td>5.286843</td>\n",
       "      <td>6.619541</td>\n",
       "      <td>6.451419</td>\n",
       "      <td>...</td>\n",
       "      <td>9.938448</td>\n",
       "      <td>10.089338</td>\n",
       "      <td>8.315127</td>\n",
       "      <td>7.965627</td>\n",
       "      <td>0.386374</td>\n",
       "      <td>0.760298</td>\n",
       "      <td>0.842317</td>\n",
       "      <td>0.975704</td>\n",
       "      <td>0.489352</td>\n",
       "      <td>0.326751</td>\n",
       "    </tr>\n",
       "    <tr>\n",
       "      <td>366</td>\n",
       "      <td>-3.000000</td>\n",
       "      <td>-3.000000</td>\n",
       "      <td>10.046315</td>\n",
       "      <td>NDARRV505ND6</td>\n",
       "      <td>8.807898</td>\n",
       "      <td>8.647452</td>\n",
       "      <td>5.419540</td>\n",
       "      <td>7.672813</td>\n",
       "      <td>16.092883</td>\n",
       "      <td>7.072346</td>\n",
       "      <td>...</td>\n",
       "      <td>11.039922</td>\n",
       "      <td>11.104643</td>\n",
       "      <td>10.824285</td>\n",
       "      <td>11.067008</td>\n",
       "      <td>0.220845</td>\n",
       "      <td>0.176626</td>\n",
       "      <td>0.354522</td>\n",
       "      <td>0.459443</td>\n",
       "      <td>0.275766</td>\n",
       "      <td>0.379102</td>\n",
       "    </tr>\n",
       "    <tr>\n",
       "      <td>367</td>\n",
       "      <td>0.222222</td>\n",
       "      <td>0.111111</td>\n",
       "      <td>13.022359</td>\n",
       "      <td>NDARKN175HWB</td>\n",
       "      <td>5.877912</td>\n",
       "      <td>5.186567</td>\n",
       "      <td>5.388318</td>\n",
       "      <td>7.797174</td>\n",
       "      <td>5.577393</td>\n",
       "      <td>4.532206</td>\n",
       "      <td>...</td>\n",
       "      <td>16.499717</td>\n",
       "      <td>14.178789</td>\n",
       "      <td>12.342108</td>\n",
       "      <td>12.185766</td>\n",
       "      <td>0.113648</td>\n",
       "      <td>0.556684</td>\n",
       "      <td>0.570148</td>\n",
       "      <td>0.559704</td>\n",
       "      <td>0.436026</td>\n",
       "      <td>0.361575</td>\n",
       "    </tr>\n",
       "    <tr>\n",
       "      <td>368</td>\n",
       "      <td>1.222222</td>\n",
       "      <td>0.444444</td>\n",
       "      <td>16.456194</td>\n",
       "      <td>NDARCL008HLA</td>\n",
       "      <td>7.487871</td>\n",
       "      <td>9.809903</td>\n",
       "      <td>7.255467</td>\n",
       "      <td>8.731814</td>\n",
       "      <td>9.629680</td>\n",
       "      <td>11.326718</td>\n",
       "      <td>...</td>\n",
       "      <td>9.389994</td>\n",
       "      <td>9.540163</td>\n",
       "      <td>9.482167</td>\n",
       "      <td>9.545163</td>\n",
       "      <td>1.326583</td>\n",
       "      <td>1.288238</td>\n",
       "      <td>1.407225</td>\n",
       "      <td>1.561878</td>\n",
       "      <td>1.636154</td>\n",
       "      <td>1.412149</td>\n",
       "    </tr>\n",
       "  </tbody>\n",
       "</table>\n",
       "<p>367 rows × 304 columns</p>\n",
       "</div>"
      ],
      "text/plain": [
       "     SWAN_IN_Avg  SWAN_HY_Avg        Age    Patient_ID  \\\n",
       "0       1.111111     0.555555  10.758156  NDARYP516VUU   \n",
       "1       0.888888    -2.111111  12.357403  NDARLE953JYU   \n",
       "2      -0.555555     0.222222  16.039356  NDARVN469KP6   \n",
       "3       1.333333     1.666666   8.784280  NDARZY019GNZ   \n",
       "4       1.111111     0.777777   7.218571  NDARHZ439EBY   \n",
       "..           ...          ...        ...           ...   \n",
       "364     2.777777     3.000000  10.454825  NDARAV187GJ5   \n",
       "365     1.222222    -1.000000  14.610312  NDARGH592NZ2   \n",
       "366    -3.000000    -3.000000  10.046315  NDARRV505ND6   \n",
       "367     0.222222     0.111111  13.022359  NDARKN175HWB   \n",
       "368     1.222222     0.444444  16.456194  NDARCL008HLA   \n",
       "\n",
       "     eyesclosed_fband_delta_absmean_lfront  \\\n",
       "0                                 3.736577   \n",
       "1                                 3.519179   \n",
       "2                                 1.551702   \n",
       "3                                 6.233496   \n",
       "4                                 5.593511   \n",
       "..                                     ...   \n",
       "364                              13.432350   \n",
       "365                               2.854754   \n",
       "366                               8.807898   \n",
       "367                               5.877912   \n",
       "368                               7.487871   \n",
       "\n",
       "     eyesclosed_fband_delta_absmean_mfront  \\\n",
       "0                                 5.970049   \n",
       "1                                 5.179898   \n",
       "2                                 2.188666   \n",
       "3                                 6.755708   \n",
       "4                                 7.239707   \n",
       "..                                     ...   \n",
       "364                              30.785647   \n",
       "365                               3.859619   \n",
       "366                               8.647452   \n",
       "367                               5.186567   \n",
       "368                               9.809903   \n",
       "\n",
       "     eyesclosed_fband_delta_absmean_rfront  \\\n",
       "0                                 3.462826   \n",
       "1                                 3.495491   \n",
       "2                                 1.582556   \n",
       "3                                 9.088227   \n",
       "4                                 5.585892   \n",
       "..                                     ...   \n",
       "364                              11.838032   \n",
       "365                               4.131474   \n",
       "366                               5.419540   \n",
       "367                               5.388318   \n",
       "368                               7.255467   \n",
       "\n",
       "     eyesclosed_fband_delta_absmean_lpari  \\\n",
       "0                                4.225793   \n",
       "1                                3.629303   \n",
       "2                                2.293936   \n",
       "3                                9.852386   \n",
       "4                               14.176308   \n",
       "..                                    ...   \n",
       "364                             10.256610   \n",
       "365                              5.286843   \n",
       "366                              7.672813   \n",
       "367                              7.797174   \n",
       "368                              8.731814   \n",
       "\n",
       "     eyesclosed_fband_delta_absmean_mpari  \\\n",
       "0                                6.973617   \n",
       "1                                4.704654   \n",
       "2                                4.226975   \n",
       "3                               14.023665   \n",
       "4                               17.896530   \n",
       "..                                    ...   \n",
       "364                             10.570761   \n",
       "365                              6.619541   \n",
       "366                             16.092883   \n",
       "367                              5.577393   \n",
       "368                              9.629680   \n",
       "\n",
       "     eyesclosed_fband_delta_absmean_rpari  ...  \\\n",
       "0                                6.719936  ...   \n",
       "1                                2.793679  ...   \n",
       "2                                1.248253  ...   \n",
       "3                               14.113028  ...   \n",
       "4                                5.948757  ...   \n",
       "..                                    ...  ...   \n",
       "364                              8.799888  ...   \n",
       "365                              6.451419  ...   \n",
       "366                              7.072346  ...   \n",
       "367                              4.532206  ...   \n",
       "368                             11.326718  ...   \n",
       "\n",
       "     eyesopen_fooof_peak_freq_rfront  eyesopen_fooof_peak_freq_lpari  \\\n",
       "0                          10.750797                       10.401234   \n",
       "1                          11.078667                       10.814422   \n",
       "2                           8.568319                        8.717960   \n",
       "3                           7.349352                        7.500019   \n",
       "4                           8.689175                        8.533435   \n",
       "..                               ...                             ...   \n",
       "364                         6.129422                        9.855379   \n",
       "365                         9.938448                       10.089338   \n",
       "366                        11.039922                       11.104643   \n",
       "367                        16.499717                       14.178789   \n",
       "368                         9.389994                        9.540163   \n",
       "\n",
       "     eyesopen_fooof_peak_freq_mpari  eyesopen_fooof_peak_freq_rpari  \\\n",
       "0                         10.783732                       11.046665   \n",
       "1                         10.176920                       11.290443   \n",
       "2                          8.949643                        8.751536   \n",
       "3                          7.532849                        7.426925   \n",
       "4                          8.744619                        8.605137   \n",
       "..                              ...                             ...   \n",
       "364                        5.871590                        5.866629   \n",
       "365                        8.315127                        7.965627   \n",
       "366                       10.824285                       11.067008   \n",
       "367                       12.342108                       12.185766   \n",
       "368                        9.482167                        9.545163   \n",
       "\n",
       "     eyesopen_fooof_peak_amplitude_lfront  \\\n",
       "0                                0.821805   \n",
       "1                                0.718186   \n",
       "2                                0.419412   \n",
       "3                                0.829479   \n",
       "4                                0.862066   \n",
       "..                                    ...   \n",
       "364                              0.120608   \n",
       "365                              0.386374   \n",
       "366                              0.220845   \n",
       "367                              0.113648   \n",
       "368                              1.326583   \n",
       "\n",
       "     eyesopen_fooof_peak_amplitude_mfront  \\\n",
       "0                                0.784304   \n",
       "1                                0.358765   \n",
       "2                                0.384375   \n",
       "3                                0.856743   \n",
       "4                                0.304196   \n",
       "..                                    ...   \n",
       "364                              0.141840   \n",
       "365                              0.760298   \n",
       "366                              0.176626   \n",
       "367                              0.556684   \n",
       "368                              1.288238   \n",
       "\n",
       "     eyesopen_fooof_peak_amplitude_rfront  \\\n",
       "0                                0.770845   \n",
       "1                                0.504265   \n",
       "2                                0.345518   \n",
       "3                                0.881540   \n",
       "4                                0.846766   \n",
       "..                                    ...   \n",
       "364                              0.088540   \n",
       "365                              0.842317   \n",
       "366                              0.354522   \n",
       "367                              0.570148   \n",
       "368                              1.407225   \n",
       "\n",
       "     eyesopen_fooof_peak_amplitude_lpari  eyesopen_fooof_peak_amplitude_mpari  \\\n",
       "0                               0.914380                             0.671399   \n",
       "1                               0.691663                             0.568579   \n",
       "2                               0.335640                             0.226452   \n",
       "3                               0.848050                             1.112069   \n",
       "4                               1.123680                             1.078171   \n",
       "..                                   ...                                  ...   \n",
       "364                             0.436530                             0.126118   \n",
       "365                             0.975704                             0.489352   \n",
       "366                             0.459443                             0.275766   \n",
       "367                             0.559704                             0.436026   \n",
       "368                             1.561878                             1.636154   \n",
       "\n",
       "     eyesopen_fooof_peak_amplitude_rpari  \n",
       "0                               1.004923  \n",
       "1                               0.563663  \n",
       "2                               0.496402  \n",
       "3                               0.823531  \n",
       "4                               1.022903  \n",
       "..                                   ...  \n",
       "364                             0.126822  \n",
       "365                             0.326751  \n",
       "366                             0.379102  \n",
       "367                             0.361575  \n",
       "368                             1.412149  \n",
       "\n",
       "[367 rows x 304 columns]"
      ]
     },
     "execution_count": 19,
     "metadata": {},
     "output_type": "execute_result"
    }
   ],
   "source": [
    "df_label_spectro_cluster"
   ]
  },
  {
   "cell_type": "code",
   "execution_count": 18,
   "metadata": {},
   "outputs": [],
   "source": [
    "less_18 = df_label_spectro_cluster['Age'] <= 18.0\n",
    "df_label_spectro_cluster = df_label_spectro_cluster[less_18]\n"
   ]
  },
  {
   "cell_type": "code",
   "execution_count": 20,
   "metadata": {},
   "outputs": [],
   "source": [
    "outliers = pd.read_csv('../../../data/outliers.csv')\n",
    "df_label_spectro_cluster = df_label_spectro_cluster[~df_label_spectro_cluster.Patient_ID.isin(outliers.Patient_ID)]"
   ]
  },
  {
   "cell_type": "code",
   "execution_count": 41,
   "metadata": {},
   "outputs": [],
   "source": [
    "from sklearn.model_selection import train_test_split\n",
    "x_train , x_test, y_train , y_test = \\\n",
    "train_test_split(df_label_spectro_cluster.drop([ 'SWAN_IN_Avg' , 'SWAN_HY_Avg', 'Patient_ID'], axis=1), df_label_spectro_cluster[['SWAN_IN_Avg', 'SWAN_HY_Avg']], test_size=0.2, random_state = 0)\n"
   ]
  },
  {
   "cell_type": "code",
   "execution_count": 42,
   "metadata": {},
   "outputs": [
    {
     "name": "stderr",
     "output_type": "stream",
     "text": [
      "/usr/local/lib/python3.7/site-packages/sklearn/ensemble/iforest.py:237: FutureWarning: default contamination parameter 0.1 will change in version 0.22 to \"auto\". This will change the predict method behavior.\n",
      "  FutureWarning)\n",
      "/usr/local/lib/python3.7/site-packages/sklearn/ensemble/iforest.py:247: FutureWarning: behaviour=\"old\" is deprecated and will be removed in version 0.22. Please use behaviour=\"new\", which makes the decision_function change to match other anomaly detection algorithm API.\n",
      "  FutureWarning)\n"
     ]
    },
    {
     "name": "stdout",
     "output_type": "stream",
     "text": [
      "[  0   1   2   3   4   5   6   7   8  10  11  12  13  14  15  16  17  18\n",
      "  19  20  21  22  23  24  25  26  27  29  30  31  32  33  34  35  36  37\n",
      "  38  39  40  41  42  43  44  45  46  48  49  50  51  52  54  55  56  57\n",
      "  58  59  60  62  63  64  65  66  67  68  69  70  71  72  73  74  75  76\n",
      "  78  79  80  81  82  83  84  85  86  87  88  89  90  92  94  95  96  97\n",
      "  98  99 100 101 102 103 104 105 106 107 108 109 110 112 113 114 115 116\n",
      " 117 118 119 120 121 122 124 125 126 128 129 130 133 134 137 138 139 140\n",
      " 141 143 144 145 146 147 148 150 151 152 153 154 155 158 159 160 161 162\n",
      " 163 165 166 167 168 169 170 171 172 173 174 175 176 177 178 179 180 181\n",
      " 182 183 184 185 186 187 188 190 191 192 193 194 197 198 199 200 201 202\n",
      " 203 204 205 206 207 208 209 210 211 212 213 214 215 216 217 218 219 220\n",
      " 221 222 223 224 226 227 228 229 230 231 232 233 234 236 237 238 239 240\n",
      " 241 242 243 245 246 247 249 250 251 252 254 255 256 257 258 259 260 261\n",
      " 262 263 264 265 266 267 269 270 271 272 273 274 275 276 277 278 279 280\n",
      " 281 283 284 285 286 287 288 289 290 291]\n",
      "(73, 301)\n",
      "(73, 2)\n",
      "(262, 301)\n",
      "(262, 2)\n"
     ]
    },
    {
     "name": "stderr",
     "output_type": "stream",
     "text": [
      "/usr/local/lib/python3.7/site-packages/sklearn/ensemble/iforest.py:415: DeprecationWarning: threshold_ attribute is deprecated in 0.20 and will be removed in 0.22.\n",
      "  \" be removed in 0.22.\", DeprecationWarning)\n"
     ]
    }
   ],
   "source": [
    "forest = IsolationForest()\n",
    "forest.fit(x_train)\n",
    "\n",
    "# Outlier indices for training\n",
    "outliers_training = forest.predict(x_train)\n",
    "outliers_training_indices = np.argwhere(outliers_training == 1).flatten()\n",
    "\n",
    "# Drop signal outliers in training data\n",
    "x_train = x_train[outliers_training == 1]\n",
    "y_train = y_train[outliers_training == 1]\n",
    "#x_train, y_train = drop_outliers_samples_isolation_forest(x_train, y_train)\n",
    "print(outliers_training_indices)\n",
    "print(x_test.shape)\n",
    "print(y_test.shape)\n",
    "print(x_train.shape)\n",
    "print(y_train.shape)"
   ]
  },
  {
   "cell_type": "code",
   "execution_count": 43,
   "metadata": {},
   "outputs": [
    {
     "name": "stdout",
     "output_type": "stream",
     "text": [
      "(73, 301)\n",
      "(73, 2)\n",
      "(262, 301)\n",
      "(262, 2)\n"
     ]
    }
   ],
   "source": [
    "scaler = StandardScaler()\n",
    "scaler.fit(x_train)\n",
    "x_train = pd.DataFrame(scaler.transform(x_train), columns=x_train.columns, index=x_train.index)\n",
    "x_test = pd.DataFrame(scaler.transform(x_test), columns=x_test.columns, index=x_test.index)\n",
    "\n",
    "print(x_test.shape)\n",
    "print(y_test.shape)\n",
    "print(x_train.shape)\n",
    "print(y_train.shape)"
   ]
  },
  {
   "cell_type": "code",
   "execution_count": 22,
   "metadata": {},
   "outputs": [],
   "source": [
    "# mlp for multi-output regression\n",
    "from numpy import mean\n",
    "from numpy import std\n",
    "from sklearn.model_selection import RepeatedKFold\n",
    "from keras.models import Sequential\n",
    "from keras.layers import Dense"
   ]
  },
  {
   "cell_type": "code",
   "execution_count": 28,
   "metadata": {},
   "outputs": [],
   "source": [
    "def get_model(n_inputs, n_outputs):\n",
    "    model = Sequential()\n",
    "    model.add(Dense(5, input_dim=n_inputs, activation='relu'))\n",
    "    model.add(Dense(5, activation='relu'))\n",
    "    #model.add(Dense(5, activation='relu'))\n",
    "    model.add(Dense(n_outputs))\n",
    "    model.compile(loss='mse', optimizer='adam')\n",
    "    return model\n",
    " \n",
    "# evaluate a model using repeated k-fold cross-validation\n",
    "def evaluate_model(X, y):\n",
    "    results = list()\n",
    "    n_inputs, n_outputs = X.shape[1], 1#y.shape[1]\n",
    "    # define evaluation procedure\n",
    "    cv = RepeatedKFold(n_splits=10, n_repeats=1, random_state=1)\n",
    "    # enumerate folds\n",
    "    for train_ix, test_ix in cv.split(X):\n",
    "        # prepare data\n",
    "        X_train, X_test = X[train_ix], X[test_ix]\n",
    "        y_train, y_test = y[train_ix], y[test_ix]\n",
    "        # define model\n",
    "        file_path = \"model.h5\"\n",
    "        model = get_model(n_inputs, n_outputs)\n",
    "        # fit model\n",
    "        checkpoint = ModelCheckpoint(file_path, monitor='val_loss', verbose=0, save_best_only=True, mode='min')\n",
    "        callbacks_list = [checkpoint] \n",
    "        model.fit(X_train, y_train, verbose=0, callbacks=callbacks_list, validation_split=0.1,  epochs=150)\n",
    "        # evaluate model on test set\n",
    "        mse = model.evaluate(X_test, y_test, verbose=0)\n",
    "        # store result\n",
    "        print('>%.3f' % mse)\n",
    "        results.append(mse)\n",
    "    return results"
   ]
  },
  {
   "cell_type": "code",
   "execution_count": 29,
   "metadata": {},
   "outputs": [
    {
     "name": "stdout",
     "output_type": "stream",
     "text": [
      ">1.295\n",
      ">1.465\n",
      ">0.692\n",
      ">1.557\n",
      ">1.923\n",
      ">1.443\n",
      ">0.744\n",
      ">1.535\n",
      ">1.646\n",
      ">2.042\n",
      "MSE: 1.434 (0.416)\n"
     ]
    }
   ],
   "source": [
    "results = evaluate_model(x_train.to_numpy(), y_train.to_numpy()[:,0])\n",
    "print('MSE: %.3f (%.3f)' % (mean(results), std(results)))"
   ]
  },
  {
   "cell_type": "code",
   "execution_count": 30,
   "metadata": {},
   "outputs": [
    {
     "name": "stdout",
     "output_type": "stream",
     "text": [
      ">1.099\n",
      ">1.674\n",
      ">1.486\n",
      ">1.455\n",
      ">1.631\n",
      ">1.582\n",
      ">1.446\n",
      ">1.401\n",
      ">1.755\n",
      ">1.761\n",
      "MSE: 1.529 (0.188)\n"
     ]
    }
   ],
   "source": [
    "results = evaluate_model(x_train.to_numpy(), y_train.to_numpy()[:,1])\n",
    "print('MSE: %.3f (%.3f)' % (mean(results), std(results)))"
   ]
  },
  {
   "cell_type": "code",
   "execution_count": 31,
   "metadata": {},
   "outputs": [],
   "source": [
    "from keras.callbacks import ModelCheckpoint, EarlyStopping, LearningRateScheduler, ReduceLROnPlateau\n",
    "def evaluate_model_10(X, y, x_test, y_test):\n",
    "    results = list()\n",
    "    for i in range(10):\n",
    "        n_inputs, n_outputs = X.shape[1], 1\n",
    "        model = get_model(n_inputs, n_outputs)\n",
    "        file_path = \"model.h5\"\n",
    "        checkpoint = ModelCheckpoint(file_path, monitor='val_loss', verbose=0, save_best_only=True, mode='min')\n",
    "        #early = EarlyStopping(monitor=\"val_loss\", mode=\"min\", patience=10, verbose=1)\n",
    "        #redonplat = ReduceLROnPlateau(monitor=\"val_loss\", mode=\"min\", patience=10, verbose=2)\n",
    "        callbacks_list = [checkpoint] \n",
    "        model.fit(X, y, callbacks=callbacks_list, verbose=0,validation_split=0.1,  epochs=150)\n",
    "        model.load_weights(file_path)\n",
    "        mse = model.evaluate(x_test, y_test, verbose=2)\n",
    "        print('>%.3f' % mse)\n",
    "        results.append(mse)\n",
    "    print('MSE: %.3f (%.3f)' % (mean(results), std(results)))"
   ]
  },
  {
   "cell_type": "code",
   "execution_count": 32,
   "metadata": {},
   "outputs": [
    {
     "name": "stdout",
     "output_type": "stream",
     "text": [
      "3/3 - 0s - loss: 1.3399\n",
      ">1.340\n",
      "3/3 - 0s - loss: 1.3481\n",
      ">1.348\n",
      "3/3 - 0s - loss: 2.2819\n",
      ">2.282\n",
      "3/3 - 0s - loss: 1.2372\n",
      ">1.237\n",
      "3/3 - 0s - loss: 1.4086\n",
      ">1.409\n",
      "3/3 - 0s - loss: 1.2945\n",
      ">1.294\n",
      "3/3 - 0s - loss: 1.4301\n",
      ">1.430\n",
      "3/3 - 0s - loss: 1.4364\n",
      ">1.436\n",
      "3/3 - 0s - loss: 1.3474\n",
      ">1.347\n",
      "3/3 - 0s - loss: 1.2393\n",
      ">1.239\n",
      "MSE: 1.436 (0.290)\n"
     ]
    }
   ],
   "source": [
    "evaluate_model_10(x_train.to_numpy(), y_train.to_numpy()[:, 0], x_test.to_numpy(), y_test.to_numpy()[:,0])"
   ]
  },
  {
   "cell_type": "code",
   "execution_count": 33,
   "metadata": {},
   "outputs": [
    {
     "name": "stdout",
     "output_type": "stream",
     "text": [
      "3/3 - 0s - loss: 1.7450\n",
      ">1.745\n",
      "3/3 - 0s - loss: 1.6595\n",
      ">1.659\n",
      "3/3 - 0s - loss: 1.5512\n",
      ">1.551\n",
      "3/3 - 0s - loss: 1.7846\n",
      ">1.785\n",
      "3/3 - 0s - loss: 1.7867\n",
      ">1.787\n",
      "3/3 - 0s - loss: 1.5846\n",
      ">1.585\n",
      "3/3 - 0s - loss: 1.5916\n",
      ">1.592\n",
      "3/3 - 0s - loss: 1.5783\n",
      ">1.578\n",
      "3/3 - 0s - loss: 1.5015\n",
      ">1.501\n",
      "3/3 - 0s - loss: 1.5272\n",
      ">1.527\n",
      "MSE: 1.631 (0.101)\n"
     ]
    }
   ],
   "source": [
    "evaluate_model_10(x_train.to_numpy(), y_train.to_numpy()[:, 1], x_test.to_numpy(), y_test.to_numpy()[:,1])"
   ]
  },
  {
   "cell_type": "code",
   "execution_count": 178,
   "metadata": {},
   "outputs": [
    {
     "data": {
      "text/plain": [
       "1.5197307342097406"
      ]
     },
     "execution_count": 178,
     "metadata": {},
     "output_type": "execute_result"
    }
   ],
   "source": [
    "sklearn.metrics.mean_squared_error(model.predict(x_test.to_numpy())[:,0], y_test.to_numpy()[:,0])"
   ]
  },
  {
   "cell_type": "code",
   "execution_count": 36,
   "metadata": {},
   "outputs": [
    {
     "ename": "NameError",
     "evalue": "name 'model' is not defined",
     "output_type": "error",
     "traceback": [
      "\u001b[0;31m---------------------------------------------------------------------------\u001b[0m",
      "\u001b[0;31mNameError\u001b[0m                                 Traceback (most recent call last)",
      "\u001b[0;32m<ipython-input-36-8c5a647c66f1>\u001b[0m in \u001b[0;36m<module>\u001b[0;34m\u001b[0m\n\u001b[1;32m      1\u001b[0m \u001b[0;32mimport\u001b[0m \u001b[0msklearn\u001b[0m\u001b[0;34m\u001b[0m\u001b[0;34m\u001b[0m\u001b[0m\n\u001b[0;32m----> 2\u001b[0;31m \u001b[0msklearn\u001b[0m\u001b[0;34m.\u001b[0m\u001b[0mmetrics\u001b[0m\u001b[0;34m.\u001b[0m\u001b[0mmean_squared_error\u001b[0m\u001b[0;34m(\u001b[0m\u001b[0mmodel\u001b[0m\u001b[0;34m.\u001b[0m\u001b[0mpredict\u001b[0m\u001b[0;34m(\u001b[0m\u001b[0mx_test\u001b[0m\u001b[0;34m.\u001b[0m\u001b[0mto_numpy\u001b[0m\u001b[0;34m(\u001b[0m\u001b[0;34m)\u001b[0m\u001b[0;34m)\u001b[0m\u001b[0;34m,\u001b[0m \u001b[0my_test\u001b[0m\u001b[0;34m.\u001b[0m\u001b[0mto_numpy\u001b[0m\u001b[0;34m(\u001b[0m\u001b[0;34m)\u001b[0m\u001b[0;34m[\u001b[0m\u001b[0;34m:\u001b[0m\u001b[0;34m,\u001b[0m\u001b[0;36m1\u001b[0m\u001b[0;34m]\u001b[0m\u001b[0;34m)\u001b[0m\u001b[0;34m\u001b[0m\u001b[0;34m\u001b[0m\u001b[0m\n\u001b[0m",
      "\u001b[0;31mNameError\u001b[0m: name 'model' is not defined"
     ]
    }
   ],
   "source": [
    "import sklearn\n",
    "sklearn.metrics.mean_squared_error(model.predict(x_test.to_numpy()), y_test.to_numpy()[:,1])"
   ]
  },
  {
   "cell_type": "code",
   "execution_count": 39,
   "metadata": {},
   "outputs": [
    {
     "data": {
      "text/plain": [
       "1.2407459939026044"
      ]
     },
     "execution_count": 39,
     "metadata": {},
     "output_type": "execute_result"
    }
   ],
   "source": [
    "import sklearn\n",
    "y = np.zeros(len(y_test))\n",
    "y = y + np.mean(y_train.to_numpy()[:,0])\n",
    "sklearn.metrics.mean_squared_error(y, y_test.to_numpy()[:,0])"
   ]
  },
  {
   "cell_type": "code",
   "execution_count": 40,
   "metadata": {},
   "outputs": [
    {
     "data": {
      "text/plain": [
       "1.6361967270979005"
      ]
     },
     "execution_count": 40,
     "metadata": {},
     "output_type": "execute_result"
    }
   ],
   "source": [
    "y = np.zeros(len(y_test))\n",
    "y = y + np.mean(y_train.to_numpy()[:,1])\n",
    "sklearn.metrics.mean_squared_error(y, y_test.to_numpy()[:,1])"
   ]
  },
  {
   "cell_type": "code",
   "execution_count": 69,
   "metadata": {},
   "outputs": [
    {
     "data": {
      "text/plain": [
       "array([[-8.88524294e-01, -1.61943531e+00],\n",
       "       [ 1.26003444e-01, -5.88641644e-01],\n",
       "       [ 5.66600323e-01,  6.48859143e-02],\n",
       "       [ 1.03167117e+00,  5.36886394e-01],\n",
       "       [ 1.03228629e+00,  5.35459280e-01],\n",
       "       [ 1.03228629e+00,  5.35459280e-01],\n",
       "       [ 1.02762544e+00,  5.46271801e-01],\n",
       "       [ 2.62520969e-01, -2.56546259e-01],\n",
       "       [-9.21010375e-01, -9.01059389e-01],\n",
       "       [ 8.72042000e-01,  4.49065983e-01],\n",
       "       [ 9.86840427e-01,  6.40888214e-01],\n",
       "       [ 9.55724716e-01,  7.13072836e-01],\n",
       "       [ 2.85151303e-01,  9.58248615e-01],\n",
       "       [ 1.03228629e+00,  5.35459280e-01],\n",
       "       [ 3.65076840e-01,  2.08330441e+00],\n",
       "       [ 8.01041782e-01,  1.07191849e+00],\n",
       "       [-3.38420033e-01,  3.71533227e+00],\n",
       "       [ 7.83345819e-01,  1.11297107e+00],\n",
       "       [ 1.02798593e+00,  5.28667331e-01],\n",
       "       [-1.90740824e-02, -7.17217088e-01],\n",
       "       [ 5.25200546e-01,  1.47220278e+00],\n",
       "       [ 1.03228629e+00,  5.35459280e-01],\n",
       "       [ 1.02435327e+00,  5.53862989e-01],\n",
       "       [ 8.97902906e-01,  6.73152745e-01],\n",
       "       [ 8.18477571e-01,  2.45945841e-01],\n",
       "       [-1.41075265e+00, -2.05894065e+00],\n",
       "       [-2.44536638e-01, -8.16806436e-01],\n",
       "       [ 9.04070616e-01,  8.32904100e-01],\n",
       "       [ 1.03228629e+00,  5.35459280e-01],\n",
       "       [ 3.02051842e-01, -2.87467778e-01],\n",
       "       [-8.81440759e-01, -9.93619442e-01],\n",
       "       [ 8.52936029e-01,  9.51530218e-01],\n",
       "       [ 1.02649772e+00,  5.27621150e-01],\n",
       "       [ 1.03228629e+00,  5.35459280e-01],\n",
       "       [ 2.41925776e-01, -5.85128665e-01],\n",
       "       [ 7.55984902e-01,  1.84802830e-01],\n",
       "       [-4.79106188e-01, -7.95651793e-01],\n",
       "       [-3.94526005e-01, -1.18949592e+00],\n",
       "       [ 4.75222051e-01,  3.03540409e-01],\n",
       "       [ 1.03228629e+00,  5.35459280e-01],\n",
       "       [ 1.02207279e+00,  5.59153318e-01],\n",
       "       [ 9.53547180e-01,  4.28840458e-01],\n",
       "       [ 1.03228629e+00,  5.35459280e-01],\n",
       "       [ 8.42255831e-01,  3.07998568e-01],\n",
       "       [ 1.03228629e+00,  5.35459280e-01],\n",
       "       [-2.50154495e-01, -4.37693238e-01],\n",
       "       [ 4.77063656e-03, -4.99718070e-01],\n",
       "       [ 6.28186643e-01,  1.20821327e-01],\n",
       "       [ 1.03228629e+00,  5.35459280e-01],\n",
       "       [ 9.57352877e-01,  4.68007416e-01],\n",
       "       [ 9.40288007e-01,  7.48884141e-01],\n",
       "       [ 9.00921226e-01,  6.43224180e-01],\n",
       "       [ 9.92671967e-01,  6.27359748e-01],\n",
       "       [ 7.85864055e-01,  1.10712898e+00],\n",
       "       [-1.19188774e+00, -9.27742839e-01],\n",
       "       [ 8.61710966e-01,  9.31173444e-01],\n",
       "       [ 9.29347992e-01,  7.74263740e-01],\n",
       "       [ 6.92005277e-01,  6.79329634e-02],\n",
       "       [ 1.03228629e+00,  5.35459280e-01],\n",
       "       [ 9.21150625e-01,  7.93280602e-01],\n",
       "       [ 6.57158256e-01,  1.87140107e-02],\n",
       "       [-3.36004734e-01, -1.39715600e+00],\n",
       "       [ 8.65147412e-01,  9.23201263e-01],\n",
       "       [ 5.39592326e-01,  1.01573467e-02],\n",
       "       [ 9.97525036e-01,  4.80557233e-01],\n",
       "       [ 7.12159872e-01,  1.27811384e+00],\n",
       "       [ 8.91244709e-01,  3.82259071e-01],\n",
       "       [ 7.05439448e-01,  5.85373938e-01],\n",
       "       [ 5.50983071e-01,  4.34871197e-01],\n",
       "       [-4.68018532e-01, -1.32219696e+00],\n",
       "       [ 9.94557440e-01,  4.84371543e-01],\n",
       "       [ 1.19874775e-01,  2.60287851e-01],\n",
       "       [ 1.03228629e+00,  5.35459280e-01],\n",
       "       [ 7.91478157e-01,  1.09410501e+00],\n",
       "       [ 9.28374767e-01,  7.76521504e-01],\n",
       "       [ 1.03228629e+00,  5.35459280e-01],\n",
       "       [-1.90533757e-01, -2.17275918e-01],\n",
       "       [ 3.63035500e-01,  2.08804035e+00],\n",
       "       [ 9.97731149e-01,  6.15622997e-01],\n",
       "       [ 1.03228629e+00,  5.35459280e-01],\n",
       "       [ 6.50175571e-01,  1.53230518e-01],\n",
       "       [ 1.03228629e+00,  5.35459280e-01],\n",
       "       [ 3.70699048e-01, -1.42194808e-01],\n",
       "       [ 5.94534159e-01, -6.94366097e-02],\n",
       "       [ 8.70876849e-01,  6.45576119e-01],\n",
       "       [ 6.96833730e-01,  2.26421505e-01],\n",
       "       [ 1.03228629e+00,  5.35459280e-01],\n",
       "       [ 1.03228629e+00,  5.35459280e-01],\n",
       "       [ 1.03228629e+00,  5.35459280e-01],\n",
       "       [ 9.12236452e-01,  8.13960314e-01],\n",
       "       [ 9.80925560e-01,  6.54609978e-01],\n",
       "       [ 9.69369233e-01,  6.81419253e-01],\n",
       "       [-8.92582893e-01, -1.81852746e+00],\n",
       "       [ 1.03228629e+00,  5.35459280e-01],\n",
       "       [ 1.03228629e+00,  5.35459280e-01],\n",
       "       [ 1.03228629e+00,  5.35459280e-01],\n",
       "       [ 1.03228629e+00,  5.35459280e-01],\n",
       "       [-1.48157239e-01, -6.80497169e-01],\n",
       "       [ 8.74533117e-01,  3.75688076e-01],\n",
       "       [ 2.47576892e-01,  2.35589027e+00],\n",
       "       [ 4.80277836e-01, -7.90865421e-02],\n",
       "       [ 9.73632753e-01,  6.71528399e-01],\n",
       "       [ 8.45198452e-01,  2.82128006e-01],\n",
       "       [ 1.01623106e+00,  5.72705507e-01],\n",
       "       [-4.46560025e-01, -5.81087112e-01],\n",
       "       [ 8.78989220e-01,  8.91089916e-01],\n",
       "       [ 1.03228629e+00,  5.35459280e-01],\n",
       "       [-6.87884569e-01, -1.94494700e+00],\n",
       "       [ 1.01316285e+00,  5.79823494e-01],\n",
       "       [ 8.77148569e-01,  8.95360053e-01],\n",
       "       [-8.33228946e-01,  2.70892739e-01],\n",
       "       [ 9.70208287e-01,  6.79472685e-01],\n",
       "       [ 3.62376809e-01, -4.05560315e-01],\n",
       "       [ 8.53188813e-01,  3.24818432e-01],\n",
       "       [-1.45558393e+00, -2.02187705e+00],\n",
       "       [ 1.02254963e+00,  5.58047235e-01],\n",
       "       [-1.01409400e+00, -1.44965446e+00],\n",
       "       [ 5.56383848e-01,  1.18454123e+00],\n",
       "       [ 5.01241386e-01, -2.21412957e-01],\n",
       "       [ 7.23929048e-01,  1.25081062e+00],\n",
       "       [ 8.52224648e-01,  9.53180492e-01],\n",
       "       [ 3.39156449e-01,  7.26765096e-02],\n",
       "       [ 1.03228629e+00,  5.35459280e-01],\n",
       "       [-2.09071159e-01, -2.21163034e-01],\n",
       "       [ 6.75758958e-01,  1.36255956e+00],\n",
       "       [ 1.01752818e+00,  5.69696307e-01],\n",
       "       [ 9.16589916e-01,  3.70253325e-01],\n",
       "       [ 1.02918434e+00,  5.32667041e-01],\n",
       "       [ 1.03012574e+00,  5.40471494e-01],\n",
       "       [ 7.71748066e-01,  1.13987660e+00],\n",
       "       [ 5.76803923e-01,  1.59212327e+00],\n",
       "       [ 8.99729967e-01,  3.55967790e-01],\n",
       "       [ 1.03228629e+00,  5.35459280e-01],\n",
       "       [-1.32901728e+00, -1.39208698e+00],\n",
       "       [ 8.41422379e-01,  9.78240490e-01],\n",
       "       [ 8.87932777e-02, -6.56688571e-01],\n",
       "       [ 9.21412408e-01,  7.92673230e-01],\n",
       "       [-5.42758584e-01, -1.56580639e+00],\n",
       "       [ 8.91154289e-01,  8.38025331e-01],\n",
       "       [ 8.46872389e-01,  3.28437805e-01],\n",
       "       [ 7.06130147e-01,  2.23213136e-01],\n",
       "       [ 1.16670132e-02, -4.94715452e-01],\n",
       "       [-5.31373024e-02, -7.12705493e-01],\n",
       "       [ 9.40343976e-01,  4.85171258e-01],\n",
       "       [ 6.26723647e-01,  4.44131494e-02],\n",
       "       [ 7.90774763e-01,  1.09573674e+00],\n",
       "       [ 1.03228629e+00,  5.35459280e-01],\n",
       "       [ 4.39754248e-01,  2.49031514e-01],\n",
       "       [ 7.33669460e-01,  1.97483093e-01],\n",
       "       [-2.47218513e+00, -2.29651427e+00],\n",
       "       [ 9.25747156e-01,  7.07313657e-01],\n",
       "       [ 1.51327848e-01, -4.56632674e-01],\n",
       "       [ 1.63636506e-01, -7.92499781e-02],\n",
       "       [ 8.41603756e-01,  9.77819800e-01],\n",
       "       [-4.31450844e-01, -8.32285762e-01],\n",
       "       [ 1.03228629e+00,  5.35459280e-01],\n",
       "       [-4.98139858e-02, -1.01518309e+00],\n",
       "       [ 1.03228629e+00,  5.35459280e-01],\n",
       "       [ 4.42422986e-01, -8.20289850e-02],\n",
       "       [ 1.03228629e+00,  5.35459280e-01],\n",
       "       [ 9.92205977e-01,  4.76251572e-01],\n",
       "       [-8.93403292e-01, -9.53266978e-01],\n",
       "       [ 1.03228629e+00,  5.35459280e-01],\n",
       "       [ 8.05694938e-01,  1.06112385e+00],\n",
       "       [ 3.87816310e-01,  5.20556569e-02],\n",
       "       [ 4.80243683e-01,  4.22787815e-01],\n",
       "       [ 6.78309679e-01,  6.15674555e-01],\n",
       "       [ 1.03228629e+00,  5.35459280e-01],\n",
       "       [ 7.64402509e-01,  1.58436865e-01],\n",
       "       [-3.56739759e-02, -2.71022916e-01],\n",
       "       [ 6.25436187e-01,  1.47930217e+00],\n",
       "       [ 1.03228629e+00,  5.35459280e-01],\n",
       "       [ 8.16852748e-01,  1.03523898e+00],\n",
       "       [ 6.68128729e-01,  1.38026094e+00],\n",
       "       [-2.61644363e+00, -4.45620537e+00],\n",
       "       [ 1.03228629e+00,  5.35459280e-01],\n",
       "       [ 1.03228629e+00,  5.35459280e-01],\n",
       "       [ 5.30107617e-02, -4.64724422e-01],\n",
       "       [ 1.03228629e+00,  5.35459280e-01],\n",
       "       [ 6.97914720e-01,  1.31116104e+00],\n",
       "       [ 7.88954616e-01,  2.01971829e-01],\n",
       "       [ 8.18557024e-01,  2.46053427e-01],\n",
       "       [-1.08291066e+00, -2.11672616e+00],\n",
       "       [-2.18198299e+00, -3.70046592e+00],\n",
       "       [ 1.03228629e+00,  5.35459280e-01],\n",
       "       [-8.58093381e-01, -6.99944258e-01],\n",
       "       [ 9.17212009e-01,  4.31874275e-01],\n",
       "       [ 9.04101193e-01,  8.32833171e-01],\n",
       "       [ 1.03228629e+00,  5.35459280e-01],\n",
       "       [ 1.03228629e+00,  5.35459280e-01],\n",
       "       [ 8.17212939e-01,  1.03440344e+00],\n",
       "       [ 1.03228629e+00,  5.35459280e-01],\n",
       "       [ 4.49239314e-01, -1.01177096e-02],\n",
       "       [-2.22508550e-01, -4.20163095e-01],\n",
       "       [ 8.17344189e-01,  4.18621302e-01],\n",
       "       [ 1.01013136e+00,  5.86855948e-01],\n",
       "       [ 9.55326438e-01,  7.13996887e-01],\n",
       "       [ 5.03693342e-01, -1.61099434e-03],\n",
       "       [-3.02454829e-01, -6.02103472e-01],\n",
       "       [ 7.27258861e-01,  1.90067232e-01],\n",
       "       [ 1.03228629e+00,  5.35459280e-01],\n",
       "       [ 1.03228629e+00,  5.35459280e-01],\n",
       "       [ 7.52306461e-01,  1.18497872e+00],\n",
       "       [ 1.03228629e+00,  5.35459280e-01],\n",
       "       [ 4.66703713e-01,  1.02055371e-01],\n",
       "       [ 5.92727065e-01,  1.20990634e+00],\n",
       "       [ 8.48351121e-01,  9.62166548e-01],\n",
       "       [ 1.01502335e+00,  5.75507104e-01],\n",
       "       [ 1.03228629e+00,  5.35459280e-01],\n",
       "       [ 1.03228629e+00,  5.35459280e-01],\n",
       "       [ 3.71983409e-01,  1.11121476e+00],\n",
       "       [ 1.03228629e+00,  5.35459280e-01],\n",
       "       [ 1.03228629e+00,  5.35459280e-01],\n",
       "       [ 1.03228629e+00,  5.35459280e-01],\n",
       "       [-5.36210537e-01, -1.68642020e+00],\n",
       "       [ 2.28646159e-01, -2.11658478e-02],\n",
       "       [-3.62407804e-01, -9.86265898e-01],\n",
       "       [ 1.01521647e+00,  5.12345433e-01],\n",
       "       [ 1.03228629e+00,  5.35459280e-01],\n",
       "       [ 8.84412825e-01,  8.78507853e-01],\n",
       "       [ 9.42957163e-01,  7.42692113e-01],\n",
       "       [ 6.20485067e-01,  5.39492369e-02],\n",
       "       [ 1.03228629e+00,  5.35459280e-01],\n",
       "       [ 4.40007269e-01, -6.68511391e-02],\n",
       "       [-1.59377372e+00, -2.24657893e+00],\n",
       "       [ 9.71865535e-01,  6.75628185e-01],\n",
       "       [ 9.35056329e-01,  7.61021018e-01],\n",
       "       [ 1.03228629e+00,  5.35459280e-01],\n",
       "       [ 7.51607955e-01,  1.18659902e+00],\n",
       "       [ 9.94255900e-01,  6.23685122e-01],\n",
       "       [ 1.60260975e-01,  2.55845261e+00],\n",
       "       [ 1.03228629e+00,  5.35459280e-01],\n",
       "       [ 2.88890421e-01, -2.28671968e-01],\n",
       "       [ 9.32899415e-01,  7.66024768e-01],\n",
       "       [ 7.17303276e-01,  1.26618183e+00],\n",
       "       [ 2.47703910e-01, -5.66587448e-01],\n",
       "       [ 1.03228629e+00,  5.35459280e-01],\n",
       "       [ 1.03228629e+00,  5.35459280e-01],\n",
       "       [ 8.64466429e-02,  2.96573877e-01],\n",
       "       [ 1.03228629e+00,  5.35459280e-01],\n",
       "       [ 9.88452435e-01,  6.37148499e-01],\n",
       "       [ 1.03228629e+00,  5.35459280e-01],\n",
       "       [ 1.10857427e-01,  2.55478621e-02],\n",
       "       [ 1.00566185e+00,  5.97224891e-01]], dtype=float32)"
      ]
     },
     "execution_count": 69,
     "metadata": {},
     "output_type": "execute_result"
    }
   ],
   "source": [
    "model.predict(x_test.to_numpy())"
   ]
  },
  {
   "cell_type": "code",
   "execution_count": 44,
   "metadata": {},
   "outputs": [],
   "source": [
    "def fit_xgboost_with_grid_search(X_train, y_train):\n",
    "\n",
    "    # Create gradient boosting object\n",
    "    xgbr = XGBRegressor(verbosity=1, max_depth=10, reg_lambda=1) \n",
    "    \n",
    "    # Grid search \n",
    "    parameters = {'max_depth':[1,2,4], 'reg_lambda':[4, 8, 16,  20], 'min_child_weight':[6,  12, 25, 30]}\n",
    "    clf = GridSearchCV(xgbr, parameters, scoring='neg_mean_squared_error', n_jobs=4, iid=False, cv=5)\n",
    "    clf.fit(X_train, y_train)\n",
    "    \n",
    "    print(\"Best parameters for XGBoost: \" + str(clf.best_params_))\n",
    "            \n",
    "    return clf"
   ]
  },
  {
   "cell_type": "code",
   "execution_count": 45,
   "metadata": {},
   "outputs": [
    {
     "name": "stdout",
     "output_type": "stream",
     "text": [
      "Best parameters for XGBoost: {'max_depth': 2, 'min_child_weight': 6, 'reg_lambda': 4}\n"
     ]
    },
    {
     "data": {
      "text/plain": [
       "-1.4355690593672894"
      ]
     },
     "execution_count": 45,
     "metadata": {},
     "output_type": "execute_result"
    }
   ],
   "source": [
    "rdf = fit_xgboost_with_grid_search(x_train, y_train.to_numpy()[:,0])\n",
    "rdf.best_score_"
   ]
  },
  {
   "cell_type": "code",
   "execution_count": 46,
   "metadata": {},
   "outputs": [
    {
     "data": {
      "text/plain": [
       "2.1016905252985283"
      ]
     },
     "execution_count": 46,
     "metadata": {},
     "output_type": "execute_result"
    }
   ],
   "source": [
    "sklearn.metrics.mean_squared_error(rdf.predict(x_test), y_test.to_numpy()[:,0])"
   ]
  },
  {
   "cell_type": "code",
   "execution_count": 47,
   "metadata": {},
   "outputs": [
    {
     "name": "stdout",
     "output_type": "stream",
     "text": [
      "Best parameters for XGBoost: {'max_depth': 1, 'min_child_weight': 30, 'reg_lambda': 20}\n"
     ]
    },
    {
     "data": {
      "text/plain": [
       "-1.5470889671844368"
      ]
     },
     "execution_count": 47,
     "metadata": {},
     "output_type": "execute_result"
    }
   ],
   "source": [
    "rdf = fit_xgboost_with_grid_search(x_train, y_train.to_numpy()[:,1])\n",
    "rdf.best_score_"
   ]
  },
  {
   "cell_type": "code",
   "execution_count": 48,
   "metadata": {},
   "outputs": [
    {
     "data": {
      "text/plain": [
       "1.8034752258857152"
      ]
     },
     "execution_count": 48,
     "metadata": {},
     "output_type": "execute_result"
    }
   ],
   "source": [
    "sklearn.metrics.mean_squared_error(rdf.predict(x_test), y_test.to_numpy()[:,1])"
   ]
  },
  {
   "cell_type": "code",
   "execution_count": 49,
   "metadata": {},
   "outputs": [
    {
     "name": "stderr",
     "output_type": "stream",
     "text": [
      "/usr/local/lib/python3.7/site-packages/sklearn/model_selection/_search.py:814: DeprecationWarning: The default of the `iid` parameter will change from True to False in version 0.22 and will be removed in 0.24. This will change numeric results when test-set sizes are unequal.\n",
      "  DeprecationWarning)\n"
     ]
    },
    {
     "data": {
      "text/plain": [
       "-1.3367770569691524"
      ]
     },
     "execution_count": 49,
     "metadata": {},
     "output_type": "execute_result"
    }
   ],
   "source": [
    "from sklearn import svm\n",
    "svr= svm.SVR()\n",
    "parameters = {'kernel' : ( 'rbf' ,  'sigmoid' ), 'C':[0.1, 1,10,100], 'gamma':['auto']}\n",
    "clf = GridSearchCV(svr, parameters ,cv =5, scoring='neg_mean_squared_error')\n",
    "clf.fit(x_train , y_train.to_numpy()[:,0])\n",
    "clf.best_score_"
   ]
  },
  {
   "cell_type": "code",
   "execution_count": 50,
   "metadata": {},
   "outputs": [
    {
     "data": {
      "text/plain": [
       "1.2618694690052206"
      ]
     },
     "execution_count": 50,
     "metadata": {},
     "output_type": "execute_result"
    }
   ],
   "source": [
    "sklearn.metrics.mean_squared_error(clf.predict(x_test.to_numpy()), y_test.to_numpy()[:,0])"
   ]
  },
  {
   "cell_type": "code",
   "execution_count": 51,
   "metadata": {},
   "outputs": [
    {
     "name": "stderr",
     "output_type": "stream",
     "text": [
      "/usr/local/lib/python3.7/site-packages/sklearn/model_selection/_search.py:814: DeprecationWarning: The default of the `iid` parameter will change from True to False in version 0.22 and will be removed in 0.24. This will change numeric results when test-set sizes are unequal.\n",
      "  DeprecationWarning)\n"
     ]
    },
    {
     "data": {
      "text/plain": [
       "-1.3992035558888072"
      ]
     },
     "execution_count": 51,
     "metadata": {},
     "output_type": "execute_result"
    }
   ],
   "source": [
    "from sklearn import svm\n",
    "svr= svm.SVR()\n",
    "parameters = {'kernel' : ( 'rbf' ,  'sigmoid' ), 'C':[0.1, 1,10,100], 'gamma':['auto']}\n",
    "clf = GridSearchCV(svr, parameters ,cv =5, scoring='neg_mean_squared_error')\n",
    "clf.fit(x_train , y_train.to_numpy()[:,1])\n",
    "clf.best_score_"
   ]
  },
  {
   "cell_type": "code",
   "execution_count": 52,
   "metadata": {},
   "outputs": [
    {
     "data": {
      "text/plain": [
       "1.5273206456753292"
      ]
     },
     "execution_count": 52,
     "metadata": {},
     "output_type": "execute_result"
    }
   ],
   "source": [
    "sklearn.metrics.mean_squared_error(clf.predict(x_test.to_numpy()), y_test.to_numpy()[:,1])"
   ]
  },
  {
   "cell_type": "code",
   "execution_count": null,
   "metadata": {},
   "outputs": [],
   "source": []
  }
 ],
 "metadata": {
  "kernelspec": {
   "display_name": "Python 3",
   "language": "python",
   "name": "python3"
  },
  "language_info": {
   "codemirror_mode": {
    "name": "ipython",
    "version": 3
   },
   "file_extension": ".py",
   "mimetype": "text/x-python",
   "name": "python",
   "nbconvert_exporter": "python",
   "pygments_lexer": "ipython3",
   "version": "3.7.6"
  }
 },
 "nbformat": 4,
 "nbformat_minor": 4
}
