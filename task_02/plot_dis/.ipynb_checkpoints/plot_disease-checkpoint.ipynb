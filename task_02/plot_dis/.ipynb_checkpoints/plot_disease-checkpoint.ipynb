{
 "cells": [
  {
   "cell_type": "code",
   "execution_count": 1,
   "metadata": {},
   "outputs": [
    {
     "name": "stdout",
     "output_type": "stream",
     "text": [
      "/Users/pldelacour/Documents/PL_Ecole/data_sc_lab/data_sc_lab/task_01/pipelines\n"
     ]
    }
   ],
   "source": [
    "cd ../../task_01/pipelines"
   ]
  },
  {
   "cell_type": "code",
   "execution_count": 2,
   "metadata": {},
   "outputs": [
    {
     "name": "stderr",
     "output_type": "stream",
     "text": [
      "/Users/pldelacour/anaconda3/lib/python3.7/site-packages/sklearn/utils/deprecation.py:144: FutureWarning: The sklearn.metrics.classification module is  deprecated in version 0.22 and will be removed in version 0.24. The corresponding classes / functions should instead be imported from sklearn.metrics. Anything that cannot be imported from sklearn.metrics is now part of the private API.\n",
      "  warnings.warn(message, FutureWarning)\n",
      "Using TensorFlow backend.\n"
     ]
    }
   ],
   "source": [
    "import numpy as np\n",
    "import pandas as pd\n",
    "import matplotlib.pyplot as plt\n",
    "from ipynb.fs.full.tool_functions import *\n",
    "from yellowbrick.regressor import AlphaSelection\n",
    "from  sklearn.metrics import mean_squared_error"
   ]
  },
  {
   "cell_type": "code",
   "execution_count": 3,
   "metadata": {
    "scrolled": true
   },
   "outputs": [
    {
     "name": "stderr",
     "output_type": "stream",
     "text": [
      "/Users/pldelacour/anaconda3/lib/python3.7/site-packages/IPython/core/interactiveshell.py:3020: DtypeWarning: Columns (66,68,80,81,82,83,84,95,96,97,98,99,110,111,112,113,114,125,126,127,128,129,140,141,142,144,155,156,157,159,932,933,934,935,936,937,938,939,940,941,942,943,944,945,946,947,948,949,950,951,952,953,954,955,956,957,958,959,960,961,962,963,964,965,966,967,968,969,970,971,972,973,974,975,976,977,978,979,980,981,982,983,984,985,986,987,988,989,990,991,992,993,994,995,996,997,998,999,1000,1001,1002,1003,1004,1005,1006,1007,1008,1009,1010,1011,1012,1013,1014,1015,1016,1017,1018,1019,1020,1021,1022,1023,1024,1025,1026,1027,1028,1029,1030,1031,1032,1033,1034,1035,1036,1037,1038,1039,1040,1041,1042,1043,1044,1045,1046,1047,1048,1049,1050,1051,1052,1053,1054,1055,1056,1057,1058,1059,1060,1061,1062,1063,1064,1065,1066,1067,1068,1069,1070,1071,1072,1073,1074,1075,1076,1077,1078,1079,1080,1081,1082,1083,1084,1085,1086,1087,1088,1089,1090,1091,1092,1093,1094,1095,1096,1097,1098,1099,1100,1101,1102,1103,1104,1105,1106,1107,1108,1109,1110,1111,1112,1113,1114,1115,1116,1117,1118,1119,1120,1121,1122,1123,1124,1125,1126,1127,1128,1129,1130,1131,1132,1133,1134,1135,1136,1137,1138,1139,1140,1141,1142,1143,1144,1145,1146,1147,1148,1149,1150,1151,1152,1153,1154,1155,1156,1157,1158,1159,1160,1161,1162,1163,1164,1165,1166,1167,1168,1169,1170,1171,1172,1173,1174,1175,1176,1177,1178,1179,1180,1181,1182,1183,1184,1185,1186,1187,1188,1189,1190,1191,1192,1193,1194,1195,1196,1197,1198,1199,1200,1201,1202,1203,1204,1205,1206,1207,1208,1209,1210,1211,1212,1213,1214,1215,1216,1217,1218,1219,1220,1221,1222,1223,1224,1225,1226,1227,1228,1229,1230,1231,1232,1233,1234,1235,1236,1237,1238,1239,1240,1241,1242,1243,1244,1245,1246,1247,1248,1249,1250,1251,1252,1253,1254,1255,1256,1257,1258,1259,1260,1261,1262,1263,1264,1265,1266,1267,1268,1269,1270,1271,1272,1273,1274,1275,1276,1277,1278,1279,1280,1281,1282,1283,1284,1285,1286,1287,1288,1289,1290,1291,1292,1293,1294,1295,1296,1297,1298,1299,1300,1301,1302,1303,1304,1305,1306,1307,1308,1309,1310,1311,1312,1313,1314,1315,1316,1317,1318,1319,1320,1321,1322,1323,1324,1325,1326,1327,1328,1329,1330,1331,1332,1333,1334,1335,1336,1337,1338,1339,1340,1341,1342,1343,1344,1345,1346,1347,1348,1349,1350,1351,1352,1353,1354,1355,1356,1357,1358,1359,1360,1361,1362,1363,1364,1365,1366,1367,1368,1369,1370,1371,1372,1373,1374,1375,1376,1377,1378,1379,1380,1381,1384,1385,1387,1390,1391,1393,1396,1397,1399,1402,1403,1405,1408,1409,1411,1414,1415,1417,1420,1421,1423,1426,1427,1429,1432,1433,1435,1438,1439,1441,1444,1445,1447,1450,1451,1453,1456,1457,1459,1462,1463,1465,1468,1469,1471,1474,1475,1477,1480,1481,1483,1486,1487,1489,1492,1493,1495,1498,1499,1501,1504,1505,1507,1510,1511,1513,1516,1517,1519,1522,1523,1525,1528,1529,1531,1534,1535,1537,1540,1541,1543,1546,1547,1549,1552,1553,1555,1558,1559,1561,1564,1565,1567,1570,1571,1573,1576,1577,1579,1582,1583,1585,1588,1589,1591,1594,1595,1597,1600,1601,1603,1606,1607,1609,1612,1613,1615,1618,1619,1621,1624,1625,1627,1630,1631,1633,1636,1637,1639,1642,1643,1645,1648,1649,1651,1654,1655,1657,1660,1661,1663,1666,1667,1669,1672,1673,1675,1678,1679,1681,1684,1685,1687,1690,1691,1693,1696,1697,1699,1702,1703,1705,1708,1709,1711,1714,1715,1717,1720,1721,1723,1726,1727,1729,1732,1733,1735,1738,1739,1741,1744,1745,1747,1750,1751,1753,1756,1757,1759,1762,1763,1765,1768,1769,1771,1774,1775,1777,1780,1781,1783,1786,1787,1789,1792,1793,1795,1798,1799,1801,1804,1805,1807,1810,1811,1813,1816,1817,1819,1822,1823,1825,1828,1829,1831,1834,1835,1837,1840,1841,1843,1846,1847,1849,1852,1853,1855,1858,1859,1861,1882,1883,1884,1917,1918,1919,1952,1953,1954,1955,1987,1988,1989,1990,2022,2023,2024,2025,2026,2057,2058,2059,2060,2061,2092,2093,2094,2095,2096,2097,2127,2128,2129,2130,2131,2132,2162,2163,2164,2165,2166,2167,2168,2197,2198,2199,2200,2201,2202,2203,2232,2233,2234,2235,2236,2237,2238,2239,2267,2268,2269,2270,2271,2272,2273,2274,2302,2303,2304,2305,2306,2307,2308,2309,2337,2338,2339,2340,2341,2342,2343,2344,2477,2478,2479,2512,2513,2514,2547,2548,2549,2550,2582,2583,2584,2585,2617,2618,2619,2620,2621,2652,2653,2654,2655,2656,2687,2688,2689,2690,2691,2692,2722,2723,2724,2725,2726,2727,2757,2758,2759,2760,2761,2762,2763,2792,2793,2794,2795,2796,2797,2798,2827,2828,2829,2830,2831,2832,2833,2834,2862,2863,2864,2865,2866,2867,2868,2869,2897,2898,2899,2900,2901,2902,2903,2904,2932,2933,2934,2935,2936,2937,2938,2939,3819,3826,3866,3933,4037,4055,4059,4063,4067,4071,4075,4079,4084,4085,4086,4087,4088,4091,4092,4094,4095,4096,4608,4616,4648,4649,4664,4665,4667,4683,4690,4691,4692,4693,4739,4800,5002,5010,5018,5026,5042,5240,5282,5386,5433,5443,5463,5466,5467,5468,5470,5478,5479,5481,5482,5483,5484,5485,5486,5487,5488,5489,5490,5491,5492,5495,5499,5503,5507,5511,5515,5517,5518,5519,5520,5521,5522,5523,5524,5532,5535,5536,5537,5539,5540,5548,5549,5551,5552,5553,5554,5555,5556,5557,5558,5559,5560,5561,5562,5565,5569,5573,5577,5581,5586,5587,5588,5589,5590,5591,5592,5593,5594,5601,5604,5605,5606,5608,5616,5617,5619,5620,5621,5622,5623,5624,5625,5626,5627,5628,5629,5630,5633,5636,5637,5638,5640,5648,5649,5651,5652,5653,5654,5655,5656,5657,5658,5659,5660,5661,5662,5665,5668,5669,5670,5672,5680,5681,5683,5684,5685,5686,5687,5688,5689,5690,5691,5692,5693,5694,5697,5700,5701,5702,5704,5712,5713,5715,5716,5717,5718,5719,5720,5721,5722,5723,5724,5725,5726,5729,5732,5733,5734,5736,5744,5745,5747,5748,5749,5750,5751,5752,5753,5754,5755,5756,5757,5758,5759,5760,5761,5762,5763,5764,5768,5772,5776,5780,5784,5788,5792,5796,5800,5804,5808,5812,5816,5820,5869,5877,5881,5885,5889,5893,5897,6538,6539,6540,6541,6542,6555,6556,6557,6558,6559,6572,6573,6574,6575,6576,6589,6590,6591,6592,6593,6606,6607,6608,6609,6610,6623,6624,6625,6626,6627,6636,6644,6650,6653,6682,6701,6738,6768) have mixed types.Specify dtype option on import or set low_memory=False.\n",
      "  interactivity=interactivity, compiler=compiler, result=result)\n"
     ]
    }
   ],
   "source": [
    "df_beha = pd.read_csv('../../../data/Behavioral/AllData.csv')#, nrows=1000)\n",
    "\n",
    "df_psd_cluster = pd.read_csv(\"../../../data/EEG/RestingEEG_PSD_Cluster.csv\") #, nrows=1000)\n",
    "df_psd_channel = pd.read_csv(\"../../../data/EEG/RestingEEG_PSD_Channel.csv\") #, nrows=5)\n",
    "df_spectro_cluster = pd.read_csv(\"../../../data/EEG/RestingEEG_Spectro_Cluster.csv\") #, nrows=1000)\n",
    "df_spectro_channel = pd.read_csv(\"../../../data/EEG/RestingEEG_Spectro_Channel.csv\") #, nrows=5)\n",
    "\n",
    "df_microstate = pd.read_csv(\"../../../data/EEG/RestingEEG_Microstates.csv\") #, nrows=5)"
   ]
  },
  {
   "cell_type": "code",
   "execution_count": 4,
   "metadata": {
    "scrolled": false
   },
   "outputs": [
    {
     "data": {
      "text/plain": [
       "'\\n \\ndisease = df_beha[\\'DX_01\\'].unique()\\nfor i in df_beha[\\'DX_01\\']: \\n    print(i)\\n\"Gen\" in disease[0]\\nfor i in disease :\\n    if(isinstance(i, str) ): \\n        if(\"Aut\" in i):\\n            print(i)\\n\\n\"Autism Spectrum Disorder\"\\n'"
      ]
     },
     "execution_count": 4,
     "metadata": {},
     "output_type": "execute_result"
    }
   ],
   "source": [
    "'''\n",
    " \n",
    "disease = df_beha['DX_01'].unique()\n",
    "for i in df_beha['DX_01']: \n",
    "    print(i)\n",
    "\"Gen\" in disease[0]\n",
    "for i in disease :\n",
    "    if(isinstance(i, str) ): \n",
    "        if(\"Aut\" in i):\n",
    "            print(i)\n",
    "\n",
    "\"Autism Spectrum Disorder\"\n",
    "'''"
   ]
  },
  {
   "cell_type": "code",
   "execution_count": 5,
   "metadata": {},
   "outputs": [],
   "source": [
    "disease = df_beha['DX_01'].unique()\n",
    "y_labels = df_beha[[\"Patient_ID\", \"Age\", \"DX_01\"]]\n",
    "aut_bin = (df_beha['DX_01'].str.contains(\"Autism Spectrum Disorder\") == True)*1.0\n",
    "df_beha['autism'] = aut_bin"
   ]
  },
  {
   "cell_type": "code",
   "execution_count": 6,
   "metadata": {},
   "outputs": [
    {
     "data": {
      "text/plain": [
       "0"
      ]
     },
     "execution_count": 6,
     "metadata": {},
     "output_type": "execute_result"
    }
   ],
   "source": [
    "np.sum(df_beha['DX_01'].str.contains('nan') == True)"
   ]
  },
  {
   "cell_type": "code",
   "execution_count": 7,
   "metadata": {},
   "outputs": [],
   "source": [
    "#for i in disease :\n",
    "#    print(i)"
   ]
  },
  {
   "cell_type": "code",
   "execution_count": 8,
   "metadata": {},
   "outputs": [
    {
     "name": "stdout",
     "output_type": "stream",
     "text": [
      "# autism =  164\n",
      "# of non autism = 1932\n"
     ]
    }
   ],
   "source": [
    "aut = np.count_nonzero(df_beha.autism)\n",
    "not_aut = len(df_beha.autism) - aut\n",
    "print(\"# autism = \" , aut)\n",
    "print(\"# of non autism =\" , not_aut)"
   ]
  },
  {
   "cell_type": "code",
   "execution_count": 9,
   "metadata": {
    "scrolled": false
   },
   "outputs": [
    {
     "data": {
      "text/html": [
       "<div>\n",
       "<style scoped>\n",
       "    .dataframe tbody tr th:only-of-type {\n",
       "        vertical-align: middle;\n",
       "    }\n",
       "\n",
       "    .dataframe tbody tr th {\n",
       "        vertical-align: top;\n",
       "    }\n",
       "\n",
       "    .dataframe thead th {\n",
       "        text-align: right;\n",
       "    }\n",
       "</style>\n",
       "<table border=\"1\" class=\"dataframe\">\n",
       "  <thead>\n",
       "    <tr style=\"text-align: right;\">\n",
       "      <th></th>\n",
       "      <th>Patient_ID</th>\n",
       "      <th>Age</th>\n",
       "      <th>autism</th>\n",
       "    </tr>\n",
       "  </thead>\n",
       "  <tbody>\n",
       "    <tr>\n",
       "      <th>0</th>\n",
       "      <td>NDARYM832PX3</td>\n",
       "      <td>7.048254</td>\n",
       "      <td>0.0</td>\n",
       "    </tr>\n",
       "    <tr>\n",
       "      <th>1</th>\n",
       "      <td>NDARNJ687DMC</td>\n",
       "      <td>6.348163</td>\n",
       "      <td>0.0</td>\n",
       "    </tr>\n",
       "    <tr>\n",
       "      <th>2</th>\n",
       "      <td>NDARRM363BXZ</td>\n",
       "      <td>10.052589</td>\n",
       "      <td>0.0</td>\n",
       "    </tr>\n",
       "    <tr>\n",
       "      <th>3</th>\n",
       "      <td>NDARUW586LLL</td>\n",
       "      <td>12.319415</td>\n",
       "      <td>0.0</td>\n",
       "    </tr>\n",
       "    <tr>\n",
       "      <th>4</th>\n",
       "      <td>NDARDC298NW4</td>\n",
       "      <td>13.901437</td>\n",
       "      <td>0.0</td>\n",
       "    </tr>\n",
       "    <tr>\n",
       "      <th>...</th>\n",
       "      <td>...</td>\n",
       "      <td>...</td>\n",
       "      <td>...</td>\n",
       "    </tr>\n",
       "    <tr>\n",
       "      <th>2091</th>\n",
       "      <td>NDARYZ986HEW</td>\n",
       "      <td>7.563084</td>\n",
       "      <td>0.0</td>\n",
       "    </tr>\n",
       "    <tr>\n",
       "      <th>2092</th>\n",
       "      <td>NDARPM572ZZV</td>\n",
       "      <td>9.832762</td>\n",
       "      <td>0.0</td>\n",
       "    </tr>\n",
       "    <tr>\n",
       "      <th>2093</th>\n",
       "      <td>NDARYA955CY1</td>\n",
       "      <td>15.357859</td>\n",
       "      <td>0.0</td>\n",
       "    </tr>\n",
       "    <tr>\n",
       "      <th>2094</th>\n",
       "      <td>NDARRT283RHB</td>\n",
       "      <td>10.712069</td>\n",
       "      <td>0.0</td>\n",
       "    </tr>\n",
       "    <tr>\n",
       "      <th>2095</th>\n",
       "      <td>NDARYG879ZM4</td>\n",
       "      <td>13.701346</td>\n",
       "      <td>0.0</td>\n",
       "    </tr>\n",
       "  </tbody>\n",
       "</table>\n",
       "<p>2096 rows × 3 columns</p>\n",
       "</div>"
      ],
      "text/plain": [
       "        Patient_ID        Age  autism\n",
       "0     NDARYM832PX3   7.048254     0.0\n",
       "1     NDARNJ687DMC   6.348163     0.0\n",
       "2     NDARRM363BXZ  10.052589     0.0\n",
       "3     NDARUW586LLL  12.319415     0.0\n",
       "4     NDARDC298NW4  13.901437     0.0\n",
       "...            ...        ...     ...\n",
       "2091  NDARYZ986HEW   7.563084     0.0\n",
       "2092  NDARPM572ZZV   9.832762     0.0\n",
       "2093  NDARYA955CY1  15.357859     0.0\n",
       "2094  NDARRT283RHB  10.712069     0.0\n",
       "2095  NDARYG879ZM4  13.701346     0.0\n",
       "\n",
       "[2096 rows x 3 columns]"
      ]
     },
     "execution_count": 9,
     "metadata": {},
     "output_type": "execute_result"
    }
   ],
   "source": [
    "# Extract relevant info from the Behavioral data \n",
    "y_labels = df_beha[[\"Patient_ID\", \"Age\", \"autism\"]]\n",
    "#y_labels_healthy = y_labels[y_labels[\"DX_01\"].str.contains(\"Autism Spectrum Disorder\") == True]\n",
    "\n",
    "#y_labels = y_labels[[\"Patient_ID\", \"Age\"]]\n",
    "#y_labels_healthy = y_labels_healthy[[\"Patient_ID\", \"Age\"]]\n",
    "#y_labels_healthy\n",
    "y_labels"
   ]
  },
  {
   "cell_type": "code",
   "execution_count": 19,
   "metadata": {},
   "outputs": [
    {
     "name": "stdout",
     "output_type": "stream",
     "text": [
      "/Users/pldelacour/Documents/PL_Ecole/data_sc_lab/data_sc_lab/task_01/age_residuals/images\n"
     ]
    }
   ],
   "source": [
    "cd ../age_residuals/images"
   ]
  },
  {
   "cell_type": "code",
   "execution_count": 20,
   "metadata": {
    "scrolled": true
   },
   "outputs": [
    {
     "data": {
      "image/png": "[encoded data removed]",
      "text/plain": [
       "<Figure size 432x288 with 1 Axes>"
      ]
     },
     "metadata": {
      "needs_background": "light"
     },
     "output_type": "display_data"
    }
   ],
   "source": [
    "plt.hist(y_labels.Age , facecolor='b')\n",
    "#fig, ax = plt.subplots(constrained_layout=True)\n",
    "plt.title('Total Age Distribution')\n",
    "plt.xlabel('Age')\n",
    "plt.savefig('total_age_distrib.png')\n",
    "plt.show()"
   ]
  },
  {
   "cell_type": "code",
   "execution_count": 21,
   "metadata": {},
   "outputs": [
    {
     "name": "stdout",
     "output_type": "stream",
     "text": [
      "Original lengths: 1485(psd), 1485(spectro), 1108(micro)\n",
      "All people, resulting lengths: 1306(psd), 1306(spectro), 974(micro)\n",
      "Replace NaN by median, resulting lenghts: 1306(psd), 1306(spectro), 974(micro)\n"
     ]
    }
   ],
   "source": [
    "df_psd_cluster.rename(columns={'id': 'Patient_ID'}, inplace=True)\n",
    "df_spectro_cluster.rename(columns={'id': 'Patient_ID'}, inplace=True)\n",
    "df_microstate.rename(columns={'id': 'Patient_ID'}, inplace=True)\n",
    "print(\"Original lengths: \" + str(len(df_psd_cluster)) + \"(psd), \" + \\\n",
    "     str(len(df_spectro_cluster)) + \"(spectro), \" + str(len(df_microstate)) + \"(micro)\")\n",
    "\n",
    "# Aggregate with label\n",
    "df_label_psd_cluster = pd.merge(y_labels, df_psd_cluster, on='Patient_ID')\n",
    "df_label_spectro_cluster = pd.merge(y_labels, df_spectro_cluster, on='Patient_ID')\n",
    "df_label_microstate = pd.merge(y_labels, df_microstate, on='Patient_ID')\n",
    "print(\"All people, resulting lengths: \" + str(len(df_label_psd_cluster)) + \"(psd), \" + \\\n",
    "     str(len(df_label_spectro_cluster)) + \"(spectro), \" + str(len(df_label_microstate)) + \"(micro)\")\n",
    "\n",
    "# Drop NaN values\n",
    "df_label_psd_cluster = fill_with_median(df_label_psd_cluster)\n",
    "df_label_spectro_cluster = fill_with_median(df_label_spectro_cluster)\n",
    "df_label_microstate = fill_with_median(df_label_microstate)\n",
    "print(\"Replace NaN by median, resulting lenghts: \" + str(len(df_label_psd_cluster)) + \"(psd), \" + \\\n",
    "     str(len(df_label_spectro_cluster)) + \"(spectro), \" + str(len(df_label_microstate)) + \"(micro)\")"
   ]
  },
  {
   "cell_type": "code",
   "execution_count": 22,
   "metadata": {
    "scrolled": true
   },
   "outputs": [
    {
     "data": {
      "text/html": [
       "<div>\n",
       "<style scoped>\n",
       "    .dataframe tbody tr th:only-of-type {\n",
       "        vertical-align: middle;\n",
       "    }\n",
       "\n",
       "    .dataframe tbody tr th {\n",
       "        vertical-align: top;\n",
       "    }\n",
       "\n",
       "    .dataframe thead th {\n",
       "        text-align: right;\n",
       "    }\n",
       "</style>\n",
       "<table border=\"1\" class=\"dataframe\">\n",
       "  <thead>\n",
       "    <tr style=\"text-align: right;\">\n",
       "      <th></th>\n",
       "      <th>Patient_ID</th>\n",
       "      <th>Age</th>\n",
       "      <th>autism</th>\n",
       "      <th>eyesclosed_fband_delta_absmean_lfront</th>\n",
       "      <th>eyesclosed_fband_delta_absmean_mfront</th>\n",
       "      <th>eyesclosed_fband_delta_absmean_rfront</th>\n",
       "      <th>eyesclosed_fband_delta_absmean_lpari</th>\n",
       "      <th>eyesclosed_fband_delta_absmean_mpari</th>\n",
       "      <th>eyesclosed_fband_delta_absmean_rpari</th>\n",
       "      <th>eyesclosed_fband_delta_relmean_lfront</th>\n",
       "      <th>...</th>\n",
       "      <th>eyesopen_fooof_peak_freq_rfront</th>\n",
       "      <th>eyesopen_fooof_peak_freq_lpari</th>\n",
       "      <th>eyesopen_fooof_peak_freq_mpari</th>\n",
       "      <th>eyesopen_fooof_peak_freq_rpari</th>\n",
       "      <th>eyesopen_fooof_peak_amplitude_lfront</th>\n",
       "      <th>eyesopen_fooof_peak_amplitude_mfront</th>\n",
       "      <th>eyesopen_fooof_peak_amplitude_rfront</th>\n",
       "      <th>eyesopen_fooof_peak_amplitude_lpari</th>\n",
       "      <th>eyesopen_fooof_peak_amplitude_mpari</th>\n",
       "      <th>eyesopen_fooof_peak_amplitude_rpari</th>\n",
       "    </tr>\n",
       "  </thead>\n",
       "  <tbody>\n",
       "    <tr>\n",
       "      <th>0</th>\n",
       "      <td>NDARFM080VAF</td>\n",
       "      <td>7.623203</td>\n",
       "      <td>0.0</td>\n",
       "      <td>7.519803</td>\n",
       "      <td>7.043891</td>\n",
       "      <td>6.528158</td>\n",
       "      <td>9.633529</td>\n",
       "      <td>9.989483</td>\n",
       "      <td>9.305804</td>\n",
       "      <td>9.598653</td>\n",
       "      <td>...</td>\n",
       "      <td>9.485781</td>\n",
       "      <td>9.441022</td>\n",
       "      <td>9.384172</td>\n",
       "      <td>9.425798</td>\n",
       "      <td>0.795549</td>\n",
       "      <td>0.876262</td>\n",
       "      <td>0.872379</td>\n",
       "      <td>0.989101</td>\n",
       "      <td>1.099981</td>\n",
       "      <td>0.915441</td>\n",
       "    </tr>\n",
       "    <tr>\n",
       "      <th>1</th>\n",
       "      <td>NDARVG148WHV</td>\n",
       "      <td>10.835158</td>\n",
       "      <td>0.0</td>\n",
       "      <td>2.346685</td>\n",
       "      <td>3.945786</td>\n",
       "      <td>2.962716</td>\n",
       "      <td>3.440606</td>\n",
       "      <td>3.565384</td>\n",
       "      <td>3.023286</td>\n",
       "      <td>10.968235</td>\n",
       "      <td>...</td>\n",
       "      <td>8.800915</td>\n",
       "      <td>8.510134</td>\n",
       "      <td>9.078390</td>\n",
       "      <td>14.741810</td>\n",
       "      <td>0.254701</td>\n",
       "      <td>0.351010</td>\n",
       "      <td>0.303875</td>\n",
       "      <td>0.234960</td>\n",
       "      <td>0.232564</td>\n",
       "      <td>0.344537</td>\n",
       "    </tr>\n",
       "    <tr>\n",
       "      <th>2</th>\n",
       "      <td>NDARUY876VL1</td>\n",
       "      <td>7.987451</td>\n",
       "      <td>0.0</td>\n",
       "      <td>1.281869</td>\n",
       "      <td>1.229748</td>\n",
       "      <td>1.905450</td>\n",
       "      <td>1.768091</td>\n",
       "      <td>1.484286</td>\n",
       "      <td>0.756394</td>\n",
       "      <td>13.132905</td>\n",
       "      <td>...</td>\n",
       "      <td>5.604535</td>\n",
       "      <td>5.602136</td>\n",
       "      <td>4.096616</td>\n",
       "      <td>5.084040</td>\n",
       "      <td>0.048655</td>\n",
       "      <td>0.233294</td>\n",
       "      <td>0.282735</td>\n",
       "      <td>0.256238</td>\n",
       "      <td>0.175123</td>\n",
       "      <td>0.304286</td>\n",
       "    </tr>\n",
       "    <tr>\n",
       "      <th>3</th>\n",
       "      <td>NDARYU323ZDJ</td>\n",
       "      <td>8.096851</td>\n",
       "      <td>0.0</td>\n",
       "      <td>3.109075</td>\n",
       "      <td>4.803264</td>\n",
       "      <td>2.873502</td>\n",
       "      <td>2.644382</td>\n",
       "      <td>3.884837</td>\n",
       "      <td>2.391569</td>\n",
       "      <td>9.931212</td>\n",
       "      <td>...</td>\n",
       "      <td>9.288451</td>\n",
       "      <td>6.651558</td>\n",
       "      <td>6.396867</td>\n",
       "      <td>10.291086</td>\n",
       "      <td>0.218827</td>\n",
       "      <td>0.313734</td>\n",
       "      <td>0.298905</td>\n",
       "      <td>0.178899</td>\n",
       "      <td>0.108880</td>\n",
       "      <td>0.449437</td>\n",
       "    </tr>\n",
       "    <tr>\n",
       "      <th>4</th>\n",
       "      <td>NDARYP516VUU</td>\n",
       "      <td>10.758156</td>\n",
       "      <td>0.0</td>\n",
       "      <td>3.736577</td>\n",
       "      <td>5.970049</td>\n",
       "      <td>3.462826</td>\n",
       "      <td>4.225793</td>\n",
       "      <td>6.973617</td>\n",
       "      <td>6.719936</td>\n",
       "      <td>5.615468</td>\n",
       "      <td>...</td>\n",
       "      <td>10.750797</td>\n",
       "      <td>10.401234</td>\n",
       "      <td>10.783732</td>\n",
       "      <td>11.046665</td>\n",
       "      <td>0.821805</td>\n",
       "      <td>0.784304</td>\n",
       "      <td>0.770845</td>\n",
       "      <td>0.914380</td>\n",
       "      <td>0.671399</td>\n",
       "      <td>1.004923</td>\n",
       "    </tr>\n",
       "    <tr>\n",
       "      <th>...</th>\n",
       "      <td>...</td>\n",
       "      <td>...</td>\n",
       "      <td>...</td>\n",
       "      <td>...</td>\n",
       "      <td>...</td>\n",
       "      <td>...</td>\n",
       "      <td>...</td>\n",
       "      <td>...</td>\n",
       "      <td>...</td>\n",
       "      <td>...</td>\n",
       "      <td>...</td>\n",
       "      <td>...</td>\n",
       "      <td>...</td>\n",
       "      <td>...</td>\n",
       "      <td>...</td>\n",
       "      <td>...</td>\n",
       "      <td>...</td>\n",
       "      <td>...</td>\n",
       "      <td>...</td>\n",
       "      <td>...</td>\n",
       "      <td>...</td>\n",
       "    </tr>\n",
       "    <tr>\n",
       "      <th>1301</th>\n",
       "      <td>NDARYM334BZ5</td>\n",
       "      <td>16.119438</td>\n",
       "      <td>0.0</td>\n",
       "      <td>3.743134</td>\n",
       "      <td>3.795633</td>\n",
       "      <td>3.286381</td>\n",
       "      <td>2.779438</td>\n",
       "      <td>3.539956</td>\n",
       "      <td>3.800533</td>\n",
       "      <td>8.565498</td>\n",
       "      <td>...</td>\n",
       "      <td>10.376962</td>\n",
       "      <td>10.707490</td>\n",
       "      <td>10.383040</td>\n",
       "      <td>10.343315</td>\n",
       "      <td>0.623514</td>\n",
       "      <td>0.582917</td>\n",
       "      <td>0.422394</td>\n",
       "      <td>0.615360</td>\n",
       "      <td>0.860283</td>\n",
       "      <td>0.945789</td>\n",
       "    </tr>\n",
       "    <tr>\n",
       "      <th>1302</th>\n",
       "      <td>NDARJJ817UP1</td>\n",
       "      <td>9.126397</td>\n",
       "      <td>0.0</td>\n",
       "      <td>5.029233</td>\n",
       "      <td>8.495798</td>\n",
       "      <td>8.156703</td>\n",
       "      <td>9.869929</td>\n",
       "      <td>10.167374</td>\n",
       "      <td>7.998537</td>\n",
       "      <td>12.309035</td>\n",
       "      <td>...</td>\n",
       "      <td>6.861198</td>\n",
       "      <td>8.796750</td>\n",
       "      <td>8.560897</td>\n",
       "      <td>8.794146</td>\n",
       "      <td>0.454742</td>\n",
       "      <td>0.134101</td>\n",
       "      <td>0.141704</td>\n",
       "      <td>0.403562</td>\n",
       "      <td>0.274933</td>\n",
       "      <td>0.342562</td>\n",
       "    </tr>\n",
       "    <tr>\n",
       "      <th>1303</th>\n",
       "      <td>NDARYZ986HEW</td>\n",
       "      <td>7.563084</td>\n",
       "      <td>0.0</td>\n",
       "      <td>2.830657</td>\n",
       "      <td>5.259391</td>\n",
       "      <td>6.724664</td>\n",
       "      <td>4.745513</td>\n",
       "      <td>5.885628</td>\n",
       "      <td>3.160138</td>\n",
       "      <td>13.388712</td>\n",
       "      <td>...</td>\n",
       "      <td>9.482208</td>\n",
       "      <td>7.101976</td>\n",
       "      <td>9.409898</td>\n",
       "      <td>9.301044</td>\n",
       "      <td>0.185029</td>\n",
       "      <td>0.165101</td>\n",
       "      <td>0.246363</td>\n",
       "      <td>0.120704</td>\n",
       "      <td>0.254212</td>\n",
       "      <td>0.271848</td>\n",
       "    </tr>\n",
       "    <tr>\n",
       "      <th>1304</th>\n",
       "      <td>NDARPM572ZZV</td>\n",
       "      <td>9.832762</td>\n",
       "      <td>0.0</td>\n",
       "      <td>3.465377</td>\n",
       "      <td>4.039687</td>\n",
       "      <td>2.988368</td>\n",
       "      <td>5.326977</td>\n",
       "      <td>6.712658</td>\n",
       "      <td>6.641600</td>\n",
       "      <td>9.232106</td>\n",
       "      <td>...</td>\n",
       "      <td>10.532135</td>\n",
       "      <td>10.375732</td>\n",
       "      <td>10.918782</td>\n",
       "      <td>10.700086</td>\n",
       "      <td>0.744570</td>\n",
       "      <td>0.505359</td>\n",
       "      <td>0.621831</td>\n",
       "      <td>0.722997</td>\n",
       "      <td>0.781605</td>\n",
       "      <td>0.793120</td>\n",
       "    </tr>\n",
       "    <tr>\n",
       "      <th>1305</th>\n",
       "      <td>NDARYA955CY1</td>\n",
       "      <td>15.357859</td>\n",
       "      <td>0.0</td>\n",
       "      <td>1.529557</td>\n",
       "      <td>2.013819</td>\n",
       "      <td>1.665785</td>\n",
       "      <td>1.214604</td>\n",
       "      <td>2.044015</td>\n",
       "      <td>2.670585</td>\n",
       "      <td>11.684998</td>\n",
       "      <td>...</td>\n",
       "      <td>6.367861</td>\n",
       "      <td>6.452035</td>\n",
       "      <td>3.165961</td>\n",
       "      <td>5.588555</td>\n",
       "      <td>0.043673</td>\n",
       "      <td>0.052826</td>\n",
       "      <td>0.070380</td>\n",
       "      <td>0.111639</td>\n",
       "      <td>0.103519</td>\n",
       "      <td>0.072111</td>\n",
       "    </tr>\n",
       "  </tbody>\n",
       "</table>\n",
       "<p>1306 rows × 303 columns</p>\n",
       "</div>"
      ],
      "text/plain": [
       "        Patient_ID        Age  autism  eyesclosed_fband_delta_absmean_lfront  \\\n",
       "0     NDARFM080VAF   7.623203     0.0                               7.519803   \n",
       "1     NDARVG148WHV  10.835158     0.0                               2.346685   \n",
       "2     NDARUY876VL1   7.987451     0.0                               1.281869   \n",
       "3     NDARYU323ZDJ   8.096851     0.0                               3.109075   \n",
       "4     NDARYP516VUU  10.758156     0.0                               3.736577   \n",
       "...            ...        ...     ...                                    ...   \n",
       "1301  NDARYM334BZ5  16.119438     0.0                               3.743134   \n",
       "1302  NDARJJ817UP1   9.126397     0.0                               5.029233   \n",
       "1303  NDARYZ986HEW   7.563084     0.0                               2.830657   \n",
       "1304  NDARPM572ZZV   9.832762     0.0                               3.465377   \n",
       "1305  NDARYA955CY1  15.357859     0.0                               1.529557   \n",
       "\n",
       "      eyesclosed_fband_delta_absmean_mfront  \\\n",
       "0                                  7.043891   \n",
       "1                                  3.945786   \n",
       "2                                  1.229748   \n",
       "3                                  4.803264   \n",
       "4                                  5.970049   \n",
       "...                                     ...   \n",
       "1301                               3.795633   \n",
       "1302                               8.495798   \n",
       "1303                               5.259391   \n",
       "1304                               4.039687   \n",
       "1305                               2.013819   \n",
       "\n",
       "      eyesclosed_fband_delta_absmean_rfront  \\\n",
       "0                                  6.528158   \n",
       "1                                  2.962716   \n",
       "2                                  1.905450   \n",
       "3                                  2.873502   \n",
       "4                                  3.462826   \n",
       "...                                     ...   \n",
       "1301                               3.286381   \n",
       "1302                               8.156703   \n",
       "1303                               6.724664   \n",
       "1304                               2.988368   \n",
       "1305                               1.665785   \n",
       "\n",
       "      eyesclosed_fband_delta_absmean_lpari  \\\n",
       "0                                 9.633529   \n",
       "1                                 3.440606   \n",
       "2                                 1.768091   \n",
       "3                                 2.644382   \n",
       "4                                 4.225793   \n",
       "...                                    ...   \n",
       "1301                              2.779438   \n",
       "1302                              9.869929   \n",
       "1303                              4.745513   \n",
       "1304                              5.326977   \n",
       "1305                              1.214604   \n",
       "\n",
       "      eyesclosed_fband_delta_absmean_mpari  \\\n",
       "0                                 9.989483   \n",
       "1                                 3.565384   \n",
       "2                                 1.484286   \n",
       "3                                 3.884837   \n",
       "4                                 6.973617   \n",
       "...                                    ...   \n",
       "1301                              3.539956   \n",
       "1302                             10.167374   \n",
       "1303                              5.885628   \n",
       "1304                              6.712658   \n",
       "1305                              2.044015   \n",
       "\n",
       "      eyesclosed_fband_delta_absmean_rpari  \\\n",
       "0                                 9.305804   \n",
       "1                                 3.023286   \n",
       "2                                 0.756394   \n",
       "3                                 2.391569   \n",
       "4                                 6.719936   \n",
       "...                                    ...   \n",
       "1301                              3.800533   \n",
       "1302                              7.998537   \n",
       "1303                              3.160138   \n",
       "1304                              6.641600   \n",
       "1305                              2.670585   \n",
       "\n",
       "      eyesclosed_fband_delta_relmean_lfront  ...  \\\n",
       "0                                  9.598653  ...   \n",
       "1                                 10.968235  ...   \n",
       "2                                 13.132905  ...   \n",
       "3                                  9.931212  ...   \n",
       "4                                  5.615468  ...   \n",
       "...                                     ...  ...   \n",
       "1301                               8.565498  ...   \n",
       "1302                              12.309035  ...   \n",
       "1303                              13.388712  ...   \n",
       "1304                               9.232106  ...   \n",
       "1305                              11.684998  ...   \n",
       "\n",
       "      eyesopen_fooof_peak_freq_rfront  eyesopen_fooof_peak_freq_lpari  \\\n",
       "0                            9.485781                        9.441022   \n",
       "1                            8.800915                        8.510134   \n",
       "2                            5.604535                        5.602136   \n",
       "3                            9.288451                        6.651558   \n",
       "4                           10.750797                       10.401234   \n",
       "...                               ...                             ...   \n",
       "1301                        10.376962                       10.707490   \n",
       "1302                         6.861198                        8.796750   \n",
       "1303                         9.482208                        7.101976   \n",
       "1304                        10.532135                       10.375732   \n",
       "1305                         6.367861                        6.452035   \n",
       "\n",
       "      eyesopen_fooof_peak_freq_mpari  eyesopen_fooof_peak_freq_rpari  \\\n",
       "0                           9.384172                        9.425798   \n",
       "1                           9.078390                       14.741810   \n",
       "2                           4.096616                        5.084040   \n",
       "3                           6.396867                       10.291086   \n",
       "4                          10.783732                       11.046665   \n",
       "...                              ...                             ...   \n",
       "1301                       10.383040                       10.343315   \n",
       "1302                        8.560897                        8.794146   \n",
       "1303                        9.409898                        9.301044   \n",
       "1304                       10.918782                       10.700086   \n",
       "1305                        3.165961                        5.588555   \n",
       "\n",
       "      eyesopen_fooof_peak_amplitude_lfront  \\\n",
       "0                                 0.795549   \n",
       "1                                 0.254701   \n",
       "2                                 0.048655   \n",
       "3                                 0.218827   \n",
       "4                                 0.821805   \n",
       "...                                    ...   \n",
       "1301                              0.623514   \n",
       "1302                              0.454742   \n",
       "1303                              0.185029   \n",
       "1304                              0.744570   \n",
       "1305                              0.043673   \n",
       "\n",
       "      eyesopen_fooof_peak_amplitude_mfront  \\\n",
       "0                                 0.876262   \n",
       "1                                 0.351010   \n",
       "2                                 0.233294   \n",
       "3                                 0.313734   \n",
       "4                                 0.784304   \n",
       "...                                    ...   \n",
       "1301                              0.582917   \n",
       "1302                              0.134101   \n",
       "1303                              0.165101   \n",
       "1304                              0.505359   \n",
       "1305                              0.052826   \n",
       "\n",
       "      eyesopen_fooof_peak_amplitude_rfront  \\\n",
       "0                                 0.872379   \n",
       "1                                 0.303875   \n",
       "2                                 0.282735   \n",
       "3                                 0.298905   \n",
       "4                                 0.770845   \n",
       "...                                    ...   \n",
       "1301                              0.422394   \n",
       "1302                              0.141704   \n",
       "1303                              0.246363   \n",
       "1304                              0.621831   \n",
       "1305                              0.070380   \n",
       "\n",
       "      eyesopen_fooof_peak_amplitude_lpari  \\\n",
       "0                                0.989101   \n",
       "1                                0.234960   \n",
       "2                                0.256238   \n",
       "3                                0.178899   \n",
       "4                                0.914380   \n",
       "...                                   ...   \n",
       "1301                             0.615360   \n",
       "1302                             0.403562   \n",
       "1303                             0.120704   \n",
       "1304                             0.722997   \n",
       "1305                             0.111639   \n",
       "\n",
       "      eyesopen_fooof_peak_amplitude_mpari  eyesopen_fooof_peak_amplitude_rpari  \n",
       "0                                1.099981                             0.915441  \n",
       "1                                0.232564                             0.344537  \n",
       "2                                0.175123                             0.304286  \n",
       "3                                0.108880                             0.449437  \n",
       "4                                0.671399                             1.004923  \n",
       "...                                   ...                                  ...  \n",
       "1301                             0.860283                             0.945789  \n",
       "1302                             0.274933                             0.342562  \n",
       "1303                             0.254212                             0.271848  \n",
       "1304                             0.781605                             0.793120  \n",
       "1305                             0.103519                             0.072111  \n",
       "\n",
       "[1306 rows x 303 columns]"
      ]
     },
     "execution_count": 22,
     "metadata": {},
     "output_type": "execute_result"
    }
   ],
   "source": [
    "df_label_spectro_cluster"
   ]
  },
  {
   "cell_type": "code",
   "execution_count": 23,
   "metadata": {},
   "outputs": [
    {
     "data": {
      "text/plain": [
       "303"
      ]
     },
     "execution_count": 23,
     "metadata": {},
     "output_type": "execute_result"
    }
   ],
   "source": [
    "len(df_label_spectro_cluster.columns)"
   ]
  },
  {
   "cell_type": "code",
   "execution_count": 26,
   "metadata": {},
   "outputs": [],
   "source": [
    "col = df_label_spectro_cluster.columns\n",
    "X = df_label_spectro_cluster.loc[ : , (col != 'autism')&(col != 'Patient_ID')]\n",
    "y = df_label_spectro_cluster.loc[:, col == 'autism']\n",
    "\n",
    "colname_X = X.columns\n",
    "colname_y = y.columns\n",
    "X = np.array(X)\n",
    "y = np.array(y)"
   ]
  },
  {
   "cell_type": "code",
   "execution_count": 27,
   "metadata": {},
   "outputs": [
    {
     "name": "stdout",
     "output_type": "stream",
     "text": [
      "113\n"
     ]
    }
   ],
   "source": [
    "print(np.sum(y==1))"
   ]
  },
  {
   "cell_type": "markdown",
   "metadata": {},
   "source": [
    "## PCA of Autism "
   ]
  },
  {
   "cell_type": "code",
   "execution_count": 28,
   "metadata": {},
   "outputs": [],
   "source": [
    "from sklearn.decomposition import PCA"
   ]
  },
  {
   "cell_type": "code",
   "execution_count": 42,
   "metadata": {},
   "outputs": [
    {
     "name": "stdout",
     "output_type": "stream",
     "text": [
      "explained variance ratio (first two components): [0.51261007 0.14697791]\n"
     ]
    },
    {
     "data": {
      "image/png": "[encoded data removed]",
      "text/plain": [
       "<Figure size 432x288 with 1 Axes>"
      ]
     },
     "metadata": {
      "needs_background": "light"
     },
     "output_type": "display_data"
    }
   ],
   "source": [
    "pca = PCA(n_components=2)\n",
    "X_r = pca.fit(X).transform(X)\n",
    "\n",
    "#print(X_r)\n",
    "#print(X_r.shape)\n",
    "\n",
    "target_names = ['non Autism disorder' , 'Autism disorder']\n",
    "\n",
    "# Percentage of variance explained for each components\n",
    "print('explained variance ratio (first two components): %s'\n",
    "      % str(pca.explained_variance_ratio_))\n",
    "\n",
    "plt.figure()\n",
    "colors = ['navy', 'darkorange']\n",
    "lw = 2\n",
    "\n",
    "for color, i, target_name in zip(colors, [0, 1], target_names):\n",
    "    ##\n",
    "    #print(color, i , target_name)\n",
    "    #X_r[y == i, 0]\n",
    "    ##\n",
    "    plt.scatter(X_r[(y==i).flatten(), 0], X_r[(y==i).flatten(), 1], color=color, alpha=.8, lw=lw,\n",
    "                label=target_name)\n",
    "plt.legend(loc='best', shadow=False, scatterpoints=1)\n",
    "plt.title('PCA of Autism disorder')\n",
    "\n",
    "\n",
    "plt.show\n",
    "plt.savefig('Autism_normal_.png')"
   ]
  },
  {
   "cell_type": "markdown",
   "metadata": {},
   "source": [
    "## Remove the effect of the age"
   ]
  },
  {
   "cell_type": "code",
   "execution_count": 31,
   "metadata": {},
   "outputs": [],
   "source": [
    "from sklearn.linear_model import LinearRegression"
   ]
  },
  {
   "cell_type": "code",
   "execution_count": 32,
   "metadata": {},
   "outputs": [],
   "source": [
    "col = df_label_spectro_cluster.columns\n",
    "X = df_label_spectro_cluster.loc[ : , (col != 'autism')&(col != 'Patient_ID')&(col != \"Age\")]\n",
    "y = df_label_spectro_cluster.loc[:, col == 'autism']\n",
    "age = df_label_spectro_cluster.loc[ : , col == 'Age']"
   ]
  },
  {
   "cell_type": "code",
   "execution_count": 35,
   "metadata": {},
   "outputs": [],
   "source": [
    "X_remove_age = np.ones(X.shape)\n",
    "for i in range(len(X.columns)) : \n",
    "    fi = np.array(X.loc[:,X.columns[i]]).reshape(-1,1)\n",
    "    reg = LinearRegression().fit(age,fi)\n",
    "    X_remove_age[:,i] = fi.reshape(1,-1) -reg.predict(age).reshape(1,-1)\n",
    "X_remove_age = pd.DataFrame(X_remove_age , columns=X.columns)\n"
   ]
  },
  {
   "cell_type": "code",
   "execution_count": 36,
   "metadata": {},
   "outputs": [],
   "source": [
    "## Plot PCA "
   ]
  },
  {
   "cell_type": "code",
   "execution_count": 37,
   "metadata": {},
   "outputs": [],
   "source": [
    "X_remove_age = np.array(X_remove_age)\n",
    "y = np.array(y)"
   ]
  },
  {
   "cell_type": "code",
   "execution_count": 43,
   "metadata": {},
   "outputs": [
    {
     "name": "stdout",
     "output_type": "stream",
     "text": [
      "explained variance ratio (first two components): [0.54423656 0.13186824]\n"
     ]
    },
    {
     "data": {
      "image/png": "[encoded data removed]",
      "text/plain": [
       "<Figure size 432x288 with 1 Axes>"
      ]
     },
     "metadata": {
      "needs_background": "light"
     },
     "output_type": "display_data"
    }
   ],
   "source": [
    "pca = PCA(n_components=2)\n",
    "X_r = pca.fit(X_remove_age).transform(X_remove_age)\n",
    "\n",
    "#print(X_r)\n",
    "#print(X_r.shape)\n",
    "\n",
    "target_names = ['non Autism disorder' , 'Autism disorder']\n",
    "\n",
    "# Percentage of variance explained for each components\n",
    "print('explained variance ratio (first two components): %s'\n",
    "      % str(pca.explained_variance_ratio_))\n",
    "\n",
    "plt.figure()\n",
    "colors = ['navy', 'darkorange']\n",
    "lw = 2\n",
    "\n",
    "for color, i, target_name in zip(colors, [0, 1], target_names):\n",
    "    ##\n",
    "    #print(color, i , target_name)\n",
    "    #X_r[y == i, 0]\n",
    "    ##\n",
    "    plt.scatter(X_r[(y==i).flatten(), 0], X_r[(y==i).flatten(), 1], color=color, alpha=.8, lw=lw,\n",
    "                label=target_name)\n",
    "plt.legend(loc='best', shadow=False, scatterpoints=1)\n",
    "plt.title('PCA of Autism disorder with Age removal')\n",
    "\n",
    "plt.savefig('Autism_with_age_removal_.png')\n"
   ]
  },
  {
   "cell_type": "code",
   "execution_count": null,
   "metadata": {},
   "outputs": [],
   "source": []
  },
  {
   "cell_type": "code",
   "execution_count": null,
   "metadata": {},
   "outputs": [],
   "source": []
  },
  {
   "cell_type": "code",
   "execution_count": null,
   "metadata": {},
   "outputs": [],
   "source": []
  }
 ],
 "metadata": {
  "kernelspec": {
   "display_name": "Python 3",
   "language": "python",
   "name": "python3"
  },
  "language_info": {
   "codemirror_mode": {
    "name": "ipython",
    "version": 3
   },
   "file_extension": ".py",
   "mimetype": "text/x-python",
   "name": "python",
   "nbconvert_exporter": "python",
   "pygments_lexer": "ipython3",
   "version": "3.7.1"
  }
 },
 "nbformat": 4,
 "nbformat_minor": 2
}
