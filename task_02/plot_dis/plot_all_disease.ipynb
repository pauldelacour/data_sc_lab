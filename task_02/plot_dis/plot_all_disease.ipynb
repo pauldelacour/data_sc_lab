{
 "cells": [
  {
   "cell_type": "code",
   "execution_count": 1,
   "metadata": {},
   "outputs": [
    {
     "name": "stdout",
     "output_type": "stream",
     "text": [
      "/Users/pldelacour/Documents/PL_Ecole/data_sc_lab/data_sc_lab/task_01/pipelines\n"
     ]
    }
   ],
   "source": [
    "cd ../../task_01/pipelines"
   ]
  },
  {
   "cell_type": "code",
   "execution_count": 2,
   "metadata": {},
   "outputs": [
    {
     "name": "stderr",
     "output_type": "stream",
     "text": [
      "/Users/pldelacour/anaconda3/lib/python3.7/site-packages/sklearn/utils/deprecation.py:144: FutureWarning: The sklearn.metrics.classification module is  deprecated in version 0.22 and will be removed in version 0.24. The corresponding classes / functions should instead be imported from sklearn.metrics. Anything that cannot be imported from sklearn.metrics is now part of the private API.\n",
      "  warnings.warn(message, FutureWarning)\n",
      "Using TensorFlow backend.\n"
     ]
    }
   ],
   "source": [
    "import numpy as np\n",
    "import pandas as pd\n",
    "import matplotlib.pyplot as plt\n",
    "from ipynb.fs.full.tool_functions import *\n",
    "from yellowbrick.regressor import AlphaSelection\n",
    "from  sklearn.metrics import mean_squared_error"
   ]
  },
  {
   "cell_type": "code",
   "execution_count": 3,
   "metadata": {},
   "outputs": [
    {
     "name": "stderr",
     "output_type": "stream",
     "text": [
      "/Users/pldelacour/anaconda3/lib/python3.7/site-packages/IPython/core/interactiveshell.py:3020: DtypeWarning: Columns (66,68,80,81,82,83,84,95,96,97,98,99,110,111,112,113,114,125,126,127,128,129,140,141,142,144,155,156,157,159,932,933,934,935,936,937,938,939,940,941,942,943,944,945,946,947,948,949,950,951,952,953,954,955,956,957,958,959,960,961,962,963,964,965,966,967,968,969,970,971,972,973,974,975,976,977,978,979,980,981,982,983,984,985,986,987,988,989,990,991,992,993,994,995,996,997,998,999,1000,1001,1002,1003,1004,1005,1006,1007,1008,1009,1010,1011,1012,1013,1014,1015,1016,1017,1018,1019,1020,1021,1022,1023,1024,1025,1026,1027,1028,1029,1030,1031,1032,1033,1034,1035,1036,1037,1038,1039,1040,1041,1042,1043,1044,1045,1046,1047,1048,1049,1050,1051,1052,1053,1054,1055,1056,1057,1058,1059,1060,1061,1062,1063,1064,1065,1066,1067,1068,1069,1070,1071,1072,1073,1074,1075,1076,1077,1078,1079,1080,1081,1082,1083,1084,1085,1086,1087,1088,1089,1090,1091,1092,1093,1094,1095,1096,1097,1098,1099,1100,1101,1102,1103,1104,1105,1106,1107,1108,1109,1110,1111,1112,1113,1114,1115,1116,1117,1118,1119,1120,1121,1122,1123,1124,1125,1126,1127,1128,1129,1130,1131,1132,1133,1134,1135,1136,1137,1138,1139,1140,1141,1142,1143,1144,1145,1146,1147,1148,1149,1150,1151,1152,1153,1154,1155,1156,1157,1158,1159,1160,1161,1162,1163,1164,1165,1166,1167,1168,1169,1170,1171,1172,1173,1174,1175,1176,1177,1178,1179,1180,1181,1182,1183,1184,1185,1186,1187,1188,1189,1190,1191,1192,1193,1194,1195,1196,1197,1198,1199,1200,1201,1202,1203,1204,1205,1206,1207,1208,1209,1210,1211,1212,1213,1214,1215,1216,1217,1218,1219,1220,1221,1222,1223,1224,1225,1226,1227,1228,1229,1230,1231,1232,1233,1234,1235,1236,1237,1238,1239,1240,1241,1242,1243,1244,1245,1246,1247,1248,1249,1250,1251,1252,1253,1254,1255,1256,1257,1258,1259,1260,1261,1262,1263,1264,1265,1266,1267,1268,1269,1270,1271,1272,1273,1274,1275,1276,1277,1278,1279,1280,1281,1282,1283,1284,1285,1286,1287,1288,1289,1290,1291,1292,1293,1294,1295,1296,1297,1298,1299,1300,1301,1302,1303,1304,1305,1306,1307,1308,1309,1310,1311,1312,1313,1314,1315,1316,1317,1318,1319,1320,1321,1322,1323,1324,1325,1326,1327,1328,1329,1330,1331,1332,1333,1334,1335,1336,1337,1338,1339,1340,1341,1342,1343,1344,1345,1346,1347,1348,1349,1350,1351,1352,1353,1354,1355,1356,1357,1358,1359,1360,1361,1362,1363,1364,1365,1366,1367,1368,1369,1370,1371,1372,1373,1374,1375,1376,1377,1378,1379,1380,1381,1384,1385,1387,1390,1391,1393,1396,1397,1399,1402,1403,1405,1408,1409,1411,1414,1415,1417,1420,1421,1423,1426,1427,1429,1432,1433,1435,1438,1439,1441,1444,1445,1447,1450,1451,1453,1456,1457,1459,1462,1463,1465,1468,1469,1471,1474,1475,1477,1480,1481,1483,1486,1487,1489,1492,1493,1495,1498,1499,1501,1504,1505,1507,1510,1511,1513,1516,1517,1519,1522,1523,1525,1528,1529,1531,1534,1535,1537,1540,1541,1543,1546,1547,1549,1552,1553,1555,1558,1559,1561,1564,1565,1567,1570,1571,1573,1576,1577,1579,1582,1583,1585,1588,1589,1591,1594,1595,1597,1600,1601,1603,1606,1607,1609,1612,1613,1615,1618,1619,1621,1624,1625,1627,1630,1631,1633,1636,1637,1639,1642,1643,1645,1648,1649,1651,1654,1655,1657,1660,1661,1663,1666,1667,1669,1672,1673,1675,1678,1679,1681,1684,1685,1687,1690,1691,1693,1696,1697,1699,1702,1703,1705,1708,1709,1711,1714,1715,1717,1720,1721,1723,1726,1727,1729,1732,1733,1735,1738,1739,1741,1744,1745,1747,1750,1751,1753,1756,1757,1759,1762,1763,1765,1768,1769,1771,1774,1775,1777,1780,1781,1783,1786,1787,1789,1792,1793,1795,1798,1799,1801,1804,1805,1807,1810,1811,1813,1816,1817,1819,1822,1823,1825,1828,1829,1831,1834,1835,1837,1840,1841,1843,1846,1847,1849,1852,1853,1855,1858,1859,1861,1882,1883,1884,1917,1918,1919,1952,1953,1954,1955,1987,1988,1989,1990,2022,2023,2024,2025,2026,2057,2058,2059,2060,2061,2092,2093,2094,2095,2096,2097,2127,2128,2129,2130,2131,2132,2162,2163,2164,2165,2166,2167,2168,2197,2198,2199,2200,2201,2202,2203,2232,2233,2234,2235,2236,2237,2238,2239,2267,2268,2269,2270,2271,2272,2273,2274,2302,2303,2304,2305,2306,2307,2308,2309,2337,2338,2339,2340,2341,2342,2343,2344,2477,2478,2479,2512,2513,2514,2547,2548,2549,2550,2582,2583,2584,2585,2617,2618,2619,2620,2621,2652,2653,2654,2655,2656,2687,2688,2689,2690,2691,2692,2722,2723,2724,2725,2726,2727,2757,2758,2759,2760,2761,2762,2763,2792,2793,2794,2795,2796,2797,2798,2827,2828,2829,2830,2831,2832,2833,2834,2862,2863,2864,2865,2866,2867,2868,2869,2897,2898,2899,2900,2901,2902,2903,2904,2932,2933,2934,2935,2936,2937,2938,2939,3819,3826,3866,3933,4037,4055,4059,4063,4067,4071,4075,4079,4084,4085,4086,4087,4088,4091,4092,4094,4095,4096,4608,4616,4648,4649,4664,4665,4667,4683,4690,4691,4692,4693,4739,4800,5002,5010,5018,5026,5042,5240,5282,5386,5433,5443,5463,5466,5467,5468,5470,5478,5479,5481,5482,5483,5484,5485,5486,5487,5488,5489,5490,5491,5492,5495,5499,5503,5507,5511,5515,5517,5518,5519,5520,5521,5522,5523,5524,5532,5535,5536,5537,5539,5540,5548,5549,5551,5552,5553,5554,5555,5556,5557,5558,5559,5560,5561,5562,5565,5569,5573,5577,5581,5586,5587,5588,5589,5590,5591,5592,5593,5594,5601,5604,5605,5606,5608,5616,5617,5619,5620,5621,5622,5623,5624,5625,5626,5627,5628,5629,5630,5633,5636,5637,5638,5640,5648,5649,5651,5652,5653,5654,5655,5656,5657,5658,5659,5660,5661,5662,5665,5668,5669,5670,5672,5680,5681,5683,5684,5685,5686,5687,5688,5689,5690,5691,5692,5693,5694,5697,5700,5701,5702,5704,5712,5713,5715,5716,5717,5718,5719,5720,5721,5722,5723,5724,5725,5726,5729,5732,5733,5734,5736,5744,5745,5747,5748,5749,5750,5751,5752,5753,5754,5755,5756,5757,5758,5759,5760,5761,5762,5763,5764,5768,5772,5776,5780,5784,5788,5792,5796,5800,5804,5808,5812,5816,5820,5869,5877,5881,5885,5889,5893,5897,6538,6539,6540,6541,6542,6555,6556,6557,6558,6559,6572,6573,6574,6575,6576,6589,6590,6591,6592,6593,6606,6607,6608,6609,6610,6623,6624,6625,6626,6627,6636,6644,6650,6653,6682,6701,6738,6768) have mixed types.Specify dtype option on import or set low_memory=False.\n",
      "  interactivity=interactivity, compiler=compiler, result=result)\n"
     ]
    }
   ],
   "source": [
    "df_beha = pd.read_csv('../../../data/Behavioral/AllData.csv')#, nrows=1000)\n",
    "\n",
    "df_psd_cluster = pd.read_csv(\"../../../data/EEG/RestingEEG_PSD_Cluster.csv\") #, nrows=1000)\n",
    "df_psd_channel = pd.read_csv(\"../../../data/EEG/RestingEEG_PSD_Channel.csv\") #, nrows=5)\n",
    "df_spectro_cluster = pd.read_csv(\"../../../data/EEG/RestingEEG_Spectro_Cluster.csv\") #, nrows=1000)\n",
    "df_spectro_channel = pd.read_csv(\"../../../data/EEG/RestingEEG_Spectro_Channel.csv\") #, nrows=5)\n",
    "\n",
    "df_microstate = pd.read_csv(\"../../../data/EEG/RestingEEG_Microstates.csv\") #, nrows=5)"
   ]
  },
  {
   "cell_type": "code",
   "execution_count": 4,
   "metadata": {},
   "outputs": [],
   "source": [
    "disease = df_beha['DX_01'].unique()\n",
    "y_labels = df_beha[[\"Patient_ID\", \"Age\", \"DX_01\"]]\n",
    "aut_bin = (df_beha['DX_01'].str.contains(\"Autism Spectrum Disorder\") == True)*1.0\n",
    "#df_beha['autism'] = aut_bin"
   ]
  },
  {
   "cell_type": "code",
   "execution_count": 5,
   "metadata": {},
   "outputs": [
    {
     "data": {
      "text/plain": [
       "0"
      ]
     },
     "execution_count": 5,
     "metadata": {},
     "output_type": "execute_result"
    }
   ],
   "source": []
  },
  {
   "cell_type": "code",
   "execution_count": 6,
   "metadata": {},
   "outputs": [
    {
     "name": "stdout",
     "output_type": "stream",
     "text": [
      "# autism =  164\n",
      "# of non autism = 1932\n"
     ]
    }
   ],
   "source": [
    "df_tot = "
   ]
  },
  {
   "cell_type": "code",
   "execution_count": 111,
   "metadata": {
    "scrolled": false
   },
   "outputs": [],
   "source": [
    "# Extract relevant info from the Behavioral data \n",
    "#y_labels = df_beha[[\"Patient_ID\", \"Age\", \"autism\"]]\n"
   ]
  },
  {
   "cell_type": "code",
   "execution_count": 146,
   "metadata": {},
   "outputs": [
    {
     "data": {
      "text/plain": [
       "DX_01\n",
       "                                                                         2\n",
       "ADHD-Combined Type                                                     387\n",
       "ADHD-Hyperactive/Impulsive Type                                         49\n",
       "ADHD-Inattentive Type                                                  295\n",
       "Acute Stress Disorder                                                    2\n",
       "Adjustment Disorders                                                    16\n",
       "Agoraphobia                                                              1\n",
       "Autism Spectrum Disorder                                               164\n",
       "Bipolar I Disorder                                                       3\n",
       "Bipolar II Disorder                                                      3\n",
       "Borderline Intellectual Functioning                                      7\n",
       "Cannabis Use Disorder                                                    1\n",
       "Delirium due to another medical condition                                1\n",
       "Disruptive Mood Dysregulation Disorder                                  13\n",
       "Encopresis                                                               1\n",
       "Enuresis                                                                10\n",
       "Gender Dysphoria in Children                                             1\n",
       "Generalized Anxiety Disorder                                            70\n",
       "Intellectual Disability-Mild                                            26\n",
       "Intellectual Disability-Moderate                                         7\n",
       "Intellectual Disability-Severe                                           1\n",
       "Language Disorder                                                       43\n",
       "Major Depressive Disorder                                               60\n",
       "Major Neurocognitive Disorder Due to Epilepsy                            1\n",
       "No Diagnosis Given                                                     235\n",
       "No Diagnosis Given: Incomplete Eval                                    278\n",
       "Obsessive-Compulsive Disorder                                           16\n",
       "Oppositional Defiant Disorder                                            4\n",
       "Other Specified Anxiety Disorder                                        30\n",
       "Other Specified Attention-Deficit/Hyperactivity Disorder                53\n",
       "Other Specified Depressive Disorder                                      6\n",
       "Other Specified Disruptive, Impulse-Control, and Conduct Disorder        1\n",
       "Other Specified Neurodevelopmental Disorder                              1\n",
       "Other Specified Schizophrenia Spectrum and Other Psychotic Disorder      2\n",
       "Other Specified Tic Disorder                                             1\n",
       "Other Specified Trauma- and Stressor-Related Disorder                    6\n",
       "Panic Disorder                                                           2\n",
       "Parent-Child Relational Problem                                          1\n",
       "Persistent (Chronic) Motor or Vocal Tic Disorder                         3\n",
       "Persistent Depressive Disorder (Dysthymia)                              15\n",
       "Posttraumatic Stress Disorder                                            8\n",
       "Provisional Tic Disorder                                                 1\n",
       "Reactive Attachment Disorder                                             3\n",
       "Schizophrenia                                                            1\n",
       "Selective Mutism                                                         3\n",
       "Separation Anxiety                                                      16\n",
       "Social (Pragmatic) Communication Disorder                                1\n",
       "Social Anxiety (Social Phobia)                                          51\n",
       "Specific Learning Disorder with Impairment in Mathematics                9\n",
       "Specific Learning Disorder with Impairment in Reading                   97\n",
       "Specific Learning Disorder with Impairment in Reading                    1\n",
       "Specific Learning Disorder with Impairment in Written Expression         5\n",
       "Specific Phobia                                                         14\n",
       "Speech Sound Disorder                                                    3\n",
       "Tourettes Disorder                                                      13\n",
       "Unspecified Anxiety Disorder                                             2\n",
       "Unspecified Attention-Deficit/Hyperactivity Disorder                     5\n",
       "Unspecified Neurodevelopmental Disorder                                  1\n",
       "dtype: int64"
      ]
     },
     "execution_count": 146,
     "metadata": {},
     "output_type": "execute_result"
    }
   ],
   "source": [
    "df_beha.pivot_table(index=['DX_01'], aggfunc='size')"
   ]
  },
  {
   "cell_type": "code",
   "execution_count": 85,
   "metadata": {},
   "outputs": [
    {
     "data": {
      "text/plain": [
       "DX_01\n",
       "ADHD-Combined Type                                          387\n",
       "ADHD-Inattentive Type                                       295\n",
       "Autism Spectrum Disorder                                    164\n",
       "Generalized Anxiety Disorder                                 70\n",
       "Major Depressive Disorder                                    60\n",
       "No Diagnosis Given                                          235\n",
       "No Diagnosis Given: Incomplete Eval                         278\n",
       "Other Specified Attention-Deficit/Hyperactivity Disorder     53\n",
       "Social Anxiety (Social Phobia)                               51\n",
       "Specific Learning Disorder with Impairment in Reading        97\n",
       "dtype: int64"
      ]
     },
     "execution_count": 85,
     "metadata": {},
     "output_type": "execute_result"
    }
   ],
   "source": [
    "ind = df_beha.pivot_table(index=['DX_01'], aggfunc='size')>=50\n",
    "size = df_beha.pivot_table(index=['DX_01'], aggfunc='size')[ind.values]\n",
    "size"
   ]
  },
  {
   "cell_type": "code",
   "execution_count": 107,
   "metadata": {
    "scrolled": false
   },
   "outputs": [
    {
     "data": {
      "text/plain": [
       "{0: 'No Diagnosis Given',\n",
       " 1: 'ADHD-Inattentive Type',\n",
       " 2: 'Autism Spectrum Disorder',\n",
       " 3: 'Generalized Anxiety Disorder',\n",
       " 4: 'Major Depressive Disorder',\n",
       " 5: 'Other Specified Attention-Deficit/Hyperactivity Disorder',\n",
       " 6: 'Social Anxiety',\n",
       " 7: 'Specific Learning Disorder with Impairment in Reading'}"
      ]
     },
     "execution_count": 107,
     "metadata": {},
     "output_type": "execute_result"
    }
   ],
   "source": [
    "#Taking only disease with more than 50 samples.\n",
    "ind = df_beha.pivot_table(index=['DX_01'], aggfunc='size')>=50\n",
    "ds = np.array(ind[ind.values].index)\n",
    "#print(ds)\n",
    "ds = ['No Diagnosis Given' , 'ADHD-Inattentive Type',\n",
    "     'Autism Spectrum Disorder' , 'Generalized Anxiety Disorder',\n",
    "        'Major Depressive Disorder' , 'Other Specified Attention-Deficit/Hyperactivity Disorder',\n",
    "     'Social Anxiety' , 'Specific Learning Disorder with Impairment in Reading']\n",
    "ds_map = { i:x for i,x in enumerate(ds)}\n",
    "\n",
    "ds_map"
   ]
  },
  {
   "cell_type": "code",
   "execution_count": 108,
   "metadata": {},
   "outputs": [
    {
     "data": {
      "text/plain": [
       "8"
      ]
     },
     "execution_count": 108,
     "metadata": {},
     "output_type": "execute_result"
    }
   ],
   "source": [
    "len(ds)"
   ]
  },
  {
   "cell_type": "code",
   "execution_count": 109,
   "metadata": {},
   "outputs": [
    {
     "name": "stdout",
     "output_type": "stream",
     "text": [
      "No Diagnosis Given 513\n",
      "ADHD-Inattentive Type 295\n",
      "Autism Spectrum Disorder 164\n",
      "Generalized Anxiety Disorder 70\n",
      "Major Depressive Disorder 60\n",
      "Other Specified Attention-Deficit/Hyperactivity Disorder 53\n",
      "Social Anxiety 51\n",
      "Specific Learning Disorder with Impairment in Reading 98\n"
     ]
    },
    {
     "data": {
      "text/plain": [
       "DX_01\n",
       "ADHD-Combined Type                                          387\n",
       "ADHD-Inattentive Type                                       295\n",
       "Autism Spectrum Disorder                                    164\n",
       "Generalized Anxiety Disorder                                 70\n",
       "Major Depressive Disorder                                    60\n",
       "No Diagnosis Given                                          235\n",
       "No Diagnosis Given: Incomplete Eval                         278\n",
       "Other Specified Attention-Deficit/Hyperactivity Disorder     53\n",
       "Social Anxiety (Social Phobia)                               51\n",
       "Specific Learning Disorder with Impairment in Reading        97\n",
       "dtype: int64"
      ]
     },
     "execution_count": 109,
     "metadata": {},
     "output_type": "execute_result"
    }
   ],
   "source": [
    "y_labels = df_beha[[\"Patient_ID\", \"Age\", \"DX_01\" ]]\n",
    "\n",
    "y = 100*np.ones(len(y_labels[\"DX_01\"]))\n",
    "for i in range(len(ds)):\n",
    "    ind = (y_labels[\"DX_01\"].str.contains(ds_map[i]) == True)\n",
    "    y[ind] = i\n",
    "    \n",
    "\n",
    "\n",
    "for i in range(8) : \n",
    "    print(ds_map[i] , np.sum(y==i))\n",
    "size"
   ]
  },
  {
   "cell_type": "code",
   "execution_count": 148,
   "metadata": {},
   "outputs": [
    {
     "data": {
      "text/plain": [
       "531"
      ]
     },
     "execution_count": 148,
     "metadata": {},
     "output_type": "execute_result"
    }
   ],
   "source": [
    "253+278\n",
    "#len(y)"
   ]
  },
  {
   "cell_type": "code",
   "execution_count": 139,
   "metadata": {
    "scrolled": true
   },
   "outputs": [
    {
     "name": "stderr",
     "output_type": "stream",
     "text": [
      "/Users/pldelacour/anaconda3/lib/python3.7/site-packages/ipykernel_launcher.py:15: SettingWithCopyWarning: \n",
      "A value is trying to be set on a copy of a slice from a DataFrame.\n",
      "Try using .loc[row_indexer,col_indexer] = value instead\n",
      "\n",
      "See the caveats in the documentation: https://pandas.pydata.org/pandas-docs/stable/user_guide/indexing.html#returning-a-view-versus-a-copy\n",
      "  from ipykernel import kernelapp as app\n"
     ]
    }
   ],
   "source": [
    "#ADHD Type :\n",
    "#-ADHD-Inattentive Type\n",
    "#-ADHD-Hyperactive/Impulsive Type\n",
    "#-ADHD-Combined Type\n",
    "\n",
    "y_labels = df_beha[[\"Patient_ID\", \"Age\", \"DX_01\" ]]\n",
    "\n",
    "y = 100*np.ones(len(y_labels[\"DX_01\"]))\n",
    "for i in range(len(ds)):\n",
    "    ind = (y_labels[\"DX_01\"].str.contains(ds_map[i]) == True)\n",
    "    y[ind] = i\n",
    "\n",
    "disease = df_beha['DX_01'].unique()\n",
    "df_dis = df_beha[[\"Patient_ID\", \"Age\"]]\n",
    "df_dis['disease'] = y\n",
    "\n",
    "df_spectro_cluster.rename(columns={'id': 'Patient_ID'}, inplace=True)\n",
    "# Aggregate with label\n",
    "df_dis_spectro = pd.merge(df_dis, df_spectro_cluster, on='Patient_ID')\n",
    "#Replace NAN\n",
    "df_dis_spectro = fill_with_median(df_dis_spectro)\n",
    "\n",
    "\n",
    "X = df_dis_spectro.drop(['Patient_ID', 'disease'], axis=1)\n",
    "y =  df_dis_spectro[['disease']]\n",
    "\n",
    "#X = np.array(X)\n",
    "\n",
    "#Scaling features  \n",
    "scaler = StandardScaler()\n",
    "scaler.fit(X)\n",
    "X = pd.DataFrame(scaler.transform(X), columns=X.columns, index=X.index)\n",
    "X = np.array(X)\n",
    "y = np.array(y)"
   ]
  },
  {
   "cell_type": "markdown",
   "metadata": {},
   "source": [
    "## PCA of All disease "
   ]
  },
  {
   "cell_type": "code",
   "execution_count": 150,
   "metadata": {},
   "outputs": [],
   "source": [
    "from sklearn.decomposition import PCA\n",
    "from sklearn.decomposition import FastICA"
   ]
  },
  {
   "cell_type": "code",
   "execution_count": 141,
   "metadata": {},
   "outputs": [
    {
     "data": {
      "text/plain": [
       "['No Diagnosis Given',\n",
       " 'ADHD-Inattentive Type',\n",
       " 'Autism Spectrum Disorder',\n",
       " 'Generalized Anxiety Disorder',\n",
       " 'Major Depressive Disorder',\n",
       " 'Other Specified Attention-Deficit/Hyperactivity Disorder',\n",
       " 'Social Anxiety',\n",
       " 'Specific Learning Disorder with Impairment in Reading']"
      ]
     },
     "execution_count": 141,
     "metadata": {},
     "output_type": "execute_result"
    }
   ],
   "source": [
    "ds_map.keys()\n",
    "target_names = []\n",
    "for i in ds_map.values() :\n",
    "    target_names.append(i)\n",
    "target_names"
   ]
  },
  {
   "cell_type": "code",
   "execution_count": 152,
   "metadata": {},
   "outputs": [
    {
     "name": "stderr",
     "output_type": "stream",
     "text": [
      "/Users/pldelacour/anaconda3/lib/python3.7/site-packages/sklearn/decomposition/_fastica.py:119: ConvergenceWarning: FastICA did not converge. Consider increasing tolerance or the maximum number of iterations.\n",
      "  ConvergenceWarning)\n"
     ]
    },
    {
     "data": {
      "text/plain": [
       "<function matplotlib.pyplot.show(*args, **kw)>"
      ]
     },
     "execution_count": 152,
     "metadata": {},
     "output_type": "execute_result"
    },
    {
     "data": {
      "image/png": "[encoded data removed]",
      "text/plain": [
       "<Figure size 432x288 with 1 Axes>"
      ]
     },
     "metadata": {
      "needs_background": "light"
     },
     "output_type": "display_data"
    }
   ],
   "source": [
    "#pca = PCA(n_components=2)\n",
    "#X_r = pca.fit(X).transform(X)\n",
    "\n",
    "pca = FastICA(n_components=2)\n",
    "X_r = pca.fit(X).transform(X)\n",
    "\n",
    "\n",
    "#print(X_r)\n",
    "#print(X_r.shape)\n",
    "\n",
    "target_names = []\n",
    "for i in ds_map.values() :\n",
    "    target_names.append(i)\n",
    "\n",
    "keys = []\n",
    "for i in ds_map.keys() :\n",
    "    keys.append(i)\n",
    "\n",
    "    \n",
    "# Percentage of variance explained for each components\n",
    "#print('explained variance ratio (first two components): %s'\n",
    "#      % str(pca.explained_variance_ratio_))\n",
    "\n",
    "plt.figure()\n",
    "colors = ['navy', 'darkorange' , 'green' , 'purple', 'chocolate' , 'lightslategrey'  , 'hotpink' , 'crimson']\n",
    "lw = 1\n",
    "\n",
    "for color, i, target_name in zip(colors, keys, target_names):\n",
    "    ##\n",
    "    #print(color, i , target_name)\n",
    "    #X_r[y == i, 0]\n",
    "    ##\n",
    "    plt.scatter(X_r[(y==i).flatten(), 0], X_r[(y==i).flatten(), 1], color=color, alpha=.8, lw=lw,\n",
    "                label=target_name)\n",
    "#plt.legend(loc='best', shadow=False, scatterpoints=1)\n",
    "plt.legend( bbox_to_anchor=(1.05, 1), loc='upper left')\n",
    "plt.title('PCA of all disease')\n",
    "\n",
    "\n",
    "plt.show\n",
    "#plt.savefig('Autism_normal_.png')"
   ]
  },
  {
   "cell_type": "code",
   "execution_count": null,
   "metadata": {},
   "outputs": [],
   "source": []
  }
 ],
 "metadata": {
  "kernelspec": {
   "display_name": "Python 3",
   "language": "python",
   "name": "python3"
  },
  "language_info": {
   "codemirror_mode": {
    "name": "ipython",
    "version": 3
   },
   "file_extension": ".py",
   "mimetype": "text/x-python",
   "name": "python",
   "nbconvert_exporter": "python",
   "pygments_lexer": "ipython3",
   "version": "3.7.1"
  }
 },
 "nbformat": 4,
 "nbformat_minor": 2
}
