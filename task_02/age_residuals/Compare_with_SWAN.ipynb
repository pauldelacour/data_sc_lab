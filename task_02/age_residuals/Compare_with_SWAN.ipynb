{
 "cells": [
  {
   "cell_type": "code",
   "execution_count": 1,
   "metadata": {},
   "outputs": [
    {
     "name": "stdout",
     "output_type": "stream",
     "text": [
      "/Users/pldelacour/Documents/PL_Ecole/data_sc_lab/data_sc_lab/task_01/pipelines\n"
     ]
    }
   ],
   "source": [
    "cd ../../task_01/pipelines"
   ]
  },
  {
   "cell_type": "code",
   "execution_count": 2,
   "metadata": {},
   "outputs": [
    {
     "name": "stderr",
     "output_type": "stream",
     "text": [
      "/Users/pldelacour/anaconda3/lib/python3.7/site-packages/sklearn/utils/deprecation.py:144: FutureWarning: The sklearn.metrics.classification module is  deprecated in version 0.22 and will be removed in version 0.24. The corresponding classes / functions should instead be imported from sklearn.metrics. Anything that cannot be imported from sklearn.metrics is now part of the private API.\n",
      "  warnings.warn(message, FutureWarning)\n",
      "Using TensorFlow backend.\n"
     ]
    }
   ],
   "source": [
    "import numpy as np\n",
    "import pandas as pd\n",
    "import matplotlib.pyplot as plt\n",
    "from ipynb.fs.full.tool_functions import *\n",
    "from yellowbrick.regressor import AlphaSelection"
   ]
  },
  {
   "cell_type": "code",
   "execution_count": 3,
   "metadata": {},
   "outputs": [
    {
     "name": "stderr",
     "output_type": "stream",
     "text": [
      "/Users/pldelacour/anaconda3/lib/python3.7/site-packages/IPython/core/interactiveshell.py:3020: DtypeWarning: Columns (66,68,80,81,82,83,84,95,96,97,98,99,110,111,112,113,114,125,126,127,128,129,140,141,142,144,155,156,157,159,932,933,934,935,936,937,938,939,940,941,942,943,944,945,946,947,948,949,950,951,952,953,954,955,956,957,958,959,960,961,962,963,964,965,966,967,968,969,970,971,972,973,974,975,976,977,978,979,980,981,982,983,984,985,986,987,988,989,990,991,992,993,994,995,996,997,998,999,1000,1001,1002,1003,1004,1005,1006,1007,1008,1009,1010,1011,1012,1013,1014,1015,1016,1017,1018,1019,1020,1021,1022,1023,1024,1025,1026,1027,1028,1029,1030,1031,1032,1033,1034,1035,1036,1037,1038,1039,1040,1041,1042,1043,1044,1045,1046,1047,1048,1049,1050,1051,1052,1053,1054,1055,1056,1057,1058,1059,1060,1061,1062,1063,1064,1065,1066,1067,1068,1069,1070,1071,1072,1073,1074,1075,1076,1077,1078,1079,1080,1081,1082,1083,1084,1085,1086,1087,1088,1089,1090,1091,1092,1093,1094,1095,1096,1097,1098,1099,1100,1101,1102,1103,1104,1105,1106,1107,1108,1109,1110,1111,1112,1113,1114,1115,1116,1117,1118,1119,1120,1121,1122,1123,1124,1125,1126,1127,1128,1129,1130,1131,1132,1133,1134,1135,1136,1137,1138,1139,1140,1141,1142,1143,1144,1145,1146,1147,1148,1149,1150,1151,1152,1153,1154,1155,1156,1157,1158,1159,1160,1161,1162,1163,1164,1165,1166,1167,1168,1169,1170,1171,1172,1173,1174,1175,1176,1177,1178,1179,1180,1181,1182,1183,1184,1185,1186,1187,1188,1189,1190,1191,1192,1193,1194,1195,1196,1197,1198,1199,1200,1201,1202,1203,1204,1205,1206,1207,1208,1209,1210,1211,1212,1213,1214,1215,1216,1217,1218,1219,1220,1221,1222,1223,1224,1225,1226,1227,1228,1229,1230,1231,1232,1233,1234,1235,1236,1237,1238,1239,1240,1241,1242,1243,1244,1245,1246,1247,1248,1249,1250,1251,1252,1253,1254,1255,1256,1257,1258,1259,1260,1261,1262,1263,1264,1265,1266,1267,1268,1269,1270,1271,1272,1273,1274,1275,1276,1277,1278,1279,1280,1281,1282,1283,1284,1285,1286,1287,1288,1289,1290,1291,1292,1293,1294,1295,1296,1297,1298,1299,1300,1301,1302,1303,1304,1305,1306,1307,1308,1309,1310,1311,1312,1313,1314,1315,1316,1317,1318,1319,1320,1321,1322,1323,1324,1325,1326,1327,1328,1329,1330,1331,1332,1333,1334,1335,1336,1337,1338,1339,1340,1341,1342,1343,1344,1345,1346,1347,1348,1349,1350,1351,1352,1353,1354,1355,1356,1357,1358,1359,1360,1361,1362,1363,1364,1365,1366,1367,1368,1369,1370,1371,1372,1373,1374,1375,1376,1377,1378,1379,1380,1381,1384,1385,1387,1390,1391,1393,1396,1397,1399,1402,1403,1405,1408,1409,1411,1414,1415,1417,1420,1421,1423,1426,1427,1429,1432,1433,1435,1438,1439,1441,1444,1445,1447,1450,1451,1453,1456,1457,1459,1462,1463,1465,1468,1469,1471,1474,1475,1477,1480,1481,1483,1486,1487,1489,1492,1493,1495,1498,1499,1501,1504,1505,1507,1510,1511,1513,1516,1517,1519,1522,1523,1525,1528,1529,1531,1534,1535,1537,1540,1541,1543,1546,1547,1549,1552,1553,1555,1558,1559,1561,1564,1565,1567,1570,1571,1573,1576,1577,1579,1582,1583,1585,1588,1589,1591,1594,1595,1597,1600,1601,1603,1606,1607,1609,1612,1613,1615,1618,1619,1621,1624,1625,1627,1630,1631,1633,1636,1637,1639,1642,1643,1645,1648,1649,1651,1654,1655,1657,1660,1661,1663,1666,1667,1669,1672,1673,1675,1678,1679,1681,1684,1685,1687,1690,1691,1693,1696,1697,1699,1702,1703,1705,1708,1709,1711,1714,1715,1717,1720,1721,1723,1726,1727,1729,1732,1733,1735,1738,1739,1741,1744,1745,1747,1750,1751,1753,1756,1757,1759,1762,1763,1765,1768,1769,1771,1774,1775,1777,1780,1781,1783,1786,1787,1789,1792,1793,1795,1798,1799,1801,1804,1805,1807,1810,1811,1813,1816,1817,1819,1822,1823,1825,1828,1829,1831,1834,1835,1837,1840,1841,1843,1846,1847,1849,1852,1853,1855,1858,1859,1861,1882,1883,1884,1917,1918,1919,1952,1953,1954,1955,1987,1988,1989,1990,2022,2023,2024,2025,2026,2057,2058,2059,2060,2061,2092,2093,2094,2095,2096,2097,2127,2128,2129,2130,2131,2132,2162,2163,2164,2165,2166,2167,2168,2197,2198,2199,2200,2201,2202,2203,2232,2233,2234,2235,2236,2237,2238,2239,2267,2268,2269,2270,2271,2272,2273,2274,2302,2303,2304,2305,2306,2307,2308,2309,2337,2338,2339,2340,2341,2342,2343,2344,2477,2478,2479,2512,2513,2514,2547,2548,2549,2550,2582,2583,2584,2585,2617,2618,2619,2620,2621,2652,2653,2654,2655,2656,2687,2688,2689,2690,2691,2692,2722,2723,2724,2725,2726,2727,2757,2758,2759,2760,2761,2762,2763,2792,2793,2794,2795,2796,2797,2798,2827,2828,2829,2830,2831,2832,2833,2834,2862,2863,2864,2865,2866,2867,2868,2869,2897,2898,2899,2900,2901,2902,2903,2904,2932,2933,2934,2935,2936,2937,2938,2939,3819,3826,3866,3933,4037,4055,4059,4063,4067,4071,4075,4079,4084,4085,4086,4087,4088,4091,4092,4094,4095,4096,4608,4616,4648,4649,4664,4665,4667,4683,4690,4691,4692,4693,4739,4800,5002,5010,5018,5026,5042,5240,5282,5386,5433,5443,5463,5466,5467,5468,5470,5478,5479,5481,5482,5483,5484,5485,5486,5487,5488,5489,5490,5491,5492,5495,5499,5503,5507,5511,5515,5517,5518,5519,5520,5521,5522,5523,5524,5532,5535,5536,5537,5539,5540,5548,5549,5551,5552,5553,5554,5555,5556,5557,5558,5559,5560,5561,5562,5565,5569,5573,5577,5581,5586,5587,5588,5589,5590,5591,5592,5593,5594,5601,5604,5605,5606,5608,5616,5617,5619,5620,5621,5622,5623,5624,5625,5626,5627,5628,5629,5630,5633,5636,5637,5638,5640,5648,5649,5651,5652,5653,5654,5655,5656,5657,5658,5659,5660,5661,5662,5665,5668,5669,5670,5672,5680,5681,5683,5684,5685,5686,5687,5688,5689,5690,5691,5692,5693,5694,5697,5700,5701,5702,5704,5712,5713,5715,5716,5717,5718,5719,5720,5721,5722,5723,5724,5725,5726,5729,5732,5733,5734,5736,5744,5745,5747,5748,5749,5750,5751,5752,5753,5754,5755,5756,5757,5758,5759,5760,5761,5762,5763,5764,5768,5772,5776,5780,5784,5788,5792,5796,5800,5804,5808,5812,5816,5820,5869,5877,5881,5885,5889,5893,5897,6538,6539,6540,6541,6542,6555,6556,6557,6558,6559,6572,6573,6574,6575,6576,6589,6590,6591,6592,6593,6606,6607,6608,6609,6610,6623,6624,6625,6626,6627,6636,6644,6650,6653,6682,6701,6738,6768) have mixed types.Specify dtype option on import or set low_memory=False.\n",
      "  interactivity=interactivity, compiler=compiler, result=result)\n"
     ]
    }
   ],
   "source": [
    "df_beha = pd.read_csv('../../../data/Behavioral/AllData.csv')#, nrows=1000)\n",
    "\n",
    "df_psd_cluster = pd.read_csv(\"../../../data/EEG/RestingEEG_PSD_Cluster.csv\") #, nrows=1000)\n",
    "df_psd_channel = pd.read_csv(\"../../../data/EEG/RestingEEG_PSD_Channel.csv\") #, nrows=5)\n",
    "df_spectro_cluster = pd.read_csv(\"../../../data/EEG/RestingEEG_Spectro_Cluster.csv\") #, nrows=1000)\n",
    "df_spectro_channel = pd.read_csv(\"../../../data/EEG/RestingEEG_Spectro_Channel.csv\") #, nrows=5)\n",
    "\n",
    "df_microstate = pd.read_csv(\"../../../data/EEG/RestingEEG_Microstates.csv\") #, nrows=5)"
   ]
  },
  {
   "cell_type": "code",
   "execution_count": 4,
   "metadata": {},
   "outputs": [
    {
     "data": {
      "text/html": [
       "<div>\n",
       "<style scoped>\n",
       "    .dataframe tbody tr th:only-of-type {\n",
       "        vertical-align: middle;\n",
       "    }\n",
       "\n",
       "    .dataframe tbody tr th {\n",
       "        vertical-align: top;\n",
       "    }\n",
       "\n",
       "    .dataframe thead th {\n",
       "        text-align: right;\n",
       "    }\n",
       "</style>\n",
       "<table border=\"1\" class=\"dataframe\">\n",
       "  <thead>\n",
       "    <tr style=\"text-align: right;\">\n",
       "      <th></th>\n",
       "      <th>Patient_ID</th>\n",
       "      <th>Age</th>\n",
       "    </tr>\n",
       "  </thead>\n",
       "  <tbody>\n",
       "    <tr>\n",
       "      <th>9</th>\n",
       "      <td>NDARCF462HNM</td>\n",
       "      <td>14.216632</td>\n",
       "    </tr>\n",
       "    <tr>\n",
       "      <th>11</th>\n",
       "      <td>NDARFC233RND</td>\n",
       "      <td>9.153661</td>\n",
       "    </tr>\n",
       "    <tr>\n",
       "      <th>22</th>\n",
       "      <td>NDARDT800YVF</td>\n",
       "      <td>17.510381</td>\n",
       "    </tr>\n",
       "    <tr>\n",
       "      <th>25</th>\n",
       "      <td>NDARZT011LBZ</td>\n",
       "      <td>7.760209</td>\n",
       "    </tr>\n",
       "    <tr>\n",
       "      <th>26</th>\n",
       "      <td>NDARKV482FU9</td>\n",
       "      <td>10.977298</td>\n",
       "    </tr>\n",
       "    <tr>\n",
       "      <th>...</th>\n",
       "      <td>...</td>\n",
       "      <td>...</td>\n",
       "    </tr>\n",
       "    <tr>\n",
       "      <th>2088</th>\n",
       "      <td>NDARAV069HGT</td>\n",
       "      <td>13.896189</td>\n",
       "    </tr>\n",
       "    <tr>\n",
       "      <th>2089</th>\n",
       "      <td>NDARZC497BFU</td>\n",
       "      <td>17.419917</td>\n",
       "    </tr>\n",
       "    <tr>\n",
       "      <th>2090</th>\n",
       "      <td>NDARDZ737LG9</td>\n",
       "      <td>13.031143</td>\n",
       "    </tr>\n",
       "    <tr>\n",
       "      <th>2094</th>\n",
       "      <td>NDARRT283RHB</td>\n",
       "      <td>10.712069</td>\n",
       "    </tr>\n",
       "    <tr>\n",
       "      <th>2095</th>\n",
       "      <td>NDARYG879ZM4</td>\n",
       "      <td>13.701346</td>\n",
       "    </tr>\n",
       "  </tbody>\n",
       "</table>\n",
       "<p>513 rows × 2 columns</p>\n",
       "</div>"
      ],
      "text/plain": [
       "        Patient_ID        Age\n",
       "9     NDARCF462HNM  14.216632\n",
       "11    NDARFC233RND   9.153661\n",
       "22    NDARDT800YVF  17.510381\n",
       "25    NDARZT011LBZ   7.760209\n",
       "26    NDARKV482FU9  10.977298\n",
       "...            ...        ...\n",
       "2088  NDARAV069HGT  13.896189\n",
       "2089  NDARZC497BFU  17.419917\n",
       "2090  NDARDZ737LG9  13.031143\n",
       "2094  NDARRT283RHB  10.712069\n",
       "2095  NDARYG879ZM4  13.701346\n",
       "\n",
       "[513 rows x 2 columns]"
      ]
     },
     "execution_count": 4,
     "metadata": {},
     "output_type": "execute_result"
    }
   ],
   "source": [
    "# Extract relevant info from the Behavioral data \n",
    "y_labels = df_beha[[\"Patient_ID\", \"Age\", \"DX_01_Cat\"]]\n",
    "y_labels_healthy = y_labels[y_labels[\"DX_01_Cat\"].str.contains(\"No Diagnosis Given\") == True]\n",
    "\n",
    "y_labels = y_labels[[\"Patient_ID\", \"Age\"]]\n",
    "y_labels_healthy = y_labels_healthy[[\"Patient_ID\", \"Age\"]]\n",
    "y_labels_healthy"
   ]
  },
  {
   "cell_type": "code",
   "execution_count": 5,
   "metadata": {},
   "outputs": [
    {
     "name": "stdout",
     "output_type": "stream",
     "text": [
      "Original lengths: 1485(psd), 1485(spectro), 1108(micro)\n",
      "Only healthy people, resulting lengths: 174(psd), 174(spectro), 128(micro)\n",
      "Replace NaN by median, resulting lenghts: 174(psd), 174(spectro), 128(micro)\n"
     ]
    }
   ],
   "source": [
    "df_psd_cluster.rename(columns={'id': 'Patient_ID'}, inplace=True)\n",
    "df_spectro_cluster.rename(columns={'id': 'Patient_ID'}, inplace=True)\n",
    "df_microstate.rename(columns={'id': 'Patient_ID'}, inplace=True)\n",
    "print(\"Original lengths: \" + str(len(df_psd_cluster)) + \"(psd), \" + \\\n",
    "     str(len(df_spectro_cluster)) + \"(spectro), \" + str(len(df_microstate)) + \"(micro)\")\n",
    "\n",
    "# Aggregate with label\n",
    "df_label_psd_cluster = pd.merge(y_labels_healthy, df_psd_cluster, on='Patient_ID')\n",
    "df_label_spectro_cluster = pd.merge(y_labels_healthy, df_spectro_cluster, on='Patient_ID')\n",
    "df_label_microstate = pd.merge(y_labels_healthy, df_microstate, on='Patient_ID')\n",
    "print(\"Only healthy people, resulting lengths: \" + str(len(df_label_psd_cluster)) + \"(psd), \" + \\\n",
    "     str(len(df_label_spectro_cluster)) + \"(spectro), \" + str(len(df_label_microstate)) + \"(micro)\")\n",
    "\n",
    "# Drop NaN values\n",
    "df_label_psd_cluster = fill_with_median(df_label_psd_cluster)\n",
    "df_label_spectro_cluster = fill_with_median(df_label_spectro_cluster)\n",
    "df_label_microstate = fill_with_median(df_label_microstate)\n",
    "print(\"Replace NaN by median, resulting lenghts: \" + str(len(df_label_psd_cluster)) + \"(psd), \" + \\\n",
    "     str(len(df_label_spectro_cluster)) + \"(spectro), \" + str(len(df_label_microstate)) + \"(micro)\")"
   ]
  },
  {
   "cell_type": "code",
   "execution_count": 8,
   "metadata": {},
   "outputs": [],
   "source": [
    "less_18 = df_label_spectro_cluster['Age'] <= 18.0"
   ]
  },
  {
   "cell_type": "code",
   "execution_count": 9,
   "metadata": {},
   "outputs": [],
   "source": [
    "df_label_spectro_cluster = df_label_spectro_cluster[less_18]"
   ]
  },
  {
   "cell_type": "code",
   "execution_count": 10,
   "metadata": {},
   "outputs": [],
   "source": [
    "test_ratio = 0.2"
   ]
  },
  {
   "cell_type": "code",
   "execution_count": 11,
   "metadata": {},
   "outputs": [
    {
     "name": "stdout",
     "output_type": "stream",
     "text": [
      "\n",
      "---- Split into Train and Test data ----\n",
      "\n"
     ]
    }
   ],
   "source": [
    "# Define Train and Test data \n",
    "print()\n",
    "print(\"---- Split into Train and Test data ----\")\n",
    "print()\n",
    "\n",
    "from sklearn.model_selection import train_test_split\n",
    "x_train , x_test, y_train , y_test = \\\n",
    "train_test_split(df_label_spectro_cluster.drop(['Age', 'Patient_ID'], axis=1), df_label_spectro_cluster[['Age']], test_size=0.2, random_state = 0)\n",
    "\n"
   ]
  },
  {
   "cell_type": "code",
   "execution_count": 12,
   "metadata": {},
   "outputs": [
    {
     "name": "stdout",
     "output_type": "stream",
     "text": [
      "[  0   1   2   3   4   5   6   7   8   9  10  11  12  13  14  15  16  17\n",
      "  18  19  20  21  22  23  24  27  28  29  30  31  33  34  37  38  39  40\n",
      "  42  43  44  45  46  47  48  49  50  51  52  53  54  56  58  60  61  62\n",
      "  63  64  65  66  67  68  69  70  71  72  73  74  75  76  77  78  79  80\n",
      "  82  83  84  85  86  87  88  91  92  93  94  95  96  97  98  99 100 101\n",
      " 102 103 104 105 106 107 108 109 110 111 112 113 114 115 116 117 118 119\n",
      " 120 121 122 123 124 125 126 127 128 130 131 132 133]\n",
      "(34, 300)\n",
      "(34, 1)\n",
      "(121, 300)\n",
      "(121, 1)\n"
     ]
    }
   ],
   "source": [
    "forest = IsolationForest()\n",
    "forest.fit(x_train)\n",
    "\n",
    "# Outlier indices for training\n",
    "outliers_training = forest.predict(x_train)\n",
    "outliers_training_indices = np.argwhere(outliers_training == 1).flatten()\n",
    "\n",
    "# Drop signal outliers in training data\n",
    "x_train = x_train[outliers_training == 1]\n",
    "y_train = y_train[outliers_training == 1]\n",
    "#x_train, y_train = drop_outliers_samples_isolation_forest(x_train, y_train)\n",
    "print(outliers_training_indices)\n",
    "print(x_test.shape)\n",
    "print(y_test.shape)\n",
    "print(x_train.shape)\n",
    "print(y_train.shape)"
   ]
  },
  {
   "cell_type": "code",
   "execution_count": 13,
   "metadata": {},
   "outputs": [
    {
     "name": "stdout",
     "output_type": "stream",
     "text": [
      "(34, 300)\n",
      "(34, 1)\n",
      "(121, 300)\n",
      "(121, 1)\n"
     ]
    }
   ],
   "source": [
    "# Feature Scaling\n",
    "scaler = StandardScaler()\n",
    "scaler.fit(x_train)\n",
    "x_train = pd.DataFrame(scaler.transform(x_train), columns=x_train.columns, index=x_train.index)\n",
    "x_test = pd.DataFrame(scaler.transform(x_test), columns=x_test.columns, index=x_test.index)\n",
    "\n",
    "print(x_test.shape)\n",
    "print(y_test.shape)\n",
    "print(x_train.shape)\n",
    "print(y_train.shape)"
   ]
  },
  {
   "cell_type": "code",
   "execution_count": 14,
   "metadata": {
    "scrolled": true
   },
   "outputs": [
    {
     "name": "stderr",
     "output_type": "stream",
     "text": [
      "/Users/pldelacour/anaconda3/lib/python3.7/site-packages/sklearn/model_selection/_search.py:823: FutureWarning: The parameter 'iid' is deprecated in 0.22 and will be removed in 0.24.\n",
      "  \"removed in 0.24.\", FutureWarning\n",
      "/Users/pldelacour/anaconda3/lib/python3.7/site-packages/sklearn/model_selection/_search.py:739: DataConversionWarning: A column-vector y was passed when a 1d array was expected. Please change the shape of y to (n_samples,), for example using ravel().\n",
      "  self.best_estimator_.fit(X, y, **fit_params)\n"
     ]
    },
    {
     "name": "stdout",
     "output_type": "stream",
     "text": [
      "Best parameters for Random Forest: {'max_depth': 15, 'max_leaf_nodes': 200, 'min_samples_split': 2, 'n_estimators': 1000}\n"
     ]
    }
   ],
   "source": [
    "rdf = fit_random_forest_with_grid_search(x_train, y_train)"
   ]
  },
  {
   "cell_type": "code",
   "execution_count": 22,
   "metadata": {},
   "outputs": [
    {
     "name": "stdout",
     "output_type": "stream",
     "text": [
      "/Users/pldelacour/Documents/PL_Ecole/data_sc_lab/data_sc_lab/task_01/age_residuals/images\n"
     ]
    }
   ],
   "source": [
    "cd ../age_residuals/images"
   ]
  },
  {
   "cell_type": "code",
   "execution_count": 23,
   "metadata": {},
   "outputs": [
    {
     "data": {
      "image/png": "[encoded data removed]",
      "text/plain": [
       "<Figure size 432x288 with 1 Axes>"
      ]
     },
     "metadata": {
      "needs_background": "light"
     },
     "output_type": "display_data"
    }
   ],
   "source": [
    "#fig, ax = plt.subplots()\n",
    "plt.plot(rdf.predict(x_train) , y_train , 'o' , label = 'Train set ')\n",
    "plt.plot(rdf.predict(x_test), y_test , 'o' , label = 'Test set')\n",
    "line = np.linspace(np.min(y_train) , np.max(y_train) , 100)\n",
    "plt.plot(line , line)\n",
    "plt.title('Prediction with Random Forest')\n",
    "plt.xlabel('y_pred')\n",
    "plt.ylabel('y_true')\n",
    "plt.legend()\n",
    "plt.savefig('age_prediction_with_RF.png')\n",
    "#ax.legend()"
   ]
  },
  {
   "cell_type": "code",
   "execution_count": 19,
   "metadata": {},
   "outputs": [],
   "source": [
    "#SWAN_IN_Avg\n",
    "#SWAN_HY_Avg\n",
    "#SWAN_Avg"
   ]
  },
  {
   "cell_type": "code",
   "execution_count": 25,
   "metadata": {},
   "outputs": [],
   "source": [
    "s_in = df_beha[['SWAN_IN_Avg' , 'Age', 'Patient_ID']]\n",
    "s_HY = df_beha[['SWAN_HY_Avg' , 'Age', 'Patient_ID']]\n",
    "#s_in.isnull().values.sum()\n",
    "#df_beha[\"DX_01\"]\n",
    "\n",
    "y_labels = df_beha[[\"Patient_ID\", \"Age\", \"DX_01\"]]\n",
    "healt_ind = (y_labels[\"DX_01\"].str.contains(\"No Diagnosis Given\") == True)\n",
    "ADHD_ind = (y_labels[\"DX_01\"].str.contains('ADHD') == True)\n",
    "\n",
    "s_in_remain = s_in[ADHD_ind]\n",
    "s_HY_remain = s_HY[ADHD_ind]\n",
    "\n",
    "s_in_remain = s_in_remain[s_in_remain['SWAN_IN_Avg'].isnull()==False]\n",
    "s_HY_remain = s_HY_remain[s_HY_remain['SWAN_HY_Avg'].isnull()==False]"
   ]
  },
  {
   "cell_type": "code",
   "execution_count": 26,
   "metadata": {},
   "outputs": [
    {
     "data": {
      "text/html": [
       "<div>\n",
       "<style scoped>\n",
       "    .dataframe tbody tr th:only-of-type {\n",
       "        vertical-align: middle;\n",
       "    }\n",
       "\n",
       "    .dataframe tbody tr th {\n",
       "        vertical-align: top;\n",
       "    }\n",
       "\n",
       "    .dataframe thead th {\n",
       "        text-align: right;\n",
       "    }\n",
       "</style>\n",
       "<table border=\"1\" class=\"dataframe\">\n",
       "  <thead>\n",
       "    <tr style=\"text-align: right;\">\n",
       "      <th></th>\n",
       "      <th>SWAN_IN_Avg</th>\n",
       "      <th>Age</th>\n",
       "      <th>Patient_ID</th>\n",
       "      <th>eyesclosed_fband_delta_absmean_lfront</th>\n",
       "      <th>eyesclosed_fband_delta_absmean_mfront</th>\n",
       "      <th>eyesclosed_fband_delta_absmean_rfront</th>\n",
       "      <th>eyesclosed_fband_delta_absmean_lpari</th>\n",
       "      <th>eyesclosed_fband_delta_absmean_mpari</th>\n",
       "      <th>eyesclosed_fband_delta_absmean_rpari</th>\n",
       "      <th>eyesclosed_fband_delta_relmean_lfront</th>\n",
       "      <th>...</th>\n",
       "      <th>eyesopen_fooof_peak_freq_rfront</th>\n",
       "      <th>eyesopen_fooof_peak_freq_lpari</th>\n",
       "      <th>eyesopen_fooof_peak_freq_mpari</th>\n",
       "      <th>eyesopen_fooof_peak_freq_rpari</th>\n",
       "      <th>eyesopen_fooof_peak_amplitude_lfront</th>\n",
       "      <th>eyesopen_fooof_peak_amplitude_mfront</th>\n",
       "      <th>eyesopen_fooof_peak_amplitude_rfront</th>\n",
       "      <th>eyesopen_fooof_peak_amplitude_lpari</th>\n",
       "      <th>eyesopen_fooof_peak_amplitude_mpari</th>\n",
       "      <th>eyesopen_fooof_peak_amplitude_rpari</th>\n",
       "    </tr>\n",
       "  </thead>\n",
       "  <tbody>\n",
       "    <tr>\n",
       "      <th>0</th>\n",
       "      <td>1.333333</td>\n",
       "      <td>7.987451</td>\n",
       "      <td>NDARUY876VL1</td>\n",
       "      <td>1.281869</td>\n",
       "      <td>1.229748</td>\n",
       "      <td>1.905450</td>\n",
       "      <td>1.768091</td>\n",
       "      <td>1.484286</td>\n",
       "      <td>0.756394</td>\n",
       "      <td>13.132905</td>\n",
       "      <td>...</td>\n",
       "      <td>5.604535</td>\n",
       "      <td>5.602136</td>\n",
       "      <td>4.096616</td>\n",
       "      <td>5.084040</td>\n",
       "      <td>0.048655</td>\n",
       "      <td>0.233294</td>\n",
       "      <td>0.282735</td>\n",
       "      <td>0.256238</td>\n",
       "      <td>0.175123</td>\n",
       "      <td>0.304286</td>\n",
       "    </tr>\n",
       "    <tr>\n",
       "      <th>1</th>\n",
       "      <td>0.888888</td>\n",
       "      <td>12.357403</td>\n",
       "      <td>NDARLE953JYU</td>\n",
       "      <td>3.519179</td>\n",
       "      <td>5.179898</td>\n",
       "      <td>3.495491</td>\n",
       "      <td>3.629303</td>\n",
       "      <td>4.704654</td>\n",
       "      <td>2.793679</td>\n",
       "      <td>7.212246</td>\n",
       "      <td>...</td>\n",
       "      <td>11.078667</td>\n",
       "      <td>10.814422</td>\n",
       "      <td>10.176920</td>\n",
       "      <td>11.290443</td>\n",
       "      <td>0.718186</td>\n",
       "      <td>0.358765</td>\n",
       "      <td>0.504265</td>\n",
       "      <td>0.691663</td>\n",
       "      <td>0.568579</td>\n",
       "      <td>0.563663</td>\n",
       "    </tr>\n",
       "    <tr>\n",
       "      <th>2</th>\n",
       "      <td>-0.555555</td>\n",
       "      <td>16.039356</td>\n",
       "      <td>NDARVN469KP6</td>\n",
       "      <td>1.551702</td>\n",
       "      <td>2.188666</td>\n",
       "      <td>1.582556</td>\n",
       "      <td>2.293936</td>\n",
       "      <td>4.226975</td>\n",
       "      <td>1.248253</td>\n",
       "      <td>2.880586</td>\n",
       "      <td>...</td>\n",
       "      <td>8.568319</td>\n",
       "      <td>8.717960</td>\n",
       "      <td>8.949643</td>\n",
       "      <td>8.751536</td>\n",
       "      <td>0.419412</td>\n",
       "      <td>0.384375</td>\n",
       "      <td>0.345518</td>\n",
       "      <td>0.335640</td>\n",
       "      <td>0.226452</td>\n",
       "      <td>0.496402</td>\n",
       "    </tr>\n",
       "    <tr>\n",
       "      <th>3</th>\n",
       "      <td>1.333333</td>\n",
       "      <td>8.784280</td>\n",
       "      <td>NDARZY019GNZ</td>\n",
       "      <td>6.233496</td>\n",
       "      <td>6.755708</td>\n",
       "      <td>9.088227</td>\n",
       "      <td>9.852386</td>\n",
       "      <td>14.023665</td>\n",
       "      <td>14.113028</td>\n",
       "      <td>10.615370</td>\n",
       "      <td>...</td>\n",
       "      <td>7.349352</td>\n",
       "      <td>7.500019</td>\n",
       "      <td>7.532849</td>\n",
       "      <td>7.426925</td>\n",
       "      <td>0.829479</td>\n",
       "      <td>0.856743</td>\n",
       "      <td>0.881540</td>\n",
       "      <td>0.848050</td>\n",
       "      <td>1.112069</td>\n",
       "      <td>0.823531</td>\n",
       "    </tr>\n",
       "    <tr>\n",
       "      <th>4</th>\n",
       "      <td>1.111111</td>\n",
       "      <td>7.218571</td>\n",
       "      <td>NDARHZ439EBY</td>\n",
       "      <td>5.593511</td>\n",
       "      <td>7.239707</td>\n",
       "      <td>5.585892</td>\n",
       "      <td>14.176308</td>\n",
       "      <td>17.896530</td>\n",
       "      <td>5.948757</td>\n",
       "      <td>8.941819</td>\n",
       "      <td>...</td>\n",
       "      <td>8.689175</td>\n",
       "      <td>8.533435</td>\n",
       "      <td>8.744619</td>\n",
       "      <td>8.605137</td>\n",
       "      <td>0.862066</td>\n",
       "      <td>0.304196</td>\n",
       "      <td>0.846766</td>\n",
       "      <td>1.123680</td>\n",
       "      <td>1.078171</td>\n",
       "      <td>1.022903</td>\n",
       "    </tr>\n",
       "    <tr>\n",
       "      <th>5</th>\n",
       "      <td>0.777777</td>\n",
       "      <td>9.252338</td>\n",
       "      <td>NDARKM551DA4</td>\n",
       "      <td>10.323734</td>\n",
       "      <td>7.874292</td>\n",
       "      <td>12.552907</td>\n",
       "      <td>16.022016</td>\n",
       "      <td>14.545118</td>\n",
       "      <td>14.128739</td>\n",
       "      <td>11.239019</td>\n",
       "      <td>...</td>\n",
       "      <td>9.081775</td>\n",
       "      <td>9.040290</td>\n",
       "      <td>8.946450</td>\n",
       "      <td>8.923405</td>\n",
       "      <td>0.209240</td>\n",
       "      <td>0.670954</td>\n",
       "      <td>0.587676</td>\n",
       "      <td>0.913860</td>\n",
       "      <td>0.943789</td>\n",
       "      <td>0.828325</td>\n",
       "    </tr>\n",
       "  </tbody>\n",
       "</table>\n",
       "<p>6 rows × 303 columns</p>\n",
       "</div>"
      ],
      "text/plain": [
       "   SWAN_IN_Avg        Age    Patient_ID  \\\n",
       "0     1.333333   7.987451  NDARUY876VL1   \n",
       "1     0.888888  12.357403  NDARLE953JYU   \n",
       "2    -0.555555  16.039356  NDARVN469KP6   \n",
       "3     1.333333   8.784280  NDARZY019GNZ   \n",
       "4     1.111111   7.218571  NDARHZ439EBY   \n",
       "5     0.777777   9.252338  NDARKM551DA4   \n",
       "\n",
       "   eyesclosed_fband_delta_absmean_lfront  \\\n",
       "0                               1.281869   \n",
       "1                               3.519179   \n",
       "2                               1.551702   \n",
       "3                               6.233496   \n",
       "4                               5.593511   \n",
       "5                              10.323734   \n",
       "\n",
       "   eyesclosed_fband_delta_absmean_mfront  \\\n",
       "0                               1.229748   \n",
       "1                               5.179898   \n",
       "2                               2.188666   \n",
       "3                               6.755708   \n",
       "4                               7.239707   \n",
       "5                               7.874292   \n",
       "\n",
       "   eyesclosed_fband_delta_absmean_rfront  \\\n",
       "0                               1.905450   \n",
       "1                               3.495491   \n",
       "2                               1.582556   \n",
       "3                               9.088227   \n",
       "4                               5.585892   \n",
       "5                              12.552907   \n",
       "\n",
       "   eyesclosed_fband_delta_absmean_lpari  eyesclosed_fband_delta_absmean_mpari  \\\n",
       "0                              1.768091                              1.484286   \n",
       "1                              3.629303                              4.704654   \n",
       "2                              2.293936                              4.226975   \n",
       "3                              9.852386                             14.023665   \n",
       "4                             14.176308                             17.896530   \n",
       "5                             16.022016                             14.545118   \n",
       "\n",
       "   eyesclosed_fband_delta_absmean_rpari  \\\n",
       "0                              0.756394   \n",
       "1                              2.793679   \n",
       "2                              1.248253   \n",
       "3                             14.113028   \n",
       "4                              5.948757   \n",
       "5                             14.128739   \n",
       "\n",
       "   eyesclosed_fband_delta_relmean_lfront  ...  \\\n",
       "0                              13.132905  ...   \n",
       "1                               7.212246  ...   \n",
       "2                               2.880586  ...   \n",
       "3                              10.615370  ...   \n",
       "4                               8.941819  ...   \n",
       "5                              11.239019  ...   \n",
       "\n",
       "   eyesopen_fooof_peak_freq_rfront  eyesopen_fooof_peak_freq_lpari  \\\n",
       "0                         5.604535                        5.602136   \n",
       "1                        11.078667                       10.814422   \n",
       "2                         8.568319                        8.717960   \n",
       "3                         7.349352                        7.500019   \n",
       "4                         8.689175                        8.533435   \n",
       "5                         9.081775                        9.040290   \n",
       "\n",
       "   eyesopen_fooof_peak_freq_mpari  eyesopen_fooof_peak_freq_rpari  \\\n",
       "0                        4.096616                        5.084040   \n",
       "1                       10.176920                       11.290443   \n",
       "2                        8.949643                        8.751536   \n",
       "3                        7.532849                        7.426925   \n",
       "4                        8.744619                        8.605137   \n",
       "5                        8.946450                        8.923405   \n",
       "\n",
       "   eyesopen_fooof_peak_amplitude_lfront  eyesopen_fooof_peak_amplitude_mfront  \\\n",
       "0                              0.048655                              0.233294   \n",
       "1                              0.718186                              0.358765   \n",
       "2                              0.419412                              0.384375   \n",
       "3                              0.829479                              0.856743   \n",
       "4                              0.862066                              0.304196   \n",
       "5                              0.209240                              0.670954   \n",
       "\n",
       "   eyesopen_fooof_peak_amplitude_rfront  eyesopen_fooof_peak_amplitude_lpari  \\\n",
       "0                              0.282735                             0.256238   \n",
       "1                              0.504265                             0.691663   \n",
       "2                              0.345518                             0.335640   \n",
       "3                              0.881540                             0.848050   \n",
       "4                              0.846766                             1.123680   \n",
       "5                              0.587676                             0.913860   \n",
       "\n",
       "   eyesopen_fooof_peak_amplitude_mpari  eyesopen_fooof_peak_amplitude_rpari  \n",
       "0                             0.175123                             0.304286  \n",
       "1                             0.568579                             0.563663  \n",
       "2                             0.226452                             0.496402  \n",
       "3                             1.112069                             0.823531  \n",
       "4                             1.078171                             1.022903  \n",
       "5                             0.943789                             0.828325  \n",
       "\n",
       "[6 rows x 303 columns]"
      ]
     },
     "execution_count": 26,
     "metadata": {},
     "output_type": "execute_result"
    }
   ],
   "source": [
    "df_swan = pd.merge(s_in_remain , df_spectro_cluster, on='Patient_ID')\n",
    "df_swan.head(6)"
   ]
  },
  {
   "cell_type": "code",
   "execution_count": 27,
   "metadata": {
    "scrolled": true
   },
   "outputs": [
    {
     "name": "stdout",
     "output_type": "stream",
     "text": [
      "[[1.         0.13093404]\n",
      " [0.13093404 1.        ]]\n"
     ]
    },
    {
     "data": {
      "image/png": "[encoded data removed]",
      "text/plain": [
       "<Figure size 432x288 with 1 Axes>"
      ]
     },
     "metadata": {
      "needs_background": "light"
     },
     "output_type": "display_data"
    }
   ],
   "source": [
    "\n",
    "y_swan = df_swan[\"Age\"]\n",
    "X_swan = fill_with_median(df_swan.iloc[:,3:])\n",
    "swan = df_swan['SWAN_IN_Avg']\n",
    "res = np.asarray(y_swan).flatten() - rdf.predict(X_swan)\n",
    "plt.plot(res , swan , 'o')\n",
    "plt.title('Comparison of Age residuals and SWAN_IN')\n",
    "plt.xlabel('residuals in Age prediction')\n",
    "plt.ylabel('SWAN inattention Avg')\n",
    "plt.savefig('age_residuals_vs_swan_in.png')"
   ]
  },
  {
   "cell_type": "code",
   "execution_count": 30,
   "metadata": {
    "scrolled": true
   },
   "outputs": [
    {
     "name": "stdout",
     "output_type": "stream",
     "text": [
      "[[1.         0.13093404]\n",
      " [0.13093404 1.        ]]\n"
     ]
    }
   ],
   "source": [
    "## Correlation Matrix for the SWAN_IN VS Age_residuals\n",
    "corr_swan_in = np.corrcoef(res, swan)\n",
    "print(corr_swan_in)"
   ]
  },
  {
   "cell_type": "code",
   "execution_count": 37,
   "metadata": {},
   "outputs": [],
   "source": [
    "#from PIL import Image\n",
    "#import cv2"
   ]
  },
  {
   "cell_type": "code",
   "execution_count": 38,
   "metadata": {},
   "outputs": [],
   "source": [
    "#im = Image.fromarray(corr_swan_in)\n",
    "#im.save(\"corr_mat_SWAN_in.png\")"
   ]
  },
  {
   "cell_type": "code",
   "execution_count": null,
   "metadata": {},
   "outputs": [],
   "source": []
  },
  {
   "cell_type": "code",
   "execution_count": null,
   "metadata": {},
   "outputs": [],
   "source": []
  },
  {
   "cell_type": "code",
   "execution_count": 42,
   "metadata": {
    "scrolled": false
   },
   "outputs": [
    {
     "data": {
      "image/png": "[encoded data removed]",
      "text/plain": [
       "<Figure size 432x288 with 1 Axes>"
      ]
     },
     "metadata": {
      "needs_background": "light"
     },
     "output_type": "display_data"
    }
   ],
   "source": [
    "df_swan = pd.merge(s_HY_remain , df_spectro_cluster, on='Patient_ID')\n",
    "#df_swan_ADHD\n",
    "df_swan.head()\n",
    "y_swan = df_swan[\"Age\"]\n",
    "X_swan = fill_with_median(df_swan.iloc[:,3:])\n",
    "swan = df_swan['SWAN_HY_Avg']\n",
    "res = np.asarray(y_swan).flatten() - rdf.predict(X_swan)\n",
    "plt.plot(res , swan , 'o')\n",
    "\n",
    "plt.title('Comparison of Age residuals and SWAN Hyperactivity')\n",
    "plt.xlabel('residuals in Age prediction')\n",
    "plt.ylabel('SWAN hyperactivity Avg')\n",
    "plt.savefig('age_residuals_vs_swan_HY.png')\n",
    "\n",
    "#print(np.corrcoef(res, swan))\n",
    "#mean(swan)*np.one(len(r))\n",
    "#plt.plot()\n",
    "#plt.plot(r , np.mean(swan)*np.ones(len(r)) , ='red')"
   ]
  },
  {
   "cell_type": "code",
   "execution_count": 41,
   "metadata": {},
   "outputs": [
    {
     "name": "stdout",
     "output_type": "stream",
     "text": [
      "[[ 1.         -0.33601421]\n",
      " [-0.33601421  1.        ]]\n"
     ]
    }
   ],
   "source": [
    "corr_swan_hy = np.corrcoef(res, swan)\n",
    "print(corr_swan_hy)"
   ]
  },
  {
   "cell_type": "markdown",
   "metadata": {},
   "source": [
    "## Analyse residual distributions"
   ]
  },
  {
   "cell_type": "code",
   "execution_count": 15,
   "metadata": {},
   "outputs": [],
   "source": [
    "# Healthy people \n",
    "residuals_healthy = np.asarray(y_test).flatten() - rdf.predict(x_test)"
   ]
  },
  {
   "cell_type": "code",
   "execution_count": 16,
   "metadata": {},
   "outputs": [],
   "source": [
    "# DX_01 ADHD people\n",
    "y_adhd_dx_01 = df_beha[df_beha[\"DX_01\"].str.contains(\"ADHD\") == True]\n",
    "y_adhd_dx_01 = y_adhd_dx_01[[\"Patient_ID\", \"Age\"]]\n",
    "\n",
    "X_adhd_dx_01 = pd.merge(y_adhd_dx_01, df_spectro_cluster, on='Patient_ID')\n",
    "y_adhd_dx_01 = X_adhd_dx_01[\"Age\"]\n",
    "X_adhd_dx_01 = fill_with_median(X_adhd_dx_01.iloc[:,2:])\n",
    "\n",
    "residuals_adhd_dx_01 = np.asarray(y_adhd_dx_01).flatten() - rdf.predict(X_adhd_dx_01)"
   ]
  },
  {
   "cell_type": "code",
   "execution_count": 17,
   "metadata": {},
   "outputs": [],
   "source": [
    "# DX_02 ADHD people\n",
    "y_adhd_dx_02 = df_beha[df_beha[\"DX_02\"].str.contains(\"ADHD\") == True]\n",
    "y_adhd_dx_02 = y_adhd_dx_02[[\"Patient_ID\", \"Age\"]]\n",
    "\n",
    "X_adhd_dx_02 = pd.merge(y_adhd_dx_02, df_spectro_cluster, on='Patient_ID')\n",
    "y_adhd_dx_02 = X_adhd_dx_02[\"Age\"]\n",
    "X_adhd_dx_02 = fill_with_median(X_adhd_dx_02.iloc[:,2:])\n",
    "\n",
    "residuals_adhd_dx_02 = np.asarray(y_adhd_dx_02).flatten() - rdf.predict(X_adhd_dx_02)"
   ]
  },
  {
   "cell_type": "code",
   "execution_count": 18,
   "metadata": {},
   "outputs": [],
   "source": [
    "# DX_03 ADHD people\n",
    "y_adhd_dx_03 = df_beha[df_beha[\"DX_03\"].str.contains(\"ADHD\") == True]\n",
    "y_adhd_dx_03 = y_adhd_dx_03[[\"Patient_ID\", \"Age\"]]\n",
    "\n",
    "X_adhd_dx_03 = pd.merge(y_adhd_dx_03, df_spectro_cluster, on='Patient_ID')\n",
    "y_adhd_dx_03 = X_adhd_dx_03[\"Age\"]\n",
    "X_adhd_dx_03 = fill_with_median(X_adhd_dx_03.iloc[:,2:])\n",
    "\n",
    "residuals_adhd_dx_03 = np.asarray(y_adhd_dx_03).flatten() - rdf.predict(X_adhd_dx_03)"
   ]
  },
  {
   "cell_type": "code",
   "execution_count": null,
   "metadata": {},
   "outputs": [],
   "source": []
  }
 ],
 "metadata": {
  "kernelspec": {
   "display_name": "Python 3",
   "language": "python",
   "name": "python3"
  },
  "language_info": {
   "codemirror_mode": {
    "name": "ipython",
    "version": 3
   },
   "file_extension": ".py",
   "mimetype": "text/x-python",
   "name": "python",
   "nbconvert_exporter": "python",
   "pygments_lexer": "ipython3",
   "version": "3.7.1"
  }
 },
 "nbformat": 4,
 "nbformat_minor": 2
}
