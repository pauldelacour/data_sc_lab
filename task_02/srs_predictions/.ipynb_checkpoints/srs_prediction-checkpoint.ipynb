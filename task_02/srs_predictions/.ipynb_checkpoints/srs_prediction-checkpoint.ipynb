{
 "cells": [
  {
   "cell_type": "code",
   "execution_count": 65,
   "metadata": {
    "scrolled": true
   },
   "outputs": [
    {
     "name": "stdout",
     "output_type": "stream",
     "text": [
      "/Users/pldelacour/Documents/PL_Ecole/data_sc_lab/data_sc_lab/task_01/pipelines\n"
     ]
    }
   ],
   "source": [
    "cd ../../task_01/pipelines"
   ]
  },
  {
   "cell_type": "code",
   "execution_count": null,
   "metadata": {},
   "outputs": [],
   "source": [
    "#As discussed on friday, here are the scores of the autsim scale (SRS_total). \n",
    "#There are also 2 subscales added \n",
    "####(SRS_RRB= Restrictive and Repetitive Behaviors, \n",
    "#####SRS_SCI= Social Communication Index), \n",
    "##which might be related to different sources of variance in the dataset, b\n",
    "#ut in general, the total score is a more valid indicator auf autism."
   ]
  },
  {
   "cell_type": "code",
   "execution_count": null,
   "metadata": {},
   "outputs": [],
   "source": [
    "## Taking only patients with an SRS total score defined"
   ]
  },
  {
   "cell_type": "code",
   "execution_count": 66,
   "metadata": {},
   "outputs": [],
   "source": [
    "import numpy as np\n",
    "import pandas as pd\n",
    "import matplotlib.pyplot as plt\n",
    "from ipynb.fs.full.tool_functions import *\n",
    "from yellowbrick.regressor import AlphaSelection\n",
    "from sklearn.model_selection import train_test_split\n",
    "from sklearn.metrics import mean_squared_error\n",
    "import sklearn"
   ]
  },
  {
   "cell_type": "code",
   "execution_count": 81,
   "metadata": {},
   "outputs": [
    {
     "name": "stderr",
     "output_type": "stream",
     "text": [
      "/Users/pldelacour/anaconda3/lib/python3.7/site-packages/IPython/core/interactiveshell.py:3020: DtypeWarning: Columns (66,68,80,81,82,83,84,95,96,97,98,99,110,111,112,113,114,125,126,127,128,129,140,141,142,144,155,156,157,159,932,933,934,935,936,937,938,939,940,941,942,943,944,945,946,947,948,949,950,951,952,953,954,955,956,957,958,959,960,961,962,963,964,965,966,967,968,969,970,971,972,973,974,975,976,977,978,979,980,981,982,983,984,985,986,987,988,989,990,991,992,993,994,995,996,997,998,999,1000,1001,1002,1003,1004,1005,1006,1007,1008,1009,1010,1011,1012,1013,1014,1015,1016,1017,1018,1019,1020,1021,1022,1023,1024,1025,1026,1027,1028,1029,1030,1031,1032,1033,1034,1035,1036,1037,1038,1039,1040,1041,1042,1043,1044,1045,1046,1047,1048,1049,1050,1051,1052,1053,1054,1055,1056,1057,1058,1059,1060,1061,1062,1063,1064,1065,1066,1067,1068,1069,1070,1071,1072,1073,1074,1075,1076,1077,1078,1079,1080,1081,1082,1083,1084,1085,1086,1087,1088,1089,1090,1091,1092,1093,1094,1095,1096,1097,1098,1099,1100,1101,1102,1103,1104,1105,1106,1107,1108,1109,1110,1111,1112,1113,1114,1115,1116,1117,1118,1119,1120,1121,1122,1123,1124,1125,1126,1127,1128,1129,1130,1131,1132,1133,1134,1135,1136,1137,1138,1139,1140,1141,1142,1143,1144,1145,1146,1147,1148,1149,1150,1151,1152,1153,1154,1155,1156,1157,1158,1159,1160,1161,1162,1163,1164,1165,1166,1167,1168,1169,1170,1171,1172,1173,1174,1175,1176,1177,1178,1179,1180,1181,1182,1183,1184,1185,1186,1187,1188,1189,1190,1191,1192,1193,1194,1195,1196,1197,1198,1199,1200,1201,1202,1203,1204,1205,1206,1207,1208,1209,1210,1211,1212,1213,1214,1215,1216,1217,1218,1219,1220,1221,1222,1223,1224,1225,1226,1227,1228,1229,1230,1231,1232,1233,1234,1235,1236,1237,1238,1239,1240,1241,1242,1243,1244,1245,1246,1247,1248,1249,1250,1251,1252,1253,1254,1255,1256,1257,1258,1259,1260,1261,1262,1263,1264,1265,1266,1267,1268,1269,1270,1271,1272,1273,1274,1275,1276,1277,1278,1279,1280,1281,1282,1283,1284,1285,1286,1287,1288,1289,1290,1291,1292,1293,1294,1295,1296,1297,1298,1299,1300,1301,1302,1303,1304,1305,1306,1307,1308,1309,1310,1311,1312,1313,1314,1315,1316,1317,1318,1319,1320,1321,1322,1323,1324,1325,1326,1327,1328,1329,1330,1331,1332,1333,1334,1335,1336,1337,1338,1339,1340,1341,1342,1343,1344,1345,1346,1347,1348,1349,1350,1351,1352,1353,1354,1355,1356,1357,1358,1359,1360,1361,1362,1363,1364,1365,1366,1367,1368,1369,1370,1371,1372,1373,1374,1375,1376,1377,1378,1379,1380,1381,1384,1385,1387,1390,1391,1393,1396,1397,1399,1402,1403,1405,1408,1409,1411,1414,1415,1417,1420,1421,1423,1426,1427,1429,1432,1433,1435,1438,1439,1441,1444,1445,1447,1450,1451,1453,1456,1457,1459,1462,1463,1465,1468,1469,1471,1474,1475,1477,1480,1481,1483,1486,1487,1489,1492,1493,1495,1498,1499,1501,1504,1505,1507,1510,1511,1513,1516,1517,1519,1522,1523,1525,1528,1529,1531,1534,1535,1537,1540,1541,1543,1546,1547,1549,1552,1553,1555,1558,1559,1561,1564,1565,1567,1570,1571,1573,1576,1577,1579,1582,1583,1585,1588,1589,1591,1594,1595,1597,1600,1601,1603,1606,1607,1609,1612,1613,1615,1618,1619,1621,1624,1625,1627,1630,1631,1633,1636,1637,1639,1642,1643,1645,1648,1649,1651,1654,1655,1657,1660,1661,1663,1666,1667,1669,1672,1673,1675,1678,1679,1681,1684,1685,1687,1690,1691,1693,1696,1697,1699,1702,1703,1705,1708,1709,1711,1714,1715,1717,1720,1721,1723,1726,1727,1729,1732,1733,1735,1738,1739,1741,1744,1745,1747,1750,1751,1753,1756,1757,1759,1762,1763,1765,1768,1769,1771,1774,1775,1777,1780,1781,1783,1786,1787,1789,1792,1793,1795,1798,1799,1801,1804,1805,1807,1810,1811,1813,1816,1817,1819,1822,1823,1825,1828,1829,1831,1834,1835,1837,1840,1841,1843,1846,1847,1849,1852,1853,1855,1858,1859,1861,1882,1883,1884,1917,1918,1919,1952,1953,1954,1955,1987,1988,1989,1990,2022,2023,2024,2025,2026,2057,2058,2059,2060,2061,2092,2093,2094,2095,2096,2097,2127,2128,2129,2130,2131,2132,2162,2163,2164,2165,2166,2167,2168,2197,2198,2199,2200,2201,2202,2203,2232,2233,2234,2235,2236,2237,2238,2239,2267,2268,2269,2270,2271,2272,2273,2274,2302,2303,2304,2305,2306,2307,2308,2309,2337,2338,2339,2340,2341,2342,2343,2344,2477,2478,2479,2512,2513,2514,2547,2548,2549,2550,2582,2583,2584,2585,2617,2618,2619,2620,2621,2652,2653,2654,2655,2656,2687,2688,2689,2690,2691,2692,2722,2723,2724,2725,2726,2727,2757,2758,2759,2760,2761,2762,2763,2792,2793,2794,2795,2796,2797,2798,2827,2828,2829,2830,2831,2832,2833,2834,2862,2863,2864,2865,2866,2867,2868,2869,2897,2898,2899,2900,2901,2902,2903,2904,2932,2933,2934,2935,2936,2937,2938,2939,3819,3826,3866,3933,4037,4055,4059,4063,4067,4071,4075,4079,4084,4085,4086,4087,4088,4091,4092,4094,4095,4096,4608,4616,4648,4649,4664,4665,4667,4683,4690,4691,4692,4693,4739,4800,5002,5010,5018,5026,5042,5240,5282,5386,5433,5443,5463,5466,5467,5468,5470,5478,5479,5481,5482,5483,5484,5485,5486,5487,5488,5489,5490,5491,5492,5495,5499,5503,5507,5511,5515,5517,5518,5519,5520,5521,5522,5523,5524,5532,5535,5536,5537,5539,5540,5548,5549,5551,5552,5553,5554,5555,5556,5557,5558,5559,5560,5561,5562,5565,5569,5573,5577,5581,5586,5587,5588,5589,5590,5591,5592,5593,5594,5601,5604,5605,5606,5608,5616,5617,5619,5620,5621,5622,5623,5624,5625,5626,5627,5628,5629,5630,5633,5636,5637,5638,5640,5648,5649,5651,5652,5653,5654,5655,5656,5657,5658,5659,5660,5661,5662,5665,5668,5669,5670,5672,5680,5681,5683,5684,5685,5686,5687,5688,5689,5690,5691,5692,5693,5694,5697,5700,5701,5702,5704,5712,5713,5715,5716,5717,5718,5719,5720,5721,5722,5723,5724,5725,5726,5729,5732,5733,5734,5736,5744,5745,5747,5748,5749,5750,5751,5752,5753,5754,5755,5756,5757,5758,5759,5760,5761,5762,5763,5764,5768,5772,5776,5780,5784,5788,5792,5796,5800,5804,5808,5812,5816,5820,5869,5877,5881,5885,5889,5893,5897,6538,6539,6540,6541,6542,6555,6556,6557,6558,6559,6572,6573,6574,6575,6576,6589,6590,6591,6592,6593,6606,6607,6608,6609,6610,6623,6624,6625,6626,6627,6636,6644,6650,6653,6682,6701,6738,6768) have mixed types.Specify dtype option on import or set low_memory=False.\n",
      "  interactivity=interactivity, compiler=compiler, result=result)\n"
     ]
    }
   ],
   "source": [
    "df_beha = pd.read_csv('../../../data/Behavioral/AllData.csv')#, nrows=1000)\n",
    "\n",
    "df_spectro_cluster = pd.read_csv(\"../../../data/EEG/RestingEEG_Spectro_Cluster.csv\") #, nrows=1000)"
   ]
  },
  {
   "cell_type": "code",
   "execution_count": 82,
   "metadata": {},
   "outputs": [],
   "source": [
    "y_labels = df_beha[[\"Patient_ID\", \"Age\", \"DX_01\"]]\n",
    "healt_ind = (y_labels[\"DX_01\"].str.contains(\"No Diagnosis Given\") == True)\n",
    "ADHD_ind = (y_labels[\"DX_01\"].str.contains('ADHD') == True)\n",
    "keep = healt_ind | ADHD_ind"
   ]
  },
  {
   "cell_type": "code",
   "execution_count": 83,
   "metadata": {
    "scrolled": true
   },
   "outputs": [],
   "source": [
    "#df_beha = df_beha[keep]\n",
    "#df_spectro_cluster = df_spectro_cluster[keep]"
   ]
  },
  {
   "cell_type": "code",
   "execution_count": 84,
   "metadata": {},
   "outputs": [],
   "source": [
    "#scores of the autsim scale (SRS_total). \n",
    "#2 subscales added \n",
    "###### in general, the total score is a more valid indicator auf autism.\n",
    "s_tot = df_beha[['SRS_Total' , 'Age', 'Patient_ID']]\n",
    "#SRS_RRB= Restrictive and Repetitive Behaviors\n",
    "s_RRB = df_beha[['SRS_RRB' , 'Age', 'Patient_ID']]\n",
    "#SRS_SCI= Social Communication Index\n",
    "s_SCI =  df_beha[['SRS_SCI' , 'Age' , 'Patient_ID']]"
   ]
  },
  {
   "cell_type": "code",
   "execution_count": null,
   "metadata": {},
   "outputs": [],
   "source": []
  },
  {
   "cell_type": "markdown",
   "metadata": {},
   "source": [
    "## Taking Only people with SRS score defined "
   ]
  },
  {
   "cell_type": "code",
   "execution_count": 85,
   "metadata": {},
   "outputs": [],
   "source": [
    "all_SRS = ['SRS_Total' , 'SRS_RRB' , 'SRS_SCI']"
   ]
  },
  {
   "cell_type": "code",
   "execution_count": 86,
   "metadata": {
    "scrolled": true
   },
   "outputs": [
    {
     "data": {
      "text/plain": [
       "(1717, 5)"
      ]
     },
     "execution_count": 86,
     "metadata": {},
     "output_type": "execute_result"
    }
   ],
   "source": [
    "s = df_beha[['SRS_Total' , 'SRS_RRB' , 'SRS_SCI', 'Age', 'Patient_ID']]\n",
    "s = s[~s['SRS_Total'].isnull()]\n",
    "s.shape"
   ]
  },
  {
   "cell_type": "code",
   "execution_count": 87,
   "metadata": {},
   "outputs": [],
   "source": [
    "df_spectro_cluster.rename(columns={'id': 'Patient_ID'}, inplace=True)\n",
    "df_label_spectro_cluster = pd.merge(s, df_spectro_cluster, on='Patient_ID')\n",
    "\n",
    "df_label_spectro_cluster = fill_with_median(df_label_spectro_cluster)"
   ]
  },
  {
   "cell_type": "markdown",
   "metadata": {},
   "source": [
    "## Removing People younger than 18"
   ]
  },
  {
   "cell_type": "code",
   "execution_count": 88,
   "metadata": {},
   "outputs": [],
   "source": [
    "less_18 = df_label_spectro_cluster['Age'] <= 18.0\n",
    "df_label_spectro_cluster = df_label_spectro_cluster[less_18]"
   ]
  },
  {
   "cell_type": "markdown",
   "metadata": {},
   "source": [
    "# Removing Outliers "
   ]
  },
  {
   "cell_type": "code",
   "execution_count": 89,
   "metadata": {
    "scrolled": true
   },
   "outputs": [],
   "source": [
    "outliers = pd.read_csv('../../../data/outliers.csv')\n",
    "df_label_spectro_cluster = df_label_spectro_cluster[~df_label_spectro_cluster.Patient_ID.isin(outliers.Patient_ID)]"
   ]
  },
  {
   "cell_type": "markdown",
   "metadata": {},
   "source": [
    "## Train Test split "
   ]
  },
  {
   "cell_type": "code",
   "execution_count": 90,
   "metadata": {},
   "outputs": [
    {
     "data": {
      "text/plain": [
       "['SRS_Total', 'SRS_RRB', 'SRS_SCI']"
      ]
     },
     "execution_count": 90,
     "metadata": {},
     "output_type": "execute_result"
    }
   ],
   "source": [
    "all_SRS"
   ]
  },
  {
   "cell_type": "code",
   "execution_count": 91,
   "metadata": {},
   "outputs": [],
   "source": [
    "x_train , x_test, y_train , y_test = \\\n",
    "train_test_split(df_label_spectro_cluster.drop([ 'SRS_Total', 'SRS_RRB', 'SRS_SCI', 'Patient_ID'], axis=1), df_label_spectro_cluster[all_SRS], test_size=0.2, random_state = 0)\n"
   ]
  },
  {
   "cell_type": "code",
   "execution_count": 92,
   "metadata": {
    "scrolled": true
   },
   "outputs": [
    {
     "name": "stdout",
     "output_type": "stream",
     "text": [
      "(941, 301)\n",
      "(941, 3)\n",
      "(236, 301)\n",
      "(236, 3)\n"
     ]
    }
   ],
   "source": [
    "print(x_train.shape)\n",
    "print(y_train.shape)\n",
    "print(x_test.shape)\n",
    "print(y_test.shape)"
   ]
  },
  {
   "cell_type": "markdown",
   "metadata": {},
   "source": [
    "# Drop Outliers Using Isolation Forest "
   ]
  },
  {
   "cell_type": "code",
   "execution_count": 93,
   "metadata": {},
   "outputs": [
    {
     "name": "stdout",
     "output_type": "stream",
     "text": [
      "[  2   3   4   5   6   7   8   9  10  11  12  13  15  16  17  18  19  20\n",
      "  21  22  23  24  25  26  27  28  29  30  31  32  33  34  35  36  37  38\n",
      "  39  40  42  43  44  45  46  47  49  50  51  52  53  54  55  56  57  58\n",
      "  59  60  61  62  63  64  65  66  67  68  69  70  71  72  74  75  76  77\n",
      "  78  79  80  81  82  83  85  86  87  89  90  91  92  93  95  96  97  98\n",
      "  99 101 102 104 105 106 107 108 109 110 111 112 113 115 116 118 119 120\n",
      " 121 122 123 124 125 126 127 128 129 130 132 133 134 135 136 137 138 139\n",
      " 140 141 142 143 144 145 147 149 152 153 154 156 157 158 159 160 161 162\n",
      " 163 164 165 166 167 168 169 170 171 172 173 174 175 177 178 179 180 181\n",
      " 182 183 184 185 186 187 188 189 190 191 192 193 194 195 196 197 198 199\n",
      " 200 201 202 203 204 205 206 207 208 209 210 212 213 214 215 216 217 218\n",
      " 219 220 221 222 223 224 225 226 227 228 229 230 231 232 233 234 235 236\n",
      " 237 238 239 240 241 242 243 244 245 246 247 248 249 250 251 253 254 255\n",
      " 256 257 258 259 260 261 262 263 264 266 267 268 269 270 271 272 273 275\n",
      " 276 277 278 279 280 281 282 283 284 285 286 287 288 289 290 291 292 293\n",
      " 294 295 296 297 298 299 300 301 304 305 306 307 308 309 310 311 312 313\n",
      " 314 315 316 317 318 319 320 321 322 323 324 325 326 327 328 329 330 331\n",
      " 332 334 335 336 337 338 339 340 341 342 343 344 345 346 347 348 349 350\n",
      " 352 353 354 355 356 357 358 359 360 361 362 363 364 365 366 367 368 369\n",
      " 370 371 372 373 374 375 376 377 378 379 380 381 383 384 385 386 387 388\n",
      " 389 390 391 392 393 394 395 396 397 398 399 400 402 403 404 405 406 407\n",
      " 408 409 412 413 414 415 416 417 418 419 420 421 422 423 424 425 426 427\n",
      " 428 429 430 432 433 434 435 436 437 438 439 440 441 442 443 444 445 446\n",
      " 447 448 449 450 451 452 454 455 456 457 458 459 460 461 462 463 464 465\n",
      " 466 467 468 469 470 472 473 474 475 476 478 479 480 481 482 483 484 485\n",
      " 486 487 488 489 490 491 492 493 494 495 497 498 499 500 501 502 503 505\n",
      " 506 507 508 509 510 511 512 513 514 515 516 517 518 519 520 521 522 523\n",
      " 524 525 526 527 528 529 530 531 532 534 535 536 537 538 539 540 541 542\n",
      " 543 545 546 547 548 549 550 551 552 553 554 555 556 559 560 562 563 564\n",
      " 565 566 568 571 572 573 574 575 576 577 578 579 580 581 582 583 584 585\n",
      " 586 587 588 589 590 591 592 594 595 596 597 598 599 600 601 602 603 604\n",
      " 605 606 607 608 609 610 611 612 613 614 615 616 617 618 619 620 621 622\n",
      " 623 624 625 626 627 628 629 630 631 632 633 634 635 636 637 638 639 641\n",
      " 642 643 644 645 646 647 648 649 651 652 654 655 656 657 658 659 660 661\n",
      " 662 663 664 665 666 667 668 669 670 671 672 673 674 675 676 677 678 679\n",
      " 680 682 683 685 686 687 688 689 690 692 693 694 695 697 698 699 700 701\n",
      " 702 703 704 705 706 708 709 710 711 712 713 714 715 716 718 719 720 721\n",
      " 722 723 724 725 726 727 728 729 730 731 732 733 734 735 736 737 738 740\n",
      " 741 742 743 744 745 746 747 748 749 750 751 752 753 754 756 757 758 759\n",
      " 761 762 763 764 765 766 767 768 769 770 771 772 773 774 775 777 779 780\n",
      " 781 783 784 785 786 787 788 789 790 791 792 793 794 795 796 798 799 800\n",
      " 801 802 803 804 805 806 807 808 809 810 811 812 813 814 815 816 817 818\n",
      " 819 820 821 822 823 824 826 827 828 829 830 832 833 834 835 836 837 839\n",
      " 840 841 842 843 844 845 846 847 848 849 850 851 852 853 854 855 856 858\n",
      " 859 860 861 862 863 864 865 866 867 868 869 870 871 872 873 874 875 876\n",
      " 877 878 880 881 882 883 884 885 887 888 889 890 891 892 893 895 896 897\n",
      " 898 899 900 901 902 904 905 906 907 908 909 910 911 912 913 914 916 917\n",
      " 918 919 920 921 922 923 924 925 926 928 929 930 931 932 933 934 936 937\n",
      " 938 939 940]\n",
      "(236, 301)\n",
      "(236, 3)\n",
      "(867, 301)\n",
      "(867, 3)\n"
     ]
    }
   ],
   "source": [
    "forest = IsolationForest()\n",
    "forest.fit(x_train)\n",
    "\n",
    "# Outlier indices for training\n",
    "outliers_training = forest.predict(x_train)\n",
    "outliers_training_indices = np.argwhere(outliers_training == 1).flatten()\n",
    "\n",
    "# Drop signal outliers in training data\n",
    "x_train = x_train[outliers_training == 1]\n",
    "y_train = y_train[outliers_training == 1]\n",
    "#x_train, y_train = drop_outliers_samples_isolation_forest(x_train, y_train)\n",
    "print(outliers_training_indices)\n",
    "print(x_test.shape)\n",
    "print(y_test.shape)\n",
    "print(x_train.shape)\n",
    "print(y_train.shape)"
   ]
  },
  {
   "cell_type": "markdown",
   "metadata": {},
   "source": [
    "## Standardization"
   ]
  },
  {
   "cell_type": "code",
   "execution_count": 94,
   "metadata": {},
   "outputs": [
    {
     "name": "stdout",
     "output_type": "stream",
     "text": [
      "(236, 301)\n",
      "(236, 3)\n",
      "(867, 301)\n",
      "(867, 3)\n"
     ]
    }
   ],
   "source": [
    "scaler = StandardScaler()\n",
    "scaler.fit(x_train)\n",
    "x_train = pd.DataFrame(scaler.transform(x_train), columns=x_train.columns, index=x_train.index)\n",
    "x_test = pd.DataFrame(scaler.transform(x_test), columns=x_test.columns, index=x_test.index)\n",
    "\n",
    "print(x_test.shape)\n",
    "print(y_test.shape)\n",
    "print(x_train.shape)\n",
    "print(y_train.shape)"
   ]
  },
  {
   "cell_type": "markdown",
   "metadata": {},
   "source": [
    "## XGBOOST"
   ]
  },
  {
   "cell_type": "code",
   "execution_count": 95,
   "metadata": {},
   "outputs": [],
   "source": [
    "def fit_xgboost_with_grid_search(X_train, y_train):\n",
    "\n",
    "    # Create gradient boosting object\n",
    "    xgbr = XGBRegressor(verbosity=1, max_depth=10, reg_lambda=1) \n",
    "    \n",
    "    # Grid search \n",
    "    parameters = {'max_depth':[1,2,4], 'reg_lambda':[4, 8, 16,  20], 'min_child_weight':[6,  12, 25, 30]}\n",
    "    clf = GridSearchCV(xgbr, parameters, scoring='neg_mean_squared_error', n_jobs=4, iid=False, cv=5)\n",
    "    clf.fit(X_train, y_train)\n",
    "    \n",
    "    print(\"Best parameters for XGBoost: \" + str(clf.best_params_))\n",
    "            \n",
    "    return clf"
   ]
  },
  {
   "cell_type": "code",
   "execution_count": 105,
   "metadata": {},
   "outputs": [
    {
     "name": "stderr",
     "output_type": "stream",
     "text": [
      "/Users/pldelacour/anaconda3/lib/python3.7/site-packages/sklearn/model_selection/_search.py:823: FutureWarning: The parameter 'iid' is deprecated in 0.22 and will be removed in 0.24.\n",
      "  \"removed in 0.24.\", FutureWarning\n"
     ]
    },
    {
     "name": "stdout",
     "output_type": "stream",
     "text": [
      "[16:37:58] WARNING: /usr/local/miniconda/conda-bld/xgboost_1566327371504/work/src/objective/regression_obj.cu:152: reg:linear is now deprecated in favor of reg:squarederror.\n",
      "Best parameters for XGBoost: {'max_depth': 1, 'min_child_weight': 30, 'reg_lambda': 4}\n"
     ]
    },
    {
     "data": {
      "text/plain": [
       "-982.3170059775232"
      ]
     },
     "execution_count": 105,
     "metadata": {},
     "output_type": "execute_result"
    }
   ],
   "source": [
    "rdf0 = fit_xgboost_with_grid_search(x_train, y_train.to_numpy()[:,0])\n",
    "rdf0.best_score_"
   ]
  },
  {
   "cell_type": "code",
   "execution_count": 106,
   "metadata": {},
   "outputs": [
    {
     "data": {
      "text/plain": [
       "1123.712154939716"
      ]
     },
     "execution_count": 106,
     "metadata": {},
     "output_type": "execute_result"
    }
   ],
   "source": [
    "xg_test_SRS_total = mean_squared_error(rdf0.predict(x_test), y_test.to_numpy()[:,0])\n",
    "xg_test_SRS_total"
   ]
  },
  {
   "cell_type": "code",
   "execution_count": 107,
   "metadata": {},
   "outputs": [
    {
     "name": "stderr",
     "output_type": "stream",
     "text": [
      "/Users/pldelacour/anaconda3/lib/python3.7/site-packages/sklearn/model_selection/_search.py:823: FutureWarning: The parameter 'iid' is deprecated in 0.22 and will be removed in 0.24.\n",
      "  \"removed in 0.24.\", FutureWarning\n"
     ]
    },
    {
     "name": "stdout",
     "output_type": "stream",
     "text": [
      "[16:39:21] WARNING: /usr/local/miniconda/conda-bld/xgboost_1566327371504/work/src/objective/regression_obj.cu:152: reg:linear is now deprecated in favor of reg:squarederror.\n",
      "Best parameters for XGBoost: {'max_depth': 1, 'min_child_weight': 6, 'reg_lambda': 20}\n"
     ]
    },
    {
     "data": {
      "text/plain": [
       "-55.995299411664725"
      ]
     },
     "execution_count": 107,
     "metadata": {},
     "output_type": "execute_result"
    }
   ],
   "source": [
    "rdf1 = fit_xgboost_with_grid_search(x_train, y_train.to_numpy()[:,1])\n",
    "rdf1.best_score_"
   ]
  },
  {
   "cell_type": "code",
   "execution_count": 108,
   "metadata": {},
   "outputs": [
    {
     "data": {
      "text/plain": [
       "65.47964566772956"
      ]
     },
     "execution_count": 108,
     "metadata": {},
     "output_type": "execute_result"
    }
   ],
   "source": [
    "xg_test_SRS_RRB = mean_squared_error(rdf1.predict(x_test), y_test.to_numpy()[:,1])\n",
    "xg_test_SRS_RRB"
   ]
  },
  {
   "cell_type": "code",
   "execution_count": 109,
   "metadata": {},
   "outputs": [
    {
     "name": "stderr",
     "output_type": "stream",
     "text": [
      "/Users/pldelacour/anaconda3/lib/python3.7/site-packages/sklearn/model_selection/_search.py:823: FutureWarning: The parameter 'iid' is deprecated in 0.22 and will be removed in 0.24.\n",
      "  \"removed in 0.24.\", FutureWarning\n"
     ]
    },
    {
     "name": "stdout",
     "output_type": "stream",
     "text": [
      "[16:40:41] WARNING: /usr/local/miniconda/conda-bld/xgboost_1566327371504/work/src/objective/regression_obj.cu:152: reg:linear is now deprecated in favor of reg:squarederror.\n",
      "Best parameters for XGBoost: {'max_depth': 1, 'min_child_weight': 30, 'reg_lambda': 16}\n"
     ]
    },
    {
     "data": {
      "text/plain": [
       "-617.3046828166991"
      ]
     },
     "execution_count": 109,
     "metadata": {},
     "output_type": "execute_result"
    }
   ],
   "source": [
    "rdf2 = fit_xgboost_with_grid_search(x_train, y_train.to_numpy()[:,2])\n",
    "rdf2.best_score_"
   ]
  },
  {
   "cell_type": "code",
   "execution_count": 110,
   "metadata": {},
   "outputs": [
    {
     "data": {
      "text/plain": [
       "696.0234953065647"
      ]
     },
     "execution_count": 110,
     "metadata": {},
     "output_type": "execute_result"
    }
   ],
   "source": [
    "xg_test_SRS_SCI = mean_squared_error(rdf2.predict(x_test), y_test.to_numpy()[:,2])\n",
    "xg_test_SRS_SCI"
   ]
  },
  {
   "cell_type": "code",
   "execution_count": 113,
   "metadata": {},
   "outputs": [],
   "source": [
    "data = []\n",
    "data.append(['SRS Total ' , -rdf0.best_score_ , xg_test_SRS_total])\n",
    "data.append(['SRS RRB ' , -rdf1.best_score_ , xg_test_SRS_RRB])\n",
    "data.append(['SRS SCI ' , -rdf2.best_score_ , xg_test_SRS_SCI])\n",
    "column_name = ['ID' , 'Train MSE' , 'Test MSE']\n",
    "\n",
    "df_scores = pd.DataFrame(data, columns = column_name)\n"
   ]
  },
  {
   "cell_type": "code",
   "execution_count": 114,
   "metadata": {},
   "outputs": [
    {
     "data": {
      "text/html": [
       "<div>\n",
       "<style scoped>\n",
       "    .dataframe tbody tr th:only-of-type {\n",
       "        vertical-align: middle;\n",
       "    }\n",
       "\n",
       "    .dataframe tbody tr th {\n",
       "        vertical-align: top;\n",
       "    }\n",
       "\n",
       "    .dataframe thead th {\n",
       "        text-align: right;\n",
       "    }\n",
       "</style>\n",
       "<table border=\"1\" class=\"dataframe\">\n",
       "  <thead>\n",
       "    <tr style=\"text-align: right;\">\n",
       "      <th></th>\n",
       "      <th>ID</th>\n",
       "      <th>Train MSE</th>\n",
       "      <th>Test MSE</th>\n",
       "    </tr>\n",
       "  </thead>\n",
       "  <tbody>\n",
       "    <tr>\n",
       "      <th>0</th>\n",
       "      <td>SRS Total</td>\n",
       "      <td>982.317006</td>\n",
       "      <td>1123.712155</td>\n",
       "    </tr>\n",
       "    <tr>\n",
       "      <th>1</th>\n",
       "      <td>SRS RRB</td>\n",
       "      <td>55.995299</td>\n",
       "      <td>65.479646</td>\n",
       "    </tr>\n",
       "    <tr>\n",
       "      <th>2</th>\n",
       "      <td>SRS SCI</td>\n",
       "      <td>617.304683</td>\n",
       "      <td>696.023495</td>\n",
       "    </tr>\n",
       "  </tbody>\n",
       "</table>\n",
       "</div>"
      ],
      "text/plain": [
       "           ID   Train MSE     Test MSE\n",
       "0  SRS Total   982.317006  1123.712155\n",
       "1    SRS RRB    55.995299    65.479646\n",
       "2    SRS SCI   617.304683   696.023495"
      ]
     },
     "execution_count": 114,
     "metadata": {},
     "output_type": "execute_result"
    }
   ],
   "source": [
    "df_scores"
   ]
  },
  {
   "cell_type": "markdown",
   "metadata": {},
   "source": [
    "## SVM"
   ]
  },
  {
   "cell_type": "code",
   "execution_count": 115,
   "metadata": {},
   "outputs": [],
   "source": [
    "from sklearn import svm"
   ]
  },
  {
   "cell_type": "code",
   "execution_count": 117,
   "metadata": {},
   "outputs": [
    {
     "data": {
      "text/plain": [
       "-1001.090805046133"
      ]
     },
     "execution_count": 117,
     "metadata": {},
     "output_type": "execute_result"
    }
   ],
   "source": [
    "svr= svm.SVR()\n",
    "parameters = {'kernel' : ( 'rbf' ,  'sigmoid' ), 'C':[0.1, 1,10,100], 'gamma':['auto']}\n",
    "clf0 = GridSearchCV(svr, parameters ,cv =5, scoring='neg_mean_squared_error')\n",
    "clf0.fit(x_train , y_train.to_numpy()[:,0])\n",
    "clf0.best_score_"
   ]
  },
  {
   "cell_type": "code",
   "execution_count": 118,
   "metadata": {},
   "outputs": [],
   "source": [
    "svr_test_SRS_total = mean_squared_error(clf0.predict(x_test.to_numpy()), y_test.to_numpy()[:,0])"
   ]
  },
  {
   "cell_type": "code",
   "execution_count": 119,
   "metadata": {},
   "outputs": [
    {
     "data": {
      "text/plain": [
       "-58.36795652127497"
      ]
     },
     "execution_count": 119,
     "metadata": {},
     "output_type": "execute_result"
    }
   ],
   "source": [
    "svr= svm.SVR()\n",
    "parameters = {'kernel' : ( 'rbf' ,  'sigmoid' ), 'C':[0.1, 1,10,100], 'gamma':['auto']}\n",
    "clf1 = GridSearchCV(svr, parameters ,cv =5, scoring='neg_mean_squared_error')\n",
    "clf1.fit(x_train , y_train.to_numpy()[:,1])\n",
    "clf1.best_score_"
   ]
  },
  {
   "cell_type": "code",
   "execution_count": 120,
   "metadata": {},
   "outputs": [],
   "source": [
    "svr_test_SRS_RRB = mean_squared_error(clf1.predict(x_test.to_numpy()), y_test.to_numpy()[:,1])"
   ]
  },
  {
   "cell_type": "code",
   "execution_count": 121,
   "metadata": {},
   "outputs": [
    {
     "data": {
      "text/plain": [
       "-619.0930049313231"
      ]
     },
     "execution_count": 121,
     "metadata": {},
     "output_type": "execute_result"
    }
   ],
   "source": [
    "svr= svm.SVR()\n",
    "parameters = {'kernel' : ( 'rbf' ,  'sigmoid' ), 'C':[0.1, 1,10,100], 'gamma':['auto']}\n",
    "clf2 = GridSearchCV(svr, parameters ,cv =5, scoring='neg_mean_squared_error')\n",
    "clf2.fit(x_train , y_train.to_numpy()[:,2])\n",
    "clf2.best_score_"
   ]
  },
  {
   "cell_type": "code",
   "execution_count": 124,
   "metadata": {},
   "outputs": [],
   "source": [
    "svr_test_SRS_SCI = mean_squared_error(clf2.predict(x_test.to_numpy()), y_test.to_numpy()[:,2])"
   ]
  },
  {
   "cell_type": "code",
   "execution_count": null,
   "metadata": {},
   "outputs": [],
   "source": []
  },
  {
   "cell_type": "code",
   "execution_count": 125,
   "metadata": {},
   "outputs": [],
   "source": [
    "data = []\n",
    "data.append(['SRS Total ' , -clf0.best_score_ , svr_test_SRS_total])\n",
    "data.append(['SRS RRB ' , -clf1.best_score_ , svr_test_SRS_RRB])\n",
    "data.append(['SRS SCI ' , -clf2.best_score_ , svr_test_SRS_SCI])\n",
    "column_name = ['ID' , 'Train MSE' , 'Test MSE']\n",
    "\n",
    "df_scores = pd.DataFrame(data, columns = column_name)\n"
   ]
  },
  {
   "cell_type": "code",
   "execution_count": 126,
   "metadata": {},
   "outputs": [
    {
     "data": {
      "text/html": [
       "<div>\n",
       "<style scoped>\n",
       "    .dataframe tbody tr th:only-of-type {\n",
       "        vertical-align: middle;\n",
       "    }\n",
       "\n",
       "    .dataframe tbody tr th {\n",
       "        vertical-align: top;\n",
       "    }\n",
       "\n",
       "    .dataframe thead th {\n",
       "        text-align: right;\n",
       "    }\n",
       "</style>\n",
       "<table border=\"1\" class=\"dataframe\">\n",
       "  <thead>\n",
       "    <tr style=\"text-align: right;\">\n",
       "      <th></th>\n",
       "      <th>ID</th>\n",
       "      <th>Train MSE</th>\n",
       "      <th>Test MSE</th>\n",
       "    </tr>\n",
       "  </thead>\n",
       "  <tbody>\n",
       "    <tr>\n",
       "      <th>0</th>\n",
       "      <td>SRS Total</td>\n",
       "      <td>1001.090805</td>\n",
       "      <td>1178.105445</td>\n",
       "    </tr>\n",
       "    <tr>\n",
       "      <th>1</th>\n",
       "      <td>SRS RRB</td>\n",
       "      <td>58.367957</td>\n",
       "      <td>69.217889</td>\n",
       "    </tr>\n",
       "    <tr>\n",
       "      <th>2</th>\n",
       "      <td>SRS SCI</td>\n",
       "      <td>619.093005</td>\n",
       "      <td>723.021251</td>\n",
       "    </tr>\n",
       "  </tbody>\n",
       "</table>\n",
       "</div>"
      ],
      "text/plain": [
       "           ID    Train MSE     Test MSE\n",
       "0  SRS Total   1001.090805  1178.105445\n",
       "1    SRS RRB     58.367957    69.217889\n",
       "2    SRS SCI    619.093005   723.021251"
      ]
     },
     "execution_count": 126,
     "metadata": {},
     "output_type": "execute_result"
    }
   ],
   "source": [
    "df_scores"
   ]
  },
  {
   "cell_type": "markdown",
   "metadata": {},
   "source": [
    "## Mean Baseline "
   ]
  },
  {
   "cell_type": "code",
   "execution_count": 129,
   "metadata": {},
   "outputs": [
    {
     "data": {
      "text/html": [
       "<div>\n",
       "<style scoped>\n",
       "    .dataframe tbody tr th:only-of-type {\n",
       "        vertical-align: middle;\n",
       "    }\n",
       "\n",
       "    .dataframe tbody tr th {\n",
       "        vertical-align: top;\n",
       "    }\n",
       "\n",
       "    .dataframe thead th {\n",
       "        text-align: right;\n",
       "    }\n",
       "</style>\n",
       "<table border=\"1\" class=\"dataframe\">\n",
       "  <thead>\n",
       "    <tr style=\"text-align: right;\">\n",
       "      <th></th>\n",
       "      <th>SRS_Total</th>\n",
       "      <th>SRS_RRB</th>\n",
       "      <th>SRS_SCI</th>\n",
       "    </tr>\n",
       "  </thead>\n",
       "  <tbody>\n",
       "    <tr>\n",
       "      <th>342</th>\n",
       "      <td>15.0</td>\n",
       "      <td>4.0</td>\n",
       "      <td>11.0</td>\n",
       "    </tr>\n",
       "    <tr>\n",
       "      <th>865</th>\n",
       "      <td>41.0</td>\n",
       "      <td>8.0</td>\n",
       "      <td>33.0</td>\n",
       "    </tr>\n",
       "    <tr>\n",
       "      <th>1058</th>\n",
       "      <td>114.0</td>\n",
       "      <td>28.0</td>\n",
       "      <td>86.0</td>\n",
       "    </tr>\n",
       "    <tr>\n",
       "      <th>97</th>\n",
       "      <td>94.0</td>\n",
       "      <td>17.0</td>\n",
       "      <td>77.0</td>\n",
       "    </tr>\n",
       "    <tr>\n",
       "      <th>319</th>\n",
       "      <td>25.0</td>\n",
       "      <td>3.0</td>\n",
       "      <td>22.0</td>\n",
       "    </tr>\n",
       "    <tr>\n",
       "      <th>...</th>\n",
       "      <td>...</td>\n",
       "      <td>...</td>\n",
       "      <td>...</td>\n",
       "    </tr>\n",
       "    <tr>\n",
       "      <th>1039</th>\n",
       "      <td>34.0</td>\n",
       "      <td>3.0</td>\n",
       "      <td>31.0</td>\n",
       "    </tr>\n",
       "    <tr>\n",
       "      <th>766</th>\n",
       "      <td>48.0</td>\n",
       "      <td>6.0</td>\n",
       "      <td>42.0</td>\n",
       "    </tr>\n",
       "    <tr>\n",
       "      <th>839</th>\n",
       "      <td>59.0</td>\n",
       "      <td>8.0</td>\n",
       "      <td>51.0</td>\n",
       "    </tr>\n",
       "    <tr>\n",
       "      <th>561</th>\n",
       "      <td>14.0</td>\n",
       "      <td>1.0</td>\n",
       "      <td>13.0</td>\n",
       "    </tr>\n",
       "    <tr>\n",
       "      <th>687</th>\n",
       "      <td>94.0</td>\n",
       "      <td>17.0</td>\n",
       "      <td>77.0</td>\n",
       "    </tr>\n",
       "  </tbody>\n",
       "</table>\n",
       "<p>867 rows × 3 columns</p>\n",
       "</div>"
      ],
      "text/plain": [
       "      SRS_Total  SRS_RRB  SRS_SCI\n",
       "342        15.0      4.0     11.0\n",
       "865        41.0      8.0     33.0\n",
       "1058      114.0     28.0     86.0\n",
       "97         94.0     17.0     77.0\n",
       "319        25.0      3.0     22.0\n",
       "...         ...      ...      ...\n",
       "1039       34.0      3.0     31.0\n",
       "766        48.0      6.0     42.0\n",
       "839        59.0      8.0     51.0\n",
       "561        14.0      1.0     13.0\n",
       "687        94.0     17.0     77.0\n",
       "\n",
       "[867 rows x 3 columns]"
      ]
     },
     "execution_count": 129,
     "metadata": {},
     "output_type": "execute_result"
    }
   ],
   "source": [
    "y_train"
   ]
  },
  {
   "cell_type": "code",
   "execution_count": 141,
   "metadata": {},
   "outputs": [
    {
     "data": {
      "text/html": [
       "<div>\n",
       "<style scoped>\n",
       "    .dataframe tbody tr th:only-of-type {\n",
       "        vertical-align: middle;\n",
       "    }\n",
       "\n",
       "    .dataframe tbody tr th {\n",
       "        vertical-align: top;\n",
       "    }\n",
       "\n",
       "    .dataframe thead th {\n",
       "        text-align: right;\n",
       "    }\n",
       "</style>\n",
       "<table border=\"1\" class=\"dataframe\">\n",
       "  <thead>\n",
       "    <tr style=\"text-align: right;\">\n",
       "      <th></th>\n",
       "      <th>id</th>\n",
       "      <th>score</th>\n",
       "    </tr>\n",
       "  </thead>\n",
       "  <tbody>\n",
       "    <tr>\n",
       "      <th>0</th>\n",
       "      <td>SRS_total Baseline</td>\n",
       "      <td>1118.863466</td>\n",
       "    </tr>\n",
       "    <tr>\n",
       "      <th>1</th>\n",
       "      <td>SRS_RRB Baseline</td>\n",
       "      <td>63.906088</td>\n",
       "    </tr>\n",
       "    <tr>\n",
       "      <th>2</th>\n",
       "      <td>SRS_SCI Baseline</td>\n",
       "      <td>696.144761</td>\n",
       "    </tr>\n",
       "  </tbody>\n",
       "</table>\n",
       "</div>"
      ],
      "text/plain": [
       "                   id        score\n",
       "0  SRS_total Baseline  1118.863466\n",
       "1    SRS_RRB Baseline    63.906088\n",
       "2    SRS_SCI Baseline   696.144761"
      ]
     },
     "execution_count": 141,
     "metadata": {},
     "output_type": "execute_result"
    }
   ],
   "source": [
    "mean_SRS_total =  np.mean(y_train['SRS_Total'])\n",
    "mean_SRS_RRB = np.mean(y_train['SRS_RRB'])\n",
    "mean_SRS_SCI = np.mean(y_train['SRS_SCI'])\n",
    "mean_data = []\n",
    "\n",
    "mse_tot = np.mean( (y_test['SRS_Total'].values - mean_SRS_total)**2)\n",
    "mse_RRB = np.mean( (y_test['SRS_RRB'].values - mean_SRS_RRB)**2)\n",
    "mse_SCI = np.mean( (y_test['SRS_SCI'].values - mean_SRS_SCI)**2)\n",
    "\n",
    "mean_data.append(['SRS_total Baseline' , mse_tot])\n",
    "mean_data.append(['SRS_RRB Baseline' , mse_RRB])\n",
    "mean_data.append(['SRS_SCI Baseline' , mse_SCI])\n",
    "column_baseline  = ['id', 'score']\n",
    "df_baseline = pd.DataFrame(mean_data, columns= column_baseline)\n",
    "df_baseline"
   ]
  },
  {
   "cell_type": "markdown",
   "metadata": {},
   "source": [
    "## Neural Network"
   ]
  },
  {
   "cell_type": "code",
   "execution_count": 146,
   "metadata": {},
   "outputs": [],
   "source": [
    "# mlp for multi-output regression\n",
    "from numpy import mean\n",
    "from numpy import std\n",
    "from sklearn.model_selection import RepeatedKFold\n",
    "from keras.models import Sequential\n",
    "from keras.layers import Dense\n",
    "from keras.callbacks import ModelCheckpoint, EarlyStopping, LearningRateScheduler, ReduceLROnPlateau"
   ]
  },
  {
   "cell_type": "code",
   "execution_count": 147,
   "metadata": {},
   "outputs": [],
   "source": [
    "def get_model(n_inputs, n_outputs):\n",
    "    model = Sequential()\n",
    "    model.add(Dense(5, input_dim=n_inputs, activation='relu'))\n",
    "    model.add(Dense(5, activation='relu'))\n",
    "    #model.add(Dense(5, activation='relu'))\n",
    "    model.add(Dense(n_outputs))\n",
    "    model.compile(loss='mse', optimizer='adam')\n",
    "    return model\n",
    " \n",
    "# evaluate a model using repeated k-fold cross-validation\n",
    "def evaluate_model(X, y):\n",
    "    results = list()\n",
    "    n_inputs, n_outputs = X.shape[1], 1#y.shape[1]\n",
    "    # define evaluation procedure\n",
    "    cv = RepeatedKFold(n_splits=10, n_repeats=1, random_state=1)\n",
    "    # enumerate folds\n",
    "    for train_ix, test_ix in cv.split(X):\n",
    "        # prepare data\n",
    "        X_train, X_test = X[train_ix], X[test_ix]\n",
    "        y_train, y_test = y[train_ix], y[test_ix]\n",
    "        # define model\n",
    "        file_path = \"model.h5\"\n",
    "        model = get_model(n_inputs, n_outputs)\n",
    "        # fit model\n",
    "        checkpoint = ModelCheckpoint(file_path, monitor='val_loss', verbose=0, save_best_only=True, mode='min')\n",
    "        callbacks_list = [checkpoint] \n",
    "        model.fit(X_train, y_train, verbose=0, callbacks=callbacks_list, validation_split=0.1,  epochs=150)\n",
    "        # evaluate model on test set\n",
    "        mse = model.evaluate(X_test, y_test, verbose=0)\n",
    "        # store result\n",
    "        print('>%.3f' % mse)\n",
    "        results.append(mse)\n",
    "    return results"
   ]
  },
  {
   "cell_type": "code",
   "execution_count": 148,
   "metadata": {},
   "outputs": [
    {
     "name": "stdout",
     "output_type": "stream",
     "text": [
      "WARNING:tensorflow:From /Users/pldelacour/anaconda3/lib/python3.7/site-packages/tensorflow/python/ops/math_ops.py:3066: to_int32 (from tensorflow.python.ops.math_ops) is deprecated and will be removed in a future version.\n",
      "Instructions for updating:\n",
      "Use tf.cast instead.\n",
      ">1560.898\n",
      ">970.243\n",
      ">1103.106\n",
      ">1223.948\n",
      ">1311.348\n",
      ">1161.948\n",
      ">907.517\n",
      ">1434.448\n",
      ">1246.669\n",
      ">1384.151\n",
      "MSE: 1230.428 (193.439)\n"
     ]
    }
   ],
   "source": [
    "train_nn_SRS_total = evaluate_model(x_train.to_numpy(), y_train.to_numpy()[:,0])\n",
    "print('MSE: %.3f (%.3f)' % (mean(train_nn_SRS_total), std(train_nn_SRS_total)))\n",
    "train_nn_SRS_total = mean(train_nn_SRS_total)"
   ]
  },
  {
   "cell_type": "code",
   "execution_count": 149,
   "metadata": {},
   "outputs": [
    {
     "name": "stdout",
     "output_type": "stream",
     "text": [
      ">81.059\n",
      ">61.147\n",
      ">63.413\n",
      ">63.344\n",
      ">90.022\n",
      ">75.973\n",
      ">61.478\n",
      ">93.303\n",
      ">71.786\n",
      ">76.917\n",
      "MSE: 73.844 (11.153)\n"
     ]
    }
   ],
   "source": [
    "train_nn_SRS_RRB =  evaluate_model(x_train.to_numpy(), y_train.to_numpy()[:,1])\n",
    "print('MSE: %.3f (%.3f)' % (mean(train_nn_SRS_RRB), std(train_nn_SRS_RRB)))\n",
    "train_nn_SRS_RRB = mean(train_nn_SRS_RRB)"
   ]
  },
  {
   "cell_type": "code",
   "execution_count": 160,
   "metadata": {},
   "outputs": [
    {
     "name": "stdout",
     "output_type": "stream",
     "text": [
      ">799.905\n",
      ">652.993\n",
      ">705.350\n",
      ">809.894\n",
      ">671.972\n",
      ">738.676\n",
      ">2045.171\n",
      ">752.946\n",
      ">692.989\n",
      ">855.877\n",
      "MSE: 872.577 (395.649)\n"
     ]
    }
   ],
   "source": [
    "train_nn_SRS_SCI =  evaluate_model(x_train.to_numpy(), y_train.to_numpy()[:,2])\n",
    "print('MSE: %.3f (%.3f)' % (mean(train_nn_SRS_SCI), std(train_nn_SRS_SCI)))\n",
    "train_nn_SRS_SCI = mean(train_nn_SRS_SCI)"
   ]
  },
  {
   "cell_type": "markdown",
   "metadata": {},
   "source": [
    "## Test set"
   ]
  },
  {
   "cell_type": "code",
   "execution_count": 152,
   "metadata": {},
   "outputs": [],
   "source": [
    "def evaluate_model_10(X, y, x_test, y_test):\n",
    "    results = list()\n",
    "    for i in range(10):\n",
    "        n_inputs, n_outputs = X.shape[1], 1\n",
    "        model = get_model(n_inputs, n_outputs)\n",
    "        file_path = \"model.h5\"\n",
    "        checkpoint = ModelCheckpoint(file_path, monitor='val_loss', verbose=0, save_best_only=True, mode='min')\n",
    "        #early = EarlyStopping(monitor=\"val_loss\", mode=\"min\", patience=10, verbose=1)\n",
    "        #redonplat = ReduceLROnPlateau(monitor=\"val_loss\", mode=\"min\", patience=10, verbose=2)\n",
    "        callbacks_list = [checkpoint] \n",
    "        model.fit(X, y, callbacks=callbacks_list, verbose=0,validation_split=0.1,  epochs=150)\n",
    "        model.load_weights(file_path)\n",
    "        mse = model.evaluate(x_test, y_test, verbose=2)\n",
    "        print('>%.3f' % mse)\n",
    "        results.append(mse)\n",
    "    print('MSE: %.3f (%.3f)' % (mean(results), std(results)))\n",
    "    return mean(results)"
   ]
  },
  {
   "cell_type": "code",
   "execution_count": 153,
   "metadata": {},
   "outputs": [
    {
     "name": "stdout",
     "output_type": "stream",
     "text": [
      ">1359.983\n",
      ">1397.820\n",
      ">1360.042\n",
      ">1399.895\n",
      ">1268.649\n",
      ">1345.782\n",
      ">1331.804\n",
      ">1354.505\n",
      ">1316.989\n",
      ">1365.150\n",
      "MSE: 1350.062 (36.446)\n"
     ]
    }
   ],
   "source": [
    "test_nn_SRS_total = evaluate_model_10(x_train.to_numpy(), y_train.to_numpy()[:, 0], x_test.to_numpy(), y_test.to_numpy()[:,0])\n"
   ]
  },
  {
   "cell_type": "code",
   "execution_count": 154,
   "metadata": {},
   "outputs": [
    {
     "name": "stdout",
     "output_type": "stream",
     "text": [
      ">72.193\n",
      ">71.745\n",
      ">71.738\n",
      ">68.235\n",
      ">74.076\n",
      ">71.974\n",
      ">70.141\n",
      ">76.261\n",
      ">74.680\n",
      ">76.730\n",
      "MSE: 72.777 (2.526)\n"
     ]
    }
   ],
   "source": [
    "test_nn_SRS_RRB = evaluate_model_10(x_train.to_numpy(), y_train.to_numpy()[:, 1], x_test.to_numpy(), y_test.to_numpy()[:,1])\n",
    "\n"
   ]
  },
  {
   "cell_type": "code",
   "execution_count": 159,
   "metadata": {},
   "outputs": [
    {
     "name": "stdout",
     "output_type": "stream",
     "text": [
      ">901.919\n",
      ">821.490\n",
      ">863.419\n",
      ">842.014\n",
      ">812.228\n",
      ">796.190\n",
      ">834.845\n",
      ">829.658\n",
      ">801.938\n",
      ">820.956\n",
      "MSE: 832.466 (29.660)\n"
     ]
    }
   ],
   "source": [
    "test_nn_SRS_SCI = evaluate_model_10(x_train.to_numpy(), y_train.to_numpy()[:, 2], x_test.to_numpy(), y_test.to_numpy()[:,2])\n",
    "\n",
    "\n"
   ]
  },
  {
   "cell_type": "code",
   "execution_count": 161,
   "metadata": {},
   "outputs": [
    {
     "data": {
      "text/html": [
       "<div>\n",
       "<style scoped>\n",
       "    .dataframe tbody tr th:only-of-type {\n",
       "        vertical-align: middle;\n",
       "    }\n",
       "\n",
       "    .dataframe tbody tr th {\n",
       "        vertical-align: top;\n",
       "    }\n",
       "\n",
       "    .dataframe thead th {\n",
       "        text-align: right;\n",
       "    }\n",
       "</style>\n",
       "<table border=\"1\" class=\"dataframe\">\n",
       "  <thead>\n",
       "    <tr style=\"text-align: right;\">\n",
       "      <th></th>\n",
       "      <th>id</th>\n",
       "      <th>Train MSE</th>\n",
       "      <th>Test MSE</th>\n",
       "    </tr>\n",
       "  </thead>\n",
       "  <tbody>\n",
       "    <tr>\n",
       "      <th>0</th>\n",
       "      <td>NN SRS_total</td>\n",
       "      <td>1230.427512</td>\n",
       "      <td>1350.061883</td>\n",
       "    </tr>\n",
       "    <tr>\n",
       "      <th>1</th>\n",
       "      <td>NN SRS_RRB</td>\n",
       "      <td>73.844222</td>\n",
       "      <td>72.777300</td>\n",
       "    </tr>\n",
       "    <tr>\n",
       "      <th>2</th>\n",
       "      <td>NN SRS_SCI</td>\n",
       "      <td>872.577311</td>\n",
       "      <td>832.465653</td>\n",
       "    </tr>\n",
       "  </tbody>\n",
       "</table>\n",
       "</div>"
      ],
      "text/plain": [
       "             id    Train MSE     Test MSE\n",
       "0  NN SRS_total  1230.427512  1350.061883\n",
       "1    NN SRS_RRB    73.844222    72.777300\n",
       "2    NN SRS_SCI   872.577311   832.465653"
      ]
     },
     "execution_count": 161,
     "metadata": {},
     "output_type": "execute_result"
    }
   ],
   "source": [
    "data_nn =[]\n",
    "columns_nn = ['id' , 'Train MSE' , 'Test MSE']\n",
    "data_nn.append(['NN SRS_total' ,train_nn_SRS_total , test_nn_SRS_total ])\n",
    "data_nn.append(['NN SRS_RRB'  , train_nn_SRS_RRB , test_nn_SRS_RRB])\n",
    "data_nn.append(['NN SRS_SCI' , train_nn_SRS_SCI , test_nn_SRS_SCI]) \n",
    "df_nn = pd.DataFrame(data_nn , columns = columns_nn)\n",
    "df_nn"
   ]
  },
  {
   "cell_type": "code",
   "execution_count": null,
   "metadata": {},
   "outputs": [],
   "source": []
  }
 ],
 "metadata": {
  "kernelspec": {
   "display_name": "Python 3",
   "language": "python",
   "name": "python3"
  },
  "language_info": {
   "codemirror_mode": {
    "name": "ipython",
    "version": 3
   },
   "file_extension": ".py",
   "mimetype": "text/x-python",
   "name": "python",
   "nbconvert_exporter": "python",
   "pygments_lexer": "ipython3",
   "version": "3.7.1"
  }
 },
 "nbformat": 4,
 "nbformat_minor": 2
}
