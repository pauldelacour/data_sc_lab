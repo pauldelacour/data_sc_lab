{
 "cells": [
  {
   "cell_type": "markdown",
   "metadata": {},
   "source": [
    "## Version 1: use all the featrues containing \"fband\" (theory driven frequency band ranges) and \"absmean\" (+ the other feautres starting with  and \"eyesclosed_fooof_\" and the feature  eyesclosed_alphapeak_max_freq)"
   ]
  },
  {
   "cell_type": "code",
   "execution_count": 1,
   "metadata": {},
   "outputs": [
    {
     "name": "stdout",
     "output_type": "stream",
     "text": [
      "/Users/mathieuchevalley/Documents/Study/ETHZ/Fall Semester 2020/Data Science lab/data_sc_lab/task_01/pipelines\n"
     ]
    }
   ],
   "source": [
    "cd ../pipelines"
   ]
  },
  {
   "cell_type": "code",
   "execution_count": 2,
   "metadata": {},
   "outputs": [
    {
     "name": "stderr",
     "output_type": "stream",
     "text": [
      "Using TensorFlow backend.\n"
     ]
    }
   ],
   "source": [
    "import numpy as np\n",
    "import pandas as pd\n",
    "import matplotlib.pyplot as plt\n",
    "from ipynb.fs.full.tool_functions import *\n",
    "from yellowbrick.regressor import AlphaSelection\n",
    "from  sklearn.metrics import mean_squared_error"
   ]
  },
  {
   "cell_type": "code",
   "execution_count": 3,
   "metadata": {},
   "outputs": [
    {
     "name": "stderr",
     "output_type": "stream",
     "text": [
      "/usr/local/lib/python3.7/site-packages/IPython/core/interactiveshell.py:3063: DtypeWarning: Columns (66,68,80,81,82,83,84,95,96,97,98,99,110,111,112,113,114,125,126,127,128,129,140,141,142,144,155,156,157,159,932,933,934,935,936,937,938,939,940,941,942,943,944,945,946,947,948,949,950,951,952,953,954,955,956,957,958,959,960,961,962,963,964,965,966,967,968,969,970,971,972,973,974,975,976,977,978,979,980,981,982,983,984,985,986,987,988,989,990,991,992,993,994,995,996,997,998,999,1000,1001,1002,1003,1004,1005,1006,1007,1008,1009,1010,1011,1012,1013,1014,1015,1016,1017,1018,1019,1020,1021,1022,1023,1024,1025,1026,1027,1028,1029,1030,1031,1032,1033,1034,1035,1036,1037,1038,1039,1040,1041,1042,1043,1044,1045,1046,1047,1048,1049,1050,1051,1052,1053,1054,1055,1056,1057,1058,1059,1060,1061,1062,1063,1064,1065,1066,1067,1068,1069,1070,1071,1072,1073,1074,1075,1076,1077,1078,1079,1080,1081,1082,1083,1084,1085,1086,1087,1088,1089,1090,1091,1092,1093,1094,1095,1096,1097,1098,1099,1100,1101,1102,1103,1104,1105,1106,1107,1108,1109,1110,1111,1112,1113,1114,1115,1116,1117,1118,1119,1120,1121,1122,1123,1124,1125,1126,1127,1128,1129,1130,1131,1132,1133,1134,1135,1136,1137,1138,1139,1140,1141,1142,1143,1144,1145,1146,1147,1148,1149,1150,1151,1152,1153,1154,1155,1156,1157,1158,1159,1160,1161,1162,1163,1164,1165,1166,1167,1168,1169,1170,1171,1172,1173,1174,1175,1176,1177,1178,1179,1180,1181,1182,1183,1184,1185,1186,1187,1188,1189,1190,1191,1192,1193,1194,1195,1196,1197,1198,1199,1200,1201,1202,1203,1204,1205,1206,1207,1208,1209,1210,1211,1212,1213,1214,1215,1216,1217,1218,1219,1220,1221,1222,1223,1224,1225,1226,1227,1228,1229,1230,1231,1232,1233,1234,1235,1236,1237,1238,1239,1240,1241,1242,1243,1244,1245,1246,1247,1248,1249,1250,1251,1252,1253,1254,1255,1256,1257,1258,1259,1260,1261,1262,1263,1264,1265,1266,1267,1268,1269,1270,1271,1272,1273,1274,1275,1276,1277,1278,1279,1280,1281,1282,1283,1284,1285,1286,1287,1288,1289,1290,1291,1292,1293,1294,1295,1296,1297,1298,1299,1300,1301,1302,1303,1304,1305,1306,1307,1308,1309,1310,1311,1312,1313,1314,1315,1316,1317,1318,1319,1320,1321,1322,1323,1324,1325,1326,1327,1328,1329,1330,1331,1332,1333,1334,1335,1336,1337,1338,1339,1340,1341,1342,1343,1344,1345,1346,1347,1348,1349,1350,1351,1352,1353,1354,1355,1356,1357,1358,1359,1360,1361,1362,1363,1364,1365,1366,1367,1368,1369,1370,1371,1372,1373,1374,1375,1376,1377,1378,1379,1380,1381,1384,1385,1387,1390,1391,1393,1396,1397,1399,1402,1403,1405,1408,1409,1411,1414,1415,1417,1420,1421,1423,1426,1427,1429,1432,1433,1435,1438,1439,1441,1444,1445,1447,1450,1451,1453,1456,1457,1459,1462,1463,1465,1468,1469,1471,1474,1475,1477,1480,1481,1483,1486,1487,1489,1492,1493,1495,1498,1499,1501,1504,1505,1507,1510,1511,1513,1516,1517,1519,1522,1523,1525,1528,1529,1531,1534,1535,1537,1540,1541,1543,1546,1547,1549,1552,1553,1555,1558,1559,1561,1564,1565,1567,1570,1571,1573,1576,1577,1579,1582,1583,1585,1588,1589,1591,1594,1595,1597,1600,1601,1603,1606,1607,1609,1612,1613,1615,1618,1619,1621,1624,1625,1627,1630,1631,1633,1636,1637,1639,1642,1643,1645,1648,1649,1651,1654,1655,1657,1660,1661,1663,1666,1667,1669,1672,1673,1675,1678,1679,1681,1684,1685,1687,1690,1691,1693,1696,1697,1699,1702,1703,1705,1708,1709,1711,1714,1715,1717,1720,1721,1723,1726,1727,1729,1732,1733,1735,1738,1739,1741,1744,1745,1747,1750,1751,1753,1756,1757,1759,1762,1763,1765,1768,1769,1771,1774,1775,1777,1780,1781,1783,1786,1787,1789,1792,1793,1795,1798,1799,1801,1804,1805,1807,1810,1811,1813,1816,1817,1819,1822,1823,1825,1828,1829,1831,1834,1835,1837,1840,1841,1843,1846,1847,1849,1852,1853,1855,1858,1859,1861,1882,1883,1884,1917,1918,1919,1952,1953,1954,1955,1987,1988,1989,1990,2022,2023,2024,2025,2026,2057,2058,2059,2060,2061,2092,2093,2094,2095,2096,2097,2127,2128,2129,2130,2131,2132,2162,2163,2164,2165,2166,2167,2168,2197,2198,2199,2200,2201,2202,2203,2232,2233,2234,2235,2236,2237,2238,2239,2267,2268,2269,2270,2271,2272,2273,2274,2302,2303,2304,2305,2306,2307,2308,2309,2337,2338,2339,2340,2341,2342,2343,2344,2477,2478,2479,2512,2513,2514,2547,2548,2549,2550,2582,2583,2584,2585,2617,2618,2619,2620,2621,2652,2653,2654,2655,2656,2687,2688,2689,2690,2691,2692,2722,2723,2724,2725,2726,2727,2757,2758,2759,2760,2761,2762,2763,2792,2793,2794,2795,2796,2797,2798,2827,2828,2829,2830,2831,2832,2833,2834,2862,2863,2864,2865,2866,2867,2868,2869,2897,2898,2899,2900,2901,2902,2903,2904,2932,2933,2934,2935,2936,2937,2938,2939,3819,3826,3866,3933,4037,4055,4059,4063,4067,4071,4075,4079,4084,4085,4086,4087,4088,4091,4092,4094,4095,4096,4608,4616,4648,4649,4664,4665,4667,4683,4690,4691,4692,4693,4739,4800,5002,5010,5018,5026,5042,5240,5282,5386,5433,5443,5463,5466,5467,5468,5470,5478,5479,5481,5482,5483,5484,5485,5486,5487,5488,5489,5490,5491,5492,5495,5499,5503,5507,5511,5515,5517,5518,5519,5520,5521,5522,5523,5524,5532,5535,5536,5537,5539,5540,5548,5549,5551,5552,5553,5554,5555,5556,5557,5558,5559,5560,5561,5562,5565,5569,5573,5577,5581,5586,5587,5588,5589,5590,5591,5592,5593,5594,5601,5604,5605,5606,5608,5616,5617,5619,5620,5621,5622,5623,5624,5625,5626,5627,5628,5629,5630,5633,5636,5637,5638,5640,5648,5649,5651,5652,5653,5654,5655,5656,5657,5658,5659,5660,5661,5662,5665,5668,5669,5670,5672,5680,5681,5683,5684,5685,5686,5687,5688,5689,5690,5691,5692,5693,5694,5697,5700,5701,5702,5704,5712,5713,5715,5716,5717,5718,5719,5720,5721,5722,5723,5724,5725,5726,5729,5732,5733,5734,5736,5744,5745,5747,5748,5749,5750,5751,5752,5753,5754,5755,5756,5757,5758,5759,5760,5761,5762,5763,5764,5768,5772,5776,5780,5784,5788,5792,5796,5800,5804,5808,5812,5816,5820,5869,5877,5881,5885,5889,5893,5897,6538,6539,6540,6541,6542,6555,6556,6557,6558,6559,6572,6573,6574,6575,6576,6589,6590,6591,6592,6593,6606,6607,6608,6609,6610,6623,6624,6625,6626,6627,6636,6644,6650,6653,6682,6701,6738,6768) have mixed types. Specify dtype option on import or set low_memory=False.\n",
      "  interactivity=interactivity, compiler=compiler, result=result)\n"
     ]
    }
   ],
   "source": [
    "df_beha = pd.read_csv('../../../data/Behavioral/AllData.csv')#, nrows=1000)\n",
    "\n",
    "df_psd_cluster = pd.read_csv(\"../../../data/EEG/RestingEEG_PSD_Cluster.csv\") #, nrows=1000)\n",
    "df_psd_channel = pd.read_csv(\"../../../data/EEG/RestingEEG_PSD_Channel.csv\") #, nrows=5)\n",
    "df_spectro_cluster = pd.read_csv(\"../../../data/EEG/RestingEEG_Spectro_Cluster.csv\") #, nrows=1000)\n",
    "df_spectro_channel = pd.read_csv(\"../../../data/EEG/RestingEEG_Spectro_Channel.csv\") #, nrows=5)\n",
    "\n",
    "df_microstate = pd.read_csv(\"../../../data/EEG/RestingEEG_Microstates.csv\") #, nrows=5)"
   ]
  },
  {
   "cell_type": "code",
   "execution_count": 4,
   "metadata": {},
   "outputs": [
    {
     "data": {
      "text/html": [
       "<div>\n",
       "<style scoped>\n",
       "    .dataframe tbody tr th:only-of-type {\n",
       "        vertical-align: middle;\n",
       "    }\n",
       "\n",
       "    .dataframe tbody tr th {\n",
       "        vertical-align: top;\n",
       "    }\n",
       "\n",
       "    .dataframe thead th {\n",
       "        text-align: right;\n",
       "    }\n",
       "</style>\n",
       "<table border=\"1\" class=\"dataframe\">\n",
       "  <thead>\n",
       "    <tr style=\"text-align: right;\">\n",
       "      <th></th>\n",
       "      <th>Patient_ID</th>\n",
       "      <th>Age</th>\n",
       "    </tr>\n",
       "  </thead>\n",
       "  <tbody>\n",
       "    <tr>\n",
       "      <td>9</td>\n",
       "      <td>NDARCF462HNM</td>\n",
       "      <td>14.216632</td>\n",
       "    </tr>\n",
       "    <tr>\n",
       "      <td>11</td>\n",
       "      <td>NDARFC233RND</td>\n",
       "      <td>9.153661</td>\n",
       "    </tr>\n",
       "    <tr>\n",
       "      <td>22</td>\n",
       "      <td>NDARDT800YVF</td>\n",
       "      <td>17.510381</td>\n",
       "    </tr>\n",
       "    <tr>\n",
       "      <td>25</td>\n",
       "      <td>NDARZT011LBZ</td>\n",
       "      <td>7.760209</td>\n",
       "    </tr>\n",
       "    <tr>\n",
       "      <td>26</td>\n",
       "      <td>NDARKV482FU9</td>\n",
       "      <td>10.977298</td>\n",
       "    </tr>\n",
       "    <tr>\n",
       "      <td>...</td>\n",
       "      <td>...</td>\n",
       "      <td>...</td>\n",
       "    </tr>\n",
       "    <tr>\n",
       "      <td>2088</td>\n",
       "      <td>NDARAV069HGT</td>\n",
       "      <td>13.896189</td>\n",
       "    </tr>\n",
       "    <tr>\n",
       "      <td>2089</td>\n",
       "      <td>NDARZC497BFU</td>\n",
       "      <td>17.419917</td>\n",
       "    </tr>\n",
       "    <tr>\n",
       "      <td>2090</td>\n",
       "      <td>NDARDZ737LG9</td>\n",
       "      <td>13.031143</td>\n",
       "    </tr>\n",
       "    <tr>\n",
       "      <td>2094</td>\n",
       "      <td>NDARRT283RHB</td>\n",
       "      <td>10.712069</td>\n",
       "    </tr>\n",
       "    <tr>\n",
       "      <td>2095</td>\n",
       "      <td>NDARYG879ZM4</td>\n",
       "      <td>13.701346</td>\n",
       "    </tr>\n",
       "  </tbody>\n",
       "</table>\n",
       "<p>513 rows × 2 columns</p>\n",
       "</div>"
      ],
      "text/plain": [
       "        Patient_ID        Age\n",
       "9     NDARCF462HNM  14.216632\n",
       "11    NDARFC233RND   9.153661\n",
       "22    NDARDT800YVF  17.510381\n",
       "25    NDARZT011LBZ   7.760209\n",
       "26    NDARKV482FU9  10.977298\n",
       "...            ...        ...\n",
       "2088  NDARAV069HGT  13.896189\n",
       "2089  NDARZC497BFU  17.419917\n",
       "2090  NDARDZ737LG9  13.031143\n",
       "2094  NDARRT283RHB  10.712069\n",
       "2095  NDARYG879ZM4  13.701346\n",
       "\n",
       "[513 rows x 2 columns]"
      ]
     },
     "execution_count": 4,
     "metadata": {},
     "output_type": "execute_result"
    }
   ],
   "source": [
    "# Extract relevant info from the Behavioral data \n",
    "y_labels = df_beha[[\"Patient_ID\", \"Age\", \"DX_01_Cat\"]]\n",
    "y_labels_healthy = y_labels[y_labels[\"DX_01_Cat\"].str.contains(\"No Diagnosis Given\") == True]\n",
    "\n",
    "y_labels = y_labels[[\"Patient_ID\", \"Age\"]]\n",
    "y_labels_healthy = y_labels_healthy[[\"Patient_ID\", \"Age\"]]\n",
    "y_labels_healthy"
   ]
  },
  {
   "cell_type": "code",
   "execution_count": 5,
   "metadata": {},
   "outputs": [
    {
     "name": "stdout",
     "output_type": "stream",
     "text": [
      "Original lengths: 1485(psd), 1485(spectro), 1108(micro)\n",
      "Only healthy people, resulting lengths: 174(psd), 174(spectro), 128(micro)\n",
      "Replace NaN by median, resulting lenghts: 174(psd), 174(spectro), 128(micro)\n"
     ]
    }
   ],
   "source": [
    "df_psd_cluster.rename(columns={'id': 'Patient_ID'}, inplace=True)\n",
    "df_spectro_cluster.rename(columns={'id': 'Patient_ID'}, inplace=True)\n",
    "df_microstate.rename(columns={'id': 'Patient_ID'}, inplace=True)\n",
    "print(\"Original lengths: \" + str(len(df_psd_cluster)) + \"(psd), \" + \\\n",
    "     str(len(df_spectro_cluster)) + \"(spectro), \" + str(len(df_microstate)) + \"(micro)\")\n",
    "\n",
    "# Aggregate with label\n",
    "df_label_psd_cluster = pd.merge(y_labels_healthy, df_psd_cluster, on='Patient_ID')\n",
    "df_label_spectro_cluster = pd.merge(y_labels_healthy, df_spectro_cluster, on='Patient_ID')\n",
    "df_label_microstate = pd.merge(y_labels_healthy, df_microstate, on='Patient_ID')\n",
    "print(\"Only healthy people, resulting lengths: \" + str(len(df_label_psd_cluster)) + \"(psd), \" + \\\n",
    "     str(len(df_label_spectro_cluster)) + \"(spectro), \" + str(len(df_label_microstate)) + \"(micro)\")\n",
    "\n",
    "# Drop NaN values\n",
    "df_label_psd_cluster = fill_with_median(df_label_psd_cluster)\n",
    "df_label_spectro_cluster = fill_with_median(df_label_spectro_cluster)\n",
    "df_label_microstate = fill_with_median(df_label_microstate)\n",
    "print(\"Replace NaN by median, resulting lenghts: \" + str(len(df_label_psd_cluster)) + \"(psd), \" + \\\n",
    "     str(len(df_label_spectro_cluster)) + \"(spectro), \" + str(len(df_label_microstate)) + \"(micro)\")"
   ]
  },
  {
   "cell_type": "code",
   "execution_count": 6,
   "metadata": {},
   "outputs": [
    {
     "data": {
      "text/html": [
       "<div>\n",
       "<style scoped>\n",
       "    .dataframe tbody tr th:only-of-type {\n",
       "        vertical-align: middle;\n",
       "    }\n",
       "\n",
       "    .dataframe tbody tr th {\n",
       "        vertical-align: top;\n",
       "    }\n",
       "\n",
       "    .dataframe thead th {\n",
       "        text-align: right;\n",
       "    }\n",
       "</style>\n",
       "<table border=\"1\" class=\"dataframe\">\n",
       "  <thead>\n",
       "    <tr style=\"text-align: right;\">\n",
       "      <th></th>\n",
       "      <th>Patient_ID</th>\n",
       "      <th>Age</th>\n",
       "      <th>eyesclosed_fband_delta_absmean_lfront</th>\n",
       "      <th>eyesclosed_fband_delta_absmean_mfront</th>\n",
       "      <th>eyesclosed_fband_delta_absmean_rfront</th>\n",
       "      <th>eyesclosed_fband_delta_absmean_lpari</th>\n",
       "      <th>eyesclosed_fband_delta_absmean_mpari</th>\n",
       "      <th>eyesclosed_fband_delta_absmean_rpari</th>\n",
       "      <th>eyesclosed_fband_delta_relmean_lfront</th>\n",
       "      <th>eyesclosed_fband_delta_relmean_mfront</th>\n",
       "      <th>...</th>\n",
       "      <th>eyesopen_fooof_peak_freq_rfront</th>\n",
       "      <th>eyesopen_fooof_peak_freq_lpari</th>\n",
       "      <th>eyesopen_fooof_peak_freq_mpari</th>\n",
       "      <th>eyesopen_fooof_peak_freq_rpari</th>\n",
       "      <th>eyesopen_fooof_peak_amplitude_lfront</th>\n",
       "      <th>eyesopen_fooof_peak_amplitude_mfront</th>\n",
       "      <th>eyesopen_fooof_peak_amplitude_rfront</th>\n",
       "      <th>eyesopen_fooof_peak_amplitude_lpari</th>\n",
       "      <th>eyesopen_fooof_peak_amplitude_mpari</th>\n",
       "      <th>eyesopen_fooof_peak_amplitude_rpari</th>\n",
       "    </tr>\n",
       "  </thead>\n",
       "  <tbody>\n",
       "    <tr>\n",
       "      <td>0</td>\n",
       "      <td>NDARYP516VUU</td>\n",
       "      <td>10.758156</td>\n",
       "      <td>3.736577</td>\n",
       "      <td>5.970049</td>\n",
       "      <td>3.462826</td>\n",
       "      <td>4.225793</td>\n",
       "      <td>6.973617</td>\n",
       "      <td>6.719936</td>\n",
       "      <td>5.615468</td>\n",
       "      <td>6.878523</td>\n",
       "      <td>...</td>\n",
       "      <td>10.750797</td>\n",
       "      <td>10.401234</td>\n",
       "      <td>10.783732</td>\n",
       "      <td>11.046665</td>\n",
       "      <td>0.821805</td>\n",
       "      <td>0.784304</td>\n",
       "      <td>0.770845</td>\n",
       "      <td>0.914380</td>\n",
       "      <td>0.671399</td>\n",
       "      <td>1.004923</td>\n",
       "    </tr>\n",
       "    <tr>\n",
       "      <td>1</td>\n",
       "      <td>NDARMW252AJW</td>\n",
       "      <td>14.353639</td>\n",
       "      <td>1.046030</td>\n",
       "      <td>0.993709</td>\n",
       "      <td>0.171848</td>\n",
       "      <td>0.340939</td>\n",
       "      <td>0.820232</td>\n",
       "      <td>1.192685</td>\n",
       "      <td>8.556849</td>\n",
       "      <td>8.801300</td>\n",
       "      <td>...</td>\n",
       "      <td>4.946944</td>\n",
       "      <td>4.752440</td>\n",
       "      <td>11.130275</td>\n",
       "      <td>11.116105</td>\n",
       "      <td>0.482187</td>\n",
       "      <td>0.246096</td>\n",
       "      <td>0.453385</td>\n",
       "      <td>0.387212</td>\n",
       "      <td>0.482681</td>\n",
       "      <td>0.445570</td>\n",
       "    </tr>\n",
       "    <tr>\n",
       "      <td>2</td>\n",
       "      <td>NDARNT939YMG</td>\n",
       "      <td>13.436344</td>\n",
       "      <td>0.598047</td>\n",
       "      <td>0.989073</td>\n",
       "      <td>0.653203</td>\n",
       "      <td>0.398997</td>\n",
       "      <td>0.747339</td>\n",
       "      <td>0.464198</td>\n",
       "      <td>6.277626</td>\n",
       "      <td>6.457210</td>\n",
       "      <td>...</td>\n",
       "      <td>9.529512</td>\n",
       "      <td>5.678052</td>\n",
       "      <td>3.952035</td>\n",
       "      <td>3.000000</td>\n",
       "      <td>0.199349</td>\n",
       "      <td>0.215752</td>\n",
       "      <td>0.125818</td>\n",
       "      <td>0.116886</td>\n",
       "      <td>0.130389</td>\n",
       "      <td>0.161801</td>\n",
       "    </tr>\n",
       "    <tr>\n",
       "      <td>3</td>\n",
       "      <td>NDARUF935UL3</td>\n",
       "      <td>7.736253</td>\n",
       "      <td>0.393874</td>\n",
       "      <td>2.468602</td>\n",
       "      <td>1.619683</td>\n",
       "      <td>1.215742</td>\n",
       "      <td>1.610114</td>\n",
       "      <td>0.605587</td>\n",
       "      <td>9.604406</td>\n",
       "      <td>9.172019</td>\n",
       "      <td>...</td>\n",
       "      <td>6.952035</td>\n",
       "      <td>4.233514</td>\n",
       "      <td>5.411598</td>\n",
       "      <td>4.409298</td>\n",
       "      <td>0.132183</td>\n",
       "      <td>0.237902</td>\n",
       "      <td>0.191484</td>\n",
       "      <td>0.127595</td>\n",
       "      <td>0.167280</td>\n",
       "      <td>0.185117</td>\n",
       "    </tr>\n",
       "    <tr>\n",
       "      <td>4</td>\n",
       "      <td>NDARUG507AZX</td>\n",
       "      <td>7.489961</td>\n",
       "      <td>5.828677</td>\n",
       "      <td>8.478625</td>\n",
       "      <td>5.748762</td>\n",
       "      <td>9.777525</td>\n",
       "      <td>7.772112</td>\n",
       "      <td>8.642199</td>\n",
       "      <td>11.828174</td>\n",
       "      <td>12.491166</td>\n",
       "      <td>...</td>\n",
       "      <td>8.662784</td>\n",
       "      <td>8.053424</td>\n",
       "      <td>8.141264</td>\n",
       "      <td>8.571672</td>\n",
       "      <td>0.328292</td>\n",
       "      <td>0.307018</td>\n",
       "      <td>0.346635</td>\n",
       "      <td>0.324379</td>\n",
       "      <td>0.298727</td>\n",
       "      <td>0.363965</td>\n",
       "    </tr>\n",
       "    <tr>\n",
       "      <td>...</td>\n",
       "      <td>...</td>\n",
       "      <td>...</td>\n",
       "      <td>...</td>\n",
       "      <td>...</td>\n",
       "      <td>...</td>\n",
       "      <td>...</td>\n",
       "      <td>...</td>\n",
       "      <td>...</td>\n",
       "      <td>...</td>\n",
       "      <td>...</td>\n",
       "      <td>...</td>\n",
       "      <td>...</td>\n",
       "      <td>...</td>\n",
       "      <td>...</td>\n",
       "      <td>...</td>\n",
       "      <td>...</td>\n",
       "      <td>...</td>\n",
       "      <td>...</td>\n",
       "      <td>...</td>\n",
       "      <td>...</td>\n",
       "      <td>...</td>\n",
       "    </tr>\n",
       "    <tr>\n",
       "      <td>169</td>\n",
       "      <td>NDARUY549PGQ</td>\n",
       "      <td>6.911590</td>\n",
       "      <td>3.008217</td>\n",
       "      <td>5.564931</td>\n",
       "      <td>6.029916</td>\n",
       "      <td>3.699404</td>\n",
       "      <td>6.746533</td>\n",
       "      <td>4.114601</td>\n",
       "      <td>14.961798</td>\n",
       "      <td>15.003331</td>\n",
       "      <td>...</td>\n",
       "      <td>20.568485</td>\n",
       "      <td>9.726935</td>\n",
       "      <td>9.740756</td>\n",
       "      <td>9.812944</td>\n",
       "      <td>0.098270</td>\n",
       "      <td>0.111387</td>\n",
       "      <td>0.250250</td>\n",
       "      <td>0.153633</td>\n",
       "      <td>0.128134</td>\n",
       "      <td>0.071930</td>\n",
       "    </tr>\n",
       "    <tr>\n",
       "      <td>170</td>\n",
       "      <td>NDARZM903TNL</td>\n",
       "      <td>9.586356</td>\n",
       "      <td>2.772057</td>\n",
       "      <td>2.698915</td>\n",
       "      <td>0.423398</td>\n",
       "      <td>1.997683</td>\n",
       "      <td>4.236142</td>\n",
       "      <td>1.794281</td>\n",
       "      <td>13.412179</td>\n",
       "      <td>12.970387</td>\n",
       "      <td>...</td>\n",
       "      <td>11.464835</td>\n",
       "      <td>11.757324</td>\n",
       "      <td>3.000000</td>\n",
       "      <td>13.039465</td>\n",
       "      <td>0.477526</td>\n",
       "      <td>0.240545</td>\n",
       "      <td>0.381028</td>\n",
       "      <td>0.192330</td>\n",
       "      <td>0.138497</td>\n",
       "      <td>0.408818</td>\n",
       "    </tr>\n",
       "    <tr>\n",
       "      <td>171</td>\n",
       "      <td>NDARGH592NZ2</td>\n",
       "      <td>14.610312</td>\n",
       "      <td>2.854754</td>\n",
       "      <td>3.859619</td>\n",
       "      <td>4.131474</td>\n",
       "      <td>5.286843</td>\n",
       "      <td>6.619541</td>\n",
       "      <td>6.451419</td>\n",
       "      <td>6.331043</td>\n",
       "      <td>6.886147</td>\n",
       "      <td>...</td>\n",
       "      <td>9.938448</td>\n",
       "      <td>10.089338</td>\n",
       "      <td>8.315127</td>\n",
       "      <td>7.965627</td>\n",
       "      <td>0.386374</td>\n",
       "      <td>0.760298</td>\n",
       "      <td>0.842317</td>\n",
       "      <td>0.975704</td>\n",
       "      <td>0.489352</td>\n",
       "      <td>0.326751</td>\n",
       "    </tr>\n",
       "    <tr>\n",
       "      <td>172</td>\n",
       "      <td>NDARRV505ND6</td>\n",
       "      <td>10.046315</td>\n",
       "      <td>8.807898</td>\n",
       "      <td>8.647452</td>\n",
       "      <td>5.419540</td>\n",
       "      <td>7.672813</td>\n",
       "      <td>16.092883</td>\n",
       "      <td>7.072346</td>\n",
       "      <td>15.664334</td>\n",
       "      <td>16.137593</td>\n",
       "      <td>...</td>\n",
       "      <td>11.039922</td>\n",
       "      <td>11.104643</td>\n",
       "      <td>10.824285</td>\n",
       "      <td>11.067008</td>\n",
       "      <td>0.220845</td>\n",
       "      <td>0.176626</td>\n",
       "      <td>0.354522</td>\n",
       "      <td>0.459443</td>\n",
       "      <td>0.275766</td>\n",
       "      <td>0.379102</td>\n",
       "    </tr>\n",
       "    <tr>\n",
       "      <td>173</td>\n",
       "      <td>NDARND697FLK</td>\n",
       "      <td>6.517796</td>\n",
       "      <td>8.594610</td>\n",
       "      <td>13.258798</td>\n",
       "      <td>7.158682</td>\n",
       "      <td>12.743212</td>\n",
       "      <td>8.698643</td>\n",
       "      <td>4.855232</td>\n",
       "      <td>15.315470</td>\n",
       "      <td>14.779320</td>\n",
       "      <td>...</td>\n",
       "      <td>5.868008</td>\n",
       "      <td>22.846455</td>\n",
       "      <td>7.050818</td>\n",
       "      <td>4.622321</td>\n",
       "      <td>0.416442</td>\n",
       "      <td>0.358625</td>\n",
       "      <td>0.380528</td>\n",
       "      <td>0.169463</td>\n",
       "      <td>0.325197</td>\n",
       "      <td>0.199935</td>\n",
       "    </tr>\n",
       "  </tbody>\n",
       "</table>\n",
       "<p>174 rows × 302 columns</p>\n",
       "</div>"
      ],
      "text/plain": [
       "       Patient_ID        Age  eyesclosed_fband_delta_absmean_lfront  \\\n",
       "0    NDARYP516VUU  10.758156                               3.736577   \n",
       "1    NDARMW252AJW  14.353639                               1.046030   \n",
       "2    NDARNT939YMG  13.436344                               0.598047   \n",
       "3    NDARUF935UL3   7.736253                               0.393874   \n",
       "4    NDARUG507AZX   7.489961                               5.828677   \n",
       "..            ...        ...                                    ...   \n",
       "169  NDARUY549PGQ   6.911590                               3.008217   \n",
       "170  NDARZM903TNL   9.586356                               2.772057   \n",
       "171  NDARGH592NZ2  14.610312                               2.854754   \n",
       "172  NDARRV505ND6  10.046315                               8.807898   \n",
       "173  NDARND697FLK   6.517796                               8.594610   \n",
       "\n",
       "     eyesclosed_fband_delta_absmean_mfront  \\\n",
       "0                                 5.970049   \n",
       "1                                 0.993709   \n",
       "2                                 0.989073   \n",
       "3                                 2.468602   \n",
       "4                                 8.478625   \n",
       "..                                     ...   \n",
       "169                               5.564931   \n",
       "170                               2.698915   \n",
       "171                               3.859619   \n",
       "172                               8.647452   \n",
       "173                              13.258798   \n",
       "\n",
       "     eyesclosed_fband_delta_absmean_rfront  \\\n",
       "0                                 3.462826   \n",
       "1                                 0.171848   \n",
       "2                                 0.653203   \n",
       "3                                 1.619683   \n",
       "4                                 5.748762   \n",
       "..                                     ...   \n",
       "169                               6.029916   \n",
       "170                               0.423398   \n",
       "171                               4.131474   \n",
       "172                               5.419540   \n",
       "173                               7.158682   \n",
       "\n",
       "     eyesclosed_fband_delta_absmean_lpari  \\\n",
       "0                                4.225793   \n",
       "1                                0.340939   \n",
       "2                                0.398997   \n",
       "3                                1.215742   \n",
       "4                                9.777525   \n",
       "..                                    ...   \n",
       "169                              3.699404   \n",
       "170                              1.997683   \n",
       "171                              5.286843   \n",
       "172                              7.672813   \n",
       "173                             12.743212   \n",
       "\n",
       "     eyesclosed_fband_delta_absmean_mpari  \\\n",
       "0                                6.973617   \n",
       "1                                0.820232   \n",
       "2                                0.747339   \n",
       "3                                1.610114   \n",
       "4                                7.772112   \n",
       "..                                    ...   \n",
       "169                              6.746533   \n",
       "170                              4.236142   \n",
       "171                              6.619541   \n",
       "172                             16.092883   \n",
       "173                              8.698643   \n",
       "\n",
       "     eyesclosed_fband_delta_absmean_rpari  \\\n",
       "0                                6.719936   \n",
       "1                                1.192685   \n",
       "2                                0.464198   \n",
       "3                                0.605587   \n",
       "4                                8.642199   \n",
       "..                                    ...   \n",
       "169                              4.114601   \n",
       "170                              1.794281   \n",
       "171                              6.451419   \n",
       "172                              7.072346   \n",
       "173                              4.855232   \n",
       "\n",
       "     eyesclosed_fband_delta_relmean_lfront  \\\n",
       "0                                 5.615468   \n",
       "1                                 8.556849   \n",
       "2                                 6.277626   \n",
       "3                                 9.604406   \n",
       "4                                11.828174   \n",
       "..                                     ...   \n",
       "169                              14.961798   \n",
       "170                              13.412179   \n",
       "171                               6.331043   \n",
       "172                              15.664334   \n",
       "173                              15.315470   \n",
       "\n",
       "     eyesclosed_fband_delta_relmean_mfront  ...  \\\n",
       "0                                 6.878523  ...   \n",
       "1                                 8.801300  ...   \n",
       "2                                 6.457210  ...   \n",
       "3                                 9.172019  ...   \n",
       "4                                12.491166  ...   \n",
       "..                                     ...  ...   \n",
       "169                              15.003331  ...   \n",
       "170                              12.970387  ...   \n",
       "171                               6.886147  ...   \n",
       "172                              16.137593  ...   \n",
       "173                              14.779320  ...   \n",
       "\n",
       "     eyesopen_fooof_peak_freq_rfront  eyesopen_fooof_peak_freq_lpari  \\\n",
       "0                          10.750797                       10.401234   \n",
       "1                           4.946944                        4.752440   \n",
       "2                           9.529512                        5.678052   \n",
       "3                           6.952035                        4.233514   \n",
       "4                           8.662784                        8.053424   \n",
       "..                               ...                             ...   \n",
       "169                        20.568485                        9.726935   \n",
       "170                        11.464835                       11.757324   \n",
       "171                         9.938448                       10.089338   \n",
       "172                        11.039922                       11.104643   \n",
       "173                         5.868008                       22.846455   \n",
       "\n",
       "     eyesopen_fooof_peak_freq_mpari  eyesopen_fooof_peak_freq_rpari  \\\n",
       "0                         10.783732                       11.046665   \n",
       "1                         11.130275                       11.116105   \n",
       "2                          3.952035                        3.000000   \n",
       "3                          5.411598                        4.409298   \n",
       "4                          8.141264                        8.571672   \n",
       "..                              ...                             ...   \n",
       "169                        9.740756                        9.812944   \n",
       "170                        3.000000                       13.039465   \n",
       "171                        8.315127                        7.965627   \n",
       "172                       10.824285                       11.067008   \n",
       "173                        7.050818                        4.622321   \n",
       "\n",
       "     eyesopen_fooof_peak_amplitude_lfront  \\\n",
       "0                                0.821805   \n",
       "1                                0.482187   \n",
       "2                                0.199349   \n",
       "3                                0.132183   \n",
       "4                                0.328292   \n",
       "..                                    ...   \n",
       "169                              0.098270   \n",
       "170                              0.477526   \n",
       "171                              0.386374   \n",
       "172                              0.220845   \n",
       "173                              0.416442   \n",
       "\n",
       "     eyesopen_fooof_peak_amplitude_mfront  \\\n",
       "0                                0.784304   \n",
       "1                                0.246096   \n",
       "2                                0.215752   \n",
       "3                                0.237902   \n",
       "4                                0.307018   \n",
       "..                                    ...   \n",
       "169                              0.111387   \n",
       "170                              0.240545   \n",
       "171                              0.760298   \n",
       "172                              0.176626   \n",
       "173                              0.358625   \n",
       "\n",
       "     eyesopen_fooof_peak_amplitude_rfront  \\\n",
       "0                                0.770845   \n",
       "1                                0.453385   \n",
       "2                                0.125818   \n",
       "3                                0.191484   \n",
       "4                                0.346635   \n",
       "..                                    ...   \n",
       "169                              0.250250   \n",
       "170                              0.381028   \n",
       "171                              0.842317   \n",
       "172                              0.354522   \n",
       "173                              0.380528   \n",
       "\n",
       "     eyesopen_fooof_peak_amplitude_lpari  eyesopen_fooof_peak_amplitude_mpari  \\\n",
       "0                               0.914380                             0.671399   \n",
       "1                               0.387212                             0.482681   \n",
       "2                               0.116886                             0.130389   \n",
       "3                               0.127595                             0.167280   \n",
       "4                               0.324379                             0.298727   \n",
       "..                                   ...                                  ...   \n",
       "169                             0.153633                             0.128134   \n",
       "170                             0.192330                             0.138497   \n",
       "171                             0.975704                             0.489352   \n",
       "172                             0.459443                             0.275766   \n",
       "173                             0.169463                             0.325197   \n",
       "\n",
       "     eyesopen_fooof_peak_amplitude_rpari  \n",
       "0                               1.004923  \n",
       "1                               0.445570  \n",
       "2                               0.161801  \n",
       "3                               0.185117  \n",
       "4                               0.363965  \n",
       "..                                   ...  \n",
       "169                             0.071930  \n",
       "170                             0.408818  \n",
       "171                             0.326751  \n",
       "172                             0.379102  \n",
       "173                             0.199935  \n",
       "\n",
       "[174 rows x 302 columns]"
      ]
     },
     "execution_count": 6,
     "metadata": {},
     "output_type": "execute_result"
    }
   ],
   "source": [
    "df_label_spectro_cluster"
   ]
  },
  {
   "cell_type": "code",
   "execution_count": 7,
   "metadata": {},
   "outputs": [],
   "source": [
    "#Extract the features for version 1 \n",
    "#x_spev1 = df_label_spectro_cluster.filter(like='fband', axis=1)\n",
    "#col_fband = x_spev1.columns.drop(list(x_spev1.filter(like='indfband')))\n",
    "#col_fband_abs= col_fband[col_fband.str.contains(\"absmean\")]\n",
    "#x_spev1 = x_spev1[col_fband_abs]\n",
    "\n",
    "#y_train_df = df_label_spectro_cluster.loc[:,'Age']"
   ]
  },
  {
   "cell_type": "markdown",
   "metadata": {},
   "source": [
    "## Taking Only Features for Version 1"
   ]
  },
  {
   "cell_type": "markdown",
   "metadata": {},
   "source": [
    "Version 1: use all the featrues containing \"fband\" (theory driven frequency band ranges) \n",
    "and \"absmean\" (+ the other feautres starting with  and \"eyesclosed_fooof_\" and the feature  \n",
    "               eyesclosed_alphapeak_max_freq)"
   ]
  },
  {
   "cell_type": "code",
   "execution_count": 8,
   "metadata": {},
   "outputs": [
    {
     "name": "stdout",
     "output_type": "stream",
     "text": [
      "# of features =  85\n"
     ]
    }
   ],
   "source": [
    "colname = df_label_spectro_cluster.columns.str\n",
    "col_fband_abs = colname.contains('_fband_')  & colname.contains('_absmean_')\n",
    "col_fooof = colname.contains('eyesclosed_fooof')\n",
    "col_alpha = colname.contains('eyesclosed_alphapeak_max_freq')\n",
    "col = col_fband_abs | col_fooof | col_alpha\n",
    "\n",
    "print(\"# of features = \" , np.count_nonzero(col))\n",
    "x_spev1 = df_label_spectro_cluster.loc[:,col]\n",
    "\n",
    "y_train_df = df_label_spectro_cluster.loc[:,'Age']"
   ]
  },
  {
   "cell_type": "markdown",
   "metadata": {},
   "source": [
    "## Train Test Split"
   ]
  },
  {
   "cell_type": "code",
   "execution_count": 9,
   "metadata": {},
   "outputs": [],
   "source": [
    "from sklearn.model_selection import train_test_split"
   ]
  },
  {
   "cell_type": "code",
   "execution_count": 10,
   "metadata": {},
   "outputs": [],
   "source": [
    "test_size = 0.2"
   ]
  },
  {
   "cell_type": "code",
   "execution_count": 11,
   "metadata": {},
   "outputs": [
    {
     "name": "stdout",
     "output_type": "stream",
     "text": [
      "(139, 85)\n",
      "(35, 85)\n",
      "(139,)\n"
     ]
    }
   ],
   "source": [
    "x_train , x_test, y_train , y_test = train_test_split(x_spev1,y_train_df,test_size=test_size, random_state = 10)\n",
    "print(x_train.shape)\n",
    "print(x_test.shape)\n",
    "print(y_train.shape)"
   ]
  },
  {
   "cell_type": "markdown",
   "metadata": {},
   "source": [
    "## Remove Outliers "
   ]
  },
  {
   "cell_type": "code",
   "execution_count": 12,
   "metadata": {
    "scrolled": true
   },
   "outputs": [
    {
     "name": "stderr",
     "output_type": "stream",
     "text": [
      "/usr/local/lib/python3.7/site-packages/sklearn/ensemble/iforest.py:237: FutureWarning: default contamination parameter 0.1 will change in version 0.22 to \"auto\". This will change the predict method behavior.\n",
      "  FutureWarning)\n",
      "/usr/local/lib/python3.7/site-packages/sklearn/ensemble/iforest.py:247: FutureWarning: behaviour=\"old\" is deprecated and will be removed in version 0.22. Please use behaviour=\"new\", which makes the decision_function change to match other anomaly detection algorithm API.\n",
      "  FutureWarning)\n",
      "/usr/local/lib/python3.7/site-packages/sklearn/ensemble/iforest.py:415: DeprecationWarning: threshold_ attribute is deprecated in 0.20 and will be removed in 0.22.\n",
      "  \" be removed in 0.22.\", DeprecationWarning)\n"
     ]
    },
    {
     "name": "stdout",
     "output_type": "stream",
     "text": [
      "(125, 85)\n",
      "(125,)\n",
      "(35, 85)\n",
      "(35,)\n"
     ]
    }
   ],
   "source": [
    "forest = IsolationForest()\n",
    "forest.fit(x_train)\n",
    "\n",
    "# Outlier indices for training\n",
    "outliers_training = forest.predict(x_train)\n",
    "outliers_training_indices = np.argwhere(outliers_training == 1).flatten()\n",
    "\n",
    "# Drop signal outliers in training data\n",
    "x_train = x_train[outliers_training == 1]\n",
    "y_train = y_train[outliers_training == 1]\n",
    "\n",
    "print(x_train.shape)\n",
    "print(y_train.shape)\n",
    "\n",
    "print(x_test.shape)\n",
    "print(y_test.shape)"
   ]
  },
  {
   "cell_type": "markdown",
   "metadata": {},
   "source": [
    "## Scaling "
   ]
  },
  {
   "cell_type": "code",
   "execution_count": 13,
   "metadata": {},
   "outputs": [
    {
     "name": "stdout",
     "output_type": "stream",
     "text": [
      "(125, 85)\n",
      "(125,)\n",
      "(35, 85)\n",
      "(35,)\n"
     ]
    }
   ],
   "source": [
    "# Feature Scaling\n",
    "scaler = StandardScaler()\n",
    "scaler.fit(x_train)\n",
    "x_train = pd.DataFrame(scaler.transform(x_train), columns=x_train.columns, index=x_train.index)\n",
    "x_test = pd.DataFrame(scaler.transform(x_test), columns=x_test.columns, index=x_test.index)\n",
    "\n",
    "print(x_train.shape)\n",
    "print(y_train.shape)\n",
    "print(x_test.shape)\n",
    "print(y_test.shape)"
   ]
  },
  {
   "cell_type": "markdown",
   "metadata": {},
   "source": [
    "## SVR"
   ]
  },
  {
   "cell_type": "code",
   "execution_count": 14,
   "metadata": {},
   "outputs": [],
   "source": [
    "from sklearn.svm import SVR\n",
    "from sklearn.pipeline import make_pipeline\n",
    "from sklearn.preprocessing import StandardScaler"
   ]
  },
  {
   "cell_type": "code",
   "execution_count": 36,
   "metadata": {},
   "outputs": [
    {
     "data": {
      "text/plain": [
       "GridSearchCV(cv=5, error_score='raise-deprecating',\n",
       "             estimator=SVR(C=1.0, cache_size=200, coef0=0.0, degree=3,\n",
       "                           epsilon=0.1, gamma='auto_deprecated', kernel='rbf',\n",
       "                           max_iter=-1, shrinking=True, tol=0.001,\n",
       "                           verbose=False),\n",
       "             iid='warn', n_jobs=None,\n",
       "             param_grid={'C': [0.1, 1, 10, 100],\n",
       "                         'gamma': ['auto', 0.1, 1.0, 1, 2],\n",
       "                         'kernel': ('rbf', 'poly', 'linear', 'sigmoid')},\n",
       "             pre_dispatch='2*n_jobs', refit=True, return_train_score=False,\n",
       "             scoring='neg_mean_squared_error', verbose=0)"
      ]
     },
     "execution_count": 36,
     "metadata": {},
     "output_type": "execute_result"
    }
   ],
   "source": [
    "svr= SVR()\n",
    "#svr = make_pipeline(StandardScaler(), SVR(C=1, epsilon= 0.2))\n",
    "parameters = {'kernel' : ( 'rbf' , 'poly', 'linear', 'sigmoid' ), \n",
    "              'C':[0.1, 1,10,100], \n",
    "              'gamma':['auto', 10e-2, 10e-1, 1, 2]}\n",
    "clf = GridSearchCV(svr, parameters ,cv =5, scoring='neg_mean_squared_error')\n",
    "clf.fit(x_train , y_train)"
   ]
  },
  {
   "cell_type": "code",
   "execution_count": 37,
   "metadata": {},
   "outputs": [
    {
     "name": "stdout",
     "output_type": "stream",
     "text": [
      "SVR(C=100, cache_size=200, coef0=0.0, degree=3, epsilon=0.1, gamma='auto',\n",
      "    kernel='rbf', max_iter=-1, shrinking=True, tol=0.001, verbose=False)\n",
      "Best score =  -9.660867700336023\n",
      "Best param =  {'C': 100, 'gamma': 'auto', 'kernel': 'rbf'}\n"
     ]
    }
   ],
   "source": [
    "print(clf.best_estimator_)\n",
    "best_param = clf.best_params_\n",
    "print(\"Best score = \" , clf.best_score_)\n",
    "print(\"Best param = \" , best_param)"
   ]
  },
  {
   "cell_type": "code",
   "execution_count": 38,
   "metadata": {},
   "outputs": [
    {
     "name": "stdout",
     "output_type": "stream",
     "text": [
      "Test MSE SVR =  5.695657303075673\n"
     ]
    }
   ],
   "source": [
    "y_pred_svr = clf.predict(x_test)\n",
    "test_mse_svr = mean_squared_error(y_test ,y_pred_svr)\n",
    "print('Test MSE SVR = ', test_mse_svr)"
   ]
  },
  {
   "cell_type": "code",
   "execution_count": 39,
   "metadata": {
    "scrolled": true
   },
   "outputs": [
    {
     "data": {
      "text/plain": [
       "[<matplotlib.lines.Line2D at 0x151b0b110>]"
      ]
     },
     "execution_count": 39,
     "metadata": {},
     "output_type": "execute_result"
    },
    {
     "data": {
      "image/png": "[encoded data removed]",
      "text/plain": [
       "<Figure size 576x396 with 1 Axes>"
      ]
     },
     "metadata": {},
     "output_type": "display_data"
    }
   ],
   "source": [
    "plt.plot(clf.predict(x_train) , y_train , 'o')\n",
    "plt.plot(clf.predict(x_test), y_test , 'o')\n",
    "plt.plot(y_train , y_train)"
   ]
  },
  {
   "cell_type": "markdown",
   "metadata": {},
   "source": [
    "## XG Boost "
   ]
  },
  {
   "cell_type": "code",
   "execution_count": 19,
   "metadata": {},
   "outputs": [],
   "source": [
    "def fit_xgboost_with_grid_search(X_train, y_train):\n",
    "\n",
    "    # Create gradient boosting object\n",
    "    xgbr = XGBRegressor(verbosity=1, max_depth=10, reg_lambda=1) \n",
    "    \n",
    "    # Grid search \n",
    "    parameters = {'max_depth':[1,2,4], 'reg_lambda':[4, 6, 8, 10, 12, 14, 16, 18, 20], 'min_child_weight':[6, 8, 12,16, 20, 25, 30]}\n",
    "    clf = GridSearchCV(xgbr, parameters, scoring='neg_mean_squared_error', n_jobs=4, iid=False, cv=5)\n",
    "    clf.fit(X_train, y_train)\n",
    "    \n",
    "    print(\"Best parameters for XGBoost: \" + str(clf.best_params_))\n",
    "            \n",
    "    return clf"
   ]
  },
  {
   "cell_type": "code",
   "execution_count": 20,
   "metadata": {},
   "outputs": [],
   "source": [
    "from sklearn.model_selection import GridSearchCV\n",
    "import sklearn\n",
    "from xgboost import plot_importance\n",
    "from matplotlib import pyplot"
   ]
  },
  {
   "cell_type": "code",
   "execution_count": 21,
   "metadata": {
    "scrolled": true
   },
   "outputs": [
    {
     "name": "stdout",
     "output_type": "stream",
     "text": [
      "Best parameters for XGBoost: {'max_depth': 1, 'min_child_weight': 30, 'reg_lambda': 12}\n"
     ]
    }
   ],
   "source": [
    "xg_boost = fit_xgboost_with_grid_search(x_train, y_train)"
   ]
  },
  {
   "cell_type": "code",
   "execution_count": 22,
   "metadata": {},
   "outputs": [
    {
     "data": {
      "text/plain": [
       "-7.407800441542127"
      ]
     },
     "execution_count": 22,
     "metadata": {},
     "output_type": "execute_result"
    }
   ],
   "source": [
    "xg_boost.best_score_"
   ]
  },
  {
   "cell_type": "code",
   "execution_count": 23,
   "metadata": {},
   "outputs": [
    {
     "data": {
      "text/plain": [
       "XGBRegressor(base_score=0.5, booster='gbtree', colsample_bylevel=1,\n",
       "             colsample_bynode=1, colsample_bytree=1, gamma=0, gpu_id=-1,\n",
       "             importance_type='gain', interaction_constraints='',\n",
       "             learning_rate=0.300000012, max_delta_step=0, max_depth=1,\n",
       "             min_child_weight=30, missing=nan, monotone_constraints='()',\n",
       "             n_estimators=100, n_jobs=0, num_parallel_tree=1,\n",
       "             objective='reg:squarederror', random_state=0, reg_alpha=0,\n",
       "             reg_lambda=12, scale_pos_weight=1, subsample=1,\n",
       "             tree_method='exact', validate_parameters=1, verbosity=1)"
      ]
     },
     "execution_count": 23,
     "metadata": {},
     "output_type": "execute_result"
    }
   ],
   "source": [
    "best_param = xg_boost.best_params_\n",
    "xgbr = XGBRegressor(verbosity=1, \n",
    "                    max_depth=best_param['max_depth'], \n",
    "                    min_child_weight= best_param['min_child_weight'], \n",
    "                    reg_lambda=best_param['reg_lambda']) \n",
    "xgbr.fit(x_train, y_train)"
   ]
  },
  {
   "cell_type": "code",
   "execution_count": 24,
   "metadata": {},
   "outputs": [
    {
     "name": "stdout",
     "output_type": "stream",
     "text": [
      "TEST MSE XG Boost =  5.316506667578047\n"
     ]
    }
   ],
   "source": [
    "test_mse_xg = mean_squared_error(y_test , xgbr.predict(x_test))\n",
    "print('TEST MSE XG Boost = ', test_mse_xg)"
   ]
  },
  {
   "cell_type": "code",
   "execution_count": 25,
   "metadata": {},
   "outputs": [
    {
     "data": {
      "text/plain": [
       "[<matplotlib.lines.Line2D at 0x150f5fa90>]"
      ]
     },
     "execution_count": 25,
     "metadata": {},
     "output_type": "execute_result"
    },
    {
     "data": {
      "image/png": "[encoded data removed]",
      "text/plain": [
       "<Figure size 576x396 with 1 Axes>"
      ]
     },
     "metadata": {},
     "output_type": "display_data"
    }
   ],
   "source": [
    "plt.plot(xgbr.predict(x_train) , y_train , 'o')\n",
    "plt.plot(xgbr.predict(x_test), y_test , 'o')\n",
    "plt.plot(y_train , y_train)"
   ]
  },
  {
   "cell_type": "code",
   "execution_count": 26,
   "metadata": {
    "scrolled": false
   },
   "outputs": [
    {
     "data": {
      "image/png": "[encoded data removed]",
      "text/plain": [
       "<Figure size 576x396 with 1 Axes>"
      ]
     },
     "metadata": {},
     "output_type": "display_data"
    }
   ],
   "source": [
    "plot_importance(xgbr, max_num_features=10)\n",
    "pyplot.show()"
   ]
  },
  {
   "cell_type": "markdown",
   "metadata": {},
   "source": [
    "## Gaussian Process"
   ]
  },
  {
   "cell_type": "code",
   "execution_count": 27,
   "metadata": {},
   "outputs": [
    {
     "data": {
      "text/plain": [
       "{'alpha': 1.0, 'kernel': Matern(length_scale=1, nu=1.5)}"
      ]
     },
     "execution_count": 27,
     "metadata": {},
     "output_type": "execute_result"
    }
   ],
   "source": [
    "gpr = GaussianProcessRegressor(n_restarts_optimizer=5)\n",
    "    \n",
    "# Grid search\n",
    "parameters = {\n",
    "    'kernel': [RationalQuadratic(), RBF(), Matern(length_scale=1, nu=1.5),  DotProduct()], 'alpha': [1e-10, 1e-5, 1e-3, 1e-1, 1., 1.5, 2.]}\n",
    "clf_gp = GridSearchCV(gpr, parameters, scoring='neg_mean_squared_error', n_jobs=4, iid=False, cv=5)\n",
    "clf_gp.fit(x_train, y_train)\n",
    "clf_gp.best_params_"
   ]
  },
  {
   "cell_type": "code",
   "execution_count": 28,
   "metadata": {},
   "outputs": [
    {
     "data": {
      "text/plain": [
       "-9.249542828786801"
      ]
     },
     "execution_count": 28,
     "metadata": {},
     "output_type": "execute_result"
    }
   ],
   "source": [
    "clf_gp.best_score_"
   ]
  },
  {
   "cell_type": "code",
   "execution_count": 29,
   "metadata": {},
   "outputs": [
    {
     "name": "stdout",
     "output_type": "stream",
     "text": [
      "Test MSE GP =  5.719302841886365\n"
     ]
    }
   ],
   "source": [
    "y_pred_gp = clf_gp.predict(x_test)\n",
    "test_mse_gp = mean_squared_error(y_test ,y_pred_svr)\n",
    "print('Test MSE GP = ', test_mse_gp)"
   ]
  },
  {
   "cell_type": "code",
   "execution_count": 30,
   "metadata": {},
   "outputs": [
    {
     "data": {
      "text/plain": [
       "[<matplotlib.lines.Line2D at 0x161bebc10>]"
      ]
     },
     "execution_count": 30,
     "metadata": {},
     "output_type": "execute_result"
    },
    {
     "data": {
      "image/png": "[encoded data removed]",
      "text/plain": [
       "<Figure size 576x396 with 1 Axes>"
      ]
     },
     "metadata": {},
     "output_type": "display_data"
    }
   ],
   "source": [
    "plt.plot(clf_gp.predict(x_train) , y_train , 'o')\n",
    "plt.plot(clf_gp.predict(x_test), y_test , 'o')\n",
    "plt.plot(y_train , y_train)"
   ]
  },
  {
   "cell_type": "markdown",
   "metadata": {},
   "source": [
    "# Random Forest"
   ]
  },
  {
   "cell_type": "code",
   "execution_count": 31,
   "metadata": {},
   "outputs": [
    {
     "name": "stdout",
     "output_type": "stream",
     "text": [
      "Best parameters for Random Forest: {'max_depth': 25, 'max_leaf_nodes': 100, 'min_samples_split': 5, 'n_estimators': 1000}\n"
     ]
    }
   ],
   "source": [
    "rdf = fit_random_forest_with_grid_search(x_train, y_train)"
   ]
  },
  {
   "cell_type": "code",
   "execution_count": 32,
   "metadata": {},
   "outputs": [
    {
     "data": {
      "text/plain": [
       "{'max_depth': 25,\n",
       " 'max_leaf_nodes': 100,\n",
       " 'min_samples_split': 5,\n",
       " 'n_estimators': 1000}"
      ]
     },
     "execution_count": 32,
     "metadata": {},
     "output_type": "execute_result"
    }
   ],
   "source": [
    "rdf.best_params_"
   ]
  },
  {
   "cell_type": "code",
   "execution_count": 33,
   "metadata": {},
   "outputs": [
    {
     "data": {
      "text/plain": [
       "-8.490403643199718"
      ]
     },
     "execution_count": 33,
     "metadata": {},
     "output_type": "execute_result"
    }
   ],
   "source": [
    "rdf.best_score_"
   ]
  },
  {
   "cell_type": "code",
   "execution_count": 34,
   "metadata": {},
   "outputs": [
    {
     "data": {
      "text/plain": [
       "4.300666636515657"
      ]
     },
     "execution_count": 34,
     "metadata": {},
     "output_type": "execute_result"
    }
   ],
   "source": [
    "sklearn.metrics.mean_squared_error(y_test , rdf.predict(x_test))"
   ]
  },
  {
   "cell_type": "code",
   "execution_count": 35,
   "metadata": {},
   "outputs": [
    {
     "data": {
      "text/plain": [
       "[<matplotlib.lines.Line2D at 0x1627b0a90>]"
      ]
     },
     "execution_count": 35,
     "metadata": {},
     "output_type": "execute_result"
    },
    {
     "data": {
      "image/png": "[encoded data removed]",
      "text/plain": [
       "<Figure size 576x396 with 1 Axes>"
      ]
     },
     "metadata": {},
     "output_type": "display_data"
    }
   ],
   "source": [
    "plt.plot(rdf.predict(x_train) , y_train , 'o')\n",
    "plt.plot(rdf.predict(x_test), y_test , 'o')\n",
    "plt.plot(y_train , y_train)"
   ]
  },
  {
   "cell_type": "code",
   "execution_count": null,
   "metadata": {},
   "outputs": [],
   "source": []
  }
 ],
 "metadata": {
  "kernelspec": {
   "display_name": "Python 3",
   "language": "python",
   "name": "python3"
  },
  "language_info": {
   "codemirror_mode": {
    "name": "ipython",
    "version": 3
   },
   "file_extension": ".py",
   "mimetype": "text/x-python",
   "name": "python",
   "nbconvert_exporter": "python",
   "pygments_lexer": "ipython3",
   "version": "3.7.6"
  }
 },
 "nbformat": 4,
 "nbformat_minor": 2
}
