{
 "cells": [
  {
   "cell_type": "code",
   "execution_count": 1,
   "metadata": {},
   "outputs": [
    {
     "name": "stdout",
     "output_type": "stream",
     "text": [
      "/Users/pldelacour/Documents/PL_Ecole/data_sc_lab/data_sc_lab/task_01/pipelines\n"
     ]
    }
   ],
   "source": [
    "cd /Users/pldelacour/Documents/PL_Ecole/data_sc_lab/data_sc_lab/task_01/pipelines"
   ]
  },
  {
   "cell_type": "code",
   "execution_count": 2,
   "metadata": {},
   "outputs": [
    {
     "name": "stderr",
     "output_type": "stream",
     "text": [
      "/Users/pldelacour/anaconda3/lib/python3.7/site-packages/sklearn/utils/deprecation.py:144: FutureWarning: The sklearn.metrics.classification module is  deprecated in version 0.22 and will be removed in version 0.24. The corresponding classes / functions should instead be imported from sklearn.metrics. Anything that cannot be imported from sklearn.metrics is now part of the private API.\n",
      "  warnings.warn(message, FutureWarning)\n"
     ]
    }
   ],
   "source": [
    "import numpy as np\n",
    "import pandas as pd\n",
    "import matplotlib.pyplot as plt\n",
    "from ipynb.fs.full.tool_functions import *\n",
    "from yellowbrick.regressor import AlphaSelection"
   ]
  },
  {
   "cell_type": "code",
   "execution_count": 3,
   "metadata": {},
   "outputs": [
    {
     "name": "stderr",
     "output_type": "stream",
     "text": [
      "/Users/pldelacour/anaconda3/lib/python3.7/site-packages/IPython/core/interactiveshell.py:3020: DtypeWarning: Columns (66,68,80,81,82,83,84,95,96,97,98,99,110,111,112,113,114,125,126,127,128,129,140,141,142,144,155,156,157,159,932,933,934,935,936,937,938,939,940,941,942,943,944,945,946,947,948,949,950,951,952,953,954,955,956,957,958,959,960,961,962,963,964,965,966,967,968,969,970,971,972,973,974,975,976,977,978,979,980,981,982,983,984,985,986,987,988,989,990,991,992,993,994,995,996,997,998,999,1000,1001,1002,1003,1004,1005,1006,1007,1008,1009,1010,1011,1012,1013,1014,1015,1016,1017,1018,1019,1020,1021,1022,1023,1024,1025,1026,1027,1028,1029,1030,1031,1032,1033,1034,1035,1036,1037,1038,1039,1040,1041,1042,1043,1044,1045,1046,1047,1048,1049,1050,1051,1052,1053,1054,1055,1056,1057,1058,1059,1060,1061,1062,1063,1064,1065,1066,1067,1068,1069,1070,1071,1072,1073,1074,1075,1076,1077,1078,1079,1080,1081,1082,1083,1084,1085,1086,1087,1088,1089,1090,1091,1092,1093,1094,1095,1096,1097,1098,1099,1100,1101,1102,1103,1104,1105,1106,1107,1108,1109,1110,1111,1112,1113,1114,1115,1116,1117,1118,1119,1120,1121,1122,1123,1124,1125,1126,1127,1128,1129,1130,1131,1132,1133,1134,1135,1136,1137,1138,1139,1140,1141,1142,1143,1144,1145,1146,1147,1148,1149,1150,1151,1152,1153,1154,1155,1156,1157,1158,1159,1160,1161,1162,1163,1164,1165,1166,1167,1168,1169,1170,1171,1172,1173,1174,1175,1176,1177,1178,1179,1180,1181,1182,1183,1184,1185,1186,1187,1188,1189,1190,1191,1192,1193,1194,1195,1196,1197,1198,1199,1200,1201,1202,1203,1204,1205,1206,1207,1208,1209,1210,1211,1212,1213,1214,1215,1216,1217,1218,1219,1220,1221,1222,1223,1224,1225,1226,1227,1228,1229,1230,1231,1232,1233,1234,1235,1236,1237,1238,1239,1240,1241,1242,1243,1244,1245,1246,1247,1248,1249,1250,1251,1252,1253,1254,1255,1256,1257,1258,1259,1260,1261,1262,1263,1264,1265,1266,1267,1268,1269,1270,1271,1272,1273,1274,1275,1276,1277,1278,1279,1280,1281,1282,1283,1284,1285,1286,1287,1288,1289,1290,1291,1292,1293,1294,1295,1296,1297,1298,1299,1300,1301,1302,1303,1304,1305,1306,1307,1308,1309,1310,1311,1312,1313,1314,1315,1316,1317,1318,1319,1320,1321,1322,1323,1324,1325,1326,1327,1328,1329,1330,1331,1332,1333,1334,1335,1336,1337,1338,1339,1340,1341,1342,1343,1344,1345,1346,1347,1348,1349,1350,1351,1352,1353,1354,1355,1356,1357,1358,1359,1360,1361,1362,1363,1364,1365,1366,1367,1368,1369,1370,1371,1372,1373,1374,1375,1376,1377,1378,1379,1380,1381,1384,1385,1387,1390,1391,1393,1396,1397,1399,1402,1403,1405,1408,1409,1411,1414,1415,1417,1420,1421,1423,1426,1427,1429,1432,1433,1435,1438,1439,1441,1444,1445,1447,1450,1451,1453,1456,1457,1459,1462,1463,1465,1468,1469,1471,1474,1475,1477,1480,1481,1483,1486,1487,1489,1492,1493,1495,1498,1499,1501,1504,1505,1507,1510,1511,1513,1516,1517,1519,1522,1523,1525,1528,1529,1531,1534,1535,1537,1540,1541,1543,1546,1547,1549,1552,1553,1555,1558,1559,1561,1564,1565,1567,1570,1571,1573,1576,1577,1579,1582,1583,1585,1588,1589,1591,1594,1595,1597,1600,1601,1603,1606,1607,1609,1612,1613,1615,1618,1619,1621,1624,1625,1627,1630,1631,1633,1636,1637,1639,1642,1643,1645,1648,1649,1651,1654,1655,1657,1660,1661,1663,1666,1667,1669,1672,1673,1675,1678,1679,1681,1684,1685,1687,1690,1691,1693,1696,1697,1699,1702,1703,1705,1708,1709,1711,1714,1715,1717,1720,1721,1723,1726,1727,1729,1732,1733,1735,1738,1739,1741,1744,1745,1747,1750,1751,1753,1756,1757,1759,1762,1763,1765,1768,1769,1771,1774,1775,1777,1780,1781,1783,1786,1787,1789,1792,1793,1795,1798,1799,1801,1804,1805,1807,1810,1811,1813,1816,1817,1819,1822,1823,1825,1828,1829,1831,1834,1835,1837,1840,1841,1843,1846,1847,1849,1852,1853,1855,1858,1859,1861,1882,1883,1884,1917,1918,1919,1952,1953,1954,1955,1987,1988,1989,1990,2022,2023,2024,2025,2026,2057,2058,2059,2060,2061,2092,2093,2094,2095,2096,2097,2127,2128,2129,2130,2131,2132,2162,2163,2164,2165,2166,2167,2168,2197,2198,2199,2200,2201,2202,2203,2232,2233,2234,2235,2236,2237,2238,2239,2267,2268,2269,2270,2271,2272,2273,2274,2302,2303,2304,2305,2306,2307,2308,2309,2337,2338,2339,2340,2341,2342,2343,2344,2477,2478,2479,2512,2513,2514,2547,2548,2549,2550,2582,2583,2584,2585,2617,2618,2619,2620,2621,2652,2653,2654,2655,2656,2687,2688,2689,2690,2691,2692,2722,2723,2724,2725,2726,2727,2757,2758,2759,2760,2761,2762,2763,2792,2793,2794,2795,2796,2797,2798,2827,2828,2829,2830,2831,2832,2833,2834,2862,2863,2864,2865,2866,2867,2868,2869,2897,2898,2899,2900,2901,2902,2903,2904,2932,2933,2934,2935,2936,2937,2938,2939,3819,3826,3866,3933,4037,4055,4059,4063,4067,4071,4075,4079,4084,4085,4086,4087,4088,4091,4092,4094,4095,4096,4608,4616,4648,4649,4664,4665,4667,4683,4690,4691,4692,4693,4739,4800,5002,5010,5018,5026,5042,5240,5282,5386,5433,5443,5463,5466,5467,5468,5470,5478,5479,5481,5482,5483,5484,5485,5486,5487,5488,5489,5490,5491,5492,5495,5499,5503,5507,5511,5515,5517,5518,5519,5520,5521,5522,5523,5524,5532,5535,5536,5537,5539,5540,5548,5549,5551,5552,5553,5554,5555,5556,5557,5558,5559,5560,5561,5562,5565,5569,5573,5577,5581,5586,5587,5588,5589,5590,5591,5592,5593,5594,5601,5604,5605,5606,5608,5616,5617,5619,5620,5621,5622,5623,5624,5625,5626,5627,5628,5629,5630,5633,5636,5637,5638,5640,5648,5649,5651,5652,5653,5654,5655,5656,5657,5658,5659,5660,5661,5662,5665,5668,5669,5670,5672,5680,5681,5683,5684,5685,5686,5687,5688,5689,5690,5691,5692,5693,5694,5697,5700,5701,5702,5704,5712,5713,5715,5716,5717,5718,5719,5720,5721,5722,5723,5724,5725,5726,5729,5732,5733,5734,5736,5744,5745,5747,5748,5749,5750,5751,5752,5753,5754,5755,5756,5757,5758,5759,5760,5761,5762,5763,5764,5768,5772,5776,5780,5784,5788,5792,5796,5800,5804,5808,5812,5816,5820,5869,5877,5881,5885,5889,5893,5897,6538,6539,6540,6541,6542,6555,6556,6557,6558,6559,6572,6573,6574,6575,6576,6589,6590,6591,6592,6593,6606,6607,6608,6609,6610,6623,6624,6625,6626,6627,6636,6644,6650,6653,6682,6701,6738,6768) have mixed types.Specify dtype option on import or set low_memory=False.\n",
      "  interactivity=interactivity, compiler=compiler, result=result)\n"
     ]
    }
   ],
   "source": [
    "df_beha = pd.read_csv('../../../data/Behavioral/AllData.csv')#, nrows=1000)\n",
    "\n",
    "df_psd_cluster = pd.read_csv(\"../../../data/EEG/RestingEEG_PSD_Cluster.csv\") #, nrows=1000)\n",
    "df_psd_channel = pd.read_csv(\"../../../data/EEG/RestingEEG_PSD_Channel.csv\") #, nrows=5)\n",
    "df_spectro_cluster = pd.read_csv(\"../../../data/EEG/RestingEEG_Spectro_Cluster.csv\") #, nrows=1000)\n",
    "df_spectro_channel = pd.read_csv(\"../../../data/EEG/RestingEEG_Spectro_Channel.csv\") #, nrows=5)\n",
    "\n",
    "df_microstate = pd.read_csv(\"../../../data/EEG/RestingEEG_Microstates.csv\") #, nrows=5)"
   ]
  },
  {
   "cell_type": "code",
   "execution_count": 4,
   "metadata": {},
   "outputs": [
    {
     "data": {
      "text/html": [
       "<div>\n",
       "<style scoped>\n",
       "    .dataframe tbody tr th:only-of-type {\n",
       "        vertical-align: middle;\n",
       "    }\n",
       "\n",
       "    .dataframe tbody tr th {\n",
       "        vertical-align: top;\n",
       "    }\n",
       "\n",
       "    .dataframe thead th {\n",
       "        text-align: right;\n",
       "    }\n",
       "</style>\n",
       "<table border=\"1\" class=\"dataframe\">\n",
       "  <thead>\n",
       "    <tr style=\"text-align: right;\">\n",
       "      <th></th>\n",
       "      <th>Patient_ID</th>\n",
       "      <th>Age</th>\n",
       "    </tr>\n",
       "  </thead>\n",
       "  <tbody>\n",
       "    <tr>\n",
       "      <th>9</th>\n",
       "      <td>NDARCF462HNM</td>\n",
       "      <td>14.216632</td>\n",
       "    </tr>\n",
       "    <tr>\n",
       "      <th>11</th>\n",
       "      <td>NDARFC233RND</td>\n",
       "      <td>9.153661</td>\n",
       "    </tr>\n",
       "    <tr>\n",
       "      <th>22</th>\n",
       "      <td>NDARDT800YVF</td>\n",
       "      <td>17.510381</td>\n",
       "    </tr>\n",
       "    <tr>\n",
       "      <th>25</th>\n",
       "      <td>NDARZT011LBZ</td>\n",
       "      <td>7.760209</td>\n",
       "    </tr>\n",
       "    <tr>\n",
       "      <th>26</th>\n",
       "      <td>NDARKV482FU9</td>\n",
       "      <td>10.977298</td>\n",
       "    </tr>\n",
       "    <tr>\n",
       "      <th>...</th>\n",
       "      <td>...</td>\n",
       "      <td>...</td>\n",
       "    </tr>\n",
       "    <tr>\n",
       "      <th>2088</th>\n",
       "      <td>NDARAV069HGT</td>\n",
       "      <td>13.896189</td>\n",
       "    </tr>\n",
       "    <tr>\n",
       "      <th>2089</th>\n",
       "      <td>NDARZC497BFU</td>\n",
       "      <td>17.419917</td>\n",
       "    </tr>\n",
       "    <tr>\n",
       "      <th>2090</th>\n",
       "      <td>NDARDZ737LG9</td>\n",
       "      <td>13.031143</td>\n",
       "    </tr>\n",
       "    <tr>\n",
       "      <th>2094</th>\n",
       "      <td>NDARRT283RHB</td>\n",
       "      <td>10.712069</td>\n",
       "    </tr>\n",
       "    <tr>\n",
       "      <th>2095</th>\n",
       "      <td>NDARYG879ZM4</td>\n",
       "      <td>13.701346</td>\n",
       "    </tr>\n",
       "  </tbody>\n",
       "</table>\n",
       "<p>513 rows × 2 columns</p>\n",
       "</div>"
      ],
      "text/plain": [
       "        Patient_ID        Age\n",
       "9     NDARCF462HNM  14.216632\n",
       "11    NDARFC233RND   9.153661\n",
       "22    NDARDT800YVF  17.510381\n",
       "25    NDARZT011LBZ   7.760209\n",
       "26    NDARKV482FU9  10.977298\n",
       "...            ...        ...\n",
       "2088  NDARAV069HGT  13.896189\n",
       "2089  NDARZC497BFU  17.419917\n",
       "2090  NDARDZ737LG9  13.031143\n",
       "2094  NDARRT283RHB  10.712069\n",
       "2095  NDARYG879ZM4  13.701346\n",
       "\n",
       "[513 rows x 2 columns]"
      ]
     },
     "execution_count": 4,
     "metadata": {},
     "output_type": "execute_result"
    }
   ],
   "source": [
    "# Extract relevant info from the Behavioral data \n",
    "y_labels = df_beha[[\"Patient_ID\", \"Age\", \"DX_01_Cat\"]]\n",
    "y_labels_healthy = y_labels[y_labels[\"DX_01_Cat\"].str.contains(\"No Diagnosis Given\") == True]\n",
    "\n",
    "y_labels = y_labels[[\"Patient_ID\", \"Age\"]]\n",
    "y_labels_healthy = y_labels_healthy[[\"Patient_ID\", \"Age\"]]\n",
    "y_labels_healthy"
   ]
  },
  {
   "cell_type": "code",
   "execution_count": 8,
   "metadata": {},
   "outputs": [
    {
     "name": "stdout",
     "output_type": "stream",
     "text": [
      "Original lengths: 1485(psd), 1485(spectro), 1108(micro)\n",
      "Only healthy people, resulting lengths: 1306(psd), 174(spectro), 128(micro)\n",
      "Replace NaN by median, resulting lenghts: 1306(psd), 174(spectro), 128(micro)\n"
     ]
    }
   ],
   "source": [
    "df_psd_cluster.rename(columns={'id': 'Patient_ID'}, inplace=True)\n",
    "df_spectro_cluster.rename(columns={'id': 'Patient_ID'}, inplace=True)\n",
    "df_microstate.rename(columns={'id': 'Patient_ID'}, inplace=True)\n",
    "print(\"Original lengths: \" + str(len(df_psd_cluster)) + \"(psd), \" + \\\n",
    "     str(len(df_spectro_cluster)) + \"(spectro), \" + str(len(df_microstate)) + \"(micro)\")\n",
    "\n",
    "# Aggregate with label\n",
    "df_label_psd_cluster = pd.merge(y_labels, df_psd_cluster, on='Patient_ID')\n",
    "df_label_spectro_cluster = pd.merge(y_labels_healthy, df_spectro_cluster, on='Patient_ID')\n",
    "df_label_microstate = pd.merge(y_labels_healthy, df_microstate, on='Patient_ID')\n",
    "print(\"Only healthy people, resulting lengths: \" + str(len(df_label_psd_cluster)) + \"(psd), \" + \\\n",
    "     str(len(df_label_spectro_cluster)) + \"(spectro), \" + str(len(df_label_microstate)) + \"(micro)\")\n",
    "\n",
    "# Drop NaN values\n",
    "df_label_psd_cluster = fill_with_median(df_label_psd_cluster)\n",
    "df_label_spectro_cluster = fill_with_median(df_label_spectro_cluster)\n",
    "df_label_microstate = fill_with_median(df_label_microstate)\n",
    "print(\"Replace NaN by median, resulting lenghts: \" + str(len(df_label_psd_cluster)) + \"(psd), \" + \\\n",
    "     str(len(df_label_spectro_cluster)) + \"(spectro), \" + str(len(df_label_microstate)) + \"(micro)\")"
   ]
  },
  {
   "cell_type": "code",
   "execution_count": 103,
   "metadata": {},
   "outputs": [],
   "source": [
    "test_ratio = 0.2"
   ]
  },
  {
   "cell_type": "code",
   "execution_count": 104,
   "metadata": {},
   "outputs": [
    {
     "name": "stdout",
     "output_type": "stream",
     "text": [
      "\n",
      "---- Split into Train and Test data ----\n",
      "\n",
      "Test lengths: 261(psd), 34(spectro), 25(micro)\n",
      "\n",
      "---- Feature selection by correlation ----\n",
      "\n"
     ]
    }
   ],
   "source": [
    "# Define Train and Test data \n",
    "print()\n",
    "print(\"---- Split into Train and Test data ----\")\n",
    "print()\n",
    "(X_train_psd, y_train_psd, X_test_psd, y_test_psd) = \\\n",
    "                                                    train_test_split(df_label_psd_cluster, test_ratio)\n",
    "(X_train_spe, y_train_spe, X_test_spe, y_test_spe) = \\\n",
    "                                                    train_test_split(df_label_spectro_cluster, test_ratio)\n",
    "(X_train_mic, y_train_mic, X_test_mic, y_test_mic) = \\\n",
    "                                                    train_test_split(df_label_microstate, test_ratio)\n",
    "\n",
    "print(\"Test lengths: \" + str(len(y_test_psd)) + \"(psd), \" + \\\n",
    "     str(len(y_test_spe)) + \"(spectro), \" + str(len(y_test_mic)) + \"(micro)\")\n",
    "\n",
    "# Feature selection by correlation\n",
    "print()\n",
    "print(\"---- Feature selection by correlation ----\")\n",
    "print()\n"
   ]
  },
  {
   "cell_type": "code",
   "execution_count": 11,
   "metadata": {},
   "outputs": [],
   "source": [
    "#alphas = np.logspace(1,-10 , 100)\n",
    "#alphas = np.logspace(-4, -0.5, 30)\n",
    "#alphas"
   ]
  },
  {
   "cell_type": "code",
   "execution_count": 185,
   "metadata": {},
   "outputs": [
    {
     "data": {
      "text/plain": [
       "array([0.001     , 0.00129155, 0.0016681 , 0.00215443, 0.00278256,\n",
       "       0.00359381, 0.00464159, 0.00599484, 0.00774264, 0.01      ])"
      ]
     },
     "execution_count": 185,
     "metadata": {},
     "output_type": "execute_result"
    }
   ],
   "source": [
    "alphas = np.logspace(-3, -2, 10)\n",
    "alphas"
   ]
  },
  {
   "cell_type": "code",
   "execution_count": 186,
   "metadata": {},
   "outputs": [],
   "source": [
    "from sklearn.linear_model import LassoCV"
   ]
  },
  {
   "cell_type": "code",
   "execution_count": 187,
   "metadata": {},
   "outputs": [],
   "source": [
    "x_train = X_train_psd.loc[:,X_train_psd.columns != 'Patient_ID']\n",
    "y_train = y_train_psd.loc[:,y_train_psd.columns != 'Patient_ID']\n",
    "x_test = X_test_psd.loc[:,X_train_psd.columns != 'Patient_ID']\n",
    "y_test = y_test_psd.loc[:,y_train_psd.columns != 'Patient_ID']\n",
    "#x_test.head(5)"
   ]
  },
  {
   "cell_type": "code",
   "execution_count": 188,
   "metadata": {},
   "outputs": [
    {
     "name": "stderr",
     "output_type": "stream",
     "text": [
      "/Users/pldelacour/anaconda3/lib/python3.7/site-packages/sklearn/linear_model/_coordinate_descent.py:1088: DataConversionWarning: A column-vector y was passed when a 1d array was expected. Please change the shape of y to (n_samples, ), for example using ravel().\n",
      "  y = column_or_1d(y, warn=True)\n",
      "/Users/pldelacour/anaconda3/lib/python3.7/site-packages/sklearn/linear_model/_coordinate_descent.py:476: ConvergenceWarning: Objective did not converge. You might want to increase the number of iterations. Duality gap: 4.924266345147771, tolerance: 1.0618821582198847\n",
      "  positive)\n",
      "/Users/pldelacour/anaconda3/lib/python3.7/site-packages/sklearn/linear_model/_coordinate_descent.py:476: ConvergenceWarning: Objective did not converge. You might want to increase the number of iterations. Duality gap: 9.644936134894124, tolerance: 1.0618821582198847\n",
      "  positive)\n",
      "/Users/pldelacour/anaconda3/lib/python3.7/site-packages/sklearn/linear_model/_coordinate_descent.py:476: ConvergenceWarning: Objective did not converge. You might want to increase the number of iterations. Duality gap: 53.248786078500416, tolerance: 1.0618821582198847\n",
      "  positive)\n",
      "/Users/pldelacour/anaconda3/lib/python3.7/site-packages/sklearn/linear_model/_coordinate_descent.py:476: ConvergenceWarning: Objective did not converge. You might want to increase the number of iterations. Duality gap: 149.05142691872425, tolerance: 1.0618821582198847\n",
      "  positive)\n",
      "/Users/pldelacour/anaconda3/lib/python3.7/site-packages/sklearn/linear_model/_coordinate_descent.py:476: ConvergenceWarning: Objective did not converge. You might want to increase the number of iterations. Duality gap: 353.61063210410157, tolerance: 1.0618821582198847\n",
      "  positive)\n",
      "/Users/pldelacour/anaconda3/lib/python3.7/site-packages/sklearn/linear_model/_coordinate_descent.py:476: ConvergenceWarning: Objective did not converge. You might want to increase the number of iterations. Duality gap: 278.06595136229816, tolerance: 1.0618821582198847\n",
      "  positive)\n",
      "/Users/pldelacour/anaconda3/lib/python3.7/site-packages/sklearn/linear_model/_coordinate_descent.py:476: ConvergenceWarning: Objective did not converge. You might want to increase the number of iterations. Duality gap: 328.0511176911227, tolerance: 1.0618821582198847\n",
      "  positive)\n",
      "/Users/pldelacour/anaconda3/lib/python3.7/site-packages/sklearn/linear_model/_coordinate_descent.py:476: ConvergenceWarning: Objective did not converge. You might want to increase the number of iterations. Duality gap: 639.9961395031421, tolerance: 1.0618821582198847\n",
      "  positive)\n",
      "/Users/pldelacour/anaconda3/lib/python3.7/site-packages/sklearn/linear_model/_coordinate_descent.py:476: ConvergenceWarning: Objective did not converge. You might want to increase the number of iterations. Duality gap: 873.7615625215187, tolerance: 1.0618821582198847\n",
      "  positive)\n",
      "/Users/pldelacour/anaconda3/lib/python3.7/site-packages/sklearn/linear_model/_coordinate_descent.py:476: ConvergenceWarning: Objective did not converge. You might want to increase the number of iterations. Duality gap: 901.3667775878012, tolerance: 1.0618821582198847\n",
      "  positive)\n",
      "/Users/pldelacour/anaconda3/lib/python3.7/site-packages/sklearn/linear_model/_coordinate_descent.py:476: ConvergenceWarning: Objective did not converge. You might want to increase the number of iterations. Duality gap: 85.8701337205539, tolerance: 1.0687698619140855\n",
      "  positive)\n",
      "/Users/pldelacour/anaconda3/lib/python3.7/site-packages/sklearn/linear_model/_coordinate_descent.py:476: ConvergenceWarning: Objective did not converge. You might want to increase the number of iterations. Duality gap: 49.34233930654591, tolerance: 1.0687698619140855\n",
      "  positive)\n",
      "/Users/pldelacour/anaconda3/lib/python3.7/site-packages/sklearn/linear_model/_coordinate_descent.py:476: ConvergenceWarning: Objective did not converge. You might want to increase the number of iterations. Duality gap: 151.83047429228145, tolerance: 1.0687698619140855\n",
      "  positive)\n",
      "/Users/pldelacour/anaconda3/lib/python3.7/site-packages/sklearn/linear_model/_coordinate_descent.py:476: ConvergenceWarning: Objective did not converge. You might want to increase the number of iterations. Duality gap: 150.24834651766832, tolerance: 1.0687698619140855\n",
      "  positive)\n",
      "/Users/pldelacour/anaconda3/lib/python3.7/site-packages/sklearn/linear_model/_coordinate_descent.py:476: ConvergenceWarning: Objective did not converge. You might want to increase the number of iterations. Duality gap: 316.5054919244549, tolerance: 1.0687698619140855\n",
      "  positive)\n",
      "/Users/pldelacour/anaconda3/lib/python3.7/site-packages/sklearn/linear_model/_coordinate_descent.py:476: ConvergenceWarning: Objective did not converge. You might want to increase the number of iterations. Duality gap: 521.1970802021829, tolerance: 1.0687698619140855\n",
      "  positive)\n",
      "/Users/pldelacour/anaconda3/lib/python3.7/site-packages/sklearn/linear_model/_coordinate_descent.py:476: ConvergenceWarning: Objective did not converge. You might want to increase the number of iterations. Duality gap: 695.2640811148012, tolerance: 1.0687698619140855\n",
      "  positive)\n",
      "/Users/pldelacour/anaconda3/lib/python3.7/site-packages/sklearn/linear_model/_coordinate_descent.py:476: ConvergenceWarning: Objective did not converge. You might want to increase the number of iterations. Duality gap: 810.67584767263, tolerance: 1.0687698619140855\n",
      "  positive)\n",
      "/Users/pldelacour/anaconda3/lib/python3.7/site-packages/sklearn/linear_model/_coordinate_descent.py:476: ConvergenceWarning: Objective did not converge. You might want to increase the number of iterations. Duality gap: 877.4504024323364, tolerance: 1.0687698619140855\n",
      "  positive)\n",
      "/Users/pldelacour/anaconda3/lib/python3.7/site-packages/sklearn/linear_model/_coordinate_descent.py:476: ConvergenceWarning: Objective did not converge. You might want to increase the number of iterations. Duality gap: 939.5209783478535, tolerance: 1.0687698619140855\n",
      "  positive)\n",
      "/Users/pldelacour/anaconda3/lib/python3.7/site-packages/sklearn/linear_model/_coordinate_descent.py:476: ConvergenceWarning: Objective did not converge. You might want to increase the number of iterations. Duality gap: 18.670572931903735, tolerance: 1.0405718125510386\n",
      "  positive)\n",
      "/Users/pldelacour/anaconda3/lib/python3.7/site-packages/sklearn/linear_model/_coordinate_descent.py:476: ConvergenceWarning: Objective did not converge. You might want to increase the number of iterations. Duality gap: 32.388136840131665, tolerance: 1.0405718125510386\n",
      "  positive)\n",
      "/Users/pldelacour/anaconda3/lib/python3.7/site-packages/sklearn/linear_model/_coordinate_descent.py:476: ConvergenceWarning: Objective did not converge. You might want to increase the number of iterations. Duality gap: 70.54085651094101, tolerance: 1.0405718125510386\n",
      "  positive)\n",
      "/Users/pldelacour/anaconda3/lib/python3.7/site-packages/sklearn/linear_model/_coordinate_descent.py:476: ConvergenceWarning: Objective did not converge. You might want to increase the number of iterations. Duality gap: 150.22424533868434, tolerance: 1.0405718125510386\n",
      "  positive)\n",
      "/Users/pldelacour/anaconda3/lib/python3.7/site-packages/sklearn/linear_model/_coordinate_descent.py:476: ConvergenceWarning: Objective did not converge. You might want to increase the number of iterations. Duality gap: 220.29919336044668, tolerance: 1.0405718125510386\n",
      "  positive)\n",
      "/Users/pldelacour/anaconda3/lib/python3.7/site-packages/sklearn/linear_model/_coordinate_descent.py:476: ConvergenceWarning: Objective did not converge. You might want to increase the number of iterations. Duality gap: 234.10946766061488, tolerance: 1.0405718125510386\n",
      "  positive)\n",
      "/Users/pldelacour/anaconda3/lib/python3.7/site-packages/sklearn/linear_model/_coordinate_descent.py:476: ConvergenceWarning: Objective did not converge. You might want to increase the number of iterations. Duality gap: 327.3970070183959, tolerance: 1.0405718125510386\n",
      "  positive)\n",
      "/Users/pldelacour/anaconda3/lib/python3.7/site-packages/sklearn/linear_model/_coordinate_descent.py:476: ConvergenceWarning: Objective did not converge. You might want to increase the number of iterations. Duality gap: 431.36899444778965, tolerance: 1.0405718125510386\n",
      "  positive)\n",
      "/Users/pldelacour/anaconda3/lib/python3.7/site-packages/sklearn/linear_model/_coordinate_descent.py:476: ConvergenceWarning: Objective did not converge. You might want to increase the number of iterations. Duality gap: 568.7490263951968, tolerance: 1.0405718125510386\n",
      "  positive)\n"
     ]
    },
    {
     "name": "stderr",
     "output_type": "stream",
     "text": [
      "/Users/pldelacour/anaconda3/lib/python3.7/site-packages/sklearn/linear_model/_coordinate_descent.py:476: ConvergenceWarning: Objective did not converge. You might want to increase the number of iterations. Duality gap: 828.1073471530142, tolerance: 1.0405718125510386\n",
      "  positive)\n",
      "/Users/pldelacour/anaconda3/lib/python3.7/site-packages/sklearn/linear_model/_coordinate_descent.py:476: ConvergenceWarning: Objective did not converge. You might want to increase the number of iterations. Duality gap: 81.60739435863889, tolerance: 1.0464140435455436\n",
      "  positive)\n",
      "/Users/pldelacour/anaconda3/lib/python3.7/site-packages/sklearn/linear_model/_coordinate_descent.py:476: ConvergenceWarning: Objective did not converge. You might want to increase the number of iterations. Duality gap: 65.03456548976646, tolerance: 1.0464140435455436\n",
      "  positive)\n",
      "/Users/pldelacour/anaconda3/lib/python3.7/site-packages/sklearn/linear_model/_coordinate_descent.py:476: ConvergenceWarning: Objective did not converge. You might want to increase the number of iterations. Duality gap: 115.82907346166849, tolerance: 1.0464140435455436\n",
      "  positive)\n",
      "/Users/pldelacour/anaconda3/lib/python3.7/site-packages/sklearn/linear_model/_coordinate_descent.py:476: ConvergenceWarning: Objective did not converge. You might want to increase the number of iterations. Duality gap: 207.8012811177141, tolerance: 1.0464140435455436\n",
      "  positive)\n",
      "/Users/pldelacour/anaconda3/lib/python3.7/site-packages/sklearn/linear_model/_coordinate_descent.py:476: ConvergenceWarning: Objective did not converge. You might want to increase the number of iterations. Duality gap: 255.59974540299845, tolerance: 1.0464140435455436\n",
      "  positive)\n",
      "/Users/pldelacour/anaconda3/lib/python3.7/site-packages/sklearn/linear_model/_coordinate_descent.py:476: ConvergenceWarning: Objective did not converge. You might want to increase the number of iterations. Duality gap: 545.7898220879238, tolerance: 1.0464140435455436\n",
      "  positive)\n",
      "/Users/pldelacour/anaconda3/lib/python3.7/site-packages/sklearn/linear_model/_coordinate_descent.py:476: ConvergenceWarning: Objective did not converge. You might want to increase the number of iterations. Duality gap: 636.6627446783118, tolerance: 1.0464140435455436\n",
      "  positive)\n",
      "/Users/pldelacour/anaconda3/lib/python3.7/site-packages/sklearn/linear_model/_coordinate_descent.py:476: ConvergenceWarning: Objective did not converge. You might want to increase the number of iterations. Duality gap: 781.0138122303104, tolerance: 1.0464140435455436\n",
      "  positive)\n",
      "/Users/pldelacour/anaconda3/lib/python3.7/site-packages/sklearn/linear_model/_coordinate_descent.py:476: ConvergenceWarning: Objective did not converge. You might want to increase the number of iterations. Duality gap: 911.2994728615297, tolerance: 1.0464140435455436\n",
      "  positive)\n",
      "/Users/pldelacour/anaconda3/lib/python3.7/site-packages/sklearn/linear_model/_coordinate_descent.py:476: ConvergenceWarning: Objective did not converge. You might want to increase the number of iterations. Duality gap: 919.1935341964008, tolerance: 1.0464140435455436\n",
      "  positive)\n",
      "/Users/pldelacour/anaconda3/lib/python3.7/site-packages/sklearn/linear_model/_coordinate_descent.py:476: ConvergenceWarning: Objective did not converge. You might want to increase the number of iterations. Duality gap: 26.517471719304012, tolerance: 1.0441632538368042\n",
      "  positive)\n",
      "/Users/pldelacour/anaconda3/lib/python3.7/site-packages/sklearn/linear_model/_coordinate_descent.py:476: ConvergenceWarning: Objective did not converge. You might want to increase the number of iterations. Duality gap: 10.974253188420334, tolerance: 1.0441632538368042\n",
      "  positive)\n",
      "/Users/pldelacour/anaconda3/lib/python3.7/site-packages/sklearn/linear_model/_coordinate_descent.py:476: ConvergenceWarning: Objective did not converge. You might want to increase the number of iterations. Duality gap: 48.984599368460294, tolerance: 1.0441632538368042\n",
      "  positive)\n",
      "/Users/pldelacour/anaconda3/lib/python3.7/site-packages/sklearn/linear_model/_coordinate_descent.py:476: ConvergenceWarning: Objective did not converge. You might want to increase the number of iterations. Duality gap: 140.82029853904305, tolerance: 1.0441632538368042\n",
      "  positive)\n",
      "/Users/pldelacour/anaconda3/lib/python3.7/site-packages/sklearn/linear_model/_coordinate_descent.py:476: ConvergenceWarning: Objective did not converge. You might want to increase the number of iterations. Duality gap: 254.54133920463437, tolerance: 1.0441632538368042\n",
      "  positive)\n",
      "/Users/pldelacour/anaconda3/lib/python3.7/site-packages/sklearn/linear_model/_coordinate_descent.py:476: ConvergenceWarning: Objective did not converge. You might want to increase the number of iterations. Duality gap: 349.5877000629421, tolerance: 1.0441632538368042\n",
      "  positive)\n",
      "/Users/pldelacour/anaconda3/lib/python3.7/site-packages/sklearn/linear_model/_coordinate_descent.py:476: ConvergenceWarning: Objective did not converge. You might want to increase the number of iterations. Duality gap: 548.6966025436504, tolerance: 1.0441632538368042\n",
      "  positive)\n",
      "/Users/pldelacour/anaconda3/lib/python3.7/site-packages/sklearn/linear_model/_coordinate_descent.py:476: ConvergenceWarning: Objective did not converge. You might want to increase the number of iterations. Duality gap: 497.20831105361094, tolerance: 1.0441632538368042\n",
      "  positive)\n",
      "/Users/pldelacour/anaconda3/lib/python3.7/site-packages/sklearn/linear_model/_coordinate_descent.py:476: ConvergenceWarning: Objective did not converge. You might want to increase the number of iterations. Duality gap: 606.2175224017931, tolerance: 1.0441632538368042\n",
      "  positive)\n",
      "/Users/pldelacour/anaconda3/lib/python3.7/site-packages/sklearn/linear_model/_coordinate_descent.py:476: ConvergenceWarning: Objective did not converge. You might want to increase the number of iterations. Duality gap: 630.9678862495023, tolerance: 1.0441632538368042\n",
      "  positive)\n",
      "/Users/pldelacour/anaconda3/lib/python3.7/site-packages/sklearn/linear_model/_coordinate_descent.py:476: ConvergenceWarning: Objective did not converge. You might want to increase the number of iterations. Duality gap: 33.020041258379024, tolerance: 1.315570188963468\n",
      "  positive)\n"
     ]
    },
    {
     "data": {
      "image/png": "[encoded data removed]",
      "text/plain": [
       "<Figure size 432x288 with 1 Axes>"
      ]
     },
     "metadata": {
      "needs_background": "light"
     },
     "output_type": "display_data"
    },
    {
     "data": {
      "text/plain": [
       "<matplotlib.axes._subplots.AxesSubplot at 0x7feb519e5828>"
      ]
     },
     "execution_count": 188,
     "metadata": {},
     "output_type": "execute_result"
    }
   ],
   "source": [
    "reg = LassoCV(cv=5, random_state=0, alphas = alphas, max_iter=3000)\n",
    "#reg.fit(x_train, y_train)\n",
    "visualizer = AlphaSelection(reg)\n",
    "visualizer.fit(x_train, y_train)\n",
    "visualizer.show()"
   ]
  },
  {
   "cell_type": "code",
   "execution_count": 190,
   "metadata": {},
   "outputs": [
    {
     "name": "stdout",
     "output_type": "stream",
     "text": [
      "Best Alpha =  0.01\n",
      "# of coef before =  2040\n",
      "# of coef after =  120\n",
      "MSE =  [ 8.55617955  8.83683126  9.16970635  9.45256447  9.70852014  9.9099053\n",
      " 10.28990107 10.61744641 11.17646339 11.66340199]\n"
     ]
    }
   ],
   "source": [
    "#print(visualizer.alpha_)\n",
    "#reg = visualizer\n",
    "print(\"Best Alpha = \", visualizer.alpha_)\n",
    "#best_alpha = reg.alpha\n",
    "print(\"# of coef before = \", len(visualizer.coef_))\n",
    "print(\"# of coef after = \" , np.sum(visualizer.coef_!=0))\n",
    "print('MSE = ' , np.mean(visualizer.mse_path_ , axis=1))\n"
   ]
  },
  {
   "cell_type": "code",
   "execution_count": 191,
   "metadata": {},
   "outputs": [],
   "source": [
    "features = visualizer.coef_!=0"
   ]
  },
  {
   "cell_type": "code",
   "execution_count": 192,
   "metadata": {},
   "outputs": [
    {
     "data": {
      "text/html": [
       "<div>\n",
       "<style scoped>\n",
       "    .dataframe tbody tr th:only-of-type {\n",
       "        vertical-align: middle;\n",
       "    }\n",
       "\n",
       "    .dataframe tbody tr th {\n",
       "        vertical-align: top;\n",
       "    }\n",
       "\n",
       "    .dataframe thead th {\n",
       "        text-align: right;\n",
       "    }\n",
       "</style>\n",
       "<table border=\"1\" class=\"dataframe\">\n",
       "  <thead>\n",
       "    <tr style=\"text-align: right;\">\n",
       "      <th></th>\n",
       "      <th>eyesclosed_psd_01dot00hz_rfront</th>\n",
       "      <th>eyesclosed_psd_01dot00hz_lpari</th>\n",
       "      <th>eyesclosed_psd_01dot00hz_mpari</th>\n",
       "      <th>eyesclosed_psd_01dot00hz_rpari</th>\n",
       "      <th>eyesclosed_psd_01dot50hz_lfront</th>\n",
       "      <th>eyesclosed_psd_01dot50hz_mfront</th>\n",
       "      <th>eyesclosed_psd_01dot50hz_rfront</th>\n",
       "      <th>eyesclosed_psd_01dot50hz_lpari</th>\n",
       "      <th>eyesclosed_psd_01dot50hz_mpari</th>\n",
       "      <th>eyesclosed_psd_02dot00hz_lfront</th>\n",
       "      <th>...</th>\n",
       "      <th>eyesopen_psd_11dot00hz_rfront</th>\n",
       "      <th>eyesopen_psd_11dot00hz_mpari</th>\n",
       "      <th>eyesopen_psd_11dot50hz_lpari</th>\n",
       "      <th>eyesopen_psd_12dot00hz_lpari</th>\n",
       "      <th>eyesopen_psd_12dot00hz_mpari</th>\n",
       "      <th>eyesopen_psd_12dot00hz_rpari</th>\n",
       "      <th>eyesopen_psd_12dot50hz_rpari</th>\n",
       "      <th>eyesopen_psd_19dot50hz_lfront</th>\n",
       "      <th>eyesopen_psd_20dot00hz_lfront</th>\n",
       "      <th>eyesopen_psd_49dot00hz_mpari</th>\n",
       "    </tr>\n",
       "  </thead>\n",
       "  <tbody>\n",
       "    <tr>\n",
       "      <th>261</th>\n",
       "      <td>5.738035</td>\n",
       "      <td>7.555951</td>\n",
       "      <td>7.188971</td>\n",
       "      <td>4.282403</td>\n",
       "      <td>3.196764</td>\n",
       "      <td>5.971387</td>\n",
       "      <td>5.069469</td>\n",
       "      <td>6.893456</td>\n",
       "      <td>6.251428</td>\n",
       "      <td>2.457669</td>\n",
       "      <td>...</td>\n",
       "      <td>1.373508</td>\n",
       "      <td>0.724028</td>\n",
       "      <td>0.702625</td>\n",
       "      <td>0.524714</td>\n",
       "      <td>0.387981</td>\n",
       "      <td>0.323995</td>\n",
       "      <td>0.335552</td>\n",
       "      <td>0.296138</td>\n",
       "      <td>0.336486</td>\n",
       "      <td>0.035046</td>\n",
       "    </tr>\n",
       "    <tr>\n",
       "      <th>262</th>\n",
       "      <td>4.247136</td>\n",
       "      <td>8.129207</td>\n",
       "      <td>20.370734</td>\n",
       "      <td>9.470952</td>\n",
       "      <td>4.676665</td>\n",
       "      <td>6.286747</td>\n",
       "      <td>3.578152</td>\n",
       "      <td>6.973967</td>\n",
       "      <td>16.699916</td>\n",
       "      <td>3.263437</td>\n",
       "      <td>...</td>\n",
       "      <td>0.379050</td>\n",
       "      <td>1.698941</td>\n",
       "      <td>0.516172</td>\n",
       "      <td>0.465781</td>\n",
       "      <td>1.331116</td>\n",
       "      <td>1.017854</td>\n",
       "      <td>0.890778</td>\n",
       "      <td>0.116465</td>\n",
       "      <td>0.116948</td>\n",
       "      <td>0.056851</td>\n",
       "    </tr>\n",
       "    <tr>\n",
       "      <th>263</th>\n",
       "      <td>9.354391</td>\n",
       "      <td>11.772095</td>\n",
       "      <td>14.133529</td>\n",
       "      <td>12.574716</td>\n",
       "      <td>9.469104</td>\n",
       "      <td>8.525513</td>\n",
       "      <td>7.999206</td>\n",
       "      <td>10.060280</td>\n",
       "      <td>11.853192</td>\n",
       "      <td>6.612653</td>\n",
       "      <td>...</td>\n",
       "      <td>0.882929</td>\n",
       "      <td>1.920466</td>\n",
       "      <td>0.908304</td>\n",
       "      <td>0.708496</td>\n",
       "      <td>0.603290</td>\n",
       "      <td>0.647690</td>\n",
       "      <td>0.508326</td>\n",
       "      <td>0.155719</td>\n",
       "      <td>0.156571</td>\n",
       "      <td>0.028102</td>\n",
       "    </tr>\n",
       "    <tr>\n",
       "      <th>264</th>\n",
       "      <td>0.790252</td>\n",
       "      <td>2.344652</td>\n",
       "      <td>12.726951</td>\n",
       "      <td>3.804171</td>\n",
       "      <td>1.478671</td>\n",
       "      <td>3.074891</td>\n",
       "      <td>0.717546</td>\n",
       "      <td>2.149686</td>\n",
       "      <td>10.997889</td>\n",
       "      <td>1.079943</td>\n",
       "      <td>...</td>\n",
       "      <td>0.132578</td>\n",
       "      <td>2.399061</td>\n",
       "      <td>0.304906</td>\n",
       "      <td>0.245183</td>\n",
       "      <td>1.264512</td>\n",
       "      <td>0.628002</td>\n",
       "      <td>0.493309</td>\n",
       "      <td>0.105262</td>\n",
       "      <td>0.103212</td>\n",
       "      <td>0.276143</td>\n",
       "    </tr>\n",
       "    <tr>\n",
       "      <th>265</th>\n",
       "      <td>16.698180</td>\n",
       "      <td>22.040017</td>\n",
       "      <td>24.267124</td>\n",
       "      <td>17.450617</td>\n",
       "      <td>18.707398</td>\n",
       "      <td>21.339367</td>\n",
       "      <td>15.383120</td>\n",
       "      <td>20.536447</td>\n",
       "      <td>21.387948</td>\n",
       "      <td>14.050534</td>\n",
       "      <td>...</td>\n",
       "      <td>0.850167</td>\n",
       "      <td>0.731713</td>\n",
       "      <td>0.767192</td>\n",
       "      <td>0.685579</td>\n",
       "      <td>0.593363</td>\n",
       "      <td>0.545052</td>\n",
       "      <td>0.533688</td>\n",
       "      <td>0.394676</td>\n",
       "      <td>0.325325</td>\n",
       "      <td>0.044101</td>\n",
       "    </tr>\n",
       "  </tbody>\n",
       "</table>\n",
       "<p>5 rows × 120 columns</p>\n",
       "</div>"
      ],
      "text/plain": [
       "     eyesclosed_psd_01dot00hz_rfront  eyesclosed_psd_01dot00hz_lpari  \\\n",
       "261                         5.738035                        7.555951   \n",
       "262                         4.247136                        8.129207   \n",
       "263                         9.354391                       11.772095   \n",
       "264                         0.790252                        2.344652   \n",
       "265                        16.698180                       22.040017   \n",
       "\n",
       "     eyesclosed_psd_01dot00hz_mpari  eyesclosed_psd_01dot00hz_rpari  \\\n",
       "261                        7.188971                        4.282403   \n",
       "262                       20.370734                        9.470952   \n",
       "263                       14.133529                       12.574716   \n",
       "264                       12.726951                        3.804171   \n",
       "265                       24.267124                       17.450617   \n",
       "\n",
       "     eyesclosed_psd_01dot50hz_lfront  eyesclosed_psd_01dot50hz_mfront  \\\n",
       "261                         3.196764                         5.971387   \n",
       "262                         4.676665                         6.286747   \n",
       "263                         9.469104                         8.525513   \n",
       "264                         1.478671                         3.074891   \n",
       "265                        18.707398                        21.339367   \n",
       "\n",
       "     eyesclosed_psd_01dot50hz_rfront  eyesclosed_psd_01dot50hz_lpari  \\\n",
       "261                         5.069469                        6.893456   \n",
       "262                         3.578152                        6.973967   \n",
       "263                         7.999206                       10.060280   \n",
       "264                         0.717546                        2.149686   \n",
       "265                        15.383120                       20.536447   \n",
       "\n",
       "     eyesclosed_psd_01dot50hz_mpari  eyesclosed_psd_02dot00hz_lfront  ...  \\\n",
       "261                        6.251428                         2.457669  ...   \n",
       "262                       16.699916                         3.263437  ...   \n",
       "263                       11.853192                         6.612653  ...   \n",
       "264                       10.997889                         1.079943  ...   \n",
       "265                       21.387948                        14.050534  ...   \n",
       "\n",
       "     eyesopen_psd_11dot00hz_rfront  eyesopen_psd_11dot00hz_mpari  \\\n",
       "261                       1.373508                      0.724028   \n",
       "262                       0.379050                      1.698941   \n",
       "263                       0.882929                      1.920466   \n",
       "264                       0.132578                      2.399061   \n",
       "265                       0.850167                      0.731713   \n",
       "\n",
       "     eyesopen_psd_11dot50hz_lpari  eyesopen_psd_12dot00hz_lpari  \\\n",
       "261                      0.702625                      0.524714   \n",
       "262                      0.516172                      0.465781   \n",
       "263                      0.908304                      0.708496   \n",
       "264                      0.304906                      0.245183   \n",
       "265                      0.767192                      0.685579   \n",
       "\n",
       "     eyesopen_psd_12dot00hz_mpari  eyesopen_psd_12dot00hz_rpari  \\\n",
       "261                      0.387981                      0.323995   \n",
       "262                      1.331116                      1.017854   \n",
       "263                      0.603290                      0.647690   \n",
       "264                      1.264512                      0.628002   \n",
       "265                      0.593363                      0.545052   \n",
       "\n",
       "     eyesopen_psd_12dot50hz_rpari  eyesopen_psd_19dot50hz_lfront  \\\n",
       "261                      0.335552                       0.296138   \n",
       "262                      0.890778                       0.116465   \n",
       "263                      0.508326                       0.155719   \n",
       "264                      0.493309                       0.105262   \n",
       "265                      0.533688                       0.394676   \n",
       "\n",
       "     eyesopen_psd_20dot00hz_lfront  eyesopen_psd_49dot00hz_mpari  \n",
       "261                       0.336486                      0.035046  \n",
       "262                       0.116948                      0.056851  \n",
       "263                       0.156571                      0.028102  \n",
       "264                       0.103212                      0.276143  \n",
       "265                       0.325325                      0.044101  \n",
       "\n",
       "[5 rows x 120 columns]"
      ]
     },
     "execution_count": 192,
     "metadata": {},
     "output_type": "execute_result"
    }
   ],
   "source": [
    "x_train.loc[:,features].head(5)"
   ]
  },
  {
   "cell_type": "code",
   "execution_count": 193,
   "metadata": {},
   "outputs": [],
   "source": [
    "x_train_extract = x_train.loc[:,features]\n",
    "x_test_extract = x_test.loc[:,features]\n"
   ]
  },
  {
   "cell_type": "code",
   "execution_count": 194,
   "metadata": {},
   "outputs": [],
   "source": [
    "from sklearn.linear_model import LinearRegression"
   ]
  },
  {
   "cell_type": "code",
   "execution_count": 195,
   "metadata": {},
   "outputs": [
    {
     "data": {
      "text/plain": [
       "0.29457988889218134"
      ]
     },
     "execution_count": 195,
     "metadata": {},
     "output_type": "execute_result"
    }
   ],
   "source": [
    "reg = LinearRegression().fit(x_train_extract, y_train)\n",
    "reg.score(x_test_extract , y_test)"
   ]
  },
  {
   "cell_type": "code",
   "execution_count": 196,
   "metadata": {
    "scrolled": true
   },
   "outputs": [
    {
     "data": {
      "text/plain": [
       "Age    9.831069\n",
       "dtype: float64"
      ]
     },
     "execution_count": 196,
     "metadata": {},
     "output_type": "execute_result"
    }
   ],
   "source": [
    "mse = np.mean((reg.predict(x_test_extract) - y_test)**2)\n",
    "mse\n"
   ]
  },
  {
   "cell_type": "markdown",
   "metadata": {},
   "source": [
    "## Compare with average baseline"
   ]
  },
  {
   "cell_type": "code",
   "execution_count": 197,
   "metadata": {},
   "outputs": [
    {
     "name": "stdout",
     "output_type": "stream",
     "text": [
      "Mean =  14.37539641134624\n",
      "Median =  15.83443934777757\n"
     ]
    }
   ],
   "source": [
    "\n",
    "mean = np.mean((np.mean(y_train) - y_test)**2)\n",
    "median = np.mean((np.median(y_train) - y_test)**2)\n",
    "print(\"Mean = \" , mean[0] )\n",
    "print('Median = ' , median[0])"
   ]
  },
  {
   "cell_type": "markdown",
   "metadata": {},
   "source": [
    "## Gaussian Process\n"
   ]
  },
  {
   "cell_type": "code",
   "execution_count": 198,
   "metadata": {},
   "outputs": [],
   "source": [
    "from sklearn.gaussian_process import GaussianProcessRegressor"
   ]
  },
  {
   "cell_type": "code",
   "execution_count": 199,
   "metadata": {},
   "outputs": [],
   "source": [
    "from sklearn.gaussian_process.kernels import RBF , DotProduct, Matern"
   ]
  },
  {
   "cell_type": "code",
   "execution_count": 200,
   "metadata": {},
   "outputs": [
    {
     "data": {
      "text/plain": [
       "array([0. , 0.5, 1. , 1.5, 2. ])"
      ]
     },
     "execution_count": 200,
     "metadata": {},
     "output_type": "execute_result"
    }
   ],
   "source": [
    "lengthscale = np.linspace(0.1,1, num = 5)\n",
    "lengthscale\n",
    "sigma_0 = np.linspace(0,2 , num = 5)\n",
    "sigma_0"
   ]
  },
  {
   "cell_type": "code",
   "execution_count": 201,
   "metadata": {},
   "outputs": [
    {
     "name": "stderr",
     "output_type": "stream",
     "text": [
      "/Users/pldelacour/anaconda3/lib/python3.7/site-packages/sklearn/gaussian_process/kernels.py:255: RuntimeWarning: divide by zero encountered in log\n",
      "  return np.log(np.hstack(theta))\n",
      "/Users/pldelacour/anaconda3/lib/python3.7/site-packages/sklearn/gaussian_process/kernels.py:255: RuntimeWarning: divide by zero encountered in log\n",
      "  return np.log(np.hstack(theta))\n",
      "/Users/pldelacour/anaconda3/lib/python3.7/site-packages/sklearn/gaussian_process/kernels.py:255: RuntimeWarning: divide by zero encountered in log\n",
      "  return np.log(np.hstack(theta))\n",
      "/Users/pldelacour/anaconda3/lib/python3.7/site-packages/sklearn/gaussian_process/_gpr.py:494: ConvergenceWarning: lbfgs failed to converge (status=2):\n",
      "ABNORMAL_TERMINATION_IN_LNSRCH.\n",
      "\n",
      "Increase the number of iterations (max_iter) or scale the data as shown in:\n",
      "    https://scikit-learn.org/stable/modules/preprocessing.html\n",
      "  _check_optimize_result(\"lbfgs\", opt_res)\n",
      "/Users/pldelacour/anaconda3/lib/python3.7/site-packages/sklearn/gaussian_process/kernels.py:255: RuntimeWarning: divide by zero encountered in log\n",
      "  return np.log(np.hstack(theta))\n",
      "/Users/pldelacour/anaconda3/lib/python3.7/site-packages/sklearn/gaussian_process/kernels.py:255: RuntimeWarning: divide by zero encountered in log\n",
      "  return np.log(np.hstack(theta))\n",
      "/Users/pldelacour/anaconda3/lib/python3.7/site-packages/sklearn/gaussian_process/kernels.py:255: RuntimeWarning: divide by zero encountered in log\n",
      "  return np.log(np.hstack(theta))\n",
      "/Users/pldelacour/anaconda3/lib/python3.7/site-packages/sklearn/gaussian_process/kernels.py:255: RuntimeWarning: divide by zero encountered in log\n",
      "  return np.log(np.hstack(theta))\n",
      "/Users/pldelacour/anaconda3/lib/python3.7/site-packages/sklearn/gaussian_process/kernels.py:255: RuntimeWarning: divide by zero encountered in log\n",
      "  return np.log(np.hstack(theta))\n",
      "/Users/pldelacour/anaconda3/lib/python3.7/site-packages/sklearn/gaussian_process/kernels.py:255: RuntimeWarning: divide by zero encountered in log\n",
      "  return np.log(np.hstack(theta))\n",
      "/Users/pldelacour/anaconda3/lib/python3.7/site-packages/sklearn/gaussian_process/kernels.py:255: RuntimeWarning: divide by zero encountered in log\n",
      "  return np.log(np.hstack(theta))\n",
      "/Users/pldelacour/anaconda3/lib/python3.7/site-packages/sklearn/gaussian_process/kernels.py:255: RuntimeWarning: divide by zero encountered in log\n",
      "  return np.log(np.hstack(theta))\n",
      "/Users/pldelacour/anaconda3/lib/python3.7/site-packages/sklearn/gaussian_process/kernels.py:255: RuntimeWarning: divide by zero encountered in log\n",
      "  return np.log(np.hstack(theta))\n",
      "/Users/pldelacour/anaconda3/lib/python3.7/site-packages/sklearn/gaussian_process/_gpr.py:494: ConvergenceWarning: lbfgs failed to converge (status=2):\n",
      "ABNORMAL_TERMINATION_IN_LNSRCH.\n",
      "\n",
      "Increase the number of iterations (max_iter) or scale the data as shown in:\n",
      "    https://scikit-learn.org/stable/modules/preprocessing.html\n",
      "  _check_optimize_result(\"lbfgs\", opt_res)\n",
      "/Users/pldelacour/anaconda3/lib/python3.7/site-packages/sklearn/gaussian_process/kernels.py:255: RuntimeWarning: divide by zero encountered in log\n",
      "  return np.log(np.hstack(theta))\n",
      "/Users/pldelacour/anaconda3/lib/python3.7/site-packages/sklearn/gaussian_process/kernels.py:255: RuntimeWarning: divide by zero encountered in log\n",
      "  return np.log(np.hstack(theta))\n",
      "/Users/pldelacour/anaconda3/lib/python3.7/site-packages/sklearn/gaussian_process/kernels.py:255: RuntimeWarning: divide by zero encountered in log\n",
      "  return np.log(np.hstack(theta))\n",
      "/Users/pldelacour/anaconda3/lib/python3.7/site-packages/sklearn/gaussian_process/kernels.py:255: RuntimeWarning: divide by zero encountered in log\n",
      "  return np.log(np.hstack(theta))\n",
      "/Users/pldelacour/anaconda3/lib/python3.7/site-packages/sklearn/gaussian_process/kernels.py:255: RuntimeWarning: divide by zero encountered in log\n",
      "  return np.log(np.hstack(theta))\n",
      "/Users/pldelacour/anaconda3/lib/python3.7/site-packages/sklearn/gaussian_process/kernels.py:255: RuntimeWarning: divide by zero encountered in log\n",
      "  return np.log(np.hstack(theta))\n",
      "/Users/pldelacour/anaconda3/lib/python3.7/site-packages/sklearn/gaussian_process/kernels.py:255: RuntimeWarning: divide by zero encountered in log\n",
      "  return np.log(np.hstack(theta))\n",
      "/Users/pldelacour/anaconda3/lib/python3.7/site-packages/sklearn/gaussian_process/kernels.py:255: RuntimeWarning: divide by zero encountered in log\n",
      "  return np.log(np.hstack(theta))\n",
      "/Users/pldelacour/anaconda3/lib/python3.7/site-packages/sklearn/gaussian_process/kernels.py:255: RuntimeWarning: divide by zero encountered in log\n",
      "  return np.log(np.hstack(theta))\n",
      "/Users/pldelacour/anaconda3/lib/python3.7/site-packages/sklearn/gaussian_process/kernels.py:255: RuntimeWarning: divide by zero encountered in log\n",
      "  return np.log(np.hstack(theta))\n",
      "/Users/pldelacour/anaconda3/lib/python3.7/site-packages/sklearn/gaussian_process/kernels.py:255: RuntimeWarning: divide by zero encountered in log\n",
      "  return np.log(np.hstack(theta))\n",
      "/Users/pldelacour/anaconda3/lib/python3.7/site-packages/sklearn/gaussian_process/kernels.py:255: RuntimeWarning: divide by zero encountered in log\n",
      "  return np.log(np.hstack(theta))\n",
      "/Users/pldelacour/anaconda3/lib/python3.7/site-packages/sklearn/gaussian_process/kernels.py:255: RuntimeWarning: divide by zero encountered in log\n",
      "  return np.log(np.hstack(theta))\n",
      "/Users/pldelacour/anaconda3/lib/python3.7/site-packages/sklearn/gaussian_process/kernels.py:255: RuntimeWarning: divide by zero encountered in log\n",
      "  return np.log(np.hstack(theta))\n",
      "/Users/pldelacour/anaconda3/lib/python3.7/site-packages/sklearn/gaussian_process/kernels.py:255: RuntimeWarning: divide by zero encountered in log\n",
      "  return np.log(np.hstack(theta))\n",
      "/Users/pldelacour/anaconda3/lib/python3.7/site-packages/sklearn/gaussian_process/kernels.py:255: RuntimeWarning: divide by zero encountered in log\n",
      "  return np.log(np.hstack(theta))\n",
      "/Users/pldelacour/anaconda3/lib/python3.7/site-packages/sklearn/gaussian_process/kernels.py:255: RuntimeWarning: divide by zero encountered in log\n",
      "  return np.log(np.hstack(theta))\n",
      "/Users/pldelacour/anaconda3/lib/python3.7/site-packages/sklearn/gaussian_process/kernels.py:255: RuntimeWarning: divide by zero encountered in log\n",
      "  return np.log(np.hstack(theta))\n",
      "/Users/pldelacour/anaconda3/lib/python3.7/site-packages/sklearn/gaussian_process/kernels.py:255: RuntimeWarning: divide by zero encountered in log\n",
      "  return np.log(np.hstack(theta))\n",
      "/Users/pldelacour/anaconda3/lib/python3.7/site-packages/sklearn/gaussian_process/kernels.py:255: RuntimeWarning: divide by zero encountered in log\n",
      "  return np.log(np.hstack(theta))\n",
      "/Users/pldelacour/anaconda3/lib/python3.7/site-packages/sklearn/gaussian_process/kernels.py:255: RuntimeWarning: divide by zero encountered in log\n",
      "  return np.log(np.hstack(theta))\n",
      "/Users/pldelacour/anaconda3/lib/python3.7/site-packages/sklearn/gaussian_process/kernels.py:255: RuntimeWarning: divide by zero encountered in log\n",
      "  return np.log(np.hstack(theta))\n",
      "/Users/pldelacour/anaconda3/lib/python3.7/site-packages/sklearn/gaussian_process/kernels.py:255: RuntimeWarning: divide by zero encountered in log\n",
      "  return np.log(np.hstack(theta))\n",
      "/Users/pldelacour/anaconda3/lib/python3.7/site-packages/sklearn/gaussian_process/kernels.py:255: RuntimeWarning: divide by zero encountered in log\n",
      "  return np.log(np.hstack(theta))\n",
      "/Users/pldelacour/anaconda3/lib/python3.7/site-packages/sklearn/gaussian_process/kernels.py:255: RuntimeWarning: divide by zero encountered in log\n",
      "  return np.log(np.hstack(theta))\n",
      "/Users/pldelacour/anaconda3/lib/python3.7/site-packages/sklearn/gaussian_process/kernels.py:255: RuntimeWarning: divide by zero encountered in log\n",
      "  return np.log(np.hstack(theta))\n",
      "/Users/pldelacour/anaconda3/lib/python3.7/site-packages/sklearn/gaussian_process/kernels.py:255: RuntimeWarning: divide by zero encountered in log\n",
      "  return np.log(np.hstack(theta))\n",
      "/Users/pldelacour/anaconda3/lib/python3.7/site-packages/sklearn/gaussian_process/kernels.py:255: RuntimeWarning: divide by zero encountered in log\n",
      "  return np.log(np.hstack(theta))\n",
      "/Users/pldelacour/anaconda3/lib/python3.7/site-packages/sklearn/gaussian_process/kernels.py:255: RuntimeWarning: divide by zero encountered in log\n",
      "  return np.log(np.hstack(theta))\n",
      "/Users/pldelacour/anaconda3/lib/python3.7/site-packages/sklearn/gaussian_process/kernels.py:255: RuntimeWarning: divide by zero encountered in log\n",
      "  return np.log(np.hstack(theta))\n"
     ]
    },
    {
     "name": "stderr",
     "output_type": "stream",
     "text": [
      "/Users/pldelacour/anaconda3/lib/python3.7/site-packages/sklearn/gaussian_process/kernels.py:255: RuntimeWarning: divide by zero encountered in log\n",
      "  return np.log(np.hstack(theta))\n",
      "/Users/pldelacour/anaconda3/lib/python3.7/site-packages/sklearn/gaussian_process/kernels.py:255: RuntimeWarning: divide by zero encountered in log\n",
      "  return np.log(np.hstack(theta))\n",
      "/Users/pldelacour/anaconda3/lib/python3.7/site-packages/sklearn/gaussian_process/kernels.py:255: RuntimeWarning: divide by zero encountered in log\n",
      "  return np.log(np.hstack(theta))\n",
      "/Users/pldelacour/anaconda3/lib/python3.7/site-packages/sklearn/gaussian_process/kernels.py:255: RuntimeWarning: divide by zero encountered in log\n",
      "  return np.log(np.hstack(theta))\n",
      "/Users/pldelacour/anaconda3/lib/python3.7/site-packages/sklearn/gaussian_process/kernels.py:255: RuntimeWarning: divide by zero encountered in log\n",
      "  return np.log(np.hstack(theta))\n",
      "/Users/pldelacour/anaconda3/lib/python3.7/site-packages/sklearn/gaussian_process/kernels.py:255: RuntimeWarning: divide by zero encountered in log\n",
      "  return np.log(np.hstack(theta))\n",
      "/Users/pldelacour/anaconda3/lib/python3.7/site-packages/sklearn/gaussian_process/kernels.py:255: RuntimeWarning: divide by zero encountered in log\n",
      "  return np.log(np.hstack(theta))\n",
      "/Users/pldelacour/anaconda3/lib/python3.7/site-packages/sklearn/gaussian_process/kernels.py:255: RuntimeWarning: divide by zero encountered in log\n",
      "  return np.log(np.hstack(theta))\n",
      "/Users/pldelacour/anaconda3/lib/python3.7/site-packages/sklearn/gaussian_process/kernels.py:255: RuntimeWarning: divide by zero encountered in log\n",
      "  return np.log(np.hstack(theta))\n",
      "/Users/pldelacour/anaconda3/lib/python3.7/site-packages/sklearn/gaussian_process/kernels.py:255: RuntimeWarning: divide by zero encountered in log\n",
      "  return np.log(np.hstack(theta))\n",
      "/Users/pldelacour/anaconda3/lib/python3.7/site-packages/sklearn/gaussian_process/kernels.py:255: RuntimeWarning: divide by zero encountered in log\n",
      "  return np.log(np.hstack(theta))\n",
      "/Users/pldelacour/anaconda3/lib/python3.7/site-packages/sklearn/gaussian_process/kernels.py:255: RuntimeWarning: divide by zero encountered in log\n",
      "  return np.log(np.hstack(theta))\n",
      "/Users/pldelacour/anaconda3/lib/python3.7/site-packages/sklearn/gaussian_process/kernels.py:255: RuntimeWarning: divide by zero encountered in log\n",
      "  return np.log(np.hstack(theta))\n",
      "/Users/pldelacour/anaconda3/lib/python3.7/site-packages/sklearn/gaussian_process/kernels.py:255: RuntimeWarning: divide by zero encountered in log\n",
      "  return np.log(np.hstack(theta))\n",
      "/Users/pldelacour/anaconda3/lib/python3.7/site-packages/sklearn/gaussian_process/kernels.py:255: RuntimeWarning: divide by zero encountered in log\n",
      "  return np.log(np.hstack(theta))\n",
      "/Users/pldelacour/anaconda3/lib/python3.7/site-packages/sklearn/gaussian_process/kernels.py:255: RuntimeWarning: divide by zero encountered in log\n",
      "  return np.log(np.hstack(theta))\n",
      "/Users/pldelacour/anaconda3/lib/python3.7/site-packages/sklearn/gaussian_process/kernels.py:255: RuntimeWarning: divide by zero encountered in log\n",
      "  return np.log(np.hstack(theta))\n",
      "/Users/pldelacour/anaconda3/lib/python3.7/site-packages/sklearn/gaussian_process/kernels.py:255: RuntimeWarning: divide by zero encountered in log\n",
      "  return np.log(np.hstack(theta))\n"
     ]
    },
    {
     "data": {
      "text/plain": [
       "GridSearchCV(cv=3, error_score=nan,\n",
       "             estimator=GaussianProcessRegressor(alpha=1e-10, copy_X_train=True,\n",
       "                                                kernel=None,\n",
       "                                                n_restarts_optimizer=0,\n",
       "                                                normalize_y=False,\n",
       "                                                optimizer='fmin_l_bfgs_b',\n",
       "                                                random_state=None),\n",
       "             iid='deprecated', n_jobs=None,\n",
       "             param_grid={'alpha': [0.01, 0.1, 1, 10],\n",
       "                         'kernel': (RBF(length_scale=0.1) + DotProduct(sigma_0=0),\n",
       "                                    RBF(length_scale=0.1) + DotProduct(s...\n",
       "                                    RBF(length_scale=0.775) + DotProduct(sigma_0=1.5),\n",
       "                                    RBF(length_scale=0.775) + DotProduct(sigma_0=2),\n",
       "                                    RBF(length_scale=1) + DotProduct(sigma_0=0),\n",
       "                                    RBF(length_scale=1) + DotProduct(sigma_0=0.5),\n",
       "                                    RBF(length_scale=1) + DotProduct(sigma_0=1),\n",
       "                                    RBF(length_scale=1) + DotProduct(sigma_0=1.5),\n",
       "                                    RBF(length_scale=1) + DotProduct(sigma_0=2))},\n",
       "             pre_dispatch='2*n_jobs', refit=True, return_train_score=False,\n",
       "             scoring=None, verbose=0)"
      ]
     },
     "execution_count": 201,
     "metadata": {},
     "output_type": "execute_result"
    }
   ],
   "source": [
    "gp = GaussianProcessRegressor()\n",
    "tuple_kernel = list()\n",
    "for i in range(len(lengthscale)):\n",
    "    for j in range(len(sigma_0)):\n",
    "        tuple_kernel.append(RBF(length_scale = lengthscale[i]) + DotProduct(sigma_0 = sigma_0[j]))\n",
    "\n",
    "tuple_kernel = tuple(tuple_kernel)\n",
    "parameters = {'kernel' : tuple_kernel, 'alpha':[0.01,0.1,1,10]}\n",
    "gp_model = GridSearchCV(gp, parameters ,cv =3)\n",
    "gp_model.fit(x_train_extract , y_train)"
   ]
  },
  {
   "cell_type": "code",
   "execution_count": 202,
   "metadata": {},
   "outputs": [
    {
     "name": "stdout",
     "output_type": "stream",
     "text": [
      "Best score =  0.45157904568933277\n",
      "Best param  {'alpha': 10, 'kernel': RBF(length_scale=1) + DotProduct(sigma_0=0.5)}\n"
     ]
    }
   ],
   "source": [
    "print(\"Best score = \" , gp_model.best_score_)\n",
    "print('Best param ' , gp_model.best_params_)\n",
    "gp_model.best_estimator_\n",
    "best_param_gp = gp_model.best_params_"
   ]
  },
  {
   "cell_type": "code",
   "execution_count": 203,
   "metadata": {},
   "outputs": [
    {
     "name": "stdout",
     "output_type": "stream",
     "text": [
      "Test MSE for GP =  7.984468549719948\n"
     ]
    }
   ],
   "source": [
    "gp_final = GaussianProcessRegressor(kernel = best_param_gp['kernel'] , alpha = best_param_gp['alpha'])\n",
    "gp_final.fit(x_train_extract , y_train)\n",
    "y_predicted_gp = gp_final.predict(x_test_extract)\n",
    "test_mse_gp = sklearn.metrics.mean_squared_error(y_test ,y_predicted_gp)\n",
    "print('Test MSE for GP = ' , test_mse_gp)"
   ]
  },
  {
   "cell_type": "markdown",
   "metadata": {},
   "source": [
    "## SVM"
   ]
  },
  {
   "cell_type": "code",
   "execution_count": 204,
   "metadata": {},
   "outputs": [],
   "source": [
    "from sklearn import svm\n",
    "import sklearn"
   ]
  },
  {
   "cell_type": "code",
   "execution_count": 205,
   "metadata": {},
   "outputs": [
    {
     "name": "stderr",
     "output_type": "stream",
     "text": [
      "/Users/pldelacour/anaconda3/lib/python3.7/site-packages/sklearn/utils/validation.py:760: DataConversionWarning: A column-vector y was passed when a 1d array was expected. Please change the shape of y to (n_samples, ), for example using ravel().\n",
      "  y = column_or_1d(y, warn=True)\n"
     ]
    },
    {
     "data": {
      "text/plain": [
       "8.030043976012992"
      ]
     },
     "execution_count": 205,
     "metadata": {},
     "output_type": "execute_result"
    }
   ],
   "source": [
    "clf = svm.SVR()\n",
    "clf.fit(x_train_extract, y_train)\n",
    "sklearn.metrics.mean_squared_error(y_test , clf.predict(x_test_extract))\n"
   ]
  },
  {
   "cell_type": "code",
   "execution_count": 207,
   "metadata": {},
   "outputs": [],
   "source": [
    "#cross val\n",
    "from sklearn.model_selection import GridSearchCV"
   ]
  },
  {
   "cell_type": "code",
   "execution_count": 208,
   "metadata": {},
   "outputs": [
    {
     "name": "stderr",
     "output_type": "stream",
     "text": [
      "/Users/pldelacour/anaconda3/lib/python3.7/site-packages/sklearn/utils/validation.py:760: DataConversionWarning: A column-vector y was passed when a 1d array was expected. Please change the shape of y to (n_samples, ), for example using ravel().\n",
      "  y = column_or_1d(y, warn=True)\n",
      "/Users/pldelacour/anaconda3/lib/python3.7/site-packages/sklearn/utils/validation.py:760: DataConversionWarning: A column-vector y was passed when a 1d array was expected. Please change the shape of y to (n_samples, ), for example using ravel().\n",
      "  y = column_or_1d(y, warn=True)\n",
      "/Users/pldelacour/anaconda3/lib/python3.7/site-packages/sklearn/utils/validation.py:760: DataConversionWarning: A column-vector y was passed when a 1d array was expected. Please change the shape of y to (n_samples, ), for example using ravel().\n",
      "  y = column_or_1d(y, warn=True)\n",
      "/Users/pldelacour/anaconda3/lib/python3.7/site-packages/sklearn/utils/validation.py:760: DataConversionWarning: A column-vector y was passed when a 1d array was expected. Please change the shape of y to (n_samples, ), for example using ravel().\n",
      "  y = column_or_1d(y, warn=True)\n",
      "/Users/pldelacour/anaconda3/lib/python3.7/site-packages/sklearn/utils/validation.py:760: DataConversionWarning: A column-vector y was passed when a 1d array was expected. Please change the shape of y to (n_samples, ), for example using ravel().\n",
      "  y = column_or_1d(y, warn=True)\n",
      "/Users/pldelacour/anaconda3/lib/python3.7/site-packages/sklearn/utils/validation.py:760: DataConversionWarning: A column-vector y was passed when a 1d array was expected. Please change the shape of y to (n_samples, ), for example using ravel().\n",
      "  y = column_or_1d(y, warn=True)\n",
      "/Users/pldelacour/anaconda3/lib/python3.7/site-packages/sklearn/utils/validation.py:760: DataConversionWarning: A column-vector y was passed when a 1d array was expected. Please change the shape of y to (n_samples, ), for example using ravel().\n",
      "  y = column_or_1d(y, warn=True)\n",
      "/Users/pldelacour/anaconda3/lib/python3.7/site-packages/sklearn/utils/validation.py:760: DataConversionWarning: A column-vector y was passed when a 1d array was expected. Please change the shape of y to (n_samples, ), for example using ravel().\n",
      "  y = column_or_1d(y, warn=True)\n",
      "/Users/pldelacour/anaconda3/lib/python3.7/site-packages/sklearn/utils/validation.py:760: DataConversionWarning: A column-vector y was passed when a 1d array was expected. Please change the shape of y to (n_samples, ), for example using ravel().\n",
      "  y = column_or_1d(y, warn=True)\n",
      "/Users/pldelacour/anaconda3/lib/python3.7/site-packages/sklearn/utils/validation.py:760: DataConversionWarning: A column-vector y was passed when a 1d array was expected. Please change the shape of y to (n_samples, ), for example using ravel().\n",
      "  y = column_or_1d(y, warn=True)\n",
      "/Users/pldelacour/anaconda3/lib/python3.7/site-packages/sklearn/utils/validation.py:760: DataConversionWarning: A column-vector y was passed when a 1d array was expected. Please change the shape of y to (n_samples, ), for example using ravel().\n",
      "  y = column_or_1d(y, warn=True)\n",
      "/Users/pldelacour/anaconda3/lib/python3.7/site-packages/sklearn/utils/validation.py:760: DataConversionWarning: A column-vector y was passed when a 1d array was expected. Please change the shape of y to (n_samples, ), for example using ravel().\n",
      "  y = column_or_1d(y, warn=True)\n",
      "/Users/pldelacour/anaconda3/lib/python3.7/site-packages/sklearn/utils/validation.py:760: DataConversionWarning: A column-vector y was passed when a 1d array was expected. Please change the shape of y to (n_samples, ), for example using ravel().\n",
      "  y = column_or_1d(y, warn=True)\n",
      "/Users/pldelacour/anaconda3/lib/python3.7/site-packages/sklearn/utils/validation.py:760: DataConversionWarning: A column-vector y was passed when a 1d array was expected. Please change the shape of y to (n_samples, ), for example using ravel().\n",
      "  y = column_or_1d(y, warn=True)\n",
      "/Users/pldelacour/anaconda3/lib/python3.7/site-packages/sklearn/utils/validation.py:760: DataConversionWarning: A column-vector y was passed when a 1d array was expected. Please change the shape of y to (n_samples, ), for example using ravel().\n",
      "  y = column_or_1d(y, warn=True)\n",
      "/Users/pldelacour/anaconda3/lib/python3.7/site-packages/sklearn/utils/validation.py:760: DataConversionWarning: A column-vector y was passed when a 1d array was expected. Please change the shape of y to (n_samples, ), for example using ravel().\n",
      "  y = column_or_1d(y, warn=True)\n",
      "/Users/pldelacour/anaconda3/lib/python3.7/site-packages/sklearn/utils/validation.py:760: DataConversionWarning: A column-vector y was passed when a 1d array was expected. Please change the shape of y to (n_samples, ), for example using ravel().\n",
      "  y = column_or_1d(y, warn=True)\n",
      "/Users/pldelacour/anaconda3/lib/python3.7/site-packages/sklearn/utils/validation.py:760: DataConversionWarning: A column-vector y was passed when a 1d array was expected. Please change the shape of y to (n_samples, ), for example using ravel().\n",
      "  y = column_or_1d(y, warn=True)\n",
      "/Users/pldelacour/anaconda3/lib/python3.7/site-packages/sklearn/utils/validation.py:760: DataConversionWarning: A column-vector y was passed when a 1d array was expected. Please change the shape of y to (n_samples, ), for example using ravel().\n",
      "  y = column_or_1d(y, warn=True)\n",
      "/Users/pldelacour/anaconda3/lib/python3.7/site-packages/sklearn/utils/validation.py:760: DataConversionWarning: A column-vector y was passed when a 1d array was expected. Please change the shape of y to (n_samples, ), for example using ravel().\n",
      "  y = column_or_1d(y, warn=True)\n",
      "/Users/pldelacour/anaconda3/lib/python3.7/site-packages/sklearn/utils/validation.py:760: DataConversionWarning: A column-vector y was passed when a 1d array was expected. Please change the shape of y to (n_samples, ), for example using ravel().\n",
      "  y = column_or_1d(y, warn=True)\n",
      "/Users/pldelacour/anaconda3/lib/python3.7/site-packages/sklearn/utils/validation.py:760: DataConversionWarning: A column-vector y was passed when a 1d array was expected. Please change the shape of y to (n_samples, ), for example using ravel().\n",
      "  y = column_or_1d(y, warn=True)\n",
      "/Users/pldelacour/anaconda3/lib/python3.7/site-packages/sklearn/utils/validation.py:760: DataConversionWarning: A column-vector y was passed when a 1d array was expected. Please change the shape of y to (n_samples, ), for example using ravel().\n",
      "  y = column_or_1d(y, warn=True)\n",
      "/Users/pldelacour/anaconda3/lib/python3.7/site-packages/sklearn/utils/validation.py:760: DataConversionWarning: A column-vector y was passed when a 1d array was expected. Please change the shape of y to (n_samples, ), for example using ravel().\n",
      "  y = column_or_1d(y, warn=True)\n",
      "/Users/pldelacour/anaconda3/lib/python3.7/site-packages/sklearn/utils/validation.py:760: DataConversionWarning: A column-vector y was passed when a 1d array was expected. Please change the shape of y to (n_samples, ), for example using ravel().\n",
      "  y = column_or_1d(y, warn=True)\n",
      "/Users/pldelacour/anaconda3/lib/python3.7/site-packages/sklearn/utils/validation.py:760: DataConversionWarning: A column-vector y was passed when a 1d array was expected. Please change the shape of y to (n_samples, ), for example using ravel().\n",
      "  y = column_or_1d(y, warn=True)\n",
      "/Users/pldelacour/anaconda3/lib/python3.7/site-packages/sklearn/utils/validation.py:760: DataConversionWarning: A column-vector y was passed when a 1d array was expected. Please change the shape of y to (n_samples, ), for example using ravel().\n",
      "  y = column_or_1d(y, warn=True)\n",
      "/Users/pldelacour/anaconda3/lib/python3.7/site-packages/sklearn/utils/validation.py:760: DataConversionWarning: A column-vector y was passed when a 1d array was expected. Please change the shape of y to (n_samples, ), for example using ravel().\n",
      "  y = column_or_1d(y, warn=True)\n",
      "/Users/pldelacour/anaconda3/lib/python3.7/site-packages/sklearn/utils/validation.py:760: DataConversionWarning: A column-vector y was passed when a 1d array was expected. Please change the shape of y to (n_samples, ), for example using ravel().\n",
      "  y = column_or_1d(y, warn=True)\n",
      "/Users/pldelacour/anaconda3/lib/python3.7/site-packages/sklearn/utils/validation.py:760: DataConversionWarning: A column-vector y was passed when a 1d array was expected. Please change the shape of y to (n_samples, ), for example using ravel().\n",
      "  y = column_or_1d(y, warn=True)\n",
      "/Users/pldelacour/anaconda3/lib/python3.7/site-packages/sklearn/utils/validation.py:760: DataConversionWarning: A column-vector y was passed when a 1d array was expected. Please change the shape of y to (n_samples, ), for example using ravel().\n",
      "  y = column_or_1d(y, warn=True)\n"
     ]
    },
    {
     "name": "stderr",
     "output_type": "stream",
     "text": [
      "/Users/pldelacour/anaconda3/lib/python3.7/site-packages/sklearn/utils/validation.py:760: DataConversionWarning: A column-vector y was passed when a 1d array was expected. Please change the shape of y to (n_samples, ), for example using ravel().\n",
      "  y = column_or_1d(y, warn=True)\n",
      "/Users/pldelacour/anaconda3/lib/python3.7/site-packages/sklearn/utils/validation.py:760: DataConversionWarning: A column-vector y was passed when a 1d array was expected. Please change the shape of y to (n_samples, ), for example using ravel().\n",
      "  y = column_or_1d(y, warn=True)\n",
      "/Users/pldelacour/anaconda3/lib/python3.7/site-packages/sklearn/utils/validation.py:760: DataConversionWarning: A column-vector y was passed when a 1d array was expected. Please change the shape of y to (n_samples, ), for example using ravel().\n",
      "  y = column_or_1d(y, warn=True)\n",
      "/Users/pldelacour/anaconda3/lib/python3.7/site-packages/sklearn/utils/validation.py:760: DataConversionWarning: A column-vector y was passed when a 1d array was expected. Please change the shape of y to (n_samples, ), for example using ravel().\n",
      "  y = column_or_1d(y, warn=True)\n",
      "/Users/pldelacour/anaconda3/lib/python3.7/site-packages/sklearn/utils/validation.py:760: DataConversionWarning: A column-vector y was passed when a 1d array was expected. Please change the shape of y to (n_samples, ), for example using ravel().\n",
      "  y = column_or_1d(y, warn=True)\n",
      "/Users/pldelacour/anaconda3/lib/python3.7/site-packages/sklearn/utils/validation.py:760: DataConversionWarning: A column-vector y was passed when a 1d array was expected. Please change the shape of y to (n_samples, ), for example using ravel().\n",
      "  y = column_or_1d(y, warn=True)\n"
     ]
    },
    {
     "data": {
      "text/plain": [
       "GridSearchCV(cv=3, error_score=nan,\n",
       "             estimator=SVR(C=1.0, cache_size=200, coef0=0.0, degree=3,\n",
       "                           epsilon=0.1, gamma='scale', kernel='rbf',\n",
       "                           max_iter=-1, shrinking=True, tol=0.001,\n",
       "                           verbose=False),\n",
       "             iid='deprecated', n_jobs=None,\n",
       "             param_grid={'C': [0.1, 1, 10, 100],\n",
       "                         'kernel': ('rbf', 'poly', 'linear')},\n",
       "             pre_dispatch='2*n_jobs', refit=True, return_train_score=False,\n",
       "             scoring=None, verbose=0)"
      ]
     },
     "execution_count": 208,
     "metadata": {},
     "output_type": "execute_result"
    }
   ],
   "source": [
    "svr= svm.SVR()\n",
    "parameters = {'kernel' : ( 'rbf' , 'poly', 'linear' ), 'C':[0.1, 1,10,100]}\n",
    "clf = GridSearchCV(svr, parameters ,cv =3)\n",
    "clf.fit(x_train_extract , y_train)\n"
   ]
  },
  {
   "cell_type": "code",
   "execution_count": 183,
   "metadata": {},
   "outputs": [
    {
     "name": "stdout",
     "output_type": "stream",
     "text": [
      "SVR(C=10, cache_size=200, coef0=0.0, degree=3, epsilon=0.1, gamma='scale',\n",
      "    kernel='rbf', max_iter=-1, shrinking=True, tol=0.001, verbose=False)\n",
      "Best param =  {'C': 10, 'kernel': 'rbf'}\n",
      "Best score =  0.4768389588353081\n"
     ]
    }
   ],
   "source": [
    "print(clf.best_estimator_)\n",
    "best_param = clf.best_params_\n",
    "print(\"Best score = \" , clf.best_score_)\n",
    "print(\"Best param = \" , best_param)"
   ]
  },
  {
   "cell_type": "code",
   "execution_count": 184,
   "metadata": {},
   "outputs": [
    {
     "name": "stderr",
     "output_type": "stream",
     "text": [
      "/Users/pldelacour/anaconda3/lib/python3.7/site-packages/sklearn/utils/validation.py:760: DataConversionWarning: A column-vector y was passed when a 1d array was expected. Please change the shape of y to (n_samples, ), for example using ravel().\n",
      "  y = column_or_1d(y, warn=True)\n"
     ]
    },
    {
     "name": "stdout",
     "output_type": "stream",
     "text": [
      "TEST MSE =  7.572652753293472\n"
     ]
    }
   ],
   "source": [
    "svr_final = svm.SVR(kernel = best_param['kernel'] , C = best_param['C'])\n",
    "svr_final.fit(x_train_extract , y_train)\n",
    "test_mse_svm = sklearn.metrics.mean_squared_error(y_test , svr_final.predict(x_test_extract))\n",
    "print('TEST MSE = ', test_mse_svm)\n",
    "\n"
   ]
  },
  {
   "cell_type": "code",
   "execution_count": null,
   "metadata": {},
   "outputs": [],
   "source": []
  }
 ],
 "metadata": {
  "kernelspec": {
   "display_name": "Python 3",
   "language": "python",
   "name": "python3"
  },
  "language_info": {
   "codemirror_mode": {
    "name": "ipython",
    "version": 3
   },
   "file_extension": ".py",
   "mimetype": "text/x-python",
   "name": "python",
   "nbconvert_exporter": "python",
   "pygments_lexer": "ipython3",
   "version": "3.7.1"
  }
 },
 "nbformat": 4,
 "nbformat_minor": 2
}
